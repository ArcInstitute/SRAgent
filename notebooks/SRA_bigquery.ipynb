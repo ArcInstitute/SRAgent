{
 "cells": [
  {
   "cell_type": "markdown",
   "metadata": {},
   "source": [
    "# Goals\n",
    "\n",
    "* test out SRA Big query to see if it can be used as an agent tool"
   ]
  },
  {
   "cell_type": "code",
   "execution_count": 1,
   "metadata": {},
   "outputs": [],
   "source": [
    "# pip install google-cloud-bigquery google-cloud-bigquery-storage db-dtypes \n",
    "from google.cloud import bigquery\n",
    "import os\n",
    "import json\n",
    "import decimal"
   ]
  },
  {
   "cell_type": "code",
   "execution_count": 2,
   "metadata": {},
   "outputs": [],
   "source": [
    "class SRABigQueryTool:\n",
    "    def __init__(self, credentials_path=None, project_id=None):\n",
    "        \"\"\"\n",
    "        Initialize the SRA BigQuery tool.\n",
    "        Args:\n",
    "            credentials_path (str): Path to Google Cloud credentials JSON file\n",
    "            project_id (str): Your Google Cloud project ID\n",
    "        \"\"\"\n",
    "        if credentials_path:\n",
    "            os.environ['GOOGLE_APPLICATION_CREDENTIALS'] = credentials_path\n",
    "        self.client = bigquery.Client(project=project_id)\n",
    "    \n",
    "    def get_study_metadata(self, study_accession: str) -> str:\n",
    "        \"\"\"\n",
    "        Get metadata for all experiments in a study.\n",
    "        Args:\n",
    "            study_accession (str): SRA study accession number (SRP)\n",
    "        Returns:\n",
    "            json string of the query results\n",
    "        \"\"\"\n",
    "        query = f\"\"\"\n",
    "        WITH distinct_values AS (\n",
    "            SELECT DISTINCT\n",
    "                m.sra_study,\n",
    "                m.bioproject,\n",
    "                m.experiment\n",
    "            FROM `nih-sra-datastore.sra.metadata` as m\n",
    "            WHERE m.sra_study = '{study_accession}'\n",
    "        )\n",
    "        SELECT \n",
    "            sra_study,\n",
    "            bioproject,\n",
    "            STRING_AGG(experiment, ',') as experiments\n",
    "        FROM distinct_values\n",
    "        GROUP BY sra_study, bioproject\n",
    "        \"\"\"\n",
    "        return self.to_json(self.client.query(query))\n",
    "\n",
    "    def get_experiment_metadata(self, exp_accession: str) -> str:\n",
    "        \"\"\"\n",
    "        Get metadata for all experiments in a study.\n",
    "        Args:\n",
    "            study_accession: SRA study accession number (SRX)\n",
    "        Returns:\n",
    "            json string of the query results \n",
    "        \"\"\"\n",
    "        query = f\"\"\"\n",
    "        WITH distinct_values AS (\n",
    "            SELECT DISTINCT\n",
    "                m.sra_study,\n",
    "                m.experiment,\n",
    "                m.library_name, \n",
    "                m.librarylayout,\n",
    "                m.libraryselection, \n",
    "                m.librarysource,\n",
    "                m.platform,\n",
    "                m.instrument,\n",
    "                m.acc,\n",
    "            FROM `nih-sra-datastore.sra.metadata` as m\n",
    "            WHERE m.experiment = '{exp_accession}'\n",
    "        )\n",
    "        SELECT\n",
    "            experiment,\n",
    "            library_name,\n",
    "            librarylayout,\n",
    "            libraryselection,\n",
    "            librarysource,\n",
    "            platform,\n",
    "            instrument,\n",
    "            STRING_AGG(acc, ',') as acc\n",
    "        FROM distinct_values\n",
    "        GROUP BY experiment, library_name, librarylayout, libraryselection, librarysource, platform, instrument\n",
    "        \"\"\"\n",
    "        return self.to_json(self.client.query(query))\n",
    "\n",
    "    def get_run_metadata(self, run_accession: str) -> str:\n",
    "        \"\"\"\n",
    "        Get metadata for all experiments in a study.\n",
    "        Args:\n",
    "            run_accession: SRA run accession number (SRR)\n",
    "        Returns:\n",
    "            json string of the query results \n",
    "        \"\"\"\n",
    "        query = f\"\"\"\n",
    "        SELECT \n",
    "            m.experiment,\n",
    "            m.acc,\n",
    "            m.biosample,\n",
    "            m.organism,\n",
    "            m.assay_type,\n",
    "            m.mbases,\n",
    "            m.avgspotlen,\n",
    "            m.insertsize,   \n",
    "        FROM `nih-sra-datastore.sra.metadata` as m\n",
    "        WHERE m.acc = '{run_accession}'\n",
    "        \"\"\"\n",
    "        return self.to_json(self.client.query(query))\n",
    "    \n",
    "    @staticmethod\n",
    "    def to_json(results, indent: int=None):\n",
    "        \"\"\"\n",
    "        Convert a dictionary to a JSON string.\n",
    "        Args:\n",
    "            results: a bigquery query result object\n",
    "        Returns:\n",
    "            str: JSON string\n",
    "        \"\"\"\n",
    "        def datetime_handler(obj):\n",
    "            if hasattr(obj, 'isoformat'):\n",
    "                return obj.isoformat()\n",
    "            elif isinstance(obj, decimal.Decimal):\n",
    "                return str(obj)\n",
    "            raise TypeError(f'Object of type {type(obj)} is not JSON serializable')\n",
    "\n",
    "        return json.dumps(\n",
    "            [dict(row) for row in results],\n",
    "            default=datetime_handler,\n",
    "            indent=indent\n",
    "        )"
   ]
  },
  {
   "cell_type": "code",
   "execution_count": 3,
   "metadata": {},
   "outputs": [],
   "source": [
    "sra_tool = SRABigQueryTool()"
   ]
  },
  {
   "cell_type": "code",
   "execution_count": 15,
   "metadata": {},
   "outputs": [
    {
     "data": {
      "text/plain": [
       "'[{\"experiment\": \"SRX26939191\", \"acc\": \"SRR31573627\", \"biosample\": \"SAMN45131480\", \"organism\": \"Pseudomonas aeruginosa\", \"assay_type\": \"RNA-Seq\", \"mbases\": 1055, \"avgspotlen\": 94, \"insertsize\": null}]'"
      ]
     },
     "execution_count": 15,
     "metadata": {},
     "output_type": "execute_result"
    }
   ],
   "source": [
    "sra_tool.get_run_metadata(\"SRR31573627\")"
   ]
  },
  {
   "cell_type": "code",
   "execution_count": 16,
   "metadata": {},
   "outputs": [
    {
     "data": {
      "text/plain": [
       "'[{\"experiment\": \"SRX26939191\", \"library_name\": \"GSM8660072\", \"librarylayout\": \"PAIRED\", \"libraryselection\": \"cDNA\", \"librarysource\": \"TRANSCRIPTOMIC\", \"platform\": \"ILLUMINA\", \"instrument\": \"Illumina NovaSeq 6000\", \"acc\": \"SRR31573627\"}]'"
      ]
     },
     "execution_count": 16,
     "metadata": {},
     "output_type": "execute_result"
    }
   ],
   "source": [
    "sra_tool.get_experiment_metadata(\"SRX26939191\")"
   ]
  },
  {
   "cell_type": "code",
   "execution_count": 118,
   "metadata": {},
   "outputs": [
    {
     "data": {
      "text/plain": [
       "'[{\"sra_study\": \"SRP548813\", \"bioproject\": \"PRJNA1193093\", \"experiments\": \"SRX26939186,SRX26939195,SRX26939193,SRX26939190,SRX26939196,SRX26939189,SRX26939188,SRX26939187,SRX26939185,SRX26939192,SRX26939194,SRX26939191\"}]'"
      ]
     },
     "execution_count": 118,
     "metadata": {},
     "output_type": "execute_result"
    }
   ],
   "source": [
    "sra_tool.get_study_metadata(\"SRP548813\")"
   ]
  },
  {
   "cell_type": "code",
   "execution_count": null,
   "metadata": {},
   "outputs": [],
   "source": []
  },
  {
   "cell_type": "code",
   "execution_count": null,
   "metadata": {},
   "outputs": [],
   "source": []
  }
 ],
 "metadata": {
  "kernelspec": {
   "display_name": "sragent",
   "language": "python",
   "name": "python3"
  },
  "language_info": {
   "codemirror_mode": {
    "name": "ipython",
    "version": 3
   },
   "file_extension": ".py",
   "mimetype": "text/x-python",
   "name": "python",
   "nbconvert_exporter": "python",
   "pygments_lexer": "ipython3",
   "version": "3.12.8"
  }
 },
 "nbformat": 4,
 "nbformat_minor": 2
}
