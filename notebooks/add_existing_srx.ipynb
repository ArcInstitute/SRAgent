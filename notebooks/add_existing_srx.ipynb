{
 "cells": [
  {
   "cell_type": "markdown",
   "metadata": {},
   "source": [
    "# Goals\n",
    "\n",
    "* Add already-processed SRX accessions to the database\n",
    "  * Datasets already processed by Chris"
   ]
  },
  {
   "cell_type": "code",
   "execution_count": 1,
   "metadata": {},
   "outputs": [],
   "source": [
    "import os\n",
    "import warnings\n",
    "from dotenv import load_dotenv\n",
    "import psycopg2\n",
    "from psycopg2.extensions import connection\n",
    "import pandas as pd\n",
    "from dynaconf import Dynaconf\n",
    "from pypika import Query, Table, Field, Column, Table"
   ]
  },
  {
   "cell_type": "code",
   "execution_count": 2,
   "metadata": {},
   "outputs": [],
   "source": [
    "from SRAgent.db.connect import db_connect\n",
    "from SRAgent.db.upsert import db_upsert"
   ]
  },
  {
   "cell_type": "code",
   "execution_count": 3,
   "metadata": {},
   "outputs": [
    {
     "data": {
      "text/plain": [
       "True"
      ]
     },
     "execution_count": 3,
     "metadata": {},
     "output_type": "execute_result"
    }
   ],
   "source": [
    "load_dotenv()"
   ]
  },
  {
   "cell_type": "markdown",
   "metadata": {},
   "source": [
    "# Load SRX values"
   ]
  },
  {
   "cell_type": "code",
   "execution_count": 4,
   "metadata": {},
   "outputs": [
    {
     "data": {
      "text/html": [
       "<div>\n",
       "<style scoped>\n",
       "    .dataframe tbody tr th:only-of-type {\n",
       "        vertical-align: middle;\n",
       "    }\n",
       "\n",
       "    .dataframe tbody tr th {\n",
       "        vertical-align: top;\n",
       "    }\n",
       "\n",
       "    .dataframe thead th {\n",
       "        text-align: right;\n",
       "    }\n",
       "</style>\n",
       "<table border=\"1\" class=\"dataframe\">\n",
       "  <thead>\n",
       "    <tr style=\"text-align: right;\">\n",
       "      <th></th>\n",
       "      <th>srx_accession</th>\n",
       "    </tr>\n",
       "  </thead>\n",
       "  <tbody>\n",
       "    <tr>\n",
       "      <th>0</th>\n",
       "      <td>SRX13670569</td>\n",
       "    </tr>\n",
       "    <tr>\n",
       "      <th>1</th>\n",
       "      <td>SRX19828711</td>\n",
       "    </tr>\n",
       "    <tr>\n",
       "      <th>2</th>\n",
       "      <td>SRX19829151</td>\n",
       "    </tr>\n",
       "    <tr>\n",
       "      <th>3</th>\n",
       "      <td>SRX9556597</td>\n",
       "    </tr>\n",
       "    <tr>\n",
       "      <th>4</th>\n",
       "      <td>SRX19826284</td>\n",
       "    </tr>\n",
       "    <tr>\n",
       "      <th>...</th>\n",
       "      <td>...</td>\n",
       "    </tr>\n",
       "    <tr>\n",
       "      <th>16708</th>\n",
       "      <td>SRX9770752</td>\n",
       "    </tr>\n",
       "    <tr>\n",
       "      <th>16709</th>\n",
       "      <td>SRX11523521</td>\n",
       "    </tr>\n",
       "    <tr>\n",
       "      <th>16710</th>\n",
       "      <td>SRX19830191</td>\n",
       "    </tr>\n",
       "    <tr>\n",
       "      <th>16711</th>\n",
       "      <td>SRX19825307</td>\n",
       "    </tr>\n",
       "    <tr>\n",
       "      <th>16712</th>\n",
       "      <td>SRX1128586</td>\n",
       "    </tr>\n",
       "  </tbody>\n",
       "</table>\n",
       "<p>16713 rows × 1 columns</p>\n",
       "</div>"
      ],
      "text/plain": [
       "      srx_accession\n",
       "0       SRX13670569\n",
       "1       SRX19828711\n",
       "2       SRX19829151\n",
       "3        SRX9556597\n",
       "4       SRX19826284\n",
       "...             ...\n",
       "16708    SRX9770752\n",
       "16709   SRX11523521\n",
       "16710   SRX19830191\n",
       "16711   SRX19825307\n",
       "16712    SRX1128586\n",
       "\n",
       "[16713 rows x 1 columns]"
      ]
     },
     "execution_count": 4,
     "metadata": {},
     "output_type": "execute_result"
    }
   ],
   "source": [
    "infile = \"../data/counted_SRX.txt\"\n",
    "counted = pd.read_csv(infile, sep='\\t', header=None)\n",
    "counted.columns = [\"srx_accession\"]\n",
    "counted"
   ]
  },
  {
   "cell_type": "code",
   "execution_count": 5,
   "metadata": {},
   "outputs": [
    {
     "data": {
      "text/html": [
       "<div>\n",
       "<style scoped>\n",
       "    .dataframe tbody tr th:only-of-type {\n",
       "        vertical-align: middle;\n",
       "    }\n",
       "\n",
       "    .dataframe tbody tr th {\n",
       "        vertical-align: top;\n",
       "    }\n",
       "\n",
       "    .dataframe thead th {\n",
       "        text-align: right;\n",
       "    }\n",
       "</style>\n",
       "<table border=\"1\" class=\"dataframe\">\n",
       "  <thead>\n",
       "    <tr style=\"text-align: right;\">\n",
       "      <th></th>\n",
       "      <th>srx_accession</th>\n",
       "      <th>database</th>\n",
       "      <th>entrez_id</th>\n",
       "      <th>notes</th>\n",
       "    </tr>\n",
       "  </thead>\n",
       "  <tbody>\n",
       "    <tr>\n",
       "      <th>0</th>\n",
       "      <td>SRX13670569</td>\n",
       "      <td>sra</td>\n",
       "      <td>1</td>\n",
       "      <td>Processed by Chris Carpenter</td>\n",
       "    </tr>\n",
       "    <tr>\n",
       "      <th>1</th>\n",
       "      <td>SRX19828711</td>\n",
       "      <td>sra</td>\n",
       "      <td>2</td>\n",
       "      <td>Processed by Chris Carpenter</td>\n",
       "    </tr>\n",
       "    <tr>\n",
       "      <th>2</th>\n",
       "      <td>SRX19829151</td>\n",
       "      <td>sra</td>\n",
       "      <td>3</td>\n",
       "      <td>Processed by Chris Carpenter</td>\n",
       "    </tr>\n",
       "    <tr>\n",
       "      <th>3</th>\n",
       "      <td>SRX9556597</td>\n",
       "      <td>sra</td>\n",
       "      <td>4</td>\n",
       "      <td>Processed by Chris Carpenter</td>\n",
       "    </tr>\n",
       "    <tr>\n",
       "      <th>4</th>\n",
       "      <td>SRX19826284</td>\n",
       "      <td>sra</td>\n",
       "      <td>5</td>\n",
       "      <td>Processed by Chris Carpenter</td>\n",
       "    </tr>\n",
       "    <tr>\n",
       "      <th>...</th>\n",
       "      <td>...</td>\n",
       "      <td>...</td>\n",
       "      <td>...</td>\n",
       "      <td>...</td>\n",
       "    </tr>\n",
       "    <tr>\n",
       "      <th>16708</th>\n",
       "      <td>SRX9770752</td>\n",
       "      <td>sra</td>\n",
       "      <td>16709</td>\n",
       "      <td>Processed by Chris Carpenter</td>\n",
       "    </tr>\n",
       "    <tr>\n",
       "      <th>16709</th>\n",
       "      <td>SRX11523521</td>\n",
       "      <td>sra</td>\n",
       "      <td>16710</td>\n",
       "      <td>Processed by Chris Carpenter</td>\n",
       "    </tr>\n",
       "    <tr>\n",
       "      <th>16710</th>\n",
       "      <td>SRX19830191</td>\n",
       "      <td>sra</td>\n",
       "      <td>16711</td>\n",
       "      <td>Processed by Chris Carpenter</td>\n",
       "    </tr>\n",
       "    <tr>\n",
       "      <th>16711</th>\n",
       "      <td>SRX19825307</td>\n",
       "      <td>sra</td>\n",
       "      <td>16712</td>\n",
       "      <td>Processed by Chris Carpenter</td>\n",
       "    </tr>\n",
       "    <tr>\n",
       "      <th>16712</th>\n",
       "      <td>SRX1128586</td>\n",
       "      <td>sra</td>\n",
       "      <td>16713</td>\n",
       "      <td>Processed by Chris Carpenter</td>\n",
       "    </tr>\n",
       "  </tbody>\n",
       "</table>\n",
       "<p>16713 rows × 4 columns</p>\n",
       "</div>"
      ],
      "text/plain": [
       "      srx_accession database  entrez_id                         notes\n",
       "0       SRX13670569      sra          1  Processed by Chris Carpenter\n",
       "1       SRX19828711      sra          2  Processed by Chris Carpenter\n",
       "2       SRX19829151      sra          3  Processed by Chris Carpenter\n",
       "3        SRX9556597      sra          4  Processed by Chris Carpenter\n",
       "4       SRX19826284      sra          5  Processed by Chris Carpenter\n",
       "...             ...      ...        ...                           ...\n",
       "16708    SRX9770752      sra      16709  Processed by Chris Carpenter\n",
       "16709   SRX11523521      sra      16710  Processed by Chris Carpenter\n",
       "16710   SRX19830191      sra      16711  Processed by Chris Carpenter\n",
       "16711   SRX19825307      sra      16712  Processed by Chris Carpenter\n",
       "16712    SRX1128586      sra      16713  Processed by Chris Carpenter\n",
       "\n",
       "[16713 rows x 4 columns]"
      ]
     },
     "execution_count": 5,
     "metadata": {},
     "output_type": "execute_result"
    }
   ],
   "source": [
    "# add columns\n",
    "counted[\"database\"] = \"sra\"\n",
    "counted[\"entrez_id\"] = range(1, len(counted) + 1)\n",
    "counted[\"notes\"] = \"Processed by Chris Carpenter\"\n",
    "counted"
   ]
  },
  {
   "cell_type": "code",
   "execution_count": 8,
   "metadata": {},
   "outputs": [],
   "source": [
    "with db_connect() as conn:\n",
    "    db_upsert(counted, \"srx_metadata\", conn)"
   ]
  },
  {
   "cell_type": "code",
   "execution_count": null,
   "metadata": {},
   "outputs": [],
   "source": []
  }
 ],
 "metadata": {
  "kernelspec": {
   "display_name": "SRAgent",
   "language": "python",
   "name": "python3"
  },
  "language_info": {
   "codemirror_mode": {
    "name": "ipython",
    "version": 3
   },
   "file_extension": ".py",
   "mimetype": "text/x-python",
   "name": "python",
   "nbconvert_exporter": "python",
   "pygments_lexer": "ipython3",
   "version": "3.12.8"
  }
 },
 "nbformat": 4,
 "nbformat_minor": 2
}
