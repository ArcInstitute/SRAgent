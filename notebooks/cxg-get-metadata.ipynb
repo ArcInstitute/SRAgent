{
 "cells": [
  {
   "cell_type": "markdown",
   "metadata": {},
   "source": [
    "# Goals\n",
    "\n",
    " - Annotate Chris' Cell x Gene SRX accession records via `SRAgent metadata`"
   ]
  },
  {
   "cell_type": "markdown",
   "metadata": {},
   "source": [
    "# Init"
   ]
  },
  {
   "cell_type": "code",
   "execution_count": 1,
   "metadata": {},
   "outputs": [],
   "source": [
    "import os\n",
    "from dotenv import load_dotenv\n",
    "import pandas as pd\n",
    "from pypika import Query, Table, Criterion, functions as fn\n",
    "from SRAgent.db.connect import db_connect"
   ]
  },
  {
   "cell_type": "code",
   "execution_count": 2,
   "metadata": {},
   "outputs": [],
   "source": [
    "load_dotenv(override=True)\n",
    "os.environ[\"DYNACONF\"] = \"prod\""
   ]
  },
  {
   "cell_type": "markdown",
   "metadata": {},
   "source": [
    "# Load data"
   ]
  },
  {
   "cell_type": "code",
   "execution_count": 5,
   "metadata": {},
   "outputs": [
    {
     "data": {
      "text/html": [
       "<div>\n",
       "<style scoped>\n",
       "    .dataframe tbody tr th:only-of-type {\n",
       "        vertical-align: middle;\n",
       "    }\n",
       "\n",
       "    .dataframe tbody tr th {\n",
       "        vertical-align: top;\n",
       "    }\n",
       "\n",
       "    .dataframe thead th {\n",
       "        text-align: right;\n",
       "    }\n",
       "</style>\n",
       "<table border=\"1\" class=\"dataframe\">\n",
       "  <thead>\n",
       "    <tr style=\"text-align: right;\">\n",
       "      <th></th>\n",
       "      <th>database</th>\n",
       "      <th>entrez_id</th>\n",
       "      <th>srx_accession</th>\n",
       "      <th>is_illumina</th>\n",
       "      <th>is_single_cell</th>\n",
       "      <th>is_paired_end</th>\n",
       "      <th>lib_prep</th>\n",
       "      <th>tech_10x</th>\n",
       "      <th>cell_prep</th>\n",
       "      <th>organism</th>\n",
       "      <th>tissue</th>\n",
       "      <th>disease</th>\n",
       "      <th>purturbation</th>\n",
       "      <th>cell_line</th>\n",
       "      <th>czi_collection_id</th>\n",
       "      <th>czi_collection_name</th>\n",
       "      <th>notes</th>\n",
       "      <th>created_at</th>\n",
       "      <th>updated_at</th>\n",
       "    </tr>\n",
       "  </thead>\n",
       "  <tbody>\n",
       "  </tbody>\n",
       "</table>\n",
       "</div>"
      ],
      "text/plain": [
       "Empty DataFrame\n",
       "Columns: [database, entrez_id, srx_accession, is_illumina, is_single_cell, is_paired_end, lib_prep, tech_10x, cell_prep, organism, tissue, disease, purturbation, cell_line, czi_collection_id, czi_collection_name, notes, created_at, updated_at]\n",
       "Index: []"
      ]
     },
     "execution_count": 5,
     "metadata": {},
     "output_type": "execute_result"
    }
   ],
   "source": [
    "# read in srx-metadata as pandas dataframe\n",
    "tbl = Table(\"srx_metadata\")\n",
    "stmt = Query \\\n",
    "    .from_(tbl) \\\n",
    "    .select(\"*\") \\\n",
    "    .distinct() \\\n",
    "    .where(tbl.notes == \"Processed by Chris Carpenter\")\n",
    "\n",
    "with db_connect() as conn:\n",
    "    srx_metadata = pd.read_sql(str(stmt), conn)\n",
    "srx_metadata"
   ]
  },
  {
   "cell_type": "markdown",
   "metadata": {},
   "source": [
    "# "
   ]
  },
  {
   "cell_type": "markdown",
   "metadata": {},
   "source": [
    "# `SRAgent metadata`"
   ]
  },
  {
   "cell_type": "code",
   "execution_count": 6,
   "metadata": {},
   "outputs": [
    {
     "data": {
      "text/html": [
       "<div>\n",
       "<style scoped>\n",
       "    .dataframe tbody tr th:only-of-type {\n",
       "        vertical-align: middle;\n",
       "    }\n",
       "\n",
       "    .dataframe tbody tr th {\n",
       "        vertical-align: top;\n",
       "    }\n",
       "\n",
       "    .dataframe thead th {\n",
       "        text-align: right;\n",
       "    }\n",
       "</style>\n",
       "<table border=\"1\" class=\"dataframe\">\n",
       "  <thead>\n",
       "    <tr style=\"text-align: right;\">\n",
       "      <th></th>\n",
       "      <th>entrez_id</th>\n",
       "      <th>srx_accession</th>\n",
       "    </tr>\n",
       "  </thead>\n",
       "  <tbody>\n",
       "  </tbody>\n",
       "</table>\n",
       "</div>"
      ],
      "text/plain": [
       "Empty DataFrame\n",
       "Columns: [entrez_id, srx_accession]\n",
       "Index: []"
      ]
     },
     "execution_count": 6,
     "metadata": {},
     "output_type": "execute_result"
    }
   ],
   "source": [
    "df = srx_metadata[:3000][[\"entrez_id\",\"srx_accession\"]]\n",
    "df.to_csv(\"czi_annotate/records_batch7.csv\", index=False)\n",
    "df"
   ]
  },
  {
   "cell_type": "markdown",
   "metadata": {},
   "source": [
    "Run via screen:\n",
    "\n",
    "> (SRAgent) nickyoungblut@sc-recounter-nick-n8\n",
    "\n",
    "```bash\n",
    "screen -L SRAgent metadata --no-summaries --use-database --no-srr czi_annotate/records_batch7.csv\n",
    "```"
   ]
  },
  {
   "cell_type": "markdown",
   "metadata": {},
   "source": [
    "# _OLD_"
   ]
  },
  {
   "cell_type": "code",
   "execution_count": 11,
   "metadata": {},
   "outputs": [
    {
     "data": {
      "text/html": [
       "<div>\n",
       "<style scoped>\n",
       "    .dataframe tbody tr th:only-of-type {\n",
       "        vertical-align: middle;\n",
       "    }\n",
       "\n",
       "    .dataframe tbody tr th {\n",
       "        vertical-align: top;\n",
       "    }\n",
       "\n",
       "    .dataframe thead th {\n",
       "        text-align: right;\n",
       "    }\n",
       "</style>\n",
       "<table border=\"1\" class=\"dataframe\">\n",
       "  <thead>\n",
       "    <tr style=\"text-align: right;\">\n",
       "      <th></th>\n",
       "      <th>entrez_id</th>\n",
       "      <th>srx_accession</th>\n",
       "    </tr>\n",
       "  </thead>\n",
       "  <tbody>\n",
       "    <tr>\n",
       "      <th>0</th>\n",
       "      <td>9828424</td>\n",
       "      <td>ERX3620259</td>\n",
       "    </tr>\n",
       "    <tr>\n",
       "      <th>1</th>\n",
       "      <td>11668718</td>\n",
       "      <td>ERX4319180</td>\n",
       "    </tr>\n",
       "  </tbody>\n",
       "</table>\n",
       "</div>"
      ],
      "text/plain": [
       "   entrez_id srx_accession\n",
       "0    9828424    ERX3620259\n",
       "1   11668718    ERX4319180"
      ]
     },
     "execution_count": 11,
     "metadata": {},
     "output_type": "execute_result"
    }
   ],
   "source": [
    "df = srx_metadata[:2][[\"entrez_id\",\"srx_accession\"]]\n",
    "df.to_csv(\"czi_annotate/records_1-2b.csv\", index=False)\n",
    "df"
   ]
  },
  {
   "cell_type": "code",
   "execution_count": 12,
   "metadata": {},
   "outputs": [
    {
     "name": "stdout",
     "output_type": "stream",
     "text": [
      "[11668718] Step 1: sragent_agent_node\n",
      "[9828424] Step 1: sragent_agent_node\n",
      "[9828424] Step 2: get_metadata_node\n",
      "[11668718] Step 2: get_metadata_node\n",
      "[9828424] Step 3: router_node\n",
      "[9828424] Step 4: bump_metadata_level_node\n",
      "[11668718] Step 3: router_node\n",
      "[11668718] Step 4: bump_metadata_level_node\n",
      "[9828424] Step 5: sragent_agent_node\n",
      "[9828424] Step 6: get_metadata_node\n",
      "[9828424] Step 7: router_node\n",
      "[9828424] Step 8: SRX2SRR_node\n",
      "[9828424] Step 9: add2db_node\n",
      "[9828424] Step 10: final_state_node\n",
      "#-- Final results for Entrez ID 9828424 --#\n",
      "# SRX accession: ERX3620259\n",
      " - SRR accessions: ERR3625055,ERR3625056,ERR3625053,ERR3625054\n",
      " - Is the dataset Illumina sequence data?: yes\n",
      " - Is the dataset single cell RNA-seq data?: yes\n",
      " - Is the dataset paired-end sequencing data?: no\n",
      " - Which scRNA-seq library preparation technology?: 10x_Genomics\n",
      " - If 10X Genomics, which particular 10X technologies?: 3_prime_gex\n",
      " - Single nucleus or single cell RNA sequencing?: single_cell\n",
      " - Which organism was sequenced?: human\n",
      " - Which tissue was sequenced?: transverse colon, lamina propria\n",
      " - Any disease information?: normal\n",
      " - Any treatment/purturbation information?: CD45 enriched\n",
      " - Any cell line information?: none\n",
      "#---------------------------------------------#\n",
      "[11668718] Step 5: sragent_agent_node\n",
      "[11668718] Step 6: get_metadata_node\n",
      "[11668718] Step 7: router_node\n",
      "[11668718] Step 8: SRX2SRR_node\n",
      "[11668718] Step 9: add2db_node\n",
      "[11668718] Step 10: final_state_node\n",
      "#-- Final results for Entrez ID 11668718 --#\n",
      "# SRX accession: ERX4319180\n",
      " - SRR accessions: ERR6449745,ERR7423232\n",
      " - Is the dataset Illumina sequence data?: yes\n",
      " - Is the dataset single cell RNA-seq data?: yes\n",
      " - Is the dataset paired-end sequencing data?: no\n",
      " - Which scRNA-seq library preparation technology?: 10x_Genomics\n",
      " - If 10X Genomics, which particular 10X technologies?: 3_prime_gex\n",
      " - Single nucleus or single cell RNA sequencing?: single_nucleus\n",
      " - Which organism was sequenced?: human\n",
      " - Which tissue was sequenced?: nuclei from the apex of Donor1, CBTM-361B\n",
      " - Any disease information?: cardiovascular disease mechanisms\n",
      " - Any treatment/purturbation information?: unsure\n",
      " - Any cell line information?: cell_suspension\n",
      "#---------------------------------------------#\n"
     ]
    }
   ],
   "source": [
    "!SRAgent metadata --no-summaries --use-database --no-srr czi_annotate/records_1-2b.csv"
   ]
  },
  {
   "cell_type": "code",
   "execution_count": 9,
   "metadata": {},
   "outputs": [],
   "source": [
    "df = srx_metadata[2:1000][[\"entrez_id\",\"srx_accession\"]]\n",
    "df.to_csv(\"czi_annotate/records_3-1000b.csv\", index=False)"
   ]
  },
  {
   "cell_type": "markdown",
   "metadata": {},
   "source": [
    "Run via screen:\n",
    "\n",
    "```bash\n",
    "screen -L SRAgent metadata --no-summaries --use-database --no-srr czi_annotate/records_3-1000b.csv\n",
    "```"
   ]
  },
  {
   "cell_type": "code",
   "execution_count": 2,
   "metadata": {},
   "outputs": [
    {
     "ename": "NameError",
     "evalue": "name 'srx_metadata' is not defined",
     "output_type": "error",
     "traceback": [
      "\u001b[0;31m---------------------------------------------------------------------------\u001b[0m",
      "\u001b[0;31mNameError\u001b[0m                                 Traceback (most recent call last)",
      "Cell \u001b[0;32mIn[2], line 1\u001b[0m\n\u001b[0;32m----> 1\u001b[0m df \u001b[38;5;241m=\u001b[39m \u001b[43msrx_metadata\u001b[49m[\u001b[38;5;241m1000\u001b[39m:\u001b[38;5;241m2000\u001b[39m][[\u001b[38;5;124m\"\u001b[39m\u001b[38;5;124mentrez_id\u001b[39m\u001b[38;5;124m\"\u001b[39m,\u001b[38;5;124m\"\u001b[39m\u001b[38;5;124msrx_accession\u001b[39m\u001b[38;5;124m\"\u001b[39m]]\n\u001b[1;32m      2\u001b[0m df\u001b[38;5;241m.\u001b[39mto_csv(\u001b[38;5;124m\"\u001b[39m\u001b[38;5;124mczi_annotate/records_1-2k.csv\u001b[39m\u001b[38;5;124m\"\u001b[39m, index\u001b[38;5;241m=\u001b[39m\u001b[38;5;28;01mFalse\u001b[39;00m)\n",
      "\u001b[0;31mNameError\u001b[0m: name 'srx_metadata' is not defined"
     ]
    }
   ],
   "source": [
    "df = srx_metadata[1000:2000][[\"entrez_id\",\"srx_accession\"]]\n",
    "df.to_csv(\"czi_annotate/records_1-2k.csv\", index=False)"
   ]
  },
  {
   "cell_type": "markdown",
   "metadata": {},
   "source": [
    "Run via screen:\n",
    "\n",
    "```bash\n",
    "screen -L SRAgent metadata --no-summaries --use-database --no-srr czi_annotate/records_1-2k.csv\n",
    "```"
   ]
  },
  {
   "cell_type": "code",
   "execution_count": null,
   "metadata": {},
   "outputs": [],
   "source": []
  }
 ],
 "metadata": {
  "kernelspec": {
   "display_name": "SRAgent",
   "language": "python",
   "name": "python3"
  },
  "language_info": {
   "codemirror_mode": {
    "name": "ipython",
    "version": 3
   },
   "file_extension": ".py",
   "mimetype": "text/x-python",
   "name": "python",
   "nbconvert_exporter": "python",
   "pygments_lexer": "ipython3",
   "version": "3.12.8"
  }
 },
 "nbformat": 4,
 "nbformat_minor": 2
}
