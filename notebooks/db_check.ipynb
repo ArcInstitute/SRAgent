{
 "cells": [
  {
   "cell_type": "markdown",
   "metadata": {},
   "source": [
    "# Goals\n",
    "\n",
    "* Check on the test and/or production databases"
   ]
  },
  {
   "cell_type": "code",
   "execution_count": 1,
   "metadata": {},
   "outputs": [
    {
     "data": {
      "text/plain": [
       "True"
      ]
     },
     "execution_count": 1,
     "metadata": {},
     "output_type": "execute_result"
    }
   ],
   "source": [
    "from dotenv import load_dotenv\n",
    "load_dotenv()"
   ]
  },
  {
   "cell_type": "code",
   "execution_count": 2,
   "metadata": {},
   "outputs": [],
   "source": [
    "import os\n",
    "import pandas as pd"
   ]
  },
  {
   "cell_type": "code",
   "execution_count": 3,
   "metadata": {},
   "outputs": [],
   "source": [
    "from SRAgent.db.connect import db_connect\n",
    "from SRAgent.db.upsert import db_upsert\n",
    "from SRAgent.db.utils import db_list_tables, db_glimpse_tables, db_get_table, execute_query\n",
    "from SRAgent.db.get import db_find_srx\n",
    "from SRAgent.db.create import create_table, create_table_router"
   ]
  },
  {
   "cell_type": "code",
   "execution_count": 4,
   "metadata": {},
   "outputs": [
    {
     "name": "stdout",
     "output_type": "stream",
     "text": [
      "eval\n",
      "screcounter_log\n",
      "screcounter_star\n",
      "srx_srr\n",
      "srx_metadata\n"
     ]
    }
   ],
   "source": [
    "# list all of the tables in prod\n",
    "os.environ['DYNACONF'] = 'prod'\n",
    "conn_prod = db_connect() \n",
    "print(\"\\n\".join(db_list_tables(conn_prod)))"
   ]
  },
  {
   "cell_type": "markdown",
   "metadata": {},
   "source": [
    "# Production"
   ]
  },
  {
   "cell_type": "code",
   "execution_count": 5,
   "metadata": {},
   "outputs": [
    {
     "name": "stdout",
     "output_type": "stream",
     "text": [
      "#-- Table: eval --#\n",
      "dataset_id\tdatabase\tentrez_id\tsrx_accession\tis_illumina\tis_single_cell\tis_paired_end\tlib_prep\ttech_10x\torganism\tcell_prep\tcreated_at\tupdated_at\n",
      "eval1\tsra\t29115023\tERX11157721\tyes\tyes\tyes\t10x_Genomics\t3_prime_gex\tzebrafish\tsingle_cell\t2025-01-03 18:38:01.789148\t2025-01-03 18:38:01.789148\n",
      "eval1\tsra\t36178506\tERX11887200\tyes\tyes\tyes\t10x_Genomics\t3_prime_gex\tmouse\tsingle_cell\t2025-01-03 18:38:01.789148\t2025-01-03 18:38:01.789148\n",
      "eval1\tsra\t5920965\tERX2188110\tyes\tyes\tyes\tother\tnot_applicable\tmacaque\tsingle_cell\t2025-01-03 18:38:01.789148\t2025-01-03 18:38:01.789148\n",
      "eval1\tsra\t34439895\tERX9692805\tyes\tyes\tyes\t10x_Genomics\t3_prime_gex\tchicken\tsingle_cell\t2025-01-03 18:38:01.789148\t2025-01-03 18:38:01.789148\n",
      "eval1\tgds\t200271457\tNaN\tno\tno\tno\tnot_applicable\tnot_applicable\thuman\tnot_applicable\t2025-01-03 18:38:01.789148\t2025-01-03 18:38:01.789148\n",
      "\n",
      "#-- Table: screcounter_log --#\n",
      "sample\taccession\tprocess\tstep\tstatus\tmessage\tcreated_at\tupdated_at\n",
      "\n",
      "#-- Table: screcounter_star --#\n",
      "sample\taccession\tfeature\testimated_number_of_cells\tfraction_of_unique_reads_in_cells\tmean_gene_per_cell\tmean_umi_per_cell\tmean_feature_per_cell\tmedian_gene_per_cell\tmedian_umi_per_cell\tmedian_feature_per_cell\tnumber_of_reads\treads_with_valid_barcodes\tsequencing_saturation\tumis_in_cells\tcreated_at\tupdated_at\n",
      "\n",
      "#-- Table: srx_srr --#\n",
      "srx_accession\tsrr_accession\tcreated_at\tupdated_at\n",
      "SRX25926423\tSRR30502613\t2025-01-03 18:43:38.627686\t2025-01-03 18:43:38.627686\n",
      "SRX25926423\tSRR30502600\t2025-01-03 18:43:38.627686\t2025-01-03 18:43:38.627686\n",
      "SRX24914484\tSRR29400843\t2025-01-03 18:43:49.275138\t2025-01-03 18:43:49.275138\n",
      "SRX22006379\tSRR26297925\t2025-01-03 18:43:57.864762\t2025-01-03 18:43:57.864762\n",
      "SRX21883929\tSRR26171850\t2025-01-03 18:44:08.340937\t2025-01-03 18:44:08.340937\n",
      "\n",
      "#-- Table: srx_metadata --#\n",
      "database\tentrez_id\tsrx_accession\tis_illumina\tis_single_cell\tis_paired_end\tlib_prep\ttech_10x\tcell_prep\torganism\ttissue\tdisease\tpurturbation\tcell_line\tczi_collection_id\tczi_collection_name\tnotes\tcreated_at\tupdated_at\n",
      "sra\t29110064\tERX11148781\tNaN\tNaN\tNaN\t10x_Genomics\t5_prime_gex\tsingle_cell\tNaN\tNaN\tNaN\tNaN\tNaN\t73f82ac8-15cc-4fcd-87f8-5683723fce7f\tDevelopmental cell programs are co-opted in inflammatory skin disease\tProcessed by Chris Carpenter\t2025-01-03 18:39:40.221883\t2025-01-03 18:39:40.221883\n",
      "sra\t19007785\tSRX13670569\tNaN\tNaN\tNaN\tNaN\tNaN\tNaN\tNaN\tNaN\tNaN\tNaN\tNaN\t91c8e321-566f-4f9d-b89e-3a164be654d5\tNeuron type-specific effects of human aging and sex on DNA methylation and transcription\tProcessed by Chris Carpenter\t2025-01-03 18:39:40.221883\t2025-01-03 18:39:40.221883\n",
      "sra\t12488012\tSRX9556597\tNaN\tNaN\tNaN\t10x_Genomics\t5_prime_gex\tsingle_cell\tNaN\tNaN\tNaN\tNaN\tNaN\ted9185e3-5b82-40c7-9824-b2141590c7f0\tTime-resolved Systems Immunology Reveals a Late Juncture Linked to Fatal COVID-19\tProcessed by Chris Carpenter\t2025-01-03 18:39:40.221883\t2025-01-03 18:39:40.221883\n",
      "sra\t21270435\tERX8791959\tNaN\tNaN\tNaN\t10x_Genomics\t5_prime_gex\tsingle_cell\tNaN\tNaN\tNaN\tNaN\tNaN\t62ef75e4-cbea-454e-a0ce-998ec40223d3\tCross-tissue immune cell analysis reveals tissue-specific features in humans\tProcessed by Chris Carpenter\t2025-01-03 18:39:40.221883\t2025-01-03 18:39:40.221883\n",
      "sra\t34493113\tERX12558784\tNaN\tNaN\tNaN\t10x_Genomics\t5_prime_gex\tsingle_cell\tNaN\tNaN\tNaN\tNaN\tNaN\tec329aed-22bc-4d6e-8935-8282dcb1acac\tEarly human lung immune cell development and its role in epithelial cell fate\tProcessed by Chris Carpenter\t2025-01-03 18:39:40.221883\t2025-01-03 18:39:40.221883\n",
      "\n"
     ]
    }
   ],
   "source": [
    "db_glimpse_tables(conn_prod)"
   ]
  }
 ],
 "metadata": {
  "kernelspec": {
   "display_name": "SRAgent",
   "language": "python",
   "name": "python3"
  },
  "language_info": {
   "codemirror_mode": {
    "name": "ipython",
    "version": 3
   },
   "file_extension": ".py",
   "mimetype": "text/x-python",
   "name": "python",
   "nbconvert_exporter": "python",
   "pygments_lexer": "ipython3",
   "version": "3.12.8"
  }
 },
 "nbformat": 4,
 "nbformat_minor": 2
}
