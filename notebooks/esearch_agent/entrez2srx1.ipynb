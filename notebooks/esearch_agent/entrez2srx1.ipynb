{
 "cells": [
  {
   "cell_type": "markdown",
   "metadata": {},
   "source": [
    "# Goal\n",
    "\n",
    "* Create simple langgraph to convert entrez IDs to SRX accessions"
   ]
  },
  {
   "cell_type": "markdown",
   "metadata": {},
   "source": [
    "# Init"
   ]
  },
  {
   "cell_type": "code",
   "execution_count": 7,
   "metadata": {},
   "outputs": [],
   "source": [
    "# import \n",
    "import os\n",
    "import re\n",
    "import time\n",
    "import operator\n",
    "from enum import Enum\n",
    "from pprint import pprint\n",
    "from datetime import datetime, timedelta\n",
    "from typing import Annotated, List, Dict, Tuple, Optional, Union, Any, Sequence, TypedDict\n",
    "from langchain_core.messages import BaseMessage, HumanMessage, AIMessage\n",
    "from pydantic import BaseModel, Field\n",
    "from langchain_core.tools import tool\n",
    "from Bio import Entrez\n",
    "import pandas as pd\n",
    "from dotenv import load_dotenv"
   ]
  },
  {
   "cell_type": "code",
   "execution_count": 11,
   "metadata": {},
   "outputs": [],
   "source": [
    "from SRAgent.agents.entrez import create_entrez_agent\n",
    "from SRAgent.agents.utils import create_step_summary_chain\n",
    "from SRAgent.tools.convert import geo2sra"
   ]
  },
  {
   "cell_type": "code",
   "execution_count": 2,
   "metadata": {},
   "outputs": [],
   "source": [
    "# setup\n",
    "load_dotenv()\n",
    "pd.set_option('display.max_colwidth', 1000)\n",
    "os.environ[\"DEBUG_MODE\"] = \"TRUE\""
   ]
  },
  {
   "cell_type": "code",
   "execution_count": 3,
   "metadata": {},
   "outputs": [
    {
     "name": "stdout",
     "output_type": "stream",
     "text": [
      "DEBUG_MODE is enabled.\n"
     ]
    }
   ],
   "source": [
    "# checks\n",
    "if os.getenv(\"DEBUG_MODE\") == \"TRUE\":\n",
    "    print(\"DEBUG_MODE is enabled.\")"
   ]
  },
  {
   "cell_type": "code",
   "execution_count": 13,
   "metadata": {},
   "outputs": [],
   "source": [
    "# set up Entrez\n",
    "Entrez.email = \"nick.youngblut@arcinstitute.org\""
   ]
  },
  {
   "cell_type": "markdown",
   "metadata": {},
   "source": [
    "# State"
   ]
  },
  {
   "cell_type": "code",
   "execution_count": 66,
   "metadata": {},
   "outputs": [],
   "source": [
    "class GraphState(TypedDict):\n",
    "    \"\"\"\n",
    "    Shared state of the agents in the graph\n",
    "    \"\"\"\n",
    "    entrez_id: Annotated[str, \"Entrez ID\"]\n",
    "    messages: Annotated[Sequence[BaseMessage], operator.add, \"Messages\"]\n",
    "    SRX: Annotated[List[str], operator.add, \"SRX accessions\"]\n",
    "    route: Annotated[str, \"Route\"]\n",
    "    round: Annotated[int, \"Round\"]"
   ]
  },
  {
   "cell_type": "markdown",
   "metadata": {},
   "source": [
    "# Nodes"
   ]
  },
  {
   "cell_type": "code",
   "execution_count": 55,
   "metadata": {},
   "outputs": [],
   "source": [
    "from langchain_openai import ChatOpenAI\n",
    "from langchain_core.prompts import ChatPromptTemplate, MessagesPlaceholder"
   ]
  },
  {
   "cell_type": "code",
   "execution_count": 56,
   "metadata": {},
   "outputs": [],
   "source": [
    "# invoke entrez agent\n",
    "def create_entrez_agent_node(state: GraphState):\n",
    "    entrez_agent = create_entrez_agent()\n",
    "    entrez_id = state[\"entrez_id\"]\n",
    "    prompt = ChatPromptTemplate.from_messages([\n",
    "        MessagesPlaceholder(variable_name=\"history\"),\n",
    "        (\"human\", f\"Obtain all SRX accessions for the Entrez ID {entrez_id}\")\n",
    "    ])\n",
    "    formatted_prompt = prompt.format_messages(\n",
    "        history=state[\"messages\"][-3:]\n",
    "    )\n",
    "    return entrez_agent.invoke({\"messages\" : formatted_prompt})\n",
    "\n",
    "state = {\n",
    "    \"entrez_id\" : \"34748561\",\n",
    "    \"messages\" : []\n",
    "}\n",
    "# entrez_agent_node = create_entrez_agent_node(state)"
   ]
  },
  {
   "cell_type": "code",
   "execution_count": 57,
   "metadata": {},
   "outputs": [],
   "source": [
    "class Acessions(BaseModel):\n",
    "    srp: List[str]\n",
    "    srx: List[str]\n",
    "    srr: List[str]\n",
    "\n",
    "def create_get_accessions_node(state: GraphState):\n",
    "    \"\"\"\n",
    "    Structured data extraction\n",
    "    \"\"\"\n",
    "    message = state[\"messages\"][-1].content\n",
    "    prompt = \"\\n\".join([\n",
    "        \"SRX accessions from the Sequence Read Archive start with the 'SRX' prefix.\",\n",
    "        f\"Extract SRX accessions from the following:\",\n",
    "        message\n",
    "    ])\n",
    "    model = ChatOpenAI(model_name=\"gpt-4o-mini\", temperature=0)\n",
    "    response = model.with_structured_output(Acessions, strict=True).invoke(prompt)\n",
    "    return {\"SRX\" : response.srx}\n",
    "\n",
    "state = {\n",
    "    \"messages\" : [\n",
    "        HumanMessage(\n",
    "            content=\" - **Study Accession**: SRP526682\\n- **Sample Accession**: SRS22358714- **Run Accession**: SRR30256648\\n**Experiment Accession**: SRX4967528\"\n",
    "        )\n",
    "    ]\n",
    "}\n",
    "# create_get_accessions_node(state)"
   ]
  },
  {
   "cell_type": "code",
   "execution_count": 59,
   "metadata": {},
   "outputs": [],
   "source": [
    "# router\n",
    "model = ChatOpenAI(model_name=\"gpt-4o-mini\", temperature=0)\n",
    "\n",
    "class Choices(Enum):\n",
    "    CONTINUE = \"Continue\"\n",
    "    STOP = \"Stop\"\n",
    "\n",
    "class Choice(BaseModel):\n",
    "    Choice: Choices\n",
    "\n",
    "def create_router_node(state: GraphState):\n",
    "    \"\"\"\n",
    "    Router for the graph\n",
    "    \"\"\"\n",
    "    # create prompt\n",
    "    prompt = ChatPromptTemplate.from_messages([\n",
    "        # First add any static system message if needed\n",
    "        (\"system\", \"You determine whether Sequence Read Archive SRX accessions have been obtained from the Entrez ID.\"),\n",
    "        (\"system\", \"Here are the last few messages:\"),\n",
    "         MessagesPlaceholder(variable_name=\"history\"),\n",
    "        # Add the final question/instruction\n",
    "        (\"human\", \"Based on the messages above, select STOP if the task is complete or CONTINUE if more information is needed.\"),\n",
    "    ])\n",
    "    formatted_prompt = prompt.format_messages(history=state[\"messages\"])\n",
    "    # call the model\n",
    "    response = model.with_structured_output(Choice, strict=True).invoke(formatted_prompt)\n",
    "    return {\"route\": response.Choice.value, \"rounds\": 1}"
   ]
  },
  {
   "cell_type": "markdown",
   "metadata": {},
   "source": [
    "# Graph"
   ]
  },
  {
   "cell_type": "code",
   "execution_count": 60,
   "metadata": {},
   "outputs": [],
   "source": [
    "from langgraph.graph import START, END, StateGraph, MessagesState"
   ]
  },
  {
   "cell_type": "code",
   "execution_count": 62,
   "metadata": {},
   "outputs": [],
   "source": [
    "def route_interpret(state: GraphState) -> str:\n",
    "    \"\"\"\n",
    "    Determine the route based on the current state of the conversation.\n",
    "    \"\"\"\n",
    "    if state[\"rounds\"] >= 2:\n",
    "        return END\n",
    "    return \"entrez_agent_node\" if state[\"route\"] == \"Continue\" else END"
   ]
  },
  {
   "cell_type": "code",
   "execution_count": 63,
   "metadata": {},
   "outputs": [],
   "source": [
    "#-- graph --#\n",
    "workflow = StateGraph(GraphState)\n",
    "\n",
    "# nodes\n",
    "workflow.add_node(\"entrez_agent_node\", create_entrez_agent_node)\n",
    "workflow.add_node(\"get_accessions_node\", create_get_accessions_node)\n",
    "workflow.add_node(\"router_node\", create_router_node)\n",
    "\n",
    "# edges\n",
    "workflow.add_edge(START, \"entrez_agent_node\")\n",
    "workflow.add_edge(\"entrez_agent_node\", \"get_accessions_node\")\n",
    "workflow.add_edge(\"get_accessions_node\", \"router_node\")\n",
    "workflow.add_conditional_edges(\"router_node\", route_interpret)\n",
    "\n",
    "# compile the graph\n",
    "graph = workflow.compile()"
   ]
  },
  {
   "cell_type": "code",
   "execution_count": 64,
   "metadata": {},
   "outputs": [
    {
     "data": {
      "image/jpeg": "[encoded data removed]",
      "text/plain": [
       "<IPython.core.display.Image object>"
      ]
     },
     "execution_count": 64,
     "metadata": {},
     "output_type": "execute_result"
    }
   ],
   "source": [
    "from IPython.display import Image\n",
    "Image(graph.get_graph().draw_mermaid_png())"
   ]
  },
  {
   "cell_type": "code",
   "execution_count": 65,
   "metadata": {},
   "outputs": [
    {
     "name": "stdout",
     "output_type": "stream",
     "text": [
      "{'entrez_agent_node': {'messages': [HumanMessage(content='Obtain all SRX accessions for the Entrez ID 34748561', additional_kwargs={}, response_metadata={}, id='e767a6a7-35b0-48be-b876-75cd7ce2dd5a'), AIMessage(content='', additional_kwargs={'tool_calls': [{'id': 'call_ScwmL6nXQ1RqIQBDT2EjyB1p', 'function': {'arguments': '{\"message\":\"Fetch the SRX accessions for Entrez ID 34748561\"}', 'name': 'invoke_efetch_worker'}, 'type': 'function'}], 'refusal': None}, response_metadata={'token_usage': {'completion_tokens': 30, 'prompt_tokens': 954, 'total_tokens': 984, 'completion_tokens_details': {'accepted_prediction_tokens': 0, 'audio_tokens': 0, 'reasoning_tokens': 0, 'rejected_prediction_tokens': 0}, 'prompt_tokens_details': {'audio_tokens': 0, 'cached_tokens': 0}}, 'model_name': 'gpt-4o-2024-08-06', 'system_fingerprint': 'fp_a7d06e42a7', 'finish_reason': 'tool_calls', 'logprobs': None}, id='run-28014756-fbf2-4339-b9b6-acd7e4a7378f-0', tool_calls=[{'name': 'invoke_efetch_worker', 'args': {'message': 'Fetch the SRX accessions for Entrez ID 34748561'}, 'id': 'call_ScwmL6nXQ1RqIQBDT2EjyB1p', 'type': 'tool_call'}], usage_metadata={'input_tokens': 954, 'output_tokens': 30, 'total_tokens': 984, 'input_token_details': {'audio': 0, 'cache_read': 0}, 'output_token_details': {'audio': 0, 'reasoning': 0}}), ToolMessage(content=\"{'messages': [HumanMessage(content='- **Entrez ID**: 34748561\\\\n- **SRX Accessions**:\\\\n  - **SRX25717816**\\\\n    - **Sample Title**: Butt, Old, Patient 3\\\\n    - **Study Title**: An mRNA treatment for human skin rejuvenation\\\\n    - **Library Strategy**: RNA-Seq\\\\n    - **Platform**: Illumina NovaSeq 6000\\\\n    - **Submission Center**: Harvard Medical School\\\\n    - **Study Accession**: SRP526682\\\\n    - **Sample Accession**: SRS22358714\\\\n    - **Run Accession**: SRR30256648\\\\n- **Additional Information**:\\\\n  - **Sample Attributes**:\\\\n    - Source Name: Skin\\\\n    - Tissue: Skin\\\\n    - Age: Old\\\\n    - Patient ID: 3\\\\n  - **Study Abstract**: Focuses on the effects of aging on human skin and the development of an mRNA treatment for skin rejuvenation.', additional_kwargs={}, response_metadata={}, name='efetch worker')]}\", name='invoke_efetch_worker', id='2e119842-445e-4027-9ecc-e5767dfa6544', tool_call_id='call_ScwmL6nXQ1RqIQBDT2EjyB1p'), AIMessage(content='Entrez ID 34748561 corresponds to the following SRX accession:\\n\\n- **SRX25717816**\\n  - **Sample Title**: Butt, Old, Patient 3\\n  - **Study Title**: An mRNA treatment for human skin rejuvenation\\n  - **Library Strategy**: RNA-Seq\\n  - **Platform**: Illumina NovaSeq 6000\\n  - **Submission Center**: Harvard Medical School\\n  - **Study Accession**: SRP526682\\n  - **Sample Accession**: SRS22358714\\n  - **Run Accession**: SRR30256648\\n\\nAdditional Information:\\n- **Sample Attributes**:\\n  - Source Name: Skin\\n  - Tissue: Skin\\n  - Age: Old\\n  - Patient ID: 3\\n- **Study Abstract**: Focuses on the effects of aging on human skin and the development of an mRNA treatment for skin rejuvenation.', additional_kwargs={'refusal': None}, response_metadata={'token_usage': {'completion_tokens': 199, 'prompt_tokens': 1230, 'total_tokens': 1429, 'completion_tokens_details': {'accepted_prediction_tokens': 0, 'audio_tokens': 0, 'reasoning_tokens': 0, 'rejected_prediction_tokens': 0}, 'prompt_tokens_details': {'audio_tokens': 0, 'cached_tokens': 0}}, 'model_name': 'gpt-4o-2024-08-06', 'system_fingerprint': 'fp_a7d06e42a7', 'finish_reason': 'stop', 'logprobs': None}, id='run-bbc3340a-2c71-4076-8f51-33594017decf-0', usage_metadata={'input_tokens': 1230, 'output_tokens': 199, 'total_tokens': 1429, 'input_token_details': {'audio': 0, 'cache_read': 0}, 'output_token_details': {'audio': 0, 'reasoning': 0}})]}}\n",
      "{'get_accessions_node': {'SRX': ['SRX25717816']}}\n",
      "{'router_node': {'route': 'Stop'}}\n"
     ]
    }
   ],
   "source": [
    "input = {\"entrez_id\" : \"34748561\"}\n",
    "for step in graph.stream(input, config={\"max_concurrency\" : 3, \"recursion_limit\": 30}):\n",
    "    print(step)\n",
    "    final_step = step"
   ]
  },
  {
   "cell_type": "code",
   "execution_count": null,
   "metadata": {},
   "outputs": [],
   "source": []
  },
  {
   "cell_type": "code",
   "execution_count": null,
   "metadata": {},
   "outputs": [],
   "source": []
  }
 ],
 "metadata": {
  "kernelspec": {
   "display_name": "SRAgent",
   "language": "python",
   "name": "python3"
  },
  "language_info": {
   "codemirror_mode": {
    "name": "ipython",
    "version": 3
   },
   "file_extension": ".py",
   "mimetype": "text/x-python",
   "name": "python",
   "nbconvert_exporter": "python",
   "pygments_lexer": "ipython3",
   "version": "3.12.7"
  }
 },
 "nbformat": 4,
 "nbformat_minor": 2
}
