{
 "cells": [
  {
   "cell_type": "markdown",
   "metadata": {},
   "source": [
    "# Goal\n",
    "\n",
    "* Create a general REACT agent that can use entrez tools to explore an Entrez record"
   ]
  },
  {
   "cell_type": "markdown",
   "metadata": {},
   "source": [
    "# Init"
   ]
  },
  {
   "cell_type": "code",
   "execution_count": 1,
   "metadata": {},
   "outputs": [],
   "source": [
    "# import \n",
    "import os\n",
    "import re\n",
    "import time\n",
    "from enum import Enum\n",
    "from pprint import pprint\n",
    "from datetime import datetime, timedelta\n",
    "from typing import Annotated, List, Dict, Tuple, Optional, Union, Any\n",
    "import xml.etree.ElementTree as ET\n",
    "from pydantic import BaseModel, Field\n",
    "from langchain_core.tools import tool\n",
    "from Bio import Entrez\n",
    "import pandas as pd\n",
    "from dotenv import load_dotenv"
   ]
  },
  {
   "cell_type": "code",
   "execution_count": 2,
   "metadata": {},
   "outputs": [],
   "source": [
    "# setup\n",
    "load_dotenv()\n",
    "pd.set_option('display.max_colwidth', 1000)\n",
    "os.environ[\"DEBUG_MODE\"] = \"TRUE\""
   ]
  },
  {
   "cell_type": "code",
   "execution_count": 3,
   "metadata": {},
   "outputs": [
    {
     "name": "stdout",
     "output_type": "stream",
     "text": [
      "DEBUG_MODE is enabled.\n"
     ]
    }
   ],
   "source": [
    "# checks\n",
    "if os.getenv(\"DEBUG_MODE\") == \"TRUE\":\n",
    "    print(\"DEBUG_MODE is enabled.\")"
   ]
  },
  {
   "cell_type": "code",
   "execution_count": 4,
   "metadata": {},
   "outputs": [],
   "source": [
    "# set up Entrez\n",
    "Entrez.email = \"nick.youngblut@arcinstitute.org\""
   ]
  },
  {
   "cell_type": "markdown",
   "metadata": {},
   "source": [
    "# Tools"
   ]
  },
  {
   "cell_type": "code",
   "execution_count": null,
   "metadata": {},
   "outputs": [],
   "source": [
    "@tool \n",
    "def esearch(\n",
    "    esearch_query: Annotated[str, \"Entrez query string.\"],\n",
    "    database: Annotated[str, \"Database name (e.g., sra, gds, or pubmed)\"],\n",
    "    )-> Annotated[List[str], \"Entrez IDs of database records\"]:\n",
    "    \"\"\"\n",
    "    Run an Entrez search query and return the Entrez IDs of the results.\n",
    "    Example query for single cell RNA-seq:\n",
    "        `(\"single cell\"[Title] OR \"single-cell\"[Title] OR \"scRNA-seq\"[Title])`\n",
    "    Example query for an ENA accession number (database = sra):\n",
    "        `ERX13336121`\n",
    "    Example query for a GEO accession number (database = gds):\n",
    "        `GSE51372`\n",
    "    \"\"\"\n",
    "    # debug model\n",
    "    if os.getenv(\"DEBUG_MODE\") == \"TRUE\":\n",
    "        max_records = 2 \n",
    "\n",
    "    # query\n",
    "    records = []\n",
    "    retstart = 0\n",
    "    retmax = 50\n",
    "    while True:\n",
    "        try:\n",
    "            search_handle = Entrez.esearch(\n",
    "                db=database, \n",
    "                term=esearch_query, \n",
    "                retstart=retstart, \n",
    "                retmax=retmax\n",
    "            )\n",
    "            search_results = Entrez.read(search_handle)\n",
    "            search_handle.close()\n",
    "            # delete unneeded keys\n",
    "            to_rm = [\"RetMax\", \"RetStart\"]\n",
    "            for key in to_rm:\n",
    "                if key in search_results.keys():\n",
    "                    del search_results[key]\n",
    "            # add to records\n",
    "            records.append(str(search_results))\n",
    "            # update retstart\n",
    "            retstart += retmax\n",
    "            time.sleep(0.33)\n",
    "            if max_records and len(records) >= max_records:\n",
    "                break\n",
    "            if retstart >= int(search_results['Count']):\n",
    "                break\n",
    "        except Exception as e:\n",
    "            print(f\"Error searching {database} with query: {esearch_query}: {str(e)}\")\n",
    "            break \n",
    "        \n",
    "    # return records\n",
    "    if len(records) == 0:\n",
    "        return(f\"No records found for query: {esearch_query}\")\n",
    "    if os.getenv(\"DEBUG_MODE\") == \"TRUE\":\n",
    "        records = records[:max_records]  # debug\n",
    "    return records\n",
    "\n",
    "# esearch.invoke({\"esearch_query\" : \"GSE51372\", \"database\" : \"sra\"})\n",
    "# esearch.invoke({\"esearch_query\" : \"GSE121737\", \"database\" : \"gds\"})"
   ]
  },
  {
   "cell_type": "code",
   "execution_count": 33,
   "metadata": {},
   "outputs": [],
   "source": [
    "@tool \n",
    "def efetch(\n",
    "    entrez_ids: Annotated[List[str], \"List of Entrez IDs\"],\n",
    "    database: Annotated[str, \"Database name (e.g., sra, gds, or pubmed)\"],\n",
    "    )-> Annotated[List[str], \"eFetch results in xml format\"]:\n",
    "    \"\"\"\n",
    "    Run an Entrez efetch query on Entrez IDs to obtain metadata for the records.\n",
    "    Useful for obtaining metadata for a specific record.\n",
    "    \"\"\"\n",
    "    time.sleep(0.33)\n",
    "    id_str = \", \".join(entrez_ids)\n",
    "    # Fetch dataset record\n",
    "    try:\n",
    "        handle = Entrez.efetch(db=database, id=entrez_ids, retmode=\"xml\")\n",
    "        record = handle.read()\n",
    "    except Entrez.Parser.ValidationError:\n",
    "        print(f\"Failed to fetch record for {id_str}\")\n",
    "    finally:\n",
    "        handle.close()\n",
    "    # decode the record\n",
    "    try:\n",
    "        record = record.decode(\"utf-8\")\n",
    "    except:\n",
    "        pass\n",
    "\n",
    "    # check for errors\n",
    "    if \"Error occurred: cannot get document summary\" in record:\n",
    "        return f\"Failed to fetch record for {id_str}. Try a different database (e.g., gds, sra, or pubmed).\"\n",
    "\n",
    "    return str(record)\n",
    "\n",
    "#records = efetch.invoke({ \"entrez_ids\" : [\"35966237\"], \"database\" : \"sra\"})\n",
    "#pprint(records)\n",
    "#records = efetch.invoke({\"entrez_ids\" : [\"200254051\"], \"database\" : \"gds\"})\n",
    "#pprint(records)"
   ]
  },
  {
   "cell_type": "code",
   "execution_count": null,
   "metadata": {},
   "outputs": [
    {
     "data": {
      "text/plain": [
       "'<?xml version=\"1.0\" encoding=\"UTF-8\" ?>\\n<!DOCTYPE eSummaryResult PUBLIC \"-//NLM//DTD esummary v1 20041029//EN\" \"https://eutils.ncbi.nlm.nih.gov/eutils/dtd/20041029/esummary-v1.dtd\">\\n<eSummaryResult>\\n<DocSum>\\n\\t<Id>35966237</Id>\\n\\t<Item Name=\"ExpXml\" Type=\"String\">&lt;Summary&gt;&lt;Title&gt;RNA-Seq of Homo sapiens: adult female pancreas&lt;/Title&gt;&lt;Platform instrument_model=\"Illumina NovaSeq 6000\"&gt;ILLUMINA&lt;/Platform&gt;&lt;Statistics total_runs=\"1\" total_spots=\"227438532\" total_bases=\"68231559600\" total_size=\"26895277702\" load_done=\"true\" cluster_name=\"public\"/&gt;&lt;/Summary&gt;&lt;Submitter acc=\"SRA2008902\" center_name=\"Peking Union Medical College Hospital\" contact_name=\"Haoran Huang\" lab_name=\"general surgical\"/&gt;&lt;Experiment acc=\"SRX26623215\" ver=\"1\" status=\"public\" name=\"RNA-Seq of Homo sapiens: adult female pancreas\"/&gt;&lt;Study acc=\"SRP543450\" name=\"scRNA seq on paired samples from three advanced pancreatic cancer patients with liver metastasis\"/&gt;&lt;Organism taxid=\"9606\" ScientificName=\"Homo sapiens\"/&gt;&lt;Sample acc=\"SRS23119663\" name=\"\"/&gt;&lt;Instrument ILLUMINA=\"Illumina NovaSeq 6000\"/&gt;&lt;Library_descriptor&gt;&lt;LIBRARY_NAME&gt;220857C_LM_3&lt;/LIBRARY_NAME&gt;&lt;LIBRARY_STRATEGY&gt;RNA-Seq&lt;/LIBRARY_STRATEGY&gt;&lt;LIBRARY_SOURCE&gt;TRANSCRIPTOMIC&lt;/LIBRARY_SOURCE&gt;&lt;LIBRARY_SELECTION&gt;RT-PCR&lt;/LIBRARY_SELECTION&gt;&lt;LIBRARY_LAYOUT&gt; &lt;PAIRED/&gt; &lt;/LIBRARY_LAYOUT&gt;&lt;/Library_descriptor&gt;&lt;Bioproject&gt;PRJNA1182665&lt;/Bioproject&gt;&lt;Biosample&gt;SAMN44601143&lt;/Biosample&gt;</Item>\\n\\t<Item Name=\"Runs\" Type=\"String\">&lt;Run acc=\"SRR31243301\" total_spots=\"227438532\" total_bases=\"68231559600\" load_done=\"true\" is_public=\"true\" cluster_name=\"public\" static_data_available=\"true\"/&gt;</Item>\\n\\t<Item Name=\"ExtLinks\" Type=\"String\"></Item>\\n\\t<Item Name=\"CreateDate\" Type=\"String\">2024/11/06</Item>\\n\\t<Item Name=\"UpdateDate\" Type=\"String\">2024/11/06</Item>\\n</DocSum>\\n\\n</eSummaryResult>\\n'"
      ]
     },
     "execution_count": 34,
     "metadata": {},
     "output_type": "execute_result"
    }
   ],
   "source": [
    "@tool\n",
    "def esummary(\n",
    "    entrez_ids: Annotated[List[str], \"List of Entrez IDs\"],\n",
    "    database: Annotated[str, \"Database name (e.g., sra, gds, or pubmed)\"],\n",
    ") -> Annotated[List[str], \"eSummary results in xml format\"]:\n",
    "    \"\"\"\n",
    "    Run an Entrez esummary query on Entrez IDs to obtain summary information for the records.\n",
    "    Useful for obtaining summary information for a specific record.\n",
    "    \"\"\"\n",
    "    time.sleep(0.33)  # Respect NCBI's rate limits\n",
    "    id_str = \", \".join(entrez_ids)\n",
    "    \n",
    "    # Fetch summary record\n",
    "    try:\n",
    "        handle = Entrez.esummary(db=database, id=entrez_ids, retmode=\"xml\")\n",
    "        record = handle.read()\n",
    "    except Entrez.Parser.ValidationError:\n",
    "        return f\"Failed to fetch summary for {id_str}. Check if the IDs exist.\"\n",
    "    finally:\n",
    "        handle.close()\n",
    "        \n",
    "    # decode the record\n",
    "    try:\n",
    "        record = record.decode(\"utf-8\")\n",
    "    except:\n",
    "        pass\n",
    "        \n",
    "    # check for errors in the response\n",
    "    if \"ERROR\" in record.upper() or \"INVALID_ID\" in record.upper():\n",
    "        return f\"Failed to fetch summary for {id_str}. Try a different database (gds or sra) or verify the ID.\"\n",
    "        \n",
    "    return str(record)\n",
    "\n",
    "# esummary.invoke({\"entrez_ids\" : [\"35966237\"], \"database\" : \"sra\"})"
   ]
  },
  {
   "cell_type": "code",
   "execution_count": 40,
   "metadata": {},
   "outputs": [],
   "source": [
    "@tool\n",
    "def which_entrez_databases(\n",
    "    entrez_id: Annotated[str, \"Entrez ID\"],\n",
    ") -> Annotated[Union[str, List[str]], \"List of databases where the ID was found or error message\"]:\n",
    "    \"\"\"\n",
    "    Check which databases an Entrez ID is found in.\n",
    "    \"\"\"\n",
    "    # More complete list of databases\n",
    "    databases = [\n",
    "        \"sra\", \"gds\", \"pubmed\", \"biosample\", \"bioproject\", \n",
    "    ]\n",
    "    \n",
    "    found_in = []\n",
    "    for db in databases:\n",
    "        try:\n",
    "            time.sleep(0.33)\n",
    "            handle = Entrez.esummary(db=db, id=entrez_id)\n",
    "            record = Entrez.read(handle)\n",
    "            found_in.append(db)\n",
    "            handle.close()\n",
    "        except Exception as e:\n",
    "            continue\n",
    "            \n",
    "    if not found_in:\n",
    "        return f\"Entrez ID {entrez_id} not found in any database.\"\n",
    "    return found_in        \n",
    "\n",
    "# Example usage\n",
    "#which_entrez_databases.invoke({\"entrez_id\" : \"35966237\"})"
   ]
  },
  {
   "cell_type": "code",
   "execution_count": 41,
   "metadata": {},
   "outputs": [],
   "source": [
    "@tool\n",
    "def elink(\n",
    "    source_db: Annotated[str, \"Source database (e.g., sra or gds)\"],\n",
    "    target_db: Annotated[str, \"Target database (e.g., bioproject, biosample or pubmed)\"],\n",
    "    entrez_id: Annotated[str, \"Entrez ID \"],\n",
    ") -> Annotated[str, \"eLink results in xml format\"]:\n",
    "    \"\"\"\n",
    "    Find related entries between Entrez databases.\n",
    "    This tool is particularly useful for finding BioProject, BioSample, or publication records related to SRA entries.\n",
    "    \"\"\"\n",
    "    if source_db == target_db:\n",
    "        return f\"Source and target databases cannot be the same. Which database are you trying to link {source_db} to?\"\n",
    "\n",
    "    time.sleep(0.33)\n",
    "    \n",
    "    try:\n",
    "        handle = Entrez.elink(\n",
    "            dbfrom=source_db,\n",
    "            db=target_db,\n",
    "            id=[entrez_id],\n",
    "            retmode=\"xml\"\n",
    "        )\n",
    "        record = handle.read()\n",
    "    except Entrez.Parser.ValidationError:\n",
    "        print(f\"Failed to find links for: {entrez_id}\")\n",
    "        return f\"Failed to find links. Check database names and Entrez ID.\"\n",
    "    finally:\n",
    "        handle.close()\n",
    "        \n",
    "    try:\n",
    "        record = record.decode(\"utf-8\")\n",
    "    except:\n",
    "        pass\n",
    "        \n",
    "    if \"ERROR\" in record.upper():\n",
    "        return f\"Failed to find links. Verify database names ({source_db}, {target_db}) and Entrez ID.\"\n",
    "        \n",
    "    return str(record)\n",
    "\n",
    "#elink.invoke({\"source_db\" : \"sra\", \"target_db\" : \"gds\", \"entrez_id\" : \"35966237\"})"
   ]
  },
  {
   "cell_type": "markdown",
   "metadata": {},
   "source": [
    "# Graph"
   ]
  },
  {
   "cell_type": "code",
   "execution_count": 42,
   "metadata": {},
   "outputs": [],
   "source": [
    "import operator\n",
    "from typing import Annotated, Sequence, Tuple, Union, Required\n",
    "from typing_extensions import TypedDict\n",
    "from langchain_core.messages import BaseMessage, HumanMessage, AIMessage\n",
    "from langchain_core.prompts import ChatPromptTemplate, MessagesPlaceholder\n",
    "from langchain_core.runnables import RunnableConfig\n",
    "from langchain_openai import ChatOpenAI\n",
    "from langgraph.types import Send\n",
    "from langgraph.graph import START, END, StateGraph, MessagesState\n",
    "from pydantic import BaseModel, Field\n",
    "from langgraph.prebuilt import create_react_agent, ToolNode"
   ]
  },
  {
   "cell_type": "code",
   "execution_count": 43,
   "metadata": {},
   "outputs": [],
   "source": [
    "# set model\n",
    "#model_big = ChatOpenAI(model=\"gpt-4o\")\n",
    "model = ChatOpenAI(model=\"gpt-4o-mini\")"
   ]
  },
  {
   "cell_type": "code",
   "execution_count": 45,
   "metadata": {},
   "outputs": [],
   "source": [
    "entrez_agent = create_react_agent(\n",
    "    model=model,\n",
    "    tools=[esearch, efetch, esummary, elink, which_entrez_databases],\n",
    "    state_modifier=\"\\n\".join([\n",
    "        \"You are a helpful bioinformatician assisting a researcher with a task involving Entrez databases.\",\n",
    "        \"Use the Entrez suite of tools to search for and retrieve information in order to help the researcher.\",\n",
    "        \"Generally, start with the eSearch tool to find Entrez records, then use eFetch to get detailed information.\",\n",
    "        \"Use eSummary to obtain summary information on an Entrez record.\",\n",
    "        \"Use eLink to navigate between databases to find related records (e.g., GEO to SRA).\",\n",
    "        \"Continue using your tools until you successfully complete the task.\",\n",
    "        \"Be very concise; provide simple lists when possible; do not include unnecessary wording such as \\\"If you need further assistance\\\".\",\n",
    "        \"\\n#-- Accession notes --#\",\n",
    "        \"SRA accesssion prefixes: SRX, SRP, SRR\",\n",
    "        \"ENA accession prefixes: ERX, PRJNA, DRX, E-MTAB\",\n",
    "        \"GEO accession prefixes: GSE, GSM, GPL\",\n",
    "        \"BioProject accession prefixes: PRJNA, PRJEB, PRJDB\",\n",
    "        \"BioSample accession prefixes: SAMN, SAME\",\n",
    "        \"#-- Database notes --#\",\n",
    "        \"Entrez databases: sra, gds, pubmed, biosample, bioproject\",\n",
    "        \"#-- Example workflows --#\",\n",
    "        \"# Task: Convert GSE123456 to SRX accessions\",\n",
    "        \"  1. esearch of GSE accession to obtain Entrez IDs\",\n",
    "        \"  2. esummary of the Entrez IDs to get the SRX accessions\"\n",
    "        \"\\n\"\n",
    "    ])\n",
    ")\n",
    "\n",
    "# invoke the agent\n",
    "inputs = {\"messages\": [(\"user\", \"Convert GSE121737 to SRX accessions\")]}\n",
    "config = {\"max_concurrency\" : 3, \"recursion_limit\": 30}\n",
    "#for step in entrez_agent.stream(inputs, stream_mode=\"values\", config=config):\n",
    "#    print(step)"
   ]
  },
  {
   "cell_type": "code",
   "execution_count": 46,
   "metadata": {},
   "outputs": [],
   "source": [
    "# subclass the state\n",
    "class GraphState(TypedDict):\n",
    "    messages: Annotated[Sequence[BaseMessage], operator.add]\n",
    "    SRX: Annotated[List[str], \"SRX accessions associated with the dataset.\"]\n",
    "    SRP: Annotated[List[str], \"SRP accessions associated with the dataset.\"]\n",
    "    SRR: Annotated[List[str], \"SRR accessions associated with the dataset.\"]"
   ]
  },
  {
   "cell_type": "code",
   "execution_count": 47,
   "metadata": {},
   "outputs": [],
   "source": [
    "# node to generate a structured output of accessions\n",
    "class Accesions(TypedDict):\n",
    "    SRX: List[str]\n",
    "    SRP: List[str]\n",
    "    SRR: List[str]\n",
    "\n",
    "def get_accessions(state: GraphState) -> Accesions:\n",
    "    \"\"\"\n",
    "    Extract the SRA experiment accessions (SRX) from the state.\n",
    "    \"\"\"\n",
    "     # Create a prompt template that includes previous messages\n",
    "    prompt = ChatPromptTemplate.from_messages([\n",
    "        # First add any static system message if needed\n",
    "        (\"system\", \"You are an expert in bioinformatics and have been asked to analyze an SRA dataset.\"),\n",
    "        # Include all previous messages from the state\n",
    "        MessagesPlaceholder(variable_name=\"history\"),\n",
    "        # Add the final question/instruction\n",
    "        (\"human\", \"\\n\".join([\n",
    "            \"Based on the information above, determine the following:\",\n",
    "            \"1. The SRX accessions associated with the dataset.\",\n",
    "            \"2. The SRP accessions associated with the dataset.\",\n",
    "            \"3. The SRR accessions associated with the dataset.\"\n",
    "            \"If you cannot find any particular type of accession, you can leave it blank.\"\n",
    "            ])\n",
    "        ),\n",
    "    ])\n",
    "    # Format the prompt with the message history\n",
    "    formatted_prompt = prompt.format_messages(\n",
    "        history=state[\"messages\"]\n",
    "    )\n",
    "    # Use the formatted prompt with the LLM\n",
    "    return model.with_structured_output(Accesions, strict=True).invoke(formatted_prompt)\n",
    "\n",
    "# test get_accessions\n",
    "# state = {\n",
    "#     \"messages\": [HumanMessage(content=\"The accession is SRR13112659. The dataset is from a single-cell RNA-seq experiment with Illumina paired-end reads. There is another accession: SRP319646. The dataset is from a study on the human brain. The dataset is part of a larger project with the accession PR\")],\n",
    "# }\n",
    "#get_accessions(state)"
   ]
  },
  {
   "cell_type": "code",
   "execution_count": 48,
   "metadata": {},
   "outputs": [],
   "source": [
    "#-- graph --#\n",
    "workflow = StateGraph(GraphState)\n",
    "\n",
    "# nodes\n",
    "workflow.add_node(\"entrez_agent_node\", entrez_agent)\n",
    "workflow.add_node(\"get_accessions_node\", get_accessions)\n",
    "\n",
    "# edges\n",
    "workflow.add_edge(START, \"entrez_agent_node\")\n",
    "#workflow.add_edge(\"entrez_agent_node\", END)\n",
    "workflow.add_edge(\"entrez_agent_node\", \"get_accessions_node\")\n",
    "workflow.add_edge(\"get_accessions_node\", END)\n",
    "\n",
    "# compile the graph\n",
    "graph = workflow.compile()"
   ]
  },
  {
   "cell_type": "code",
   "execution_count": 49,
   "metadata": {},
   "outputs": [
    {
     "data": {
      "image/jpeg": "[encoded data removed]",
      "text/plain": [
       "<IPython.core.display.Image object>"
      ]
     },
     "execution_count": 49,
     "metadata": {},
     "output_type": "execute_result"
    }
   ],
   "source": [
    "from IPython.display import Image\n",
    "Image(graph.get_graph().draw_mermaid_png())"
   ]
  },
  {
   "cell_type": "code",
   "execution_count": 50,
   "metadata": {},
   "outputs": [
    {
     "name": "stdout",
     "output_type": "stream",
     "text": [
      "Error searching gds with query: GSE121737: 'Count'\n",
      "{'entrez_agent_node': {'messages': [HumanMessage(content='Convert GSE121737 to SRX accessions', additional_kwargs={}, response_metadata={}, id='8b260377-d4aa-4bdf-8f4d-76a7a9168e5e'), AIMessage(content='', additional_kwargs={'tool_calls': [{'id': 'call_2EFmQA5XYPVg4f4OxMz2ZDW0', 'function': {'arguments': '{\"esearch_query\":\"GSE121737\",\"database\":\"gds\"}', 'name': 'esearch'}, 'type': 'function'}], 'refusal': None}, response_metadata={'token_usage': {'completion_tokens': 24, 'prompt_tokens': 725, 'total_tokens': 749, 'completion_tokens_details': {'accepted_prediction_tokens': 0, 'audio_tokens': 0, 'reasoning_tokens': 0, 'rejected_prediction_tokens': 0}, 'prompt_tokens_details': {'audio_tokens': 0, 'cached_tokens': 0}}, 'model_name': 'gpt-4o-mini-2024-07-18', 'system_fingerprint': 'fp_0ba0d124f1', 'finish_reason': 'tool_calls', 'logprobs': None}, id='run-68c19717-ce2a-47b0-8837-5cdbe41d5450-0', tool_calls=[{'name': 'esearch', 'args': {'esearch_query': 'GSE121737', 'database': 'gds'}, 'id': 'call_2EFmQA5XYPVg4f4OxMz2ZDW0', 'type': 'tool_call'}], usage_metadata={'input_tokens': 725, 'output_tokens': 24, 'total_tokens': 749, 'input_token_details': {'audio': 0, 'cache_read': 0}, 'output_token_details': {'audio': 0, 'reasoning': 0}}), ToolMessage(content='[\"{\\'IdList\\': [\\'200121737\\', \\'100024679\\', \\'303444964\\', \\'303444963\\', \\'303444962\\'], \\'TranslationSet\\': [], \\'TranslationStack\\': [{\\'Term\\': \\'GSE121737[All Fields]\\', \\'Field\\': \\'All Fields\\', \\'Count\\': \\'5\\', \\'Explode\\': \\'N\\'}, \\'GROUP\\'], \\'QueryTranslation\\': \\'GSE121737[All Fields]\\'}\"]', name='esearch', id='656c7e34-c996-4cbb-86fc-047f0caf487a', tool_call_id='call_2EFmQA5XYPVg4f4OxMz2ZDW0'), AIMessage(content='', additional_kwargs={'tool_calls': [{'id': 'call_fbtARidTgZ34KMQzywvXJW8L', 'function': {'arguments': '{\"entrez_ids\":[\"200121737\",\"100024679\",\"303444964\",\"303444963\",\"303444962\"],\"database\":\"gds\"}', 'name': 'esummary'}, 'type': 'function'}], 'refusal': None}, response_metadata={'token_usage': {'completion_tokens': 40, 'prompt_tokens': 846, 'total_tokens': 886, 'completion_tokens_details': {'accepted_prediction_tokens': 0, 'audio_tokens': 0, 'reasoning_tokens': 0, 'rejected_prediction_tokens': 0}, 'prompt_tokens_details': {'audio_tokens': 0, 'cached_tokens': 0}}, 'model_name': 'gpt-4o-mini-2024-07-18', 'system_fingerprint': 'fp_0ba0d124f1', 'finish_reason': 'tool_calls', 'logprobs': None}, id='run-363a43aa-b924-46c9-83e2-ab065e1e5e94-0', tool_calls=[{'name': 'esummary', 'args': {'entrez_ids': ['200121737', '100024679', '303444964', '303444963', '303444962'], 'database': 'gds'}, 'id': 'call_fbtARidTgZ34KMQzywvXJW8L', 'type': 'tool_call'}], usage_metadata={'input_tokens': 846, 'output_tokens': 40, 'total_tokens': 886, 'input_token_details': {'audio': 0, 'cache_read': 0}, 'output_token_details': {'audio': 0, 'reasoning': 0}}), ToolMessage(content='<?xml version=\"1.0\" encoding=\"UTF-8\" ?>\\n<!DOCTYPE eSummaryResult PUBLIC \"-//NLM//DTD esummary v1 20041029//EN\" \"https://eutils.ncbi.nlm.nih.gov/eutils/dtd/20041029/esummary-v1.dtd\">\\n<eSummaryResult>\\n<DocSum>\\n\\t<Id>200121737</Id>\\n\\t<Item Name=\"Accession\" Type=\"String\">GSE121737</Item>\\n\\t<Item Name=\"GDS\" Type=\"String\"></Item>\\n\\t<Item Name=\"title\" Type=\"String\">Single-cell level transcriptomic anaylsis of the homeostatic and regenerating axolotl limb</Item>\\n\\t<Item Name=\"summary\" Type=\"String\">Regeneration of complex multi-tissue structures, such as limbs, requires the coordinated effort of multiple cell types. In axolotl limb regeneration, the wound epidermis and blastema have been extensively studied via histology, grafting, and bulk-tissue RNA-sequencing. However, studying the contributions of these tissues is hindered due to limited information regarding the molecular identity of the cell types in regenerating limbs. By performing unbiased single-cell RNA-sequencing on over 25,000 cells from axolotl limbs, we identify a plethora of cellular diversity within epidermal, mesenchymal, and hematopoietic lineages in homeostatic and regenerating limbs. We identify regeneration-induced genes, develop putative trajectories for blastema cell differentiation, and propose the molecular identity and origin of fibroblast-derived blastema progenitor cells residing in homeostatic limbs. This work will enable application of molecular techniques to assess the contribution of these populations to limb regeneration. It will also facilitate work aimed at identifying transcripts and cells critical for limb regeneration.</Item>\\n\\t<Item Name=\"GPL\" Type=\"String\">24679</Item>\\n\\t<Item Name=\"GSE\" Type=\"String\">121737</Item>\\n\\t<Item Name=\"taxon\" Type=\"String\">Ambystoma mexicanum</Item>\\n\\t<Item Name=\"entryType\" Type=\"String\">GSE</Item>\\n\\t<Item Name=\"gdsType\" Type=\"String\">Expression profiling by high throughput sequencing</Item>\\n\\t<Item Name=\"ptechType\" Type=\"String\"></Item>\\n\\t<Item Name=\"valType\" Type=\"String\"></Item>\\n\\t<Item Name=\"SSInfo\" Type=\"String\"></Item>\\n\\t<Item Name=\"subsetInfo\" Type=\"String\"></Item>\\n\\t<Item Name=\"PDAT\" Type=\"String\">2018/10/25</Item>\\n\\t<Item Name=\"suppFile\" Type=\"String\">FASTA, TXT</Item>\\n\\t<Item Name=\"Samples\" Type=\"List\">\\n\\t\\t<Item Name=\"Sample\" Type=\"Structure\">\\n\\t\\t\\t<Item Name=\"Accession\" Type=\"String\">GSM3444963</Item>\\n\\t\\t\\t<Item Name=\"Title\" Type=\"String\">23dpa -scRNAseq samples 4 to 6 and 3dpa -scRNAseq samples 1 to 3</Item>\\n\\t\\t</Item>\\n\\t\\t<Item Name=\"Sample\" Type=\"Structure\">\\n\\t\\t\\t<Item Name=\"Accession\" Type=\"String\">GSM3444962</Item>\\n\\t\\t\\t<Item Name=\"Title\" Type=\"String\">23dpa -scRNAseq samples 1 to 3 and 14dpa -scRNAseq samples to 14dpa -scRNAseq samples1 to 2</Item>\\n\\t\\t</Item>\\n\\t\\t<Item Name=\"Sample\" Type=\"Structure\">\\n\\t\\t\\t<Item Name=\"Accession\" Type=\"String\">GSM3444964</Item>\\n\\t\\t\\t<Item Name=\"Title\" Type=\"String\">Intact- scRNAseq samples 1 to 2 and Contralateral- scRNAseq samples 1 to 3</Item>\\n\\t\\t</Item>\\n\\t</Item>\\n\\t<Item Name=\"Relations\" Type=\"List\"></Item>\\n\\t<Item Name=\"ExtRelations\" Type=\"List\">\\n\\t\\t<Item Name=\"ExtRelation\" Type=\"Structure\">\\n\\t\\t\\t<Item Name=\"RelationType\" Type=\"String\">SRA</Item>\\n\\t\\t\\t<Item Name=\"TargetObject\" Type=\"String\">SRP167700</Item>\\n\\t\\t\\t<Item Name=\"TargetFTPLink\" Type=\"String\">ftp://ftp-trace.ncbi.nlm.nih.gov/sra/sra-instant/reads/ByStudy/sra/SRP/SRP167/SRP167700/</Item>\\n\\t\\t</Item>\\n\\t</Item>\\n\\t<Item Name=\"n_samples\" Type=\"Integer\">3</Item>\\n\\t<Item Name=\"SeriesTitle\" Type=\"String\"></Item>\\n\\t<Item Name=\"PlatformTitle\" Type=\"String\"></Item>\\n\\t<Item Name=\"PlatformTaxa\" Type=\"String\"></Item>\\n\\t<Item Name=\"SamplesTaxa\" Type=\"String\"></Item>\\n\\t<Item Name=\"PubMedIds\" Type=\"List\">\\n\\t\\t<Item Name=\"int\" Type=\"Integer\">30514844</Item>\\n\\t</Item>\\n\\t<Item Name=\"Projects\" Type=\"List\"></Item>\\n\\t<Item Name=\"FTPLink\" Type=\"String\">ftp://ftp.ncbi.nlm.nih.gov/geo/series/GSE121nnn/GSE121737/</Item>\\n\\t<Item Name=\"GEO2R\" Type=\"String\">no</Item>\\n</DocSum>\\n\\n<DocSum>\\n\\t<Id>100024679</Id>\\n\\t<Item Name=\"Accession\" Type=\"String\">GPL24679</Item>\\n\\t<Item Name=\"GDS\" Type=\"String\"></Item>\\n\\t<Item Name=\"title\" Type=\"String\">Illumina NextSeq 500 (Ambystoma mexicanum)</Item>\\n\\t<Item Name=\"summary\" Type=\"String\"></Item>\\n\\t<Item Name=\"GPL\" Type=\"String\">24679</Item>\\n\\t<Item Name=\"GSE\" Type=\"String\">132325;151535;206234;121737;192477;184948;240796;206238;166916</Item>\\n\\t<Item Name=\"taxon\" Type=\"String\">Ambystoma mexicanum</Item>\\n\\t<Item Name=\"entryType\" Type=\"String\">GPL</Item>\\n\\t<Item Name=\"gdsType\" Type=\"String\"></Item>\\n\\t<Item Name=\"ptechType\" Type=\"String\">high-throughput sequencing</Item>\\n\\t<Item Name=\"valType\" Type=\"String\"></Item>\\n\\t<Item Name=\"SSInfo\" Type=\"String\"></Item>\\n\\t<Item Name=\"subsetInfo\" Type=\"String\"></Item>\\n\\t<Item Name=\"PDAT\" Type=\"String\">2018/03/02</Item>\\n\\t<Item Name=\"suppFile\" Type=\"String\"></Item>\\n\\t<Item Name=\"Samples\" Type=\"List\"></Item>\\n\\t<Item Name=\"Relations\" Type=\"List\"></Item>\\n\\t<Item Name=\"ExtRelations\" Type=\"List\"></Item>\\n\\t<Item Name=\"n_samples\" Type=\"Integer\">164</Item>\\n\\t<Item Name=\"SeriesTitle\" Type=\"String\"></Item>\\n\\t<Item Name=\"PlatformTitle\" Type=\"String\"></Item>\\n\\t<Item Name=\"PlatformTaxa\" Type=\"String\"></Item>\\n\\t<Item Name=\"SamplesTaxa\" Type=\"String\"></Item>\\n\\t<Item Name=\"PubMedIds\" Type=\"List\"></Item>\\n\\t<Item Name=\"Projects\" Type=\"List\"></Item>\\n\\t<Item Name=\"FTPLink\" Type=\"String\">ftp://ftp.ncbi.nlm.nih.gov/geo/platforms/GPL24nnn/GPL24679/</Item>\\n\\t<Item Name=\"GEO2R\" Type=\"String\"></Item>\\n</DocSum>\\n\\n<DocSum>\\n\\t<Id>303444964</Id>\\n\\t<Item Name=\"Accession\" Type=\"String\">GSM3444964</Item>\\n\\t<Item Name=\"GDS\" Type=\"String\"></Item>\\n\\t<Item Name=\"title\" Type=\"String\">Intact- scRNAseq samples 1 to 2 and Contralateral- scRNAseq samples 1 to 3</Item>\\n\\t<Item Name=\"summary\" Type=\"String\">Homeostatic limb and Intact limb and contralateral to early-bud blastema</Item>\\n\\t<Item Name=\"GPL\" Type=\"String\">24679</Item>\\n\\t<Item Name=\"GSE\" Type=\"String\">121737</Item>\\n\\t<Item Name=\"taxon\" Type=\"String\">Ambystoma mexicanum</Item>\\n\\t<Item Name=\"entryType\" Type=\"String\">GSM</Item>\\n\\t<Item Name=\"gdsType\" Type=\"String\"></Item>\\n\\t<Item Name=\"ptechType\" Type=\"String\"></Item>\\n\\t<Item Name=\"valType\" Type=\"String\"></Item>\\n\\t<Item Name=\"SSInfo\" Type=\"String\"></Item>\\n\\t<Item Name=\"subsetInfo\" Type=\"String\"></Item>\\n\\t<Item Name=\"PDAT\" Type=\"String\">2018/10/25</Item>\\n\\t<Item Name=\"suppFile\" Type=\"String\"></Item>\\n\\t<Item Name=\"Samples\" Type=\"List\"></Item>\\n\\t<Item Name=\"Relations\" Type=\"List\"></Item>\\n\\t<Item Name=\"ExtRelations\" Type=\"List\">\\n\\t\\t<Item Name=\"ExtRelation\" Type=\"Structure\">\\n\\t\\t\\t<Item Name=\"RelationType\" Type=\"String\">SRA</Item>\\n\\t\\t\\t<Item Name=\"TargetObject\" Type=\"String\">SRX4967529</Item>\\n\\t\\t\\t<Item Name=\"TargetFTPLink\" Type=\"String\">ftp://ftp-trace.ncbi.nlm.nih.gov/sra/sra-instant/reads/ByExp/sra/SRX/SRX496/SRX4967529/</Item>\\n\\t\\t</Item>\\n\\t</Item>\\n\\t<Item Name=\"n_samples\" Type=\"Integer\">0</Item>\\n\\t<Item Name=\"SeriesTitle\" Type=\"String\"></Item>\\n\\t<Item Name=\"PlatformTitle\" Type=\"String\"></Item>\\n\\t<Item Name=\"PlatformTaxa\" Type=\"String\"></Item>\\n\\t<Item Name=\"SamplesTaxa\" Type=\"String\"></Item>\\n\\t<Item Name=\"PubMedIds\" Type=\"List\"></Item>\\n\\t<Item Name=\"Projects\" Type=\"List\"></Item>\\n\\t<Item Name=\"FTPLink\" Type=\"String\"></Item>\\n\\t<Item Name=\"GEO2R\" Type=\"String\"></Item>\\n</DocSum>\\n\\n<DocSum>\\n\\t<Id>303444963</Id>\\n\\t<Item Name=\"Accession\" Type=\"String\">GSM3444963</Item>\\n\\t<Item Name=\"GDS\" Type=\"String\"></Item>\\n\\t<Item Name=\"title\" Type=\"String\">23dpa -scRNAseq samples 4 to 6 and 3dpa -scRNAseq samples 1 to 3</Item>\\n\\t<Item Name=\"summary\" Type=\"String\">Medium-bud limb blastema and Wound healing-stage limb</Item>\\n\\t<Item Name=\"GPL\" Type=\"String\">24679</Item>\\n\\t<Item Name=\"GSE\" Type=\"String\">121737</Item>\\n\\t<Item Name=\"taxon\" Type=\"String\">Ambystoma mexicanum</Item>\\n\\t<Item Name=\"entryType\" Type=\"String\">GSM</Item>\\n\\t<Item Name=\"gdsType\" Type=\"String\"></Item>\\n\\t<Item Name=\"ptechType\" Type=\"String\"></Item>\\n\\t<Item Name=\"valType\" Type=\"String\"></Item>\\n\\t<Item Name=\"SSInfo\" Type=\"String\"></Item>\\n\\t<Item Name=\"subsetInfo\" Type=\"String\"></Item>\\n\\t<Item Name=\"PDAT\" Type=\"String\">2018/10/25</Item>\\n\\t<Item Name=\"suppFile\" Type=\"String\"></Item>\\n\\t<Item Name=\"Samples\" Type=\"List\"></Item>\\n\\t<Item Name=\"Relations\" Type=\"List\"></Item>\\n\\t<Item Name=\"ExtRelations\" Type=\"List\">\\n\\t\\t<Item Name=\"ExtRelation\" Type=\"Structure\">\\n\\t\\t\\t<Item Name=\"RelationType\" Type=\"String\">SRA</Item>\\n\\t\\t\\t<Item Name=\"TargetObject\" Type=\"String\">SRX4967528</Item>\\n\\t\\t\\t<Item Name=\"TargetFTPLink\" Type=\"String\">ftp://ftp-trace.ncbi.nlm.nih.gov/sra/sra-instant/reads/ByExp/sra/SRX/SRX496/SRX4967528/</Item>\\n\\t\\t</Item>\\n\\t</Item>\\n\\t<Item Name=\"n_samples\" Type=\"Integer\">0</Item>\\n\\t<Item Name=\"SeriesTitle\" Type=\"String\"></Item>\\n\\t<Item Name=\"PlatformTitle\" Type=\"String\"></Item>\\n\\t<Item Name=\"PlatformTaxa\" Type=\"String\"></Item>\\n\\t<Item Name=\"SamplesTaxa\" Type=\"String\"></Item>\\n\\t<Item Name=\"PubMedIds\" Type=\"List\"></Item>\\n\\t<Item Name=\"Projects\" Type=\"List\"></Item>\\n\\t<Item Name=\"FTPLink\" Type=\"String\"></Item>\\n\\t<Item Name=\"GEO2R\" Type=\"String\"></Item>\\n</DocSum>\\n\\n<DocSum>\\n\\t<Id>303444962</Id>\\n\\t<Item Name=\"Accession\" Type=\"String\">GSM3444962</Item>\\n\\t<Item Name=\"GDS\" Type=\"String\"></Item>\\n\\t<Item Name=\"title\" Type=\"String\">23dpa -scRNAseq samples 1 to 3 and 14dpa -scRNAseq samples to 14dpa -scRNAseq samples1 to 2</Item>\\n\\t<Item Name=\"summary\" Type=\"String\">Early and Medium-bud limb blastema</Item>\\n\\t<Item Name=\"GPL\" Type=\"String\">24679</Item>\\n\\t<Item Name=\"GSE\" Type=\"String\">121737</Item>\\n\\t<Item Name=\"taxon\" Type=\"String\">Ambystoma mexicanum</Item>\\n\\t<Item Name=\"entryType\" Type=\"String\">GSM</Item>\\n\\t<Item Name=\"gdsType\" Type=\"String\"></Item>\\n\\t<Item Name=\"ptechType\" Type=\"String\"></Item>\\n\\t<Item Name=\"valType\" Type=\"String\"></Item>\\n\\t<Item Name=\"SSInfo\" Type=\"String\"></Item>\\n\\t<Item Name=\"subsetInfo\" Type=\"String\"></Item>\\n\\t<Item Name=\"PDAT\" Type=\"String\">2018/10/25</Item>\\n\\t<Item Name=\"suppFile\" Type=\"String\"></Item>\\n\\t<Item Name=\"Samples\" Type=\"List\"></Item>\\n\\t<Item Name=\"Relations\" Type=\"List\"></Item>\\n\\t<Item Name=\"ExtRelations\" Type=\"List\">\\n\\t\\t<Item Name=\"ExtRelation\" Type=\"Structure\">\\n\\t\\t\\t<Item Name=\"RelationType\" Type=\"String\">SRA</Item>\\n\\t\\t\\t<Item Name=\"TargetObject\" Type=\"String\">SRX4967527</Item>\\n\\t\\t\\t<Item Name=\"TargetFTPLink\" Type=\"String\">ftp://ftp-trace.ncbi.nlm.nih.gov/sra/sra-instant/reads/ByExp/sra/SRX/SRX496/SRX4967527/</Item>\\n\\t\\t</Item>\\n\\t</Item>\\n\\t<Item Name=\"n_samples\" Type=\"Integer\">0</Item>\\n\\t<Item Name=\"SeriesTitle\" Type=\"String\"></Item>\\n\\t<Item Name=\"PlatformTitle\" Type=\"String\"></Item>\\n\\t<Item Name=\"PlatformTaxa\" Type=\"String\"></Item>\\n\\t<Item Name=\"SamplesTaxa\" Type=\"String\"></Item>\\n\\t<Item Name=\"PubMedIds\" Type=\"List\"></Item>\\n\\t<Item Name=\"Projects\" Type=\"List\"></Item>\\n\\t<Item Name=\"FTPLink\" Type=\"String\"></Item>\\n\\t<Item Name=\"GEO2R\" Type=\"String\"></Item>\\n</DocSum>\\n\\n</eSummaryResult>\\n', name='esummary', id='5174d997-8795-416c-ae51-7e8c8484309b', tool_call_id='call_fbtARidTgZ34KMQzywvXJW8L'), AIMessage(content='The SRX accessions corresponding to GSE121737 are:\\n\\n- **GSM3444964**: SRX4967529\\n- **GSM3444963**: SRX4967528\\n- **GSM3444962**: SRX4967527\\n\\nYou can access the data via the following links:\\n- SRX4967529: [Link](ftp://ftp-trace.ncbi.nlm.nih.gov/sra/sra-instant/reads/ByExp/sra/SRX/SRX496/SRX4967529/)\\n- SRX4967528: [Link](ftp://ftp-trace.ncbi.nlm.nih.gov/sra/sra-instant/reads/ByExp/sra/SRX/SRX496/SRX4967528/)\\n- SRX4967527: [Link](ftp://ftp-trace.ncbi.nlm.nih.gov/sra/sra-instant/reads/ByExp/sra/SRX/SRX496/SRX4967527/)', additional_kwargs={'refusal': None}, response_metadata={'token_usage': {'completion_tokens': 204, 'prompt_tokens': 4123, 'total_tokens': 4327, 'completion_tokens_details': {'accepted_prediction_tokens': 0, 'audio_tokens': 0, 'reasoning_tokens': 0, 'rejected_prediction_tokens': 0}, 'prompt_tokens_details': {'audio_tokens': 0, 'cached_tokens': 0}}, 'model_name': 'gpt-4o-mini-2024-07-18', 'system_fingerprint': 'fp_0ba0d124f1', 'finish_reason': 'stop', 'logprobs': None}, id='run-7e22fa7a-6ad0-4b5b-8abd-f428fc2bd63b-0', usage_metadata={'input_tokens': 4123, 'output_tokens': 204, 'total_tokens': 4327, 'input_token_details': {'audio': 0, 'cache_read': 0}, 'output_token_details': {'audio': 0, 'reasoning': 0}})]}}\n",
      "{'get_accessions_node': {'SRX': ['SRX4967529', 'SRX4967528', 'SRX4967527'], 'SRP': ['SRP167700'], 'SRR': []}}\n"
     ]
    }
   ],
   "source": [
    "# Call the graph and stream\n",
    "#input = {\"entrez_id\" : \"35966237\", \"database\" : \"sra\"}\n",
    "#input = {\"messages\" : [HumanMessage(content=\"Entrez ID: 35966237\")]}\n",
    "input = {\"messages\" : [HumanMessage(content=\"Convert GSE121737 to SRX accessions\")]}\n",
    "for step in graph.stream(input, config={\"max_concurrency\" : 3, \"recursion_limit\": 30}):\n",
    "    print(step)\n",
    "    final_step = step"
   ]
  },
  {
   "cell_type": "code",
   "execution_count": 51,
   "metadata": {},
   "outputs": [
    {
     "data": {
      "text/plain": [
       "{'get_accessions_node': {'SRX': ['SRX4967529', 'SRX4967528', 'SRX4967527'],\n",
       "  'SRP': ['SRP167700'],\n",
       "  'SRR': []}}"
      ]
     },
     "execution_count": 51,
     "metadata": {},
     "output_type": "execute_result"
    }
   ],
   "source": [
    "final_step"
   ]
  },
  {
   "cell_type": "code",
   "execution_count": null,
   "metadata": {},
   "outputs": [],
   "source": []
  },
  {
   "cell_type": "code",
   "execution_count": null,
   "metadata": {},
   "outputs": [],
   "source": []
  }
 ],
 "metadata": {
  "kernelspec": {
   "display_name": "SRAgent",
   "language": "python",
   "name": "python3"
  },
  "language_info": {
   "codemirror_mode": {
    "name": "ipython",
    "version": 3
   },
   "file_extension": ".py",
   "mimetype": "text/x-python",
   "name": "python",
   "nbconvert_exporter": "python",
   "pygments_lexer": "ipython3",
   "version": "3.12.7"
  }
 },
 "nbformat": 4,
 "nbformat_minor": 2
}
