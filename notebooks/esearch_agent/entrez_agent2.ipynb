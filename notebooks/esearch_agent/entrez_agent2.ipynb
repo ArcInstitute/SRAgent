{
 "cells": [
  {
   "cell_type": "markdown",
   "metadata": {},
   "source": [
    "# Goal\n",
    "\n",
    "* Create a general supervisor-working agent that can use entrez tools to explore an Entrez record"
   ]
  },
  {
   "cell_type": "markdown",
   "metadata": {},
   "source": [
    "# Init"
   ]
  },
  {
   "cell_type": "code",
   "execution_count": 1,
   "metadata": {},
   "outputs": [],
   "source": [
    "# import \n",
    "import os\n",
    "import time\n",
    "from enum import Enum\n",
    "from pprint import pprint\n",
    "from collections import defaultdict\n",
    "from typing import Annotated, List, Dict, Tuple, Optional, Union, Any\n",
    "import xml.etree.ElementTree as ET\n",
    "from pydantic import BaseModel, Field\n",
    "from langchain_core.tools import tool\n",
    "from Bio import Entrez\n",
    "import pandas as pd\n",
    "from dotenv import load_dotenv"
   ]
  },
  {
   "cell_type": "code",
   "execution_count": 2,
   "metadata": {},
   "outputs": [],
   "source": [
    "# setup\n",
    "load_dotenv()\n",
    "pd.set_option('display.max_colwidth', 1000)\n",
    "os.environ[\"DEBUG_MODE\"] = \"TRUE\""
   ]
  },
  {
   "cell_type": "code",
   "execution_count": 3,
   "metadata": {},
   "outputs": [
    {
     "name": "stdout",
     "output_type": "stream",
     "text": [
      "DEBUG_MODE is enabled.\n"
     ]
    }
   ],
   "source": [
    "# checks\n",
    "if os.getenv(\"DEBUG_MODE\") == \"TRUE\":\n",
    "    print(\"DEBUG_MODE is enabled.\")"
   ]
  },
  {
   "cell_type": "code",
   "execution_count": 4,
   "metadata": {},
   "outputs": [],
   "source": [
    "# set up Entrez\n",
    "Entrez.email = \"nick.youngblut@arcinstitute.org\""
   ]
  },
  {
   "cell_type": "markdown",
   "metadata": {},
   "source": [
    "# Tools"
   ]
  },
  {
   "cell_type": "code",
   "execution_count": 21,
   "metadata": {},
   "outputs": [],
   "source": [
    "def batch_ids(ids, batch_size):\n",
    "    \"\"\"\n",
    "    Batch a list of IDs into smaller lists of a given size.\n",
    "    \"\"\"\n",
    "    for i in range(0, len(ids), batch_size):\n",
    "        yield ids[i:i + batch_size]"
   ]
  },
  {
   "cell_type": "code",
   "execution_count": 22,
   "metadata": {},
   "outputs": [],
   "source": [
    "@tool \n",
    "def esearch(\n",
    "    esearch_query: Annotated[str, \"Entrez query string.\"],\n",
    "    database: Annotated[str, \"Database name (e.g., sra, gds, or pubmed)\"],\n",
    "    )-> Annotated[List[str], \"Entrez IDs of database records\"]:\n",
    "    \"\"\"\n",
    "    Run an Entrez search query and return the Entrez IDs of the results.\n",
    "    Example query for single cell RNA-seq:\n",
    "        `(\"single cell\"[Title] OR \"single-cell\"[Title] OR \"scRNA-seq\"[Title])`\n",
    "    Example query for an ENA accession number (database = sra):\n",
    "        `ERX13336121`\n",
    "    Example query for a GEO accession number (database = gds):\n",
    "        `GSE51372`\n",
    "    \"\"\"\n",
    "    # debug model\n",
    "    if os.getenv(\"DEBUG_MODE\") == \"TRUE\":\n",
    "        max_records = 2 \n",
    "\n",
    "    # query\n",
    "    records = []\n",
    "    retstart = 0\n",
    "    retmax = 50\n",
    "    while True:\n",
    "        try:\n",
    "            search_handle = Entrez.esearch(\n",
    "                db=database, \n",
    "                term=esearch_query, \n",
    "                retstart=retstart, \n",
    "                retmax=retmax\n",
    "            )\n",
    "            search_results = Entrez.read(search_handle)\n",
    "            search_handle.close()\n",
    "            # delete unneeded keys\n",
    "            to_rm = [\"RetMax\", \"RetStart\"]\n",
    "            for key in to_rm:\n",
    "                if key in search_results.keys():\n",
    "                    del search_results[key]\n",
    "            # add to records\n",
    "            records.append(str(search_results))\n",
    "            # update retstart\n",
    "            retstart += retmax\n",
    "            time.sleep(0.33)\n",
    "            if max_records and len(records) >= max_records:\n",
    "                break\n",
    "            if retstart >= int(search_results['Count']):\n",
    "                break\n",
    "        except Exception as e:\n",
    "            print(f\"Error searching {database} with query: {esearch_query}: {str(e)}\")\n",
    "            break \n",
    "        \n",
    "    # return records\n",
    "    if len(records) == 0:\n",
    "        return(f\"No records found for query: {esearch_query}\")\n",
    "    if os.getenv(\"DEBUG_MODE\") == \"TRUE\":\n",
    "        records = records[:max_records]  # debug\n",
    "    return records\n",
    "\n",
    "# esearch.invoke({\"esearch_query\" : \"GSE51372\", \"database\" : \"sra\"})\n",
    "# esearch.invoke({\"esearch_query\" : \"GSE121737\", \"database\" : \"gds\"})"
   ]
  },
  {
   "cell_type": "code",
   "execution_count": 23,
   "metadata": {},
   "outputs": [],
   "source": [
    "@tool \n",
    "def efetch(\n",
    "    entrez_ids: Annotated[List[str], \"List of Entrez IDs\"],\n",
    "    database: Annotated[str, \"Database name (e.g., sra, gds, or pubmed)\"],\n",
    ") -> Annotated[str, \"eFetch results in XML format\"]:\n",
    "    \"\"\"\n",
    "    Run an Entrez efetch query on Entrez IDs to obtain metadata for the records.\n",
    "    Useful for obtaining metadata for specific records.\n",
    "    \"\"\"\n",
    "    batch_size = 200  # Maximum number of IDs per request as per NCBI guidelines\n",
    "    records = []\n",
    "\n",
    "    for id_batch in batch_ids(entrez_ids, batch_size):\n",
    "        time.sleep(0.34)  # Respect the rate limit of 3 requests per second\n",
    "        id_str = \",\".join(id_batch)\n",
    "        try:\n",
    "            # Fetch the records for the current batch of IDs\n",
    "            handle = Entrez.efetch(db=database, id=id_str, retmode=\"xml\")\n",
    "            batch_record = handle.read()\n",
    "            handle.close()\n",
    "        except Entrez.Parser.ValidationError:\n",
    "            print(f\"Failed to fetch record for IDs: {id_str}\")\n",
    "            continue  # Skip this batch and proceed to the next\n",
    "        except Exception as e:\n",
    "            print(f\"An error occurred: {e}\")\n",
    "            continue\n",
    "        finally:\n",
    "            try:\n",
    "                handle.close()\n",
    "            except:\n",
    "                pass  # Handle cases where handle might not be open\n",
    "\n",
    "        # Decode the record if necessary\n",
    "        if isinstance(batch_record, bytes):\n",
    "            try:\n",
    "                batch_record = batch_record.decode(\"utf-8\")\n",
    "            except Exception as e:\n",
    "                print(f\"Decoding error: {e}\")\n",
    "                continue\n",
    "\n",
    "        # Check for errors in the response\n",
    "        if \"Error occurred: cannot get document summary\" in batch_record:\n",
    "            print(f\"Failed to fetch record for IDs: {id_str}. Try a different database.\")\n",
    "            continue\n",
    "\n",
    "        records.append(batch_record)\n",
    "\n",
    "    # Combine all records into a single string\n",
    "    combined_records = \"\\n\".join(records)\n",
    "\n",
    "    return combined_records\n",
    "\n",
    "#records = efetch.invoke({ \"entrez_ids\" : [\"35966237\"], \"database\" : \"sra\"})\n",
    "#pprint(records)\n",
    "#records = efetch.invoke({\"entrez_ids\" : [\"200254051\"], \"database\" : \"gds\"})\n",
    "#pprint(records)"
   ]
  },
  {
   "cell_type": "code",
   "execution_count": 24,
   "metadata": {},
   "outputs": [],
   "source": [
    "@tool\n",
    "def esummary(\n",
    "    entrez_ids: Annotated[List[str], \"List of Entrez IDs\"],\n",
    "    database: Annotated[str, \"Database name (e.g., sra, gds, or pubmed)\"],\n",
    ") -> Annotated[str, \"eSummary results in XML format\"]:\n",
    "    \"\"\"\n",
    "    Run an Entrez esummary query on Entrez IDs to obtain summary information for the records.\n",
    "    Useful for obtaining summary information for specific records.\n",
    "    \"\"\"\n",
    "    batch_size = 200  # Maximum number of IDs per request as per NCBI guidelines\n",
    "    records = []\n",
    "    \n",
    "    for id_batch in batch_ids(entrez_ids, batch_size):\n",
    "        time.sleep(0.34)  # Respect NCBI's rate limits (no more than 3 requests per second)\n",
    "        id_str = \",\".join(id_batch)\n",
    "        \n",
    "        try:\n",
    "            # Fetch summary record for the current batch\n",
    "            handle = Entrez.esummary(db=database, id=id_str, retmode=\"xml\")\n",
    "            batch_record = handle.read()\n",
    "            handle.close()\n",
    "        except Entrez.Parser.ValidationError:\n",
    "            print(f\"Failed to fetch summary for IDs: {id_str}. Check if the IDs exist.\")\n",
    "            continue  # Skip this batch and proceed to the next\n",
    "        except Exception as e:\n",
    "            print(f\"An error occurred: {e}\")\n",
    "            continue\n",
    "        finally:\n",
    "            try:\n",
    "                handle.close()\n",
    "            except:\n",
    "                pass  # Handle cases where the handle might not be open\n",
    "        \n",
    "        # Decode the record if necessary\n",
    "        if isinstance(batch_record, bytes):\n",
    "            try:\n",
    "                batch_record = batch_record.decode(\"utf-8\")\n",
    "            except Exception as e:\n",
    "                print(f\"Decoding error: {e}\")\n",
    "                continue\n",
    "            \n",
    "        # Check for errors in the response\n",
    "        if \"ERROR\" in batch_record.upper() or \"INVALID_ID\" in batch_record.upper():\n",
    "            print(f\"Failed to fetch summary for IDs: {id_str}. Try a different database or verify the IDs.\")\n",
    "            continue\n",
    "\n",
    "        # Append the batch record to the list of records\n",
    "        records.append(batch_record)\n",
    "    \n",
    "    # Combine all batch records into a single string\n",
    "    combined_records = \"\\n\".join(records)\n",
    "    return combined_records\n",
    "\n",
    "# esummary.invoke({\"entrez_ids\" : [\"35966237\"], \"database\" : \"sra\"})\n",
    "# esummary.invoke({\"entrez_ids\" : [\"200121737\"], \"database\" : \"sra\"})\n",
    "# esummary.invoke({\"entrez_ids\" : [\"6697288\"], \"database\" : \"sra\"})"
   ]
  },
  {
   "cell_type": "code",
   "execution_count": 25,
   "metadata": {},
   "outputs": [],
   "source": [
    "@tool\n",
    "def elink(\n",
    "    entrez_ids: Annotated[List[str], \"List of Entrez IDs\"],\n",
    "    source_db: Annotated[str, \"Source database (e.g., 'sra')\"],\n",
    "    target_db: Annotated[str, \"Target database (e.g., 'bioproject', 'biosample', 'pubmed')\"],\n",
    ") -> Annotated[str, \"eLink results in XML format\"]:\n",
    "    \"\"\"\n",
    "    Find related entries between Entrez databases, particularly useful for finding\n",
    "    BioProject, BioSample, or publication records related to SRA entries.\n",
    "    \"\"\"\n",
    "    batch_size = 200  # Maximum number of IDs per request as per NCBI guidelines\n",
    "    records = []\n",
    "\n",
    "    for id_batch in batch_ids(entrez_ids, batch_size):\n",
    "        time.sleep(0.34)  # Respect NCBI's rate limits (no more than 3 requests per second)\n",
    "        id_str = \",\".join(id_batch)\n",
    "        \n",
    "        try:\n",
    "            handle = Entrez.elink(\n",
    "                id=id_str,\n",
    "                dbfrom=source_db,\n",
    "                db=target_db,\n",
    "                retmode=\"xml\"\n",
    "            )\n",
    "            batch_record = handle.read()\n",
    "            handle.close()\n",
    "        except Entrez.Parser.ValidationError:\n",
    "            print(f\"Failed to find links for IDs: {id_str}\")\n",
    "            continue  # Skip this batch and proceed to the next\n",
    "        except Exception as e:\n",
    "            print(f\"An error occurred: {e}\")\n",
    "            continue\n",
    "        finally:\n",
    "            try:\n",
    "                handle.close()\n",
    "            except:\n",
    "                pass  # Handle cases where the handle might not be open\n",
    "        \n",
    "        # Decode the record if necessary\n",
    "        if isinstance(batch_record, bytes):\n",
    "            try:\n",
    "                batch_record = batch_record.decode(\"utf-8\")\n",
    "            except Exception as e:\n",
    "                print(f\"Decoding error: {e}\")\n",
    "                continue\n",
    "\n",
    "        # Check for errors in the response\n",
    "        if \"ERROR\" in batch_record.upper():\n",
    "            print(f\"Failed to find links for IDs: {id_str}. Verify database names ({source_db}, {target_db}) and Entrez IDs.\")\n",
    "            continue\n",
    "\n",
    "        # Append the batch record to the list of records\n",
    "        records.append(batch_record)\n",
    "    \n",
    "    # Combine all batch records into a single string\n",
    "    combined_records = \"\\n\".join(records)\n",
    "    \n",
    "    return combined_records\n",
    "\n",
    "# elink.invoke({\"entrez_ids\" : [\"35966237\", \"200254051\"], \"source_db\" : \"gds\", \"target_db\" : \"pubmed\"})\n",
    "# elink.invoke({\"entrez_ids\" : ['200121737', '100024679', '303444964', '303444963', '303444962'], \"source_db\" : \"gds\", \"target_db\" : \"sra\"})"
   ]
  },
  {
   "cell_type": "code",
   "execution_count": 26,
   "metadata": {},
   "outputs": [
    {
     "data": {
      "text/plain": [
       "'Entrez ID 200121737 found in: gds.\\nEntrez ID 100024679 found in: gds.\\nEntrez ID 303444964 found in: gds.'"
      ]
     },
     "execution_count": 26,
     "metadata": {},
     "output_type": "execute_result"
    }
   ],
   "source": [
    "@tool\n",
    "def which_entrez_databases(\n",
    "    entrez_ids: Annotated[List[str], \"List of Entrez IDs\"],\n",
    ") -> Annotated[str, \"List of databases where each Entrez ID is found.\"]:\n",
    "    \"\"\"\n",
    "    Check which databases an Entrez ID is found in.\n",
    "    \"\"\"\n",
    "    databases = [\"sra\", \"gds\", \"pubmed\", \"biosample\", \"bioproject\"]\n",
    "    found_in = {entrez_id: [] for entrez_id in entrez_ids}\n",
    "\n",
    "    for db in databases:\n",
    "        for id_batch in batch_ids(entrez_ids, 200):\n",
    "            time.sleep(0.34)  # Respect the rate limit\n",
    "            try:\n",
    "                handle = Entrez.esummary(db=db, id=\",\".join(id_batch))\n",
    "                records = Entrez.read(handle)\n",
    "                handle.close()\n",
    "                # Extract the IDs that were successfully retrieved\n",
    "                if isinstance(records, list):\n",
    "                    found_ids = {record['Id'] for record in records}\n",
    "                else:\n",
    "                    # In case only one record is returned\n",
    "                    found_ids = {records['Id']}\n",
    "                for entrez_id in found_ids:\n",
    "                    found_in[entrez_id].append(db)\n",
    "            except Exception as e:\n",
    "                continue\n",
    "\n",
    "    # Prepare the output\n",
    "    output_lines = []\n",
    "    for entrez_id in entrez_ids:\n",
    "        if not found_in[entrez_id]:\n",
    "            output_lines.append(f\"Entrez ID {entrez_id} not found in any databases.\")\n",
    "        else:\n",
    "            output_lines.append(f\"Entrez ID {entrez_id} found in: {', '.join(found_in[entrez_id])}.\")\n",
    "\n",
    "    return \"\\n\".join(output_lines)\n",
    "\n",
    "# Example usage\n",
    "# which_entrez_databases.invoke({\"entrez_ids\" : ['200121737', '100024679', '303444964']})"
   ]
  },
  {
   "cell_type": "markdown",
   "metadata": {},
   "source": [
    "# Models"
   ]
  },
  {
   "cell_type": "code",
   "execution_count": 27,
   "metadata": {},
   "outputs": [],
   "source": [
    "from langchain_openai import ChatOpenAI"
   ]
  },
  {
   "cell_type": "code",
   "execution_count": 28,
   "metadata": {},
   "outputs": [],
   "source": [
    "# set model\n",
    "model_supervisor = ChatOpenAI(model=\"gpt-4o\", temperature=0.1)\n",
    "model_worker = ChatOpenAI(model=\"gpt-4o-mini\", temperature=0)\n",
    "model_planner = ChatOpenAI(model=\"gpt-4o\", temperature=0.15)"
   ]
  },
  {
   "cell_type": "markdown",
   "metadata": {},
   "source": [
    "# Agents"
   ]
  },
  {
   "cell_type": "code",
   "execution_count": 29,
   "metadata": {},
   "outputs": [],
   "source": [
    "from langgraph.prebuilt import create_react_agent\n",
    "from langchain_core.messages import BaseMessage, HumanMessage, AIMessage"
   ]
  },
  {
   "cell_type": "markdown",
   "metadata": {},
   "source": [
    "## esearch"
   ]
  },
  {
   "cell_type": "code",
   "execution_count": 30,
   "metadata": {},
   "outputs": [],
   "source": [
    "esearch_agent = create_react_agent(\n",
    "    model=model_worker,\n",
    "    tools=[esearch],\n",
    "    state_modifier=\"\\n\".join([\n",
    "        \"You are an expert in bioinformatics and you are working on a project to find information about a specific dataset.\",\n",
    "        \"Based on the task provided by your supervisor, use Entrez esearch to help complete the task.\",\n",
    "        \"Provide a concise summary of your findings; use lists when possible; do not include helpful wording.\",\n",
    "    ])\n",
    ")\n",
    "\n",
    "# inputs = {\"messages\": [(\"user\", \"Investigate GSE121737\")]}\n",
    "# esearch_agent.invoke(inputs)"
   ]
  },
  {
   "cell_type": "code",
   "execution_count": 31,
   "metadata": {},
   "outputs": [],
   "source": [
    "@tool\n",
    "def invoke_esearch_worker(\n",
    "    message: Annotated[str, \"Message to the worker\"],\n",
    ") -> Annotated[str, \"Response from the worker\"]:\n",
    "    \"\"\"\n",
    "    Invoke the esearch worker to perform a task.\n",
    "    \"\"\"\n",
    "    result = esearch_agent.invoke({\"messages\": [(\"user\", message)]})\n",
    "    # just return the response\n",
    "    return {\n",
    "        \"messages\": [HumanMessage(content=result[\"messages\"][-1].content, name=\"esearch worker\")]\n",
    "    }\n",
    "\n",
    "#invoke_esearch_worker.invoke({\"message\" : \"Investigate GSE121737\"})"
   ]
  },
  {
   "cell_type": "markdown",
   "metadata": {},
   "source": [
    "## esummary"
   ]
  },
  {
   "cell_type": "code",
   "execution_count": 32,
   "metadata": {},
   "outputs": [],
   "source": [
    "esummary_agent = create_react_agent(\n",
    "    model=model_worker,\n",
    "    tools=[esummary, which_entrez_databases],\n",
    "    state_modifier=\"\\n\".join([\n",
    "        \"You are an expert in bioinformatics and you are working on a project to find information about a specific dataset.\",\n",
    "        \"Based on the task provided by your supervisor, use Entrez esummary to help complete the task.\",\n",
    "        \"You can use which_entrez_databases to determine which databases to use for esummary queries.\",\n",
    "        \"Provide a concise summary of your findings; use lists when possible; do not include helpful wording.\",\n",
    "    ])\n",
    ")"
   ]
  },
  {
   "cell_type": "code",
   "execution_count": 33,
   "metadata": {},
   "outputs": [],
   "source": [
    "@tool\n",
    "def invoke_esummary_worker(\n",
    "    message: Annotated[str, \"Message to the worker. Be sure to provide Entrez IDs.\"],\n",
    ") -> Annotated[str, \"Response from the worker\"]:\n",
    "    \"\"\"\n",
    "    Invoke the esummary worker to perform a task.\n",
    "    \"\"\"\n",
    "    result = esummary_agent.invoke({\"messages\": [(\"user\", message)]})\n",
    "    # just return the final response\n",
    "    return {\n",
    "        \"messages\": [HumanMessage(content=result[\"messages\"][-1].content, name=\"esummary worker\")]\n",
    "    }\n",
    "\n",
    "# invoke_esummary_worker.invoke({\"message\" : \"Investigate Entrez ID 35966237\"})"
   ]
  },
  {
   "cell_type": "markdown",
   "metadata": {},
   "source": [
    "## efetch"
   ]
  },
  {
   "cell_type": "code",
   "execution_count": 34,
   "metadata": {},
   "outputs": [],
   "source": [
    "efetch_agent = create_react_agent(\n",
    "    model=model_worker,\n",
    "    tools=[efetch, which_entrez_databases],\n",
    "    state_modifier=\"\\n\".join([\n",
    "        \"You are an expert in bioinformatics and you are working on a project to find information about a specific dataset.\",\n",
    "        \"Based on the task provided by your supervisor, use Entrez efetch to help complete the task.\",\n",
    "        \"You can use which_entrez_databases to determine which databases to use for efetch queries.\",\n",
    "        \"Provide a concise summary of your findings; use lists when possible; do not include helpful wording.\",\n",
    "    ])\n",
    ")"
   ]
  },
  {
   "cell_type": "code",
   "execution_count": 35,
   "metadata": {},
   "outputs": [],
   "source": [
    "@tool\n",
    "def invoke_efetch_worker(\n",
    "    message: Annotated[str, \"Message to the worker. Be sure to provide Entrez IDs.\"],\n",
    ") -> Annotated[str, \"Response from the worker\"]:\n",
    "    \"\"\"\n",
    "    Invoke the efetch worker to perform a task.\n",
    "    \"\"\"\n",
    "    result = efetch_agent.invoke({\"messages\": [(\"user\", message)]})\n",
    "    # just return the final response\n",
    "    return {\n",
    "        \"messages\": [HumanMessage(content=result[\"messages\"][-1].content, name=\"efetch worker\")]\n",
    "    }"
   ]
  },
  {
   "cell_type": "markdown",
   "metadata": {},
   "source": [
    "## elink"
   ]
  },
  {
   "cell_type": "code",
   "execution_count": 36,
   "metadata": {},
   "outputs": [],
   "source": [
    "elink_agent = create_react_agent(\n",
    "    model=model_worker,\n",
    "    tools=[elink, which_entrez_databases],\n",
    "    state_modifier=\"\\n\".join([\n",
    "        \"You are an expert in bioinformatics and you are working on a project to find information about a specific dataset.\",\n",
    "        \"Based on the task provided by your supervisor, use Entrez elink to help complete the task.\",\n",
    "        \"elink is useful for finding related entries between Entrez databases.\",\n",
    "        \"Generally, you will want to use the which_entrez_databases tool to determine which databases to use for elink queries.\",\n",
    "        \"Provide a concise summary of your findings; use lists when possible; do not include helpful wording.\",\n",
    "    ])\n",
    ")"
   ]
  },
  {
   "cell_type": "code",
   "execution_count": 37,
   "metadata": {},
   "outputs": [],
   "source": [
    "@tool\n",
    "def invoke_elink_worker(\n",
    "    message: Annotated[str, \"Message to the worker. Be sure to provide Entrez IDs.\"],\n",
    ") -> Annotated[str, \"Response from the worker\"]:\n",
    "    \"\"\"\n",
    "    Invoke the efetch worker to perform a task.\n",
    "    \"\"\"\n",
    "    result = elink_agent.invoke({\"messages\": [(\"user\", message)]})\n",
    "    # just return the final response\n",
    "    return {\n",
    "        \"messages\": [HumanMessage(content=result[\"messages\"][-1].content, name=\"elink worker\")]\n",
    "    }"
   ]
  },
  {
   "cell_type": "markdown",
   "metadata": {},
   "source": [
    "## Planner"
   ]
  },
  {
   "cell_type": "code",
   "execution_count": 38,
   "metadata": {},
   "outputs": [],
   "source": [
    "class Step(BaseModel):\n",
    "    explanation: str\n",
    "    output: str\n",
    "\n",
    "class Planning(BaseModel):\n",
    "    steps: list[Step]\n",
    "\n",
    "@tool\n",
    "def invoke_planner(\n",
    "    message: Annotated[str, \"Message to the planner\"],\n",
    ") -> Annotated[str, \"Response from the planner\"]:\n",
    "    \"\"\"\n",
    "    The planner will help you plan how to accomplish a task.\n",
    "    Be specific about the task you need help with.\n",
    "    \"\"\"\n",
    "    prompt = \"\\n\".join([\n",
    "        \"You are an expert bioinformatician.\",\n",
    "        \"Help your supervisor plan how to accomplish the following task using the following Entrez tools:\"\n",
    "        \" - esearch\",\n",
    "        \" - esummary\",\n",
    "        \" - efetch\",\n",
    "        \" - elink\",\n",
    "        \"\\n\",\n",
    "        \"Generally, start with eSearch to find Entrez records, then use eFetch to get detailed information.\",\n",
    "        \"Use eSummary to obtain summary information on an Entrez record.\",\n",
    "        \"Use eLink to navigate between databases to find related records (e.g., GEO to SRA).\",\n",
    "        \"\\n\",\n",
    "        \"Your specific task:\",\n",
    "        message,\n",
    "        \"\\n\",\n",
    "        \"Provide general guidance about using each Entrez tool, instead of specific code.\",\n",
    "        \"Be very concise.\",\n",
    "        \"Your final  list of steps to accomplish the task.\",\n",
    "    ])\n",
    "    response = model_planner.with_structured_output(Planning, strict=True).invoke(prompt)\n",
    "    steps = \"\\n\".join([f\" - {x.output}\" for x in response.steps])\n",
    "    return {\n",
    "        \"messages\": [HumanMessage(content=steps, name=\"planner\")]\n",
    "    }\n",
    "\n",
    "# invoke_planner.invoke({\"message\" : \"How do I convert GSE121737 to an SRA accession?\"})"
   ]
  },
  {
   "cell_type": "markdown",
   "metadata": {},
   "source": [
    "## Supervisor"
   ]
  },
  {
   "cell_type": "code",
   "execution_count": 40,
   "metadata": {},
   "outputs": [],
   "source": [
    "entrez_agent = create_react_agent(\n",
    "    model=model_supervisor,\n",
    "    tools=[invoke_esearch_worker, invoke_esummary_worker, invoke_efetch_worker, invoke_elink_worker, which_entrez_databases],\n",
    "    state_modifier=\"\\n\".join([\n",
    "        \"You are a helpful senior bioinformatician assisting a researcher with a task involving Entrez databases.\",\n",
    "        \"You have a team of workers who can perform specific tasks using Entrez tools.\",\n",
    "        \"Provide guidance to the workers to help them complete the task successfully.\",\n",
    "        \"Generally, start with eSearch to find Entrez records, then use eFetch to get detailed information.\",\n",
    "        \"Use eSummary to obtain summary information on an Entrez record.\",\n",
    "        \"Use eLink to navigate between databases to find related records (e.g., GEO to SRA).\",\n",
    "        \"Generally, you will want to specify the database(s) to search (e.g., sra, gds, or pubmed).\",\n",
    "        \"Continue sending tasks to your workers until you successfully complete the task.\",\n",
    "        \"Be very concise; provide simple lists when possible; do not include unnecessary wording such as \\\"If you need further assistance\\\".\",\n",
    "        \"\\n#-- Accession notes --#\",\n",
    "        \"SRA accesssion prefixes: SRX, SRP, SRR\",\n",
    "        \"ENA accession prefixes: ERX, PRJNA, DRX, E-MTAB\",\n",
    "        \"GEO accession prefixes: GSE, GSM, GPL\",\n",
    "        \"BioProject accession prefixes: PRJNA, PRJEB, PRJDB\",\n",
    "        \"BioSample accession prefixes: SAMN, SAME\",\n",
    "        \"#-- Database notes --#\",\n",
    "        \"Entrez databases: sra, gds, pubmed, biosample, bioproject\",\n",
    "        \"#-- Example workflows --#\",\n",
    "        \"# Task: Convert GSE123456 to SRX, SRP, or SRR accessions\",\n",
    "        \"  1. esearch of GSE accession to obtain Entrez IDs\",\n",
    "        \"  2. esummary of the Entrez IDs to get the SRX accessions\"\n",
    "    ])\n",
    ")\n",
    "\n",
    "# invoke the agent\n",
    "inputs = {\"messages\": [(\"user\", \"Convert GSE121737 to SRX accessions\")]}\n",
    "config = {\"max_concurrency\" : 3, \"recursion_limit\": 30}\n",
    "#for step in entrez_agent.stream(inputs, config=config):\n",
    "#    print(step)\n"
   ]
  },
  {
   "cell_type": "code",
   "execution_count": 41,
   "metadata": {},
   "outputs": [
    {
     "name": "stdout",
     "output_type": "stream",
     "text": [
      "{'agent': {'messages': [AIMessage(content='', additional_kwargs={'tool_calls': [{'id': 'call_Fv05sY0DjgiCbfoS5sMJrtya', 'function': {'arguments': '{\"message\":\"Search for GSE148729 in the gds database to obtain Entrez IDs.\"}', 'name': 'invoke_esearch_worker'}, 'type': 'function'}], 'refusal': None}, response_metadata={'token_usage': {'completion_tokens': 32, 'prompt_tokens': 560, 'total_tokens': 592, 'completion_tokens_details': {'accepted_prediction_tokens': 0, 'audio_tokens': 0, 'reasoning_tokens': 0, 'rejected_prediction_tokens': 0}, 'prompt_tokens_details': {'audio_tokens': 0, 'cached_tokens': 0}}, 'model_name': 'gpt-4o-2024-08-06', 'system_fingerprint': 'fp_159d8341cc', 'finish_reason': 'tool_calls', 'logprobs': None}, id='run-630e5d98-f1a3-468d-be29-ea52ffc7bc9d-0', tool_calls=[{'name': 'invoke_esearch_worker', 'args': {'message': 'Search for GSE148729 in the gds database to obtain Entrez IDs.'}, 'id': 'call_Fv05sY0DjgiCbfoS5sMJrtya', 'type': 'tool_call'}], usage_metadata={'input_tokens': 560, 'output_tokens': 32, 'total_tokens': 592, 'input_token_details': {'audio': 0, 'cache_read': 0}, 'output_token_details': {'audio': 0, 'reasoning': 0}})]}}\n",
      "{'tools': {'messages': [ToolMessage(content=\"{'messages': [HumanMessage(content='Entrez IDs for GSE148729 in the GDS database:\\\\n\\\\n1. 200148729\\\\n2. 100024676\\\\n3. 100020301\\\\n4. 100018573\\\\n5. 305022831\\\\n6. 305022830\\\\n7. 305022829\\\\n8. 305022828\\\\n9. 305022827\\\\n10. 305022826\\\\n11. 305022825\\\\n12. 305022824\\\\n13. 305022823\\\\n14. 305022822\\\\n15. 305022821\\\\n16. 305022820\\\\n17. 305022819\\\\n18. 305022818\\\\n19. 305022817\\\\n20. 305022816\\\\n21. 305022815\\\\n22. 305022814\\\\n23. 305022813\\\\n24. 305022812\\\\n25. 305022811\\\\n26. 305022810\\\\n27. 305022809\\\\n28. 305022808\\\\n29. 305022807\\\\n30. 305022806\\\\n31. 305022805\\\\n32. 305022804\\\\n33. 305022803\\\\n34. 305022802\\\\n35. 305022801\\\\n36. 305022800\\\\n37. 305022799\\\\n38. 305022798\\\\n39. 305022797\\\\n40. 305022796\\\\n41. 304681414\\\\n42. 304681413\\\\n43. 304681412\\\\n44. 304681411\\\\n45. 304681410\\\\n46. 304681409\\\\n47. 304681408\\\\n48. 304681407\\\\n49. 304681406\\\\n50. 304681405\\\\n51. 304681404\\\\n52. 304681403\\\\n53. 304681402\\\\n54. 304681401\\\\n55. 304681400\\\\n56. 304681399\\\\n57. 304681398\\\\n58. 304681397\\\\n59. 304681396\\\\n60. 304681395\\\\n61. 304681394\\\\n62. 304477967\\\\n63. 304477966\\\\n64. 304477965\\\\n65. 304477964\\\\n66. 304477963\\\\n67. 304477962\\\\n68. 304477961\\\\n69. 304477960\\\\n70. 304477959\\\\n71. 304477958\\\\n72. 304477957\\\\n73. 304477956\\\\n74. 304477955\\\\n75. 304477954\\\\n76. 304477953\\\\n77. 304477952\\\\n78. 304477951\\\\n79. 304477950\\\\n80. 304477949\\\\n81. 304477948\\\\n82. 304477947\\\\n83. 304477946\\\\n84. 304477945\\\\n85. 304477944\\\\n86. 304477943\\\\n87. 304477942\\\\n88. 304477941\\\\n89. 304477940\\\\n90. 304477939\\\\n91. 304477938\\\\n92. 304477937\\\\n93. 304477936\\\\n94. 304477935\\\\n95. 304477934\\\\n96. 304477933\\\\n97. 304477932\\\\n98. 304477931\\\\n99. 304477930\\\\n100. 304477929', additional_kwargs={}, response_metadata={}, name='esearch worker')]}\", name='invoke_esearch_worker', id='a5ce712c-4b31-47ae-8bd7-19be63dafce8', tool_call_id='call_Fv05sY0DjgiCbfoS5sMJrtya')]}}\n",
      "{'agent': {'messages': [AIMessage(content='', additional_kwargs={'tool_calls': [{'id': 'call_rRUOJ9iAed5RQreuc7jDC8ZW', 'function': {'arguments': '{\"message\":\"Retrieve summary information for the following Entrez IDs to find SRP accessions: 200148729, 100024676, 100020301, 100018573, 305022831, 305022830, 305022829, 305022828, 305022827, 305022826, 305022825, 305022824, 305022823, 305022822, 305022821, 305022820, 305022819, 305022818, 305022817, 305022816, 305022815, 305022814, 305022813, 305022812, 305022811, 305022810, 305022809, 305022808, 305022807, 305022806, 305022805, 305022804, 305022803, 305022802, 305022801, 305022800, 305022799, 305022798, 305022797, 305022796, 304681414, 304681413, 304681412, 304681411, 304681410, 304681409, 304681408, 304681407, 304681406, 304681405, 304681404, 304681403, 304681402, 304681401, 304681400, 304681399, 304681398, 304681397, 304681396, 304681395, 304681394, 304477967, 304477966, 304477965, 304477964, 304477963, 304477962, 304477961, 304477960, 304477959, 304477958, 304477957, 304477956, 304477955, 304477954, 304477953, 304477952, 304477951, 304477950, 304477949, 304477948, 304477947, 304477946, 304477945, 304477944, 304477943, 304477942, 304477941, 304477940, 304477939, 304477938, 304477937, 304477936, 304477935, 304477934, 304477933, 304477932, 304477931, 304477930, 304477929\"}', 'name': 'invoke_esummary_worker'}, 'type': 'function'}], 'refusal': None}, response_metadata={'token_usage': {'completion_tokens': 530, 'prompt_tokens': 1339, 'total_tokens': 1869, 'completion_tokens_details': {'accepted_prediction_tokens': 0, 'audio_tokens': 0, 'reasoning_tokens': 0, 'rejected_prediction_tokens': 0}, 'prompt_tokens_details': {'audio_tokens': 0, 'cached_tokens': 0}}, 'model_name': 'gpt-4o-2024-08-06', 'system_fingerprint': 'fp_159d8341cc', 'finish_reason': 'tool_calls', 'logprobs': None}, id='run-3f646c84-a128-4a12-848d-5610bbfa5467-0', tool_calls=[{'name': 'invoke_esummary_worker', 'args': {'message': 'Retrieve summary information for the following Entrez IDs to find SRP accessions: 200148729, 100024676, 100020301, 100018573, 305022831, 305022830, 305022829, 305022828, 305022827, 305022826, 305022825, 305022824, 305022823, 305022822, 305022821, 305022820, 305022819, 305022818, 305022817, 305022816, 305022815, 305022814, 305022813, 305022812, 305022811, 305022810, 305022809, 305022808, 305022807, 305022806, 305022805, 305022804, 305022803, 305022802, 305022801, 305022800, 305022799, 305022798, 305022797, 305022796, 304681414, 304681413, 304681412, 304681411, 304681410, 304681409, 304681408, 304681407, 304681406, 304681405, 304681404, 304681403, 304681402, 304681401, 304681400, 304681399, 304681398, 304681397, 304681396, 304681395, 304681394, 304477967, 304477966, 304477965, 304477964, 304477963, 304477962, 304477961, 304477960, 304477959, 304477958, 304477957, 304477956, 304477955, 304477954, 304477953, 304477952, 304477951, 304477950, 304477949, 304477948, 304477947, 304477946, 304477945, 304477944, 304477943, 304477942, 304477941, 304477940, 304477939, 304477938, 304477937, 304477936, 304477935, 304477934, 304477933, 304477932, 304477931, 304477930, 304477929'}, 'id': 'call_rRUOJ9iAed5RQreuc7jDC8ZW', 'type': 'tool_call'}], usage_metadata={'input_tokens': 1339, 'output_tokens': 530, 'total_tokens': 1869, 'input_token_details': {'audio': 0, 'cache_read': 0}, 'output_token_details': {'audio': 0, 'reasoning': 0}})]}}\n",
      "{'tools': {'messages': [ToolMessage(content='Error: BadRequestError(\\'Error code: 400 - {\\\\\\'error\\\\\\': {\\\\\\'message\\\\\\': \"This model\\\\\\'s maximum context length is 128000 tokens. However, your messages resulted in 181389 tokens (181267 in the messages, 122 in the functions). Please reduce the length of the messages or functions.\", \\\\\\'type\\\\\\': \\\\\\'invalid_request_error\\\\\\', \\\\\\'param\\\\\\': \\\\\\'messages\\\\\\', \\\\\\'code\\\\\\': \\\\\\'context_length_exceeded\\\\\\'}}\\')\\n Please fix your mistakes.', name='invoke_esummary_worker', id='ba60babe-4dfc-4f18-b0d9-34f083e08354', tool_call_id='call_rRUOJ9iAed5RQreuc7jDC8ZW', status='error')]}}\n",
      "{'agent': {'messages': [AIMessage(content='', additional_kwargs={'tool_calls': [{'id': 'call_0MSO3UzfJWXuA9Hzyn0vA9VX', 'function': {'arguments': '{\"message\": \"Retrieve summary information for Entrez IDs: 200148729, 100024676, 100020301, 100018573, 305022831, 305022830, 305022829, 305022828, 305022827, 305022826, 305022825, 305022824, 305022823, 305022822, 305022821, 305022820, 305022819, 305022818, 305022817, 305022816, 305022815, 305022814, 305022813, 305022812, 305022811, 305022810, 305022809, 305022808, 305022807, 305022806, 305022805, 305022804, 305022803, 305022802, 305022801, 305022800, 305022799, 305022798, 305022797, 305022796, 304681414, 304681413, 304681412, 304681411, 304681410, 304681409, 304681408, 304681407, 304681406, 304681405, 304681404, 304681403, 304681402, 304681401, 304681400, 304681399, 304681398, 304681397, 304681396, 304681395, 304681394, 304477967, 304477966, 304477965, 304477964, 304477963, 304477962, 304477961, 304477960, 304477959, 304477958, 304477957, 304477956, 304477955, 304477954, 304477953, 304477952, 304477951, 304477950, 304477949, 304477948, 304477947, 304477946, 304477945, 304477944, 304477943, 304477942, 304477941, 304477940, 304477939, 304477938, 304477937, 304477936, 304477935, 304477934, 304477933, 304477932, 304477931, 304477930, 304477929\"}', 'name': 'invoke_esummary_worker'}, 'type': 'function'}], 'refusal': None}, response_metadata={'token_usage': {'completion_tokens': 538, 'prompt_tokens': 1981, 'total_tokens': 2519, 'completion_tokens_details': {'accepted_prediction_tokens': 0, 'audio_tokens': 0, 'reasoning_tokens': 0, 'rejected_prediction_tokens': 0}, 'prompt_tokens_details': {'audio_tokens': 0, 'cached_tokens': 1792}}, 'model_name': 'gpt-4o-2024-08-06', 'system_fingerprint': 'fp_159d8341cc', 'finish_reason': 'tool_calls', 'logprobs': None}, id='run-b2329b85-904b-4569-b7f4-133d1af9c261-0', tool_calls=[{'name': 'invoke_esummary_worker', 'args': {'message': 'Retrieve summary information for Entrez IDs: 200148729, 100024676, 100020301, 100018573, 305022831, 305022830, 305022829, 305022828, 305022827, 305022826, 305022825, 305022824, 305022823, 305022822, 305022821, 305022820, 305022819, 305022818, 305022817, 305022816, 305022815, 305022814, 305022813, 305022812, 305022811, 305022810, 305022809, 305022808, 305022807, 305022806, 305022805, 305022804, 305022803, 305022802, 305022801, 305022800, 305022799, 305022798, 305022797, 305022796, 304681414, 304681413, 304681412, 304681411, 304681410, 304681409, 304681408, 304681407, 304681406, 304681405, 304681404, 304681403, 304681402, 304681401, 304681400, 304681399, 304681398, 304681397, 304681396, 304681395, 304681394, 304477967, 304477966, 304477965, 304477964, 304477963, 304477962, 304477961, 304477960, 304477959, 304477958, 304477957, 304477956, 304477955, 304477954, 304477953, 304477952, 304477951, 304477950, 304477949, 304477948, 304477947, 304477946, 304477945, 304477944, 304477943, 304477942, 304477941, 304477940, 304477939, 304477938, 304477937, 304477936, 304477935, 304477934, 304477933, 304477932, 304477931, 304477930, 304477929'}, 'id': 'call_0MSO3UzfJWXuA9Hzyn0vA9VX', 'type': 'tool_call'}], usage_metadata={'input_tokens': 1981, 'output_tokens': 538, 'total_tokens': 2519, 'input_token_details': {'audio': 0, 'cache_read': 1792}, 'output_token_details': {'audio': 0, 'reasoning': 0}})]}}\n",
      "{'tools': {'messages': [ToolMessage(content='Error: BadRequestError(\\'Error code: 400 - {\\\\\\'error\\\\\\': {\\\\\\'message\\\\\\': \"This model\\\\\\'s maximum context length is 128000 tokens. However, your messages resulted in 181381 tokens (181259 in the messages, 122 in the functions). Please reduce the length of the messages or functions.\", \\\\\\'type\\\\\\': \\\\\\'invalid_request_error\\\\\\', \\\\\\'param\\\\\\': \\\\\\'messages\\\\\\', \\\\\\'code\\\\\\': \\\\\\'context_length_exceeded\\\\\\'}}\\')\\n Please fix your mistakes.', name='invoke_esummary_worker', id='ed3982df-15c7-4f72-9666-927119be4b55', tool_call_id='call_0MSO3UzfJWXuA9Hzyn0vA9VX', status='error')]}}\n",
      "{'agent': {'messages': [AIMessage(content='', additional_kwargs={'tool_calls': [{'id': 'call_qiePu8ITpDtSODDZtlxT3rio', 'function': {'arguments': '{\"message\": \"Retrieve summary information for Entrez IDs: 200148729, 100024676, 100020301, 100018573, 305022831, 305022830, 305022829, 305022828, 305022827, 305022826, 305022825, 305022824, 305022823, 305022822, 305022821, 305022820, 305022819, 305022818, 305022817, 305022816, 305022815, 305022814, 305022813, 305022812, 305022811, 305022810, 305022809, 305022808, 305022807, 305022806, 305022805, 305022804, 305022803, 305022802, 305022801, 305022800, 305022799, 305022798, 305022797, 305022796, 304681414, 304681413, 304681412, 304681411, 304681410, 304681409, 304681408, 304681407, 304681406, 304681405, 304681404, 304681403, 304681402, 304681401, 304681400, 304681399, 304681398, 304681397, 304681396, 304681395, 304681394\"}', 'name': 'invoke_esummary_worker'}, 'type': 'function'}, {'id': 'call_c0SZzDCVxrRCZLBYBjOmYE1Z', 'function': {'arguments': '{\"message\": \"Retrieve summary information for Entrez IDs: 304477967, 304477966, 304477965, 304477964, 304477963, 304477962, 304477961, 304477960, 304477959, 304477958, 304477957, 304477956, 304477955, 304477954, 304477953, 304477952, 304477951, 304477950, 304477949, 304477948, 304477947, 304477946, 304477945, 304477944, 304477943, 304477942, 304477941, 304477940, 304477939, 304477938, 304477937, 304477936, 304477935, 304477934, 304477933, 304477932, 304477931, 304477930, 304477929\"}', 'name': 'invoke_esummary_worker'}, 'type': 'function'}], 'refusal': None}, response_metadata={'token_usage': {'completion_tokens': 560, 'prompt_tokens': 2615, 'total_tokens': 3175, 'completion_tokens_details': {'accepted_prediction_tokens': 0, 'audio_tokens': 0, 'reasoning_tokens': 0, 'rejected_prediction_tokens': 0}, 'prompt_tokens_details': {'audio_tokens': 0, 'cached_tokens': 1920}}, 'model_name': 'gpt-4o-2024-08-06', 'system_fingerprint': 'fp_159d8341cc', 'finish_reason': 'tool_calls', 'logprobs': None}, id='run-c3938c26-7464-480f-8f5b-818de5b12211-0', tool_calls=[{'name': 'invoke_esummary_worker', 'args': {'message': 'Retrieve summary information for Entrez IDs: 200148729, 100024676, 100020301, 100018573, 305022831, 305022830, 305022829, 305022828, 305022827, 305022826, 305022825, 305022824, 305022823, 305022822, 305022821, 305022820, 305022819, 305022818, 305022817, 305022816, 305022815, 305022814, 305022813, 305022812, 305022811, 305022810, 305022809, 305022808, 305022807, 305022806, 305022805, 305022804, 305022803, 305022802, 305022801, 305022800, 305022799, 305022798, 305022797, 305022796, 304681414, 304681413, 304681412, 304681411, 304681410, 304681409, 304681408, 304681407, 304681406, 304681405, 304681404, 304681403, 304681402, 304681401, 304681400, 304681399, 304681398, 304681397, 304681396, 304681395, 304681394'}, 'id': 'call_qiePu8ITpDtSODDZtlxT3rio', 'type': 'tool_call'}, {'name': 'invoke_esummary_worker', 'args': {'message': 'Retrieve summary information for Entrez IDs: 304477967, 304477966, 304477965, 304477964, 304477963, 304477962, 304477961, 304477960, 304477959, 304477958, 304477957, 304477956, 304477955, 304477954, 304477953, 304477952, 304477951, 304477950, 304477949, 304477948, 304477947, 304477946, 304477945, 304477944, 304477943, 304477942, 304477941, 304477940, 304477939, 304477938, 304477937, 304477936, 304477935, 304477934, 304477933, 304477932, 304477931, 304477930, 304477929'}, 'id': 'call_c0SZzDCVxrRCZLBYBjOmYE1Z', 'type': 'tool_call'}], usage_metadata={'input_tokens': 2615, 'output_tokens': 560, 'total_tokens': 3175, 'input_token_details': {'audio': 0, 'cache_read': 1920}, 'output_token_details': {'audio': 0, 'reasoning': 0}})]}}\n",
      "{'tools': {'messages': [ToolMessage(content='Error: BadRequestError(\\'Error code: 400 - {\\\\\\'error\\\\\\': {\\\\\\'message\\\\\\': \"This model\\\\\\'s maximum context length is 128000 tokens. However, your messages resulted in 159327 tokens (159205 in the messages, 122 in the functions). Please reduce the length of the messages or functions.\", \\\\\\'type\\\\\\': \\\\\\'invalid_request_error\\\\\\', \\\\\\'param\\\\\\': \\\\\\'messages\\\\\\', \\\\\\'code\\\\\\': \\\\\\'context_length_exceeded\\\\\\'}}\\')\\n Please fix your mistakes.', name='invoke_esummary_worker', id='1e24bafb-e24d-496a-9d1d-b4716928123a', tool_call_id='call_qiePu8ITpDtSODDZtlxT3rio', status='error'), ToolMessage(content=\"{'messages': [HumanMessage(content='- **Entrez IDs and Corresponding Information:**\\\\n\\\\n1. **304477967**\\\\n   - Accession: GSM4477967\\\\n   - Title: Calu3_totalRNA-untr-4h-B\\\\n   - Summary: total RNA from Calu3 cells, untr infected 4hpi, replicate B\\\\n   - Taxon: Homo sapiens\\\\n   - GSE: 148729\\\\n   - SRA Link: [SRX8119806](ftp://ftp-trace.ncbi.nlm.nih.gov/sra/sra-instant/reads/ByExp/sra/SRX/SRX811/SRX8119806/)\\\\n\\\\n2. **304477966**\\\\n   - Accession: GSM4477966\\\\n   - Title: Calu3_totalRNA-untr-4h-A\\\\n   - Summary: total RNA from Calu3 cells, untr infected 4hpi, replicate A\\\\n   - Taxon: Homo sapiens\\\\n   - GSE: 148729\\\\n   - SRA Link: [SRX8119805](ftp://ftp-trace.ncbi.nlm.nih.gov/sra/sra-instant/reads/ByExp/sra/SRX/SRX811/SRX8119805/)\\\\n\\\\n3. **304477965**\\\\n   - Accession: GSM4477965\\\\n   - Title: Calu3_totalRNA-S2-4h-B\\\\n   - Summary: total RNA from Calu3 cells, SARS-CoV-2 infected 4hpi, replicate B\\\\n   - Taxon: Homo sapiens\\\\n   - GSE: 148729\\\\n   - SRA Link: [SRX8119804](ftp://ftp-trace.ncbi.nlm.nih.gov/sra/sra-instant/reads/ByExp/sra/SRX/SRX811/SRX8119804/)\\\\n\\\\n4. **304477964**\\\\n   - Accession: GSM4477964\\\\n   - Title: Calu3_totalRNA-S2-4h-A\\\\n   - Summary: total RNA from Calu3 cells, SARS-CoV-2 infected 4hpi, replicate A\\\\n   - Taxon: Homo sapiens\\\\n   - GSE: 148729\\\\n   - SRA Link: [SRX8119803](ftp://ftp-trace.ncbi.nlm.nih.gov/sra/sra-instant/reads/ByExp/sra/SRX/SRX811/SRX8119803/)\\\\n\\\\n5. **304477963**\\\\n   - Accession: GSM4477963\\\\n   - Title: Calu3_totalRNA-S2-24h-B\\\\n   - Summary: total RNA from Calu3 cells, SARS-CoV-2 infected 24hpi, replicate B\\\\n   - Taxon: Homo sapiens\\\\n   - GSE: 148729\\\\n   - SRA Link: [SRX8119802](ftp://ftp-trace.ncbi.nlm.nih.gov/sra/sra-instant/reads/ByExp/sra/SRX/SRX811/SRX8119802/)\\\\n\\\\n6. **304477962**\\\\n   - Accession: GSM4477962\\\\n   - Title: Calu3_totalRNA-S2-24h-A\\\\n   - Summary: total RNA from Calu3 cells, SARS-CoV-2 infected 24hpi, replicate A\\\\n   - Taxon: Homo sapiens\\\\n   - GSE: 148729\\\\n   - SRA Link: [SRX8119801](ftp://ftp-trace.ncbi.nlm.nih.gov/sra/sra-instant/reads/ByExp/sra/SRX/SRX811/SRX8119801/)\\\\n\\\\n7. **304477961**\\\\n   - Accession: GSM4477961\\\\n   - Title: Calu3_totalRNA-S2-12h-B\\\\n   - Summary: total RNA from Calu3 cells, SARS-CoV-2 infected 12hpi, replicate B\\\\n   - Taxon: Homo sapiens\\\\n   - GSE: 148729\\\\n   - SRA Link: [SRX8119800](ftp://ftp-trace.ncbi.nlm.nih.gov/sra/sra-instant/reads/ByExp/sra/SRX/SRX811/SRX8119800/)\\\\n\\\\n8. **304477960**\\\\n   - Accession: GSM4477960\\\\n   - Title: Calu3_totalRNA-S2-12h-A\\\\n   - Summary: total RNA from Calu3 cells, SARS-CoV-2 infected 12hpi, replicate A\\\\n   - Taxon: Homo sapiens\\\\n   - GSE: 148729\\\\n   - SRA Link: [SRX8119799](ftp://ftp-trace.ncbi.nlm.nih.gov/sra/sra-instant/reads/ByExp/sra/SRX/SRX811/SRX8119799/)\\\\n\\\\n9. **304477959**\\\\n   - Accession: GSM4477959\\\\n   - Title: Calu3_totalRNA-S1-4h-B\\\\n   - Summary: total RNA from Calu3 cells, SARS-CoV-1 infected 4hpi, replicate B\\\\n   - Taxon: Homo sapiens\\\\n   - GSE: 148729\\\\n   - SRA Link: [SRX8119798](ftp://ftp-trace.ncbi.nlm.nih.gov/sra/sra-instant/reads/ByExp/sra/SRX/SRX811/SRX8119798/)\\\\n\\\\n10. **304477958**\\\\n    - Accession: GSM4477958\\\\n    - Title: Calu3_totalRNA-S1-4h-A\\\\n    - Summary: total RNA from Calu3 cells, SARS-CoV-1 infected 4hpi, replicate A\\\\n    - Taxon: Homo sapiens\\\\n    - GSE: 148729\\\\n    - SRA Link: [SRX8119797](ftp://ftp-trace.ncbi.nlm.nih.gov/sra/sra-instant/reads/ByExp/sra/SRX/SRX811/SRX8119797/)\\\\n\\\\n11. **304477957**\\\\n    - Accession: GSM4477957\\\\n    - Title: Calu3_totalRNA-S1-24h-B\\\\n    - Summary: total RNA from Calu3 cells, SARS-CoV-1 infected 24hpi, replicate B\\\\n    - Taxon: Homo sapiens\\\\n    - GSE: 148729\\\\n    - SRA Link: [SRX8119796](ftp://ftp-trace.ncbi.nlm.nih.gov/sra/sra-instant/reads/ByExp/sra/SRX/SRX811/SRX8119796/)\\\\n\\\\n12. **304477956**\\\\n    - Accession: GSM4477956\\\\n    - Title: Calu3_totalRNA-S1-24h-A\\\\n    - Summary: total RNA from Calu3 cells, SARS-CoV-1 infected 24hpi, replicate A\\\\n    - Taxon: Homo sapiens\\\\n    - GSE: 148729\\\\n    - SRA Link: [SRX8119795](ftp://ftp-trace.ncbi.nlm.nih.gov/sra/sra-instant/reads/ByExp/sra/SRX/SRX811/SRX8119795/)\\\\n\\\\n13. **304477955**\\\\n    - Accession: GSM4477955\\\\n    - Title: Calu3_totalRNA-S1-12h-B\\\\n    - Summary: total RNA from Calu3 cells, SARS-CoV-1 infected 12hpi, replicate B\\\\n    - Taxon: Homo sapiens\\\\n    - GSE: 148729\\\\n    - SRA Link: [SRX8119794](ftp://ftp-trace.ncbi.nlm.nih.gov/sra/sra-instant/reads/ByExp/sra/SRX/SRX811/SRX8119794/)\\\\n\\\\n14. **304477954**\\\\n    - Accession: GSM4477954\\\\n    - Title: Calu3_totalRNA-S1-12h-A\\\\n    - Summary: total RNA from Calu3 cells, SARS-CoV-1 infected 12hpi, replicate A\\\\n    - Taxon: Homo sapiens\\\\n    - GSE: 148729\\\\n    - SRA Link: [SRX8119793](ftp://ftp-trace.ncbi.nlm.nih.gov/sra/sra-instant/reads/ByExp/sra/SRX/SRX811/SRX8119793/)\\\\n\\\\n15. **304477953**\\\\n    - Accession: GSM4477953\\\\n    - Title: Calu3_totalRNA-mock-4h-B\\\\n    - Summary: total RNA from Calu3 cells, mock infected 4hpi, replicate B\\\\n    - Taxon: Homo sapiens\\\\n    - GSE: 148729\\\\n    - SRA Link: [SRX8119792](ftp://ftp-trace.ncbi.nlm.nih.gov/sra/sra-instant/reads/ByExp/sra/SRX/SRX811/SRX8119792/)\\\\n\\\\n16. **304477952**\\\\n    - Accession: GSM4477952\\\\n    - Title: Calu3_totalRNA-mock-4h-A\\\\n    - Summary: total RNA from Calu3 cells, mock infected 4hpi, replicate A\\\\n    - Taxon: Homo sapiens\\\\n    - GSE: 148729\\\\n    - SRA Link: [SRX8119791](ftp://ftp-trace.ncbi.nlm.nih.gov/sra/sra-instant/reads/ByExp/sra/SRX/SRX811/SRX8119791/)\\\\n\\\\n17. **304477951**\\\\n    - Accession: GSM4477951\\\\n    - Title: Calu3_totalRNA-mock-24h-B\\\\n    - Summary: total RNA from Calu3 cells, mock infected 24hpi, replicate B\\\\n    - Taxon: Homo sapiens\\\\n    - GSE: 148729\\\\n    - SRA Link: [SRX8119790](ftp://ftp-trace.ncbi.nlm.nih.gov/sra/sra-instant/reads/ByExp/sra/SRX/SRX811/SRX8119790/)\\\\n\\\\n18. **304477950**\\\\n    - Accession: GSM4477950\\\\n    - Title: Calu3_totalRNA-mock-24h-A\\\\n    - Summary: total RNA from Calu3 cells, mock infected 24hpi, replicate A\\\\n    - Taxon: Homo sapiens\\\\n    - GSE: 148729\\\\n    - SRA Link: [SRX8119789](ftp://ftp-trace.ncbi.nlm.nih.gov/sra/sra-instant/reads/ByExp/sra/SRX/SRX811/SRX8119789/)\\\\n\\\\n19. **304477949**\\\\n    - Accession: GSM4477949\\\\n    - Title: Calu3_smallRNA-untr-4h-B\\\\n    - Summary: small RNA from Calu3 cells, untr infected 4hpi, replicate B\\\\n    - Taxon: Homo sapiens\\\\n    - GSE: 148729\\\\n    - SRA Link: [SRX8119788](ftp://ftp-trace.ncbi.nlm.nih.gov/sra/sra-instant/reads/ByExp/sra/SRX/SRX811/SRX8119788/)\\\\n\\\\n20. **304477948**\\\\n    - Accession: GSM4477948\\\\n    - Title: Calu3_smallRNA-untr-4h-A\\\\n    - Summary: small RNA from Calu3 cells, untr infected 4hpi, replicate A\\\\n    - Taxon: Homo sapiens\\\\n    - GSE: 148729\\\\n    - SRA Link: [SRX8119787](ftp://ftp-trace.ncbi.nlm.nih.gov/sra/sra-instant/reads/ByExp/sra/SRX/SRX811/SRX8119787/)\\\\n\\\\n21. **304477947**\\\\n    - Accession: GSM4477947\\\\n    - Title: Calu3_smallRNA-S2-4h-B\\\\n    - Summary: small RNA from Calu3 cells, SARS-CoV-2 infected 4hpi, replicate B\\\\n    - Taxon: Homo sapiens\\\\n    - GSE: 148729\\\\n    - SRA Link: [SRX8119786](ftp://ftp-trace.ncbi.nlm.nih.gov/sra/sra-instant/reads/ByExp/sra/SRX/SRX811/SRX8119786/)\\\\n\\\\n22. **304477946**\\\\n    - Accession: GSM4477946\\\\n    - Title: Calu3_smallRNA-S2-4h-A\\\\n    - Summary: small RNA from Calu3 cells, SARS-CoV-2 infected 4hpi, replicate A\\\\n    - Taxon: Homo sapiens\\\\n    - GSE: 148729\\\\n    - SRA Link: [SRX8119785](ftp://ftp-trace.ncbi.nlm.nih.gov/sra/sra-instant/reads/ByExp/sra/SRX/SRX811/SRX8119785/)\\\\n\\\\n23. **304477945**\\\\n    - Accession: GSM4477945\\\\n    - Title: Calu3_smallRNA-S2-24h-B\\\\n    - Summary: small RNA from Calu3 cells, SARS-CoV-2 infected 24hpi, replicate B\\\\n    - Taxon: Homo sapiens\\\\n    - GSE: 148729\\\\n    - SRA Link: [SRX8119784](ftp://ftp-trace.ncbi.nlm.nih.gov/sra/sra-instant/reads/ByExp/sra/SRX/SRX811/SRX8119784/)\\\\n\\\\n24. **304477944**\\\\n    - Accession: GSM4477944\\\\n    - Title: Calu3_smallRNA-S2-24h-A\\\\n    - Summary: small RNA from Calu3 cells, SARS-CoV-2 infected 24hpi, replicate A\\\\n    - Taxon: Homo sapiens\\\\n    - GSE: 148729\\\\n    - SRA Link: [SRX8119783](ftp://ftp-trace.ncbi.nlm.nih.gov/sra/sra-instant/reads/ByExp/sra/SRX/SRX811/SRX8119783/)\\\\n\\\\n25. **304477943**\\\\n    - Accession: GSM4477943\\\\n    - Title: Calu3_smallRNA-S2-12h-B\\\\n    - Summary: small RNA from Calu3 cells, SARS-CoV-2 infected 12hpi, replicate B\\\\n    - Taxon: Homo sapiens\\\\n    - GSE: 148729\\\\n    - SRA Link: [SRX8119782](ftp://ftp-trace.ncbi.nlm.nih.gov/sra/sra-instant/reads/ByExp/sra/SRX/SRX811/SRX8119782/)\\\\n\\\\n26. **304477942**\\\\n    - Accession: GSM4477942\\\\n    - Title: Calu3_smallRNA-S2-12h-A\\\\n    - Summary: small RNA from Calu3 cells, SARS-CoV-2 infected 12hpi, replicate A\\\\n    - Taxon: Homo sapiens\\\\n    - GSE: 148729\\\\n    - SRA Link: [SRX8119781](ftp://ftp-trace.ncbi.nlm.nih.gov/sra/sra-instant/reads/ByExp/sra/SRX/SRX811/SRX8119781/)\\\\n\\\\n27. **304477941**\\\\n    - Accession: GSM4477941\\\\n    - Title: Calu3_smallRNA-S1-4h-B\\\\n    - Summary: small RNA from Calu3 cells, SARS-CoV-1 infected 4hpi, replicate B\\\\n    - Taxon: Homo sapiens\\\\n    - GSE: 148729\\\\n    - SRA Link: [SRX8119780](ftp://ftp-trace.ncbi.nlm.nih.gov/sra/sra-instant/reads/ByExp/sra/SRX/SRX811/SRX8119780/)\\\\n\\\\n28. **304477940**\\\\n    - Accession: GSM4477940\\\\n    - Title: Calu3_smallRNA-S1-4h-A\\\\n    - Summary: small RNA from Calu3 cells, SARS-CoV-1 infected 4hpi, replicate A\\\\n    - Taxon: Homo sapiens\\\\n    - GSE: 148729\\\\n    - SRA Link: [SRX8119779](ftp://ftp-trace.ncbi.nlm.nih.gov/sra/sra-instant/reads/ByExp/sra/SRX/SRX811/SRX8119779/)\\\\n\\\\n29. **304477939**\\\\n    - Accession: GSM4477939\\\\n    - Title: Calu3_smallRNA-S1-24h-B\\\\n    - Summary: small RNA from Calu3 cells, SARS-CoV-1 infected 24hpi, replicate B\\\\n    - Taxon: Homo sapiens\\\\n    - GSE: 148729\\\\n    - SRA Link: [SRX8119778](ftp://ftp-trace.ncbi.nlm.nih.gov/sra/sra-instant/reads/ByExp/sra/SRX/SRX811/SRX8119778/)\\\\n\\\\n30. **304477938**\\\\n    - Accession: GSM4477938\\\\n    - Title: Calu3_smallRNA-S1-24h-A\\\\n    - Summary: small RNA from Calu3 cells, SARS-CoV-1 infected 24hpi, replicate A\\\\n    - Taxon: Homo sapiens\\\\n    - GSE: 148729\\\\n    - SRA Link: [SRX8119777](ftp://ftp-trace.ncbi.nlm.nih.gov/sra/sra-instant/reads/ByExp/sra/SRX/SRX811/SRX8119777/)\\\\n\\\\n31. **304477937**\\\\n    - Accession: GSM4477937\\\\n    - Title: Calu3_smallRNA-S1-12h-B\\\\n    - Summary: small RNA from Calu3 cells, SARS-CoV-1 infected 12hpi, replicate B\\\\n    - Taxon: Homo sapiens\\\\n    - GSE: 148729\\\\n    - SRA Link: [SRX8119776](ftp://ftp-trace.ncbi.nlm.nih.gov/sra/sra-instant/reads/ByExp/sra/SRX/SRX811/SRX8119776/)\\\\n\\\\n32. **304477936**\\\\n    - Accession: GSM4477936\\\\n    - Title: Calu3_smallRNA-S1-12h-A\\\\n    - Summary: small RNA from Calu3 cells, SARS-CoV-1 infected 12hpi, replicate A\\\\n    - Taxon: Homo sapiens\\\\n    - GSE: 148729\\\\n    - SRA Link: [SRX8119775](ftp://ftp-trace.ncbi.nlm.nih.gov/sra/sra-instant/reads/ByExp/sra/SRX/SRX811/SRX8119775/)\\\\n\\\\n33. **304477935**\\\\n    - Accession: GSM4477935\\\\n    - Title: Calu3_smallRNA-mock-4h-B\\\\n    - Summary: small RNA from Calu3 cells, mock infected 4hpi, replicate B\\\\n    - Taxon: Homo sapiens\\\\n    - GSE: 148729\\\\n    - SRA Link: [SRX8119774](ftp://ftp-trace.ncbi.nlm.nih.gov/sra/sra-instant/reads/ByExp/sra/SRX/SRX811/SRX8119774/)\\\\n\\\\n34. **304477934**\\\\n    - Accession: GSM4477934\\\\n    - Title: Calu3_smallRNA-mock-4h-A\\\\n    - Summary: small RNA from Calu3 cells, mock infected 4hpi, replicate A\\\\n    - Taxon: Homo sapiens\\\\n    - GSE: 148729\\\\n    - SRA Link: [SRX8119773](ftp://ftp-trace.ncbi.nlm.nih.gov/sra/sra-instant/reads/ByExp/sra/SRX/SRX811/SRX8119773/)\\\\n\\\\n35. **304477933**\\\\n    - Accession: GSM4477933\\\\n    - Title: Calu3_smallRNA-mock-24h-B\\\\n    - Summary: small RNA from Calu3 cells, mock infected 24hpi, replicate B\\\\n    - Taxon: Homo sapiens\\\\n    - GSE: 148729\\\\n    - SRA Link: [SRX8119772](ftp://ftp-trace.ncbi.nlm.nih.gov/sra/sra-instant/reads/ByExp/sra/SRX/SRX811/SRX8119772/)\\\\n\\\\n36. **304477932**\\\\n    - Accession: GSM4477932\\\\n    - Title: Calu3_smallRNA-mock-24h-A\\\\n    - Summary: small RNA from Calu3 cells, mock infected 24hpi, replicate A\\\\n    - Taxon: Homo sapiens\\\\n    - GSE: 148729\\\\n    - SRA Link: [SRX8119771](ftp://ftp-trace.ncbi.nlm.nih.gov/sra/sra-instant/reads/ByExp/sra/SRX/SRX811/SRX8119771/)\\\\n\\\\n37. **304477931**\\\\n    - Accession: GSM4477931\\\\n    - Title: Calu3_polyA_series2-8h-S2-2\\\\n    - Summary: polyA RNA from Calu3 cells, series2, SARS-CoV-2 infected 8hpi, replicate 2\\\\n    - Taxon: Homo sapiens\\\\n    - GSE: 148729\\\\n    - SRA Link: [SRX8119770](ftp://ftp-trace.ncbi.nlm.nih.gov/sra/sra-instant/reads/ByExp/sra/SRX/SRX811/SRX8119770/)\\\\n\\\\n38. **304477930**\\\\n    - Accession: GSM4477930\\\\n    - Title: Calu3_polyA_series2-8h-S2-1\\\\n    - Summary: polyA RNA from Calu3 cells, series2, SARS-CoV-2 infected 8hpi, replicate 1\\\\n    - Taxon: Homo sapiens\\\\n    - GSE: 148729\\\\n    - SRA Link: [SRX8119769](ftp://ftp-trace.ncbi.nlm.nih.gov/sra/sra-instant/reads/ByExp/sra/SRX/SRX811/SRX8119769/)\\\\n\\\\n39. **304477929**\\\\n    - Accession: GSM4477929\\\\n    - Title: Calu3_polyA_series2-8h-S1-2\\\\n    - Summary: polyA RNA from Calu3 cells, series2, SARS-CoV-1 infected 8hpi, replicate 2\\\\n    - Taxon: Homo sapiens\\\\n    - GSE: 148729\\\\n    - SRA Link: [SRX8119768](ftp://ftp-trace.ncbi.nlm.nih.gov/sra/sra-instant/reads/ByExp/sra/SRX/SRX811/SRX8119768/)', additional_kwargs={}, response_metadata={}, name='esummary worker')]}\", name='invoke_esummary_worker', id='72f34362-3ecd-4df1-babc-12ca69dce9b6', tool_call_id='call_c0SZzDCVxrRCZLBYBjOmYE1Z')]}}\n",
      "{'agent': {'messages': [AIMessage(content='Here are some SRP accessions related to GSE148729:\\n\\n1. **SRX8119806**: Calu3_totalRNA-untr-4h-B\\n2. **SRX8119805**: Calu3_totalRNA-untr-4h-A\\n3. **SRX8119804**: Calu3_totalRNA-S2-4h-B\\n4. **SRX8119803**: Calu3_totalRNA-S2-4h-A\\n5. **SRX8119802**: Calu3_totalRNA-S2-24h-B\\n6. **SRX8119801**: Calu3_totalRNA-S2-24h-A\\n7. **SRX8119800**: Calu3_totalRNA-S2-12h-B\\n8. **SRX8119799**: Calu3_totalRNA-S2-12h-A\\n9. **SRX8119798**: Calu3_totalRNA-S1-4h-B\\n10. **SRX8119797**: Calu3_totalRNA-S1-4h-A\\n\\nThese are just a few examples. If you need more, please let me know!', additional_kwargs={'refusal': None}, response_metadata={'token_usage': {'completion_tokens': 252, 'prompt_tokens': 8620, 'total_tokens': 8872, 'completion_tokens_details': {'accepted_prediction_tokens': 0, 'audio_tokens': 0, 'reasoning_tokens': 0, 'rejected_prediction_tokens': 0}, 'prompt_tokens_details': {'audio_tokens': 0, 'cached_tokens': 0}}, 'model_name': 'gpt-4o-2024-08-06', 'system_fingerprint': 'fp_159d8341cc', 'finish_reason': 'stop', 'logprobs': None}, id='run-df0aa207-9eea-4b31-a30b-d89c05d44f6b-0', usage_metadata={'input_tokens': 8620, 'output_tokens': 252, 'total_tokens': 8872, 'input_token_details': {'audio': 0, 'cache_read': 0}, 'output_token_details': {'audio': 0, 'reasoning': 0}})]}}\n"
     ]
    }
   ],
   "source": [
    "inputs = {\"messages\": [(\"user\", \"Obtain any available SRP accessions for GSE148729\")]}\n",
    "config = {\"max_concurrency\" : 3, \"recursion_limit\": 30}\n",
    "for step in entrez_agent.stream(inputs, config=config):\n",
    "    print(step)"
   ]
  },
  {
   "cell_type": "code",
   "execution_count": null,
   "metadata": {},
   "outputs": [],
   "source": []
  },
  {
   "cell_type": "markdown",
   "metadata": {},
   "source": [
    "***"
   ]
  },
  {
   "cell_type": "markdown",
   "metadata": {},
   "source": [
    "# Graph"
   ]
  },
  {
   "cell_type": "code",
   "execution_count": 1,
   "metadata": {},
   "outputs": [],
   "source": [
    "import operator\n",
    "from typing import Annotated, Sequence, Tuple, Union, Required\n",
    "from typing_extensions import TypedDict\n",
    "from langchain_core.messages import BaseMessage, HumanMessage, AIMessage\n",
    "from langchain_core.prompts import ChatPromptTemplate, MessagesPlaceholder\n",
    "from langchain_core.runnables import RunnableConfig\n",
    "from langchain_openai import ChatOpenAI\n",
    "from langgraph.types import Send\n",
    "from langgraph.graph import START, END, StateGraph, MessagesState\n",
    "from pydantic import BaseModel, Field\n",
    "from langgraph.prebuilt import create_react_agent, ToolNode"
   ]
  },
  {
   "cell_type": "code",
   "execution_count": 2,
   "metadata": {},
   "outputs": [],
   "source": [
    "# set model\n",
    "model_big = ChatOpenAI(model=\"gpt-4o\")\n",
    "model = ChatOpenAI(model=\"gpt-4o-mini\")"
   ]
  },
  {
   "cell_type": "code",
   "execution_count": 3,
   "metadata": {},
   "outputs": [],
   "source": [
    "def worker_agent_node(state, agent, name):\n",
    "    \"\"\"\n",
    "    Convert agent output to a human message for the graph.\n",
    "    Just returns the last message from the agent.\n",
    "    Args:\n",
    "        state: The current state of the graph.\n",
    "        agent: The agent that generated the messages.\n",
    "        name: The name of the agent.\n",
    "    \"\"\"\n",
    "    # just last command to worker agent\n",
    "    result = agent.invoke(state[\"messages\"][-1])\n",
    "    return {\n",
    "        \"messages\": [HumanMessage(content=result[\"messages\"][-1].content, name=name)]\n",
    "    }"
   ]
  },
  {
   "cell_type": "code",
   "execution_count": null,
   "metadata": {},
   "outputs": [],
   "source": []
  },
  {
   "cell_type": "code",
   "execution_count": null,
   "metadata": {},
   "outputs": [],
   "source": [
    "entrez_agent = create_react_agent(\n",
    "    model=model_big,\n",
    "    tools=[esearch, efetch, esummary, elink],\n",
    "    state_modifier=\"\\n\".join([\n",
    "        \"You are provided with an Entrez record ID.\",\n",
    "        \"Your task is to gather information about the dataset associated with the record.\",\n",
    "        \"Start with the eSearch tool to find the record, then use eFetch to get detailed information.\",\n",
    "        \"Use eSummary to obtain summary information of the record.\",\n",
    "        \"Your primary goal is to obtain SRA accessions (e.g., SRX, SRP, SRR) associated with the Entrez record.\",\n",
    "        \"If you obtain non-SRA accessions (e.g., ERX, PRJNA, DRX, E-MTAB), use eLink to find related SRA records.\",\n",
    "        \"Use eLink to navigate between databases and map non-SRA accessions to SRA accessions.\",\n",
    "        \"Continue using eLink and other tools until you successfully obtain the SRA accession numbers.\",\n",
    "        \"Verify each accession to ensure it is an SRA accession; if not, keep searching.\",\n",
    "        \"Summarize the SRA accessions you have found at the end of your search.\",\n",
    "        \"#-- Accession notes --#\",\n",
    "        \"SRA accesssion prefixes: SRX, SRP, SRR\",\n",
    "        \"ENA accession prefixes: ERX, PRJNA, DRX, E-MTAB\",\n",
    "        \"#-- elink notes --#\",\n",
    "        \"ENA to SRA: elink(source_db='sra', target_db='end'\",\n",
    "    ])\n",
    ")"
   ]
  },
  {
   "cell_type": "code",
   "execution_count": 98,
   "metadata": {},
   "outputs": [],
   "source": [
    "# subclass the state\n",
    "class GraphState(TypedDict):\n",
    "    messages: Annotated[Sequence[BaseMessage], operator.add]\n",
    "    SRX: Annotated[List[str], \"SRX accessions associated with the dataset.\"]\n",
    "    SRP: Annotated[List[str], \"SRP accessions associated with the dataset.\"]\n",
    "    SRR: Annotated[List[str], \"SRR accessions associated with the dataset.\"]"
   ]
  },
  {
   "cell_type": "code",
   "execution_count": 99,
   "metadata": {},
   "outputs": [],
   "source": [
    "# node to generate a structured output of accessions\n",
    "class Accesions(TypedDict):\n",
    "    SRX: List[str]\n",
    "    SRP: List[str]\n",
    "    SRR: List[str]\n",
    "\n",
    "def get_accessions(state: GraphState) -> Accesions:\n",
    "    \"\"\"\n",
    "    Extract the SRA experiment accessions (SRX) from the state.\n",
    "    \"\"\"\n",
    "     # Create a prompt template that includes previous messages\n",
    "    prompt = ChatPromptTemplate.from_messages([\n",
    "        # First add any static system message if needed\n",
    "        (\"system\", \"You are an expert in bioinformatics and have been asked to analyze an SRA dataset.\"),\n",
    "        # Include all previous messages from the state\n",
    "        MessagesPlaceholder(variable_name=\"history\"),\n",
    "        # Add the final question/instruction\n",
    "        (\"human\", \"\\n\".join([\n",
    "            \"Based on the information above, determine the following:\",\n",
    "            \"1. The SRX accessions associated with the dataset.\",\n",
    "            \"2. The SRP accessions associated with the dataset.\",\n",
    "            \"3. The SRR accessions associated with the dataset.\"\n",
    "            \"If you cannot find any particular type of accession, you can leave it blank.\"\n",
    "            ])\n",
    "        ),\n",
    "    ])\n",
    "    # Format the prompt with the message history\n",
    "    formatted_prompt = prompt.format_messages(\n",
    "        history=state[\"messages\"]\n",
    "    )\n",
    "    # Use the formatted prompt with the LLM\n",
    "    return model.with_structured_output(Accesions, strict=True).invoke(formatted_prompt)\n",
    "\n",
    "# test get_accessions\n",
    "# state = {\n",
    "#     \"messages\": [HumanMessage(content=\"The accession is SRR13112659. The dataset is from a single-cell RNA-seq experiment with Illumina paired-end reads. There is another accession: SRP319646. The dataset is from a study on the human brain. The dataset is part of a larger project with the accession PR\")],\n",
    "# }\n",
    "#get_accessions(state)"
   ]
  },
  {
   "cell_type": "code",
   "execution_count": 100,
   "metadata": {},
   "outputs": [],
   "source": [
    "#-- graph --#\n",
    "workflow = StateGraph(GraphState)\n",
    "\n",
    "# nodes\n",
    "workflow.add_node(\"entrez_agent_node\", entrez_agent)\n",
    "workflow.add_node(\"get_accessions_node\", get_accessions)\n",
    "\n",
    "# edges\n",
    "workflow.add_edge(START, \"entrez_agent_node\")\n",
    "#workflow.add_edge(\"entrez_agent_node\", END)\n",
    "workflow.add_edge(\"entrez_agent_node\", \"get_accessions_node\")\n",
    "workflow.add_edge(\"get_accessions_node\", END)\n",
    "\n",
    "# compile the graph\n",
    "graph = workflow.compile()"
   ]
  },
  {
   "cell_type": "code",
   "execution_count": 101,
   "metadata": {},
   "outputs": [
    {
     "data": {
      "image/jpeg": "[encoded data removed]",
      "text/plain": [
       "<IPython.core.display.Image object>"
      ]
     },
     "execution_count": 101,
     "metadata": {},
     "output_type": "execute_result"
    }
   ],
   "source": [
    "from IPython.display import Image\n",
    "Image(graph.get_graph().draw_mermaid_png())"
   ]
  },
  {
   "cell_type": "code",
   "execution_count": 102,
   "metadata": {},
   "outputs": [
    {
     "name": "stdout",
     "output_type": "stream",
     "text": [
      "{'entrez_agent_node': {'messages': [HumanMessage(content='Entrez ID: 36029097', additional_kwargs={}, response_metadata={}, id='1b7b9def-2a57-462b-8e05-fc57c75ad568'), AIMessage(content='', additional_kwargs={'tool_calls': [{'id': 'call_LT2gZ25PDPYCLCQDegj34Lbt', 'function': {'arguments': '{\"database\":\"sra\",\"entrez_id\":\"36029097\"}', 'name': 'esummary'}, 'type': 'function'}], 'refusal': None}, response_metadata={'token_usage': {'completion_tokens': 23, 'prompt_tokens': 484, 'total_tokens': 507, 'completion_tokens_details': {'accepted_prediction_tokens': 0, 'audio_tokens': 0, 'reasoning_tokens': 0, 'rejected_prediction_tokens': 0}, 'prompt_tokens_details': {'audio_tokens': 0, 'cached_tokens': 0}}, 'model_name': 'gpt-4o-2024-08-06', 'system_fingerprint': 'fp_159d8341cc', 'finish_reason': 'tool_calls', 'logprobs': None}, id='run-d8aab24f-7a65-44ac-aedb-25ab7e509f93-0', tool_calls=[{'name': 'esummary', 'args': {'database': 'sra', 'entrez_id': '36029097'}, 'id': 'call_LT2gZ25PDPYCLCQDegj34Lbt', 'type': 'tool_call'}], usage_metadata={'input_tokens': 484, 'output_tokens': 23, 'total_tokens': 507, 'input_token_details': {'audio': 0, 'cache_read': 0}, 'output_token_details': {'audio': 0, 'reasoning': 0}}), ToolMessage(content='<?xml version=\"1.0\" encoding=\"UTF-8\" ?>\\n<!DOCTYPE eSummaryResult PUBLIC \"-//NLM//DTD esummary v1 20041029//EN\" \"https://eutils.ncbi.nlm.nih.gov/eutils/dtd/20041029/esummary-v1.dtd\">\\n<eSummaryResult>\\n<DocSum>\\n\\t<Id>36029097</Id>\\n\\t<Item Name=\"ExpXml\" Type=\"String\">&lt;Summary&gt;&lt;Title&gt;Illumina NovaSeq 6000 paired end sequencing&lt;/Title&gt;&lt;Platform instrument_model=\"Illumina NovaSeq 6000\"&gt;ILLUMINA&lt;/Platform&gt;&lt;Statistics total_runs=\"1\" total_spots=\"148471491\" total_bases=\"29991241182\" total_size=\"11417639563\" load_done=\"true\" cluster_name=\"public\"/&gt;&lt;/Summary&gt;&lt;Submitter acc=\"ERA30929992\" center_name=\"Klinikum rechts der Isar, II. Medizinische Klinik\" contact_name=\"European Nucleotide Archive\" lab_name=\"European Nucleotide Archive\"/&gt;&lt;Experiment acc=\"ERX13336121\" ver=\"1\" status=\"public\" name=\"Illumina NovaSeq 6000 paired end sequencing\"/&gt;&lt;Study acc=\"ERP165048\" name=\"Single cell RNA sequencing of splenocytes from (CD3eKO) B-NIKtg-A20\"/&gt;&lt;Organism taxid=\"10090\" ScientificName=\"Mus musculus\"/&gt;&lt;Sample acc=\"ERS21882369\" name=\"\"/&gt;&lt;Instrument ILLUMINA=\"Illumina NovaSeq 6000\"/&gt;&lt;Library_descriptor&gt;&lt;LIBRARY_NAME&gt;5_Sup1_12933_spl_bÂ&lt;/LIBRARY_NAME&gt;&lt;LIBRARY_STRATEGY&gt;RNA-Seq&lt;/LIBRARY_STRATEGY&gt;&lt;LIBRARY_SOURCE&gt;TRANSCRIPTOMIC SINGLE CELL&lt;/LIBRARY_SOURCE&gt;&lt;LIBRARY_SELECTION&gt;cDNA&lt;/LIBRARY_SELECTION&gt;&lt;LIBRARY_LAYOUT&gt; &lt;PAIRED/&gt; &lt;/LIBRARY_LAYOUT&gt;&lt;/Library_descriptor&gt;&lt;Bioproject&gt;PRJEB81204&lt;/Bioproject&gt;&lt;Biosample&gt;SAMEA116821673&lt;/Biosample&gt;</Item>\\n\\t<Item Name=\"Runs\" Type=\"String\">&lt;Run acc=\"ERR13934239\" total_spots=\"148471491\" total_bases=\"29991241182\" load_done=\"true\" is_public=\"true\" cluster_name=\"public\" static_data_available=\"true\"/&gt;</Item>\\n\\t<Item Name=\"ExtLinks\" Type=\"String\"></Item>\\n\\t<Item Name=\"CreateDate\" Type=\"String\">2024/11/09</Item>\\n\\t<Item Name=\"UpdateDate\" Type=\"String\">2024/11/09</Item>\\n</DocSum>\\n\\n</eSummaryResult>\\n', name='esummary', id='d298cb3f-8d53-453e-bcdf-05523e1b92da', tool_call_id='call_LT2gZ25PDPYCLCQDegj34Lbt'), AIMessage(content='', additional_kwargs={'tool_calls': [{'id': 'call_elSh61UzJPWTIZffAHKrYrIy', 'function': {'arguments': '{\"source_db\":\"sra\",\"target_db\":\"sra\",\"entrez_id\":\"36029097\"}', 'name': 'elink'}, 'type': 'function'}], 'refusal': None}, response_metadata={'token_usage': {'completion_tokens': 30, 'prompt_tokens': 1165, 'total_tokens': 1195, 'completion_tokens_details': {'accepted_prediction_tokens': 0, 'audio_tokens': 0, 'reasoning_tokens': 0, 'rejected_prediction_tokens': 0}, 'prompt_tokens_details': {'audio_tokens': 0, 'cached_tokens': 0}}, 'model_name': 'gpt-4o-2024-08-06', 'system_fingerprint': 'fp_159d8341cc', 'finish_reason': 'tool_calls', 'logprobs': None}, id='run-dfe71339-d087-4b70-be16-243656cb1c91-0', tool_calls=[{'name': 'elink', 'args': {'source_db': 'sra', 'target_db': 'sra', 'entrez_id': '36029097'}, 'id': 'call_elSh61UzJPWTIZffAHKrYrIy', 'type': 'tool_call'}], usage_metadata={'input_tokens': 1165, 'output_tokens': 30, 'total_tokens': 1195, 'input_token_details': {'audio': 0, 'cache_read': 0}, 'output_token_details': {'audio': 0, 'reasoning': 0}}), ToolMessage(content='<?xml version=\"1.0\" encoding=\"UTF-8\" ?>\\n<!DOCTYPE eLinkResult PUBLIC \"-//NLM//DTD elink 20101123//EN\" \"https://eutils.ncbi.nlm.nih.gov/eutils/dtd/20101123/elink.dtd\">\\n<eLinkResult>\\n\\n  <LinkSet>\\n    <DbFrom>sra</DbFrom>\\n    <IdList>\\n      <Id>36029097</Id>\\n    </IdList>\\n  </LinkSet>\\n</eLinkResult>\\n', name='elink', id='29978bbb-55b9-498f-8368-23127c721e66', tool_call_id='call_elSh61UzJPWTIZffAHKrYrIy'), AIMessage(content='The Entrez record ID 36029097 is associated with non-SRA accessions. Here are the accessions found:\\n\\n- **Experiment Accession**: ERX13336121\\n- **Study Accession**: ERP165048\\n- **Bioproject**: PRJEB81204\\n- **Biosample**: SAMEA116821673\\n- **Run Accession**: ERR13934239\\n\\nThe run accession **ERR13934239** is associated with the European Nucleotide Archive (ENA), not directly with SRA. No direct SRA accession numbers (SRX, SRP, SRR) were found in the summary or via related links. \\n\\nTo map ERR13934239 to an SRA accession, further investigation through databases specific to SRA might be needed, or verification within the ENA to SRA mapping resources. However, based on the direct searches and links, no SRA accessions are provided for this Entrez ID.', additional_kwargs={'refusal': None}, response_metadata={'token_usage': {'completion_tokens': 199, 'prompt_tokens': 1312, 'total_tokens': 1511, 'completion_tokens_details': {'accepted_prediction_tokens': 0, 'audio_tokens': 0, 'reasoning_tokens': 0, 'rejected_prediction_tokens': 0}, 'prompt_tokens_details': {'audio_tokens': 0, 'cached_tokens': 1024}}, 'model_name': 'gpt-4o-2024-08-06', 'system_fingerprint': 'fp_159d8341cc', 'finish_reason': 'stop', 'logprobs': None}, id='run-6cdeca13-dcb2-4181-b757-b1549e94e1d9-0', usage_metadata={'input_tokens': 1312, 'output_tokens': 199, 'total_tokens': 1511, 'input_token_details': {'audio': 0, 'cache_read': 1024}, 'output_token_details': {'audio': 0, 'reasoning': 0}})]}}\n",
      "{'get_accessions_node': {'SRX': [], 'SRP': [], 'SRR': ['ERR13934239']}}\n"
     ]
    }
   ],
   "source": [
    "# Call the graph and stream\n",
    "#input = {\"entrez_id\" : \"35966237\", \"database\" : \"sra\"}\n",
    "#input = {\"messages\" : [HumanMessage(content=\"Entrez ID: 35966237\")]}\n",
    "input = {\"messages\" : [HumanMessage(content=\"Entrez ID: 36029097\")]}\n",
    "for step in graph.stream(input, config={\"max_concurrency\" : 3, \"recursion_limit\": 30}):\n",
    "    print(step)\n",
    "    final_step = step"
   ]
  },
  {
   "cell_type": "code",
   "execution_count": 103,
   "metadata": {},
   "outputs": [
    {
     "data": {
      "text/plain": [
       "{'get_accessions_node': {'SRX': [], 'SRP': [], 'SRR': ['ERR13934239']}}"
      ]
     },
     "execution_count": 103,
     "metadata": {},
     "output_type": "execute_result"
    }
   ],
   "source": [
    "final_step"
   ]
  },
  {
   "cell_type": "code",
   "execution_count": null,
   "metadata": {},
   "outputs": [],
   "source": []
  },
  {
   "cell_type": "code",
   "execution_count": null,
   "metadata": {},
   "outputs": [],
   "source": []
  }
 ],
 "metadata": {
  "kernelspec": {
   "display_name": "SRAgent",
   "language": "python",
   "name": "python3"
  },
  "language_info": {
   "codemirror_mode": {
    "name": "ipython",
    "version": 3
   },
   "file_extension": ".py",
   "mimetype": "text/x-python",
   "name": "python",
   "nbconvert_exporter": "python",
   "pygments_lexer": "ipython3",
   "version": "3.12.7"
  }
 },
 "nbformat": 4,
 "nbformat_minor": 2
}
