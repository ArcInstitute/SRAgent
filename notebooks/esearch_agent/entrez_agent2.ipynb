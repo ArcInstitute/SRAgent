{
 "cells": [
  {
   "cell_type": "markdown",
   "metadata": {},
   "source": [
    "# Goal\n",
    "\n",
    "* Create a general supervisor-working agent that can use entrez tools to explore an Entrez record"
   ]
  },
  {
   "cell_type": "markdown",
   "metadata": {},
   "source": [
    "# Init"
   ]
  },
  {
   "cell_type": "code",
   "execution_count": 2,
   "metadata": {},
   "outputs": [],
   "source": [
    "# import \n",
    "import os\n",
    "import re\n",
    "import time\n",
    "from enum import Enum\n",
    "from pprint import pprint\n",
    "from datetime import datetime, timedelta\n",
    "from typing import Annotated, List, Dict, Tuple, Optional, Union, Any\n",
    "import xml.etree.ElementTree as ET\n",
    "from pydantic import BaseModel, Field\n",
    "from langchain_core.tools import tool\n",
    "from Bio import Entrez\n",
    "import pandas as pd\n",
    "from dotenv import load_dotenv"
   ]
  },
  {
   "cell_type": "code",
   "execution_count": 3,
   "metadata": {},
   "outputs": [],
   "source": [
    "# setup\n",
    "load_dotenv()\n",
    "pd.set_option('display.max_colwidth', 1000)\n",
    "os.environ[\"DEBUG_MODE\"] = \"TRUE\""
   ]
  },
  {
   "cell_type": "code",
   "execution_count": 4,
   "metadata": {},
   "outputs": [
    {
     "name": "stdout",
     "output_type": "stream",
     "text": [
      "DEBUG_MODE is enabled.\n"
     ]
    }
   ],
   "source": [
    "# checks\n",
    "if os.getenv(\"DEBUG_MODE\") == \"TRUE\":\n",
    "    print(\"DEBUG_MODE is enabled.\")"
   ]
  },
  {
   "cell_type": "code",
   "execution_count": 5,
   "metadata": {},
   "outputs": [],
   "source": [
    "# set up Entrez\n",
    "Entrez.email = \"nick.youngblut@arcinstitute.org\""
   ]
  },
  {
   "cell_type": "markdown",
   "metadata": {},
   "source": [
    "# Tools"
   ]
  },
  {
   "cell_type": "code",
   "execution_count": null,
   "metadata": {},
   "outputs": [],
   "source": [
    "@tool \n",
    "def esearch(\n",
    "    esearch_query: Annotated[str, \"Entrez query string.\"],\n",
    "    database: Annotated[str, \"Database name (e.g., sra, gds, or pubmed)\"],\n",
    "    )-> Annotated[List[str], \"Entrez IDs of database records\"]:\n",
    "    \"\"\"\n",
    "    Run an Entrez search query and return the Entrez IDs of the results.\n",
    "    Example query for single cell RNA-seq:\n",
    "        `(\"single cell\"[Title] OR \"single-cell\"[Title] OR \"scRNA-seq\"[Title])`\n",
    "    Example query for an ENA accession number (database = sra):\n",
    "        `ERX13336121`\n",
    "    Example query for a GEO accession number (database = gds):\n",
    "        `GSE51372`\n",
    "    \"\"\"\n",
    "    # debug model\n",
    "    if os.getenv(\"DEBUG_MODE\") == \"TRUE\":\n",
    "        max_records = 2 \n",
    "\n",
    "    # query\n",
    "    records = []\n",
    "    retstart = 0\n",
    "    retmax = 50\n",
    "    while True:\n",
    "        try:\n",
    "            search_handle = Entrez.esearch(\n",
    "                db=database, \n",
    "                term=esearch_query, \n",
    "                retstart=retstart, \n",
    "                retmax=retmax\n",
    "            )\n",
    "            search_results = Entrez.read(search_handle)\n",
    "            search_handle.close()\n",
    "            # delete unneeded keys\n",
    "            to_rm = [\"RetMax\", \"RetStart\"]\n",
    "            for key in to_rm:\n",
    "                if key in search_results.keys():\n",
    "                    del search_results[key]\n",
    "            # add to records\n",
    "            records.append(str(search_results))\n",
    "            # update retstart\n",
    "            retstart += retmax\n",
    "            time.sleep(0.33)\n",
    "            if max_records and len(records) >= max_records:\n",
    "                break\n",
    "            if retstart >= int(search_results['Count']):\n",
    "                break\n",
    "        except Exception as e:\n",
    "            print(f\"Error searching {database} with query: {esearch_query}: {str(e)}\")\n",
    "            break \n",
    "        \n",
    "    # return records\n",
    "    if len(records) == 0:\n",
    "        return(f\"No records found for query: {esearch_query}\")\n",
    "    if os.getenv(\"DEBUG_MODE\") == \"TRUE\":\n",
    "        records = records[:max_records]  # debug\n",
    "    return records\n",
    "\n",
    "# esearch.invoke({\"esearch_query\" : \"GSE51372\", \"database\" : \"sra\"})\n",
    "# esearch.invoke({\"esearch_query\" : \"GSE121737\", \"database\" : \"gds\"})"
   ]
  },
  {
   "cell_type": "code",
   "execution_count": null,
   "metadata": {},
   "outputs": [],
   "source": [
    "@tool \n",
    "def efetch(\n",
    "    entrez_ids: Annotated[List[str], \"List of Entrez IDs\"],\n",
    "    database: Annotated[str, \"Database name (e.g., sra, gds, or pubmed)\"],\n",
    "    )-> Annotated[List[str], \"eFetch results in xml format\"]:\n",
    "    \"\"\"\n",
    "    Run an Entrez efetch query on Entrez IDs to obtain metadata for the records.\n",
    "    Useful for obtaining metadata for a specific record.\n",
    "    \"\"\"\n",
    "    time.sleep(0.33)\n",
    "    id_str = \", \".join(entrez_ids)\n",
    "    # Fetch dataset record\n",
    "    try:\n",
    "        handle = Entrez.efetch(db=database, id=entrez_ids, retmode=\"xml\")\n",
    "        record = handle.read()\n",
    "    except Entrez.Parser.ValidationError:\n",
    "        print(f\"Failed to fetch record for {id_str}\")\n",
    "    finally:\n",
    "        handle.close()\n",
    "    # decode the record\n",
    "    try:\n",
    "        record = record.decode(\"utf-8\")\n",
    "    except:\n",
    "        pass\n",
    "\n",
    "    # check for errors\n",
    "    if \"Error occurred: cannot get document summary\" in record:\n",
    "        return f\"Failed to fetch record for {id_str}. Try a different database (e.g., gds, sra, or pubmed).\"\n",
    "\n",
    "    return str(record)\n",
    "\n",
    "#records = efetch.invoke({ \"entrez_ids\" : [\"35966237\"], \"database\" : \"sra\"})\n",
    "#pprint(records)\n",
    "#records = efetch.invoke({\"entrez_ids\" : [\"200254051\"], \"database\" : \"gds\"})\n",
    "#pprint(records)"
   ]
  },
  {
   "cell_type": "code",
   "execution_count": null,
   "metadata": {},
   "outputs": [],
   "source": [
    "@tool\n",
    "def esummary(\n",
    "    entrez_ids: Annotated[List[str], \"List of Entrez IDs\"],\n",
    "    database: Annotated[str, \"Database name (e.g., sra, gds, or pubmed)\"],\n",
    ") -> Annotated[List[str], \"eSummary results in xml format\"]:\n",
    "    \"\"\"\n",
    "    Run an Entrez esummary query on Entrez IDs to obtain summary information for the records.\n",
    "    Useful for obtaining summary information for a specific record.\n",
    "    \"\"\"\n",
    "    time.sleep(0.33)  # Respect NCBI's rate limits\n",
    "    id_str = \", \".join(entrez_ids)\n",
    "    \n",
    "    # Fetch summary record\n",
    "    try:\n",
    "        handle = Entrez.esummary(db=database, id=entrez_ids, retmode=\"xml\")\n",
    "        record = handle.read()\n",
    "    except Entrez.Parser.ValidationError:\n",
    "        return f\"Failed to fetch summary for {id_str}. Check if the IDs exist.\"\n",
    "    finally:\n",
    "        handle.close()\n",
    "        \n",
    "    # decode the record\n",
    "    try:\n",
    "        record = record.decode(\"utf-8\")\n",
    "    except:\n",
    "        pass\n",
    "        \n",
    "    # check for errors in the response\n",
    "    if \"ERROR\" in record.upper() or \"INVALID_ID\" in record.upper():\n",
    "        return f\"Failed to fetch summary for {id_str}. Try a different database (gds or sra) or verify the ID.\"\n",
    "        \n",
    "    return str(record)\n",
    "\n",
    "# esummary.invoke({\"entrez_ids\" : [\"35966237\"], \"database\" : \"sra\"})"
   ]
  },
  {
   "cell_type": "code",
   "execution_count": 23,
   "metadata": {},
   "outputs": [],
   "source": [
    "@tool\n",
    "def elink(\n",
    "    source_db: Annotated[str, \"Source database (e.g., 'sra')\"],\n",
    "    target_db: Annotated[str, \"Target database (e.g., 'bioproject', 'biosample', 'pubmed')\"],\n",
    "    entrez_id: Annotated[str, \"Entrez ID \"],\n",
    ") -> Annotated[str, \"eLink results in xml format\"]:\n",
    "    \"\"\"\n",
    "    Find related entries between Entrez databases, particularly useful for finding\n",
    "    BioProject, BioSample, or publication records related to SRA entries.\n",
    "    \"\"\"\n",
    "    if source_db == target_db:\n",
    "        return \"Source and target databases cannot be the same. Which database are you trying to link to?\"\n",
    "\n",
    "    time.sleep(0.5)  # Respect NCBI's rate limits\n",
    "    \n",
    "    try:\n",
    "        handle = Entrez.elink(\n",
    "            dbfrom=source_db,\n",
    "            db=target_db,\n",
    "            id=[entrez_id],\n",
    "            retmode=\"xml\"\n",
    "        )\n",
    "        record = handle.read()\n",
    "    except Entrez.Parser.ValidationError:\n",
    "        print(f\"Failed to find links for: {entrez_id}\")\n",
    "        return f\"Failed to find links. Check database names and Entrez ID.\"\n",
    "    finally:\n",
    "        handle.close()\n",
    "        \n",
    "    try:\n",
    "        record = record.decode(\"utf-8\")\n",
    "    except:\n",
    "        pass\n",
    "        \n",
    "    if \"ERROR\" in record.upper():\n",
    "        return f\"Failed to find links. Verify database names ({source_db}, {target_db}) and Entrez ID.\"\n",
    "        \n",
    "    return str(record)\n",
    "\n",
    "# elink.invoke({\"source_db\" : \"sra\", \"target_db\" : \"gds\", \"entrez_id\" : \"35966237\"})"
   ]
  },
  {
   "cell_type": "code",
   "execution_count": 24,
   "metadata": {},
   "outputs": [],
   "source": [
    "@tool\n",
    "def which_entrez_databases(\n",
    "    entrez_id: Annotated[str, \"Entrez ID\"],\n",
    ") -> Annotated[Union[str, List[str]], \"List of databases where the ID was found or error message\"]:\n",
    "    \"\"\"\n",
    "    Check which databases an Entrez ID is found in.\n",
    "    \"\"\"\n",
    "    # More complete list of databases\n",
    "    databases = [\n",
    "        \"sra\", \"gds\", \"pubmed\", \"biosample\", \"bioproject\", \n",
    "    ]\n",
    "    \n",
    "    found_in = []\n",
    "    for db in databases:\n",
    "        try:\n",
    "            time.sleep(0.33)\n",
    "            handle = Entrez.esummary(db=db, id=entrez_id)\n",
    "            record = Entrez.read(handle)\n",
    "            found_in.append(db)\n",
    "            handle.close()\n",
    "        except Exception as e:\n",
    "            continue\n",
    "            \n",
    "    if not found_in:\n",
    "        return f\"Entrez ID {entrez_id} not found in any database.\"\n",
    "    return found_in        \n",
    "\n",
    "# Example usage\n",
    "#which_entrez_databases.invoke({\"entrez_id\" : \"35966237\"})"
   ]
  },
  {
   "cell_type": "markdown",
   "metadata": {},
   "source": [
    "# Models"
   ]
  },
  {
   "cell_type": "code",
   "execution_count": 25,
   "metadata": {},
   "outputs": [],
   "source": [
    "from langchain_openai import ChatOpenAI"
   ]
  },
  {
   "cell_type": "code",
   "execution_count": 33,
   "metadata": {},
   "outputs": [],
   "source": [
    "# set model\n",
    "model_supervisor = ChatOpenAI(model=\"gpt-4o\")\n",
    "model_worker = ChatOpenAI(model=\"gpt-4o-mini\")"
   ]
  },
  {
   "cell_type": "markdown",
   "metadata": {},
   "source": [
    "# Agents"
   ]
  },
  {
   "cell_type": "code",
   "execution_count": 30,
   "metadata": {},
   "outputs": [],
   "source": [
    "from langgraph.prebuilt import create_react_agent\n",
    "from langchain_core.messages import BaseMessage, HumanMessage, AIMessage"
   ]
  },
  {
   "cell_type": "markdown",
   "metadata": {},
   "source": [
    "## esearch"
   ]
  },
  {
   "cell_type": "code",
   "execution_count": 58,
   "metadata": {},
   "outputs": [],
   "source": [
    "esearch_agent = create_react_agent(\n",
    "    model=model_worker,\n",
    "    tools=[esearch],\n",
    "    state_modifier=\"\\n\".join([\n",
    "        \"You are an expert in bioinformatics and you are working on a project to find information about a specific dataset.\",\n",
    "        \"Based on the task provided by your supervisor, use Entrez esearch to help complete the task.\",\n",
    "        \"Provide a concise summary of your findings; use lists when possible; do not include helpful wording.\",\n",
    "    ])\n",
    ")\n",
    "\n",
    "# inputs = {\"messages\": [(\"user\", \"Investigate GSE121737\")]}\n",
    "# esearch_agent.invoke(inputs)"
   ]
  },
  {
   "cell_type": "code",
   "execution_count": 59,
   "metadata": {},
   "outputs": [],
   "source": [
    "@tool\n",
    "def invoke_esearch_worker(\n",
    "    message: Annotated[str, \"Message to the worker\"],\n",
    ") -> Annotated[str, \"Response from the worker\"]:\n",
    "    \"\"\"\n",
    "    Invoke the esearch worker to perform a task.\n",
    "    \"\"\"\n",
    "    result = esearch_agent.invoke({\"messages\": [(\"user\", message)]})\n",
    "    # just return the response\n",
    "    return {\n",
    "        \"messages\": [HumanMessage(content=result[\"messages\"][-1].content, name=\"esearch worker\")]\n",
    "    }\n",
    "\n",
    "#invoke_esearch_worker.invoke({\"message\" : \"Investigate GSE121737\"})"
   ]
  },
  {
   "cell_type": "markdown",
   "metadata": {},
   "source": [
    "## esummary"
   ]
  },
  {
   "cell_type": "code",
   "execution_count": 60,
   "metadata": {},
   "outputs": [],
   "source": [
    "esummary_agent = create_react_agent(\n",
    "    model=model_worker,\n",
    "    tools=[esummary, which_entrez_databases],\n",
    "    state_modifier=\"\\n\".join([\n",
    "        \"You are an expert in bioinformatics and you are working on a project to find information about a specific dataset.\",\n",
    "        \"Based on the task provided by your supervisor, use Entrez esummary to help complete the task.\",\n",
    "        \"You can use which_entrez_databases to determine which databases to use for esummary queries.\",\n",
    "        \"Provide a concise summary of your findings; use lists when possible; do not include helpful wording.\",\n",
    "    ])\n",
    ")"
   ]
  },
  {
   "cell_type": "code",
   "execution_count": 61,
   "metadata": {},
   "outputs": [],
   "source": [
    "@tool\n",
    "def invoke_esummary_worker(\n",
    "    message: Annotated[str, \"Message to the worker. Be sure to provide Entrez IDs.\"],\n",
    ") -> Annotated[str, \"Response from the worker\"]:\n",
    "    \"\"\"\n",
    "    Invoke the esummary worker to perform a task.\n",
    "    \"\"\"\n",
    "    result = esummary_agent.invoke({\"messages\": [(\"user\", message)]})\n",
    "    # just return the final response\n",
    "    return {\n",
    "        \"messages\": [HumanMessage(content=result[\"messages\"][-1].content, name=\"esummary worker\")]\n",
    "    }\n",
    "\n",
    "# invoke_esummary_worker.invoke({\"message\" : \"Investigate Entrez ID 35966237\"})"
   ]
  },
  {
   "cell_type": "markdown",
   "metadata": {},
   "source": [
    "## efetch"
   ]
  },
  {
   "cell_type": "code",
   "execution_count": 62,
   "metadata": {},
   "outputs": [],
   "source": [
    "efetch_agent = create_react_agent(\n",
    "    model=model_worker,\n",
    "    tools=[efetch, which_entrez_databases],\n",
    "    state_modifier=\"\\n\".join([\n",
    "        \"You are an expert in bioinformatics and you are working on a project to find information about a specific dataset.\",\n",
    "        \"Based on the task provided by your supervisor, use Entrez efetch to help complete the task.\",\n",
    "        \"You can use which_entrez_databases to determine which databases to use for efetch queries.\",\n",
    "        \"Provide a concise summary of your findings; use lists when possible; do not include helpful wording.\",\n",
    "    ])\n",
    ")"
   ]
  },
  {
   "cell_type": "code",
   "execution_count": 63,
   "metadata": {},
   "outputs": [],
   "source": [
    "@tool\n",
    "def invoke_efetch_worker(\n",
    "    message: Annotated[str, \"Message to the worker. Be sure to provide Entrez IDs.\"],\n",
    ") -> Annotated[str, \"Response from the worker\"]:\n",
    "    \"\"\"\n",
    "    Invoke the efetch worker to perform a task.\n",
    "    \"\"\"\n",
    "    result = efetch_agent.invoke({\"messages\": [(\"user\", message)]})\n",
    "    # just return the final response\n",
    "    return {\n",
    "        \"messages\": [HumanMessage(content=result[\"messages\"][-1].content, name=\"efetch worker\")]\n",
    "    }"
   ]
  },
  {
   "cell_type": "markdown",
   "metadata": {},
   "source": [
    "## elink"
   ]
  },
  {
   "cell_type": "code",
   "execution_count": 65,
   "metadata": {},
   "outputs": [],
   "source": [
    "elink_agent = create_react_agent(\n",
    "    model=model_worker,\n",
    "    tools=[elink, which_entrez_databases],\n",
    "    state_modifier=\"\\n\".join([\n",
    "        \"You are an expert in bioinformatics and you are working on a project to find information about a specific dataset.\",\n",
    "        \"Based on the task provided by your supervisor, use Entrez elink to help complete the task.\",\n",
    "        \"elink is useful for finding related entries between Entrez databases.\",\n",
    "        \"You can use which_entrez_databases to determine which databases to use for elink queries.\",\n",
    "        \"Provide a concise summary of your findings; use lists when possible; do not include helpful wording.\",\n",
    "    ])\n",
    ")"
   ]
  },
  {
   "cell_type": "code",
   "execution_count": 66,
   "metadata": {},
   "outputs": [],
   "source": [
    "@tool\n",
    "def invoke_elink_worker(\n",
    "    message: Annotated[str, \"Message to the worker. Be sure to provide Entrez IDs.\"],\n",
    ") -> Annotated[str, \"Response from the worker\"]:\n",
    "    \"\"\"\n",
    "    Invoke the efetch worker to perform a task.\n",
    "    \"\"\"\n",
    "    result = elink_agent.invoke({\"messages\": [(\"user\", message)]})\n",
    "    # just return the final response\n",
    "    return {\n",
    "        \"messages\": [HumanMessage(content=result[\"messages\"][-1].content, name=\"elink worker\")]\n",
    "    }"
   ]
  },
  {
   "cell_type": "markdown",
   "metadata": {},
   "source": [
    "## Supervisor"
   ]
  },
  {
   "cell_type": "code",
   "execution_count": 67,
   "metadata": {},
   "outputs": [
    {
     "name": "stdout",
     "output_type": "stream",
     "text": [
      "{'agent': {'messages': [AIMessage(content='', additional_kwargs={'tool_calls': [{'id': 'call_EILZmJ28RZxzb4j14WxZC1yI', 'function': {'arguments': '{\"message\":\"Convert GSE121737 to Entrez IDs in the GEO database.\"}', 'name': 'invoke_esearch_worker'}, 'type': 'function'}], 'refusal': None}, response_metadata={'token_usage': {'completion_tokens': 29, 'prompt_tokens': 521, 'total_tokens': 550, 'completion_tokens_details': {'accepted_prediction_tokens': 0, 'audio_tokens': 0, 'reasoning_tokens': 0, 'rejected_prediction_tokens': 0}, 'prompt_tokens_details': {'audio_tokens': 0, 'cached_tokens': 0}}, 'model_name': 'gpt-4o-2024-08-06', 'system_fingerprint': 'fp_159d8341cc', 'finish_reason': 'tool_calls', 'logprobs': None}, id='run-e263965a-4fd7-46f1-b0c3-19260689a42f-0', tool_calls=[{'name': 'invoke_esearch_worker', 'args': {'message': 'Convert GSE121737 to Entrez IDs in the GEO database.'}, 'id': 'call_EILZmJ28RZxzb4j14WxZC1yI', 'type': 'tool_call'}], usage_metadata={'input_tokens': 521, 'output_tokens': 29, 'total_tokens': 550, 'input_token_details': {'audio': 0, 'cache_read': 0}, 'output_token_details': {'audio': 0, 'reasoning': 0}})]}}\n",
      "{'tools': {'messages': [ToolMessage(content=\"{'messages': [HumanMessage(content='Entrez IDs for GSE121737 in the GEO database:\\\\n\\\\n- 200121737\\\\n- 100024679\\\\n- 303444964\\\\n- 303444963\\\\n- 303444962', additional_kwargs={}, response_metadata={}, name='esearch worker')]}\", name='invoke_esearch_worker', id='47b4bea4-2541-415b-9946-7ce427649553', tool_call_id='call_EILZmJ28RZxzb4j14WxZC1yI')]}}\n",
      "{'agent': {'messages': [AIMessage(content='', additional_kwargs={'tool_calls': [{'id': 'call_Gz5c7EBqAtorpOBxok08lkLZ', 'function': {'arguments': '{\"message\":\"Get SRX accessions for Entrez IDs 200121737, 100024679, 303444964, 303444963, 303444962.\"}', 'name': 'invoke_esummary_worker'}, 'type': 'function'}], 'refusal': None}, response_metadata={'token_usage': {'completion_tokens': 49, 'prompt_tokens': 626, 'total_tokens': 675, 'completion_tokens_details': {'accepted_prediction_tokens': 0, 'audio_tokens': 0, 'reasoning_tokens': 0, 'rejected_prediction_tokens': 0}, 'prompt_tokens_details': {'audio_tokens': 0, 'cached_tokens': 0}}, 'model_name': 'gpt-4o-2024-08-06', 'system_fingerprint': 'fp_159d8341cc', 'finish_reason': 'tool_calls', 'logprobs': None}, id='run-4e4467ee-23e6-4f42-9148-45db8031cf22-0', tool_calls=[{'name': 'invoke_esummary_worker', 'args': {'message': 'Get SRX accessions for Entrez IDs 200121737, 100024679, 303444964, 303444963, 303444962.'}, 'id': 'call_Gz5c7EBqAtorpOBxok08lkLZ', 'type': 'tool_call'}], usage_metadata={'input_tokens': 626, 'output_tokens': 49, 'total_tokens': 675, 'input_token_details': {'audio': 0, 'cache_read': 0}, 'output_token_details': {'audio': 0, 'reasoning': 0}})]}}\n",
      "{'tools': {'messages': [ToolMessage(content=\"{'messages': [HumanMessage(content='- **Entrez ID: 200121737**\\\\n  - **GSE Accession:** GSE121737\\\\n  - **SRX Accessions:** SRP167700\\\\n  - **Samples:**\\\\n    - GSM3444963\\\\n    - GSM3444962\\\\n    - GSM3444964\\\\n\\\\n- **Entrez ID: 100024679**\\\\n  - **GPL Accession:** GPL24679\\\\n  - **GSE Accessions:** GSE132325, GSE151535, GSE206234, GSE121737, GSE192477, GSE184948, GSE240796, GSE206238, GSE166916\\\\n\\\\n- **Entrez ID: 303444964**\\\\n  - **GSM Accession:** GSM3444964\\\\n  - **SRX Accessions:** SRX4967529\\\\n\\\\n- **Entrez ID: 303444963**\\\\n  - **GSM Accession:** GSM3444963\\\\n  - **SRX Accessions:** SRX4967528\\\\n\\\\n- **Entrez ID: 303444962**\\\\n  - **GSM Accession:** GSM3444962\\\\n  - **SRX Accessions:** SRX4967527', additional_kwargs={}, response_metadata={}, name='esummary worker')]}\", name='invoke_esummary_worker', id='5e5e1666-5bb5-4d57-b47d-614d2eec3be3', tool_call_id='call_Gz5c7EBqAtorpOBxok08lkLZ')]}}\n",
      "{'agent': {'messages': [AIMessage(content='The SRX accessions for GSE121737 are:\\n\\n- **SRX4967529** (GSM3444964)\\n- **SRX4967528** (GSM3444963)\\n- **SRX4967527** (GSM3444962)', additional_kwargs={'refusal': None}, response_metadata={'token_usage': {'completion_tokens': 58, 'prompt_tokens': 974, 'total_tokens': 1032, 'completion_tokens_details': {'accepted_prediction_tokens': 0, 'audio_tokens': 0, 'reasoning_tokens': 0, 'rejected_prediction_tokens': 0}, 'prompt_tokens_details': {'audio_tokens': 0, 'cached_tokens': 0}}, 'model_name': 'gpt-4o-2024-08-06', 'system_fingerprint': 'fp_159d8341cc', 'finish_reason': 'stop', 'logprobs': None}, id='run-4cab51af-4411-484f-9d59-2811bf294f01-0', usage_metadata={'input_tokens': 974, 'output_tokens': 58, 'total_tokens': 1032, 'input_token_details': {'audio': 0, 'cache_read': 0}, 'output_token_details': {'audio': 0, 'reasoning': 0}})]}}\n"
     ]
    }
   ],
   "source": [
    "entrez_agent = create_react_agent(\n",
    "    model=model_supervisor,\n",
    "    tools=[invoke_esearch_worker, invoke_esummary_worker, invoke_efetch_worker, invoke_elink_worker, which_entrez_databases],\n",
    "    state_modifier=\"\\n\".join([\n",
    "        \"You are a helpful senior bioinformatician assisting a researcher with a task involving Entrez databases.\",\n",
    "        \"You have a team of workers who can perform specific tasks using Entrez tools.\",\n",
    "        \"Provide guidance to the workers to help them complete the task successfully.\",\n",
    "        \"Generally, start with eSearch to find Entrez records, then use eFetch to get detailed information.\",\n",
    "        \"Use eSummary to obtain summary information on an Entrez record.\",\n",
    "        \"Use eLink to navigate between databases to find related records (e.g., GEO to SRA).\",\n",
    "        \"Continue sending tasks to your workers until you successfully complete the task.\",\n",
    "        \"Be very concise; provide simple lists when possible; do not include unnecessary wording such as \\\"If you need further assistance\\\".\",\n",
    "        \"\\n#-- Accession notes --#\",\n",
    "        \"SRA accesssion prefixes: SRX, SRP, SRR\",\n",
    "        \"ENA accession prefixes: ERX, PRJNA, DRX, E-MTAB\",\n",
    "        \"GEO accession prefixes: GSE, GSM, GPL\",\n",
    "        \"BioProject accession prefixes: PRJNA, PRJEB, PRJDB\",\n",
    "        \"BioSample accession prefixes: SAMN, SAME\",\n",
    "        \"#-- Database notes --#\",\n",
    "        \"Entrez databases: sra, gds, pubmed, biosample, bioproject\",\n",
    "        \"#-- Example workflows --#\",\n",
    "        \"# Task: Convert GSE123456 to SRX accessions\",\n",
    "        \"  1. esearch of GSE accession to obtain Entrez IDs\",\n",
    "        \"  2. esummary of the Entrez IDs to get the SRX accessions\"\n",
    "        \"\\n\"\n",
    "    ])\n",
    ")\n",
    "\n",
    "# invoke the agent\n",
    "inputs = {\"messages\": [(\"user\", \"Convert GSE121737 to SRX accessions\")]}\n",
    "config = {\"max_concurrency\" : 3, \"recursion_limit\": 30}\n",
    "for step in entrez_agent.stream(inputs, config=config):\n",
    "    print(step)\n"
   ]
  },
  {
   "cell_type": "markdown",
   "metadata": {},
   "source": [
    "# Graph"
   ]
  },
  {
   "cell_type": "code",
   "execution_count": 11,
   "metadata": {},
   "outputs": [],
   "source": [
    "import operator\n",
    "from typing import Annotated, Sequence, Tuple, Union, Required\n",
    "from typing_extensions import TypedDict\n",
    "from langchain_core.messages import BaseMessage, HumanMessage, AIMessage\n",
    "from langchain_core.prompts import ChatPromptTemplate, MessagesPlaceholder\n",
    "from langchain_core.runnables import RunnableConfig\n",
    "from langchain_openai import ChatOpenAI\n",
    "from langgraph.types import Send\n",
    "from langgraph.graph import START, END, StateGraph, MessagesState\n",
    "from pydantic import BaseModel, Field\n",
    "from langgraph.prebuilt import create_react_agent, ToolNode"
   ]
  },
  {
   "cell_type": "code",
   "execution_count": 96,
   "metadata": {},
   "outputs": [],
   "source": [
    "# set model\n",
    "model_big = ChatOpenAI(model=\"gpt-4o\")\n",
    "model = ChatOpenAI(model=\"gpt-4o-mini\")"
   ]
  },
  {
   "cell_type": "code",
   "execution_count": null,
   "metadata": {},
   "outputs": [],
   "source": [
    "def worker_agent_node(state, agent, name):\n",
    "    \"\"\"\n",
    "    Convert agent output to a human message for the graph.\n",
    "    Just returns the last message from the agent.\n",
    "    Args:\n",
    "        state: The current state of the graph.\n",
    "        agent: The agent that generated the messages.\n",
    "        name: The name of the agent.\n",
    "    \"\"\"\n",
    "    # just last command to worker agent\n",
    "    result = agent.invoke(state[\"messages\"][-1])\n",
    "    return {\n",
    "        \"messages\": [HumanMessage(content=result[\"messages\"][-1].content, name=name)]\n",
    "    }"
   ]
  },
  {
   "cell_type": "code",
   "execution_count": null,
   "metadata": {},
   "outputs": [],
   "source": []
  },
  {
   "cell_type": "code",
   "execution_count": null,
   "metadata": {},
   "outputs": [],
   "source": [
    "entrez_agent = create_react_agent(\n",
    "    model=model_big,\n",
    "    tools=[esearch, efetch, esummary, elink],\n",
    "    state_modifier=\"\\n\".join([\n",
    "        \"You are provided with an Entrez record ID.\",\n",
    "        \"Your task is to gather information about the dataset associated with the record.\",\n",
    "        \"Start with the eSearch tool to find the record, then use eFetch to get detailed information.\",\n",
    "        \"Use eSummary to obtain summary information of the record.\",\n",
    "        \"Your primary goal is to obtain SRA accessions (e.g., SRX, SRP, SRR) associated with the Entrez record.\",\n",
    "        \"If you obtain non-SRA accessions (e.g., ERX, PRJNA, DRX, E-MTAB), use eLink to find related SRA records.\",\n",
    "        \"Use eLink to navigate between databases and map non-SRA accessions to SRA accessions.\",\n",
    "        \"Continue using eLink and other tools until you successfully obtain the SRA accession numbers.\",\n",
    "        \"Verify each accession to ensure it is an SRA accession; if not, keep searching.\",\n",
    "        \"Summarize the SRA accessions you have found at the end of your search.\",\n",
    "        \"#-- Accession notes --#\",\n",
    "        \"SRA accesssion prefixes: SRX, SRP, SRR\",\n",
    "        \"ENA accession prefixes: ERX, PRJNA, DRX, E-MTAB\",\n",
    "        \"#-- elink notes --#\",\n",
    "        \"ENA to SRA: elink(source_db='sra', target_db='end'\",\n",
    "    ])\n",
    ")"
   ]
  },
  {
   "cell_type": "code",
   "execution_count": 98,
   "metadata": {},
   "outputs": [],
   "source": [
    "# subclass the state\n",
    "class GraphState(TypedDict):\n",
    "    messages: Annotated[Sequence[BaseMessage], operator.add]\n",
    "    SRX: Annotated[List[str], \"SRX accessions associated with the dataset.\"]\n",
    "    SRP: Annotated[List[str], \"SRP accessions associated with the dataset.\"]\n",
    "    SRR: Annotated[List[str], \"SRR accessions associated with the dataset.\"]"
   ]
  },
  {
   "cell_type": "code",
   "execution_count": 99,
   "metadata": {},
   "outputs": [],
   "source": [
    "# node to generate a structured output of accessions\n",
    "class Accesions(TypedDict):\n",
    "    SRX: List[str]\n",
    "    SRP: List[str]\n",
    "    SRR: List[str]\n",
    "\n",
    "def get_accessions(state: GraphState) -> Accesions:\n",
    "    \"\"\"\n",
    "    Extract the SRA experiment accessions (SRX) from the state.\n",
    "    \"\"\"\n",
    "     # Create a prompt template that includes previous messages\n",
    "    prompt = ChatPromptTemplate.from_messages([\n",
    "        # First add any static system message if needed\n",
    "        (\"system\", \"You are an expert in bioinformatics and have been asked to analyze an SRA dataset.\"),\n",
    "        # Include all previous messages from the state\n",
    "        MessagesPlaceholder(variable_name=\"history\"),\n",
    "        # Add the final question/instruction\n",
    "        (\"human\", \"\\n\".join([\n",
    "            \"Based on the information above, determine the following:\",\n",
    "            \"1. The SRX accessions associated with the dataset.\",\n",
    "            \"2. The SRP accessions associated with the dataset.\",\n",
    "            \"3. The SRR accessions associated with the dataset.\"\n",
    "            \"If you cannot find any particular type of accession, you can leave it blank.\"\n",
    "            ])\n",
    "        ),\n",
    "    ])\n",
    "    # Format the prompt with the message history\n",
    "    formatted_prompt = prompt.format_messages(\n",
    "        history=state[\"messages\"]\n",
    "    )\n",
    "    # Use the formatted prompt with the LLM\n",
    "    return model.with_structured_output(Accesions, strict=True).invoke(formatted_prompt)\n",
    "\n",
    "# test get_accessions\n",
    "# state = {\n",
    "#     \"messages\": [HumanMessage(content=\"The accession is SRR13112659. The dataset is from a single-cell RNA-seq experiment with Illumina paired-end reads. There is another accession: SRP319646. The dataset is from a study on the human brain. The dataset is part of a larger project with the accession PR\")],\n",
    "# }\n",
    "#get_accessions(state)"
   ]
  },
  {
   "cell_type": "code",
   "execution_count": 100,
   "metadata": {},
   "outputs": [],
   "source": [
    "#-- graph --#\n",
    "workflow = StateGraph(GraphState)\n",
    "\n",
    "# nodes\n",
    "workflow.add_node(\"entrez_agent_node\", entrez_agent)\n",
    "workflow.add_node(\"get_accessions_node\", get_accessions)\n",
    "\n",
    "# edges\n",
    "workflow.add_edge(START, \"entrez_agent_node\")\n",
    "#workflow.add_edge(\"entrez_agent_node\", END)\n",
    "workflow.add_edge(\"entrez_agent_node\", \"get_accessions_node\")\n",
    "workflow.add_edge(\"get_accessions_node\", END)\n",
    "\n",
    "# compile the graph\n",
    "graph = workflow.compile()"
   ]
  },
  {
   "cell_type": "code",
   "execution_count": 101,
   "metadata": {},
   "outputs": [
    {
     "data": {
      "image/jpeg": "[encoded data removed]",
      "text/plain": [
       "<IPython.core.display.Image object>"
      ]
     },
     "execution_count": 101,
     "metadata": {},
     "output_type": "execute_result"
    }
   ],
   "source": [
    "from IPython.display import Image\n",
    "Image(graph.get_graph().draw_mermaid_png())"
   ]
  },
  {
   "cell_type": "code",
   "execution_count": 102,
   "metadata": {},
   "outputs": [
    {
     "name": "stdout",
     "output_type": "stream",
     "text": [
      "{'entrez_agent_node': {'messages': [HumanMessage(content='Entrez ID: 36029097', additional_kwargs={}, response_metadata={}, id='1b7b9def-2a57-462b-8e05-fc57c75ad568'), AIMessage(content='', additional_kwargs={'tool_calls': [{'id': 'call_LT2gZ25PDPYCLCQDegj34Lbt', 'function': {'arguments': '{\"database\":\"sra\",\"entrez_id\":\"36029097\"}', 'name': 'esummary'}, 'type': 'function'}], 'refusal': None}, response_metadata={'token_usage': {'completion_tokens': 23, 'prompt_tokens': 484, 'total_tokens': 507, 'completion_tokens_details': {'accepted_prediction_tokens': 0, 'audio_tokens': 0, 'reasoning_tokens': 0, 'rejected_prediction_tokens': 0}, 'prompt_tokens_details': {'audio_tokens': 0, 'cached_tokens': 0}}, 'model_name': 'gpt-4o-2024-08-06', 'system_fingerprint': 'fp_159d8341cc', 'finish_reason': 'tool_calls', 'logprobs': None}, id='run-d8aab24f-7a65-44ac-aedb-25ab7e509f93-0', tool_calls=[{'name': 'esummary', 'args': {'database': 'sra', 'entrez_id': '36029097'}, 'id': 'call_LT2gZ25PDPYCLCQDegj34Lbt', 'type': 'tool_call'}], usage_metadata={'input_tokens': 484, 'output_tokens': 23, 'total_tokens': 507, 'input_token_details': {'audio': 0, 'cache_read': 0}, 'output_token_details': {'audio': 0, 'reasoning': 0}}), ToolMessage(content='<?xml version=\"1.0\" encoding=\"UTF-8\" ?>\\n<!DOCTYPE eSummaryResult PUBLIC \"-//NLM//DTD esummary v1 20041029//EN\" \"https://eutils.ncbi.nlm.nih.gov/eutils/dtd/20041029/esummary-v1.dtd\">\\n<eSummaryResult>\\n<DocSum>\\n\\t<Id>36029097</Id>\\n\\t<Item Name=\"ExpXml\" Type=\"String\">&lt;Summary&gt;&lt;Title&gt;Illumina NovaSeq 6000 paired end sequencing&lt;/Title&gt;&lt;Platform instrument_model=\"Illumina NovaSeq 6000\"&gt;ILLUMINA&lt;/Platform&gt;&lt;Statistics total_runs=\"1\" total_spots=\"148471491\" total_bases=\"29991241182\" total_size=\"11417639563\" load_done=\"true\" cluster_name=\"public\"/&gt;&lt;/Summary&gt;&lt;Submitter acc=\"ERA30929992\" center_name=\"Klinikum rechts der Isar, II. Medizinische Klinik\" contact_name=\"European Nucleotide Archive\" lab_name=\"European Nucleotide Archive\"/&gt;&lt;Experiment acc=\"ERX13336121\" ver=\"1\" status=\"public\" name=\"Illumina NovaSeq 6000 paired end sequencing\"/&gt;&lt;Study acc=\"ERP165048\" name=\"Single cell RNA sequencing of splenocytes from (CD3eKO) B-NIKtg-A20\"/&gt;&lt;Organism taxid=\"10090\" ScientificName=\"Mus musculus\"/&gt;&lt;Sample acc=\"ERS21882369\" name=\"\"/&gt;&lt;Instrument ILLUMINA=\"Illumina NovaSeq 6000\"/&gt;&lt;Library_descriptor&gt;&lt;LIBRARY_NAME&gt;5_Sup1_12933_spl_bÂ&lt;/LIBRARY_NAME&gt;&lt;LIBRARY_STRATEGY&gt;RNA-Seq&lt;/LIBRARY_STRATEGY&gt;&lt;LIBRARY_SOURCE&gt;TRANSCRIPTOMIC SINGLE CELL&lt;/LIBRARY_SOURCE&gt;&lt;LIBRARY_SELECTION&gt;cDNA&lt;/LIBRARY_SELECTION&gt;&lt;LIBRARY_LAYOUT&gt; &lt;PAIRED/&gt; &lt;/LIBRARY_LAYOUT&gt;&lt;/Library_descriptor&gt;&lt;Bioproject&gt;PRJEB81204&lt;/Bioproject&gt;&lt;Biosample&gt;SAMEA116821673&lt;/Biosample&gt;</Item>\\n\\t<Item Name=\"Runs\" Type=\"String\">&lt;Run acc=\"ERR13934239\" total_spots=\"148471491\" total_bases=\"29991241182\" load_done=\"true\" is_public=\"true\" cluster_name=\"public\" static_data_available=\"true\"/&gt;</Item>\\n\\t<Item Name=\"ExtLinks\" Type=\"String\"></Item>\\n\\t<Item Name=\"CreateDate\" Type=\"String\">2024/11/09</Item>\\n\\t<Item Name=\"UpdateDate\" Type=\"String\">2024/11/09</Item>\\n</DocSum>\\n\\n</eSummaryResult>\\n', name='esummary', id='d298cb3f-8d53-453e-bcdf-05523e1b92da', tool_call_id='call_LT2gZ25PDPYCLCQDegj34Lbt'), AIMessage(content='', additional_kwargs={'tool_calls': [{'id': 'call_elSh61UzJPWTIZffAHKrYrIy', 'function': {'arguments': '{\"source_db\":\"sra\",\"target_db\":\"sra\",\"entrez_id\":\"36029097\"}', 'name': 'elink'}, 'type': 'function'}], 'refusal': None}, response_metadata={'token_usage': {'completion_tokens': 30, 'prompt_tokens': 1165, 'total_tokens': 1195, 'completion_tokens_details': {'accepted_prediction_tokens': 0, 'audio_tokens': 0, 'reasoning_tokens': 0, 'rejected_prediction_tokens': 0}, 'prompt_tokens_details': {'audio_tokens': 0, 'cached_tokens': 0}}, 'model_name': 'gpt-4o-2024-08-06', 'system_fingerprint': 'fp_159d8341cc', 'finish_reason': 'tool_calls', 'logprobs': None}, id='run-dfe71339-d087-4b70-be16-243656cb1c91-0', tool_calls=[{'name': 'elink', 'args': {'source_db': 'sra', 'target_db': 'sra', 'entrez_id': '36029097'}, 'id': 'call_elSh61UzJPWTIZffAHKrYrIy', 'type': 'tool_call'}], usage_metadata={'input_tokens': 1165, 'output_tokens': 30, 'total_tokens': 1195, 'input_token_details': {'audio': 0, 'cache_read': 0}, 'output_token_details': {'audio': 0, 'reasoning': 0}}), ToolMessage(content='<?xml version=\"1.0\" encoding=\"UTF-8\" ?>\\n<!DOCTYPE eLinkResult PUBLIC \"-//NLM//DTD elink 20101123//EN\" \"https://eutils.ncbi.nlm.nih.gov/eutils/dtd/20101123/elink.dtd\">\\n<eLinkResult>\\n\\n  <LinkSet>\\n    <DbFrom>sra</DbFrom>\\n    <IdList>\\n      <Id>36029097</Id>\\n    </IdList>\\n  </LinkSet>\\n</eLinkResult>\\n', name='elink', id='29978bbb-55b9-498f-8368-23127c721e66', tool_call_id='call_elSh61UzJPWTIZffAHKrYrIy'), AIMessage(content='The Entrez record ID 36029097 is associated with non-SRA accessions. Here are the accessions found:\\n\\n- **Experiment Accession**: ERX13336121\\n- **Study Accession**: ERP165048\\n- **Bioproject**: PRJEB81204\\n- **Biosample**: SAMEA116821673\\n- **Run Accession**: ERR13934239\\n\\nThe run accession **ERR13934239** is associated with the European Nucleotide Archive (ENA), not directly with SRA. No direct SRA accession numbers (SRX, SRP, SRR) were found in the summary or via related links. \\n\\nTo map ERR13934239 to an SRA accession, further investigation through databases specific to SRA might be needed, or verification within the ENA to SRA mapping resources. However, based on the direct searches and links, no SRA accessions are provided for this Entrez ID.', additional_kwargs={'refusal': None}, response_metadata={'token_usage': {'completion_tokens': 199, 'prompt_tokens': 1312, 'total_tokens': 1511, 'completion_tokens_details': {'accepted_prediction_tokens': 0, 'audio_tokens': 0, 'reasoning_tokens': 0, 'rejected_prediction_tokens': 0}, 'prompt_tokens_details': {'audio_tokens': 0, 'cached_tokens': 1024}}, 'model_name': 'gpt-4o-2024-08-06', 'system_fingerprint': 'fp_159d8341cc', 'finish_reason': 'stop', 'logprobs': None}, id='run-6cdeca13-dcb2-4181-b757-b1549e94e1d9-0', usage_metadata={'input_tokens': 1312, 'output_tokens': 199, 'total_tokens': 1511, 'input_token_details': {'audio': 0, 'cache_read': 1024}, 'output_token_details': {'audio': 0, 'reasoning': 0}})]}}\n",
      "{'get_accessions_node': {'SRX': [], 'SRP': [], 'SRR': ['ERR13934239']}}\n"
     ]
    }
   ],
   "source": [
    "# Call the graph and stream\n",
    "#input = {\"entrez_id\" : \"35966237\", \"database\" : \"sra\"}\n",
    "#input = {\"messages\" : [HumanMessage(content=\"Entrez ID: 35966237\")]}\n",
    "input = {\"messages\" : [HumanMessage(content=\"Entrez ID: 36029097\")]}\n",
    "for step in graph.stream(input, config={\"max_concurrency\" : 3, \"recursion_limit\": 30}):\n",
    "    print(step)\n",
    "    final_step = step"
   ]
  },
  {
   "cell_type": "code",
   "execution_count": 103,
   "metadata": {},
   "outputs": [
    {
     "data": {
      "text/plain": [
       "{'get_accessions_node': {'SRX': [], 'SRP': [], 'SRR': ['ERR13934239']}}"
      ]
     },
     "execution_count": 103,
     "metadata": {},
     "output_type": "execute_result"
    }
   ],
   "source": [
    "final_step"
   ]
  },
  {
   "cell_type": "code",
   "execution_count": null,
   "metadata": {},
   "outputs": [],
   "source": []
  },
  {
   "cell_type": "code",
   "execution_count": null,
   "metadata": {},
   "outputs": [],
   "source": []
  }
 ],
 "metadata": {
  "kernelspec": {
   "display_name": "SRAgent",
   "language": "python",
   "name": "python3"
  },
  "language_info": {
   "codemirror_mode": {
    "name": "ipython",
    "version": 3
   },
   "file_extension": ".py",
   "mimetype": "text/x-python",
   "name": "python",
   "nbconvert_exporter": "python",
   "pygments_lexer": "ipython3",
   "version": "3.12.7"
  }
 },
 "nbformat": 4,
 "nbformat_minor": 2
}
