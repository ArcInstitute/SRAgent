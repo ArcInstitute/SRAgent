{
 "cells": [
  {
   "cell_type": "markdown",
   "metadata": {},
   "source": [
    "# Goal\n",
    "\n",
    "* Create a general supervisor-working agent that can use entrez tools to explore an Entrez record\n",
    "* Better dealig with large number of Entrez records"
   ]
  },
  {
   "cell_type": "markdown",
   "metadata": {},
   "source": [
    "# Init"
   ]
  },
  {
   "cell_type": "code",
   "execution_count": 24,
   "metadata": {},
   "outputs": [],
   "source": [
    "# import \n",
    "import os\n",
    "import time\n",
    "import json\n",
    "import xmltodict\n",
    "from enum import Enum\n",
    "from pprint import pprint\n",
    "from typing import Annotated, List, Dict, Tuple, Optional, Union, Any\n",
    "import xml.etree.ElementTree as ET\n",
    "from pydantic import BaseModel, Field\n",
    "from langchain_core.tools import tool\n",
    "from Bio import Entrez\n",
    "import pandas as pd\n",
    "import threading\n",
    "from dotenv import load_dotenv"
   ]
  },
  {
   "cell_type": "code",
   "execution_count": 25,
   "metadata": {},
   "outputs": [],
   "source": [
    "# setup\n",
    "load_dotenv()\n",
    "pd.set_option('display.max_colwidth', 1000)\n",
    "os.environ[\"DEBUG_MODE\"] = \"TRUE\""
   ]
  },
  {
   "cell_type": "code",
   "execution_count": 26,
   "metadata": {},
   "outputs": [
    {
     "name": "stdout",
     "output_type": "stream",
     "text": [
      "DEBUG_MODE is enabled.\n"
     ]
    }
   ],
   "source": [
    "# checks\n",
    "if os.getenv(\"DEBUG_MODE\") == \"TRUE\":\n",
    "    print(\"DEBUG_MODE is enabled.\")"
   ]
  },
  {
   "cell_type": "code",
   "execution_count": 27,
   "metadata": {},
   "outputs": [],
   "source": [
    "# set up Entrez\n",
    "Entrez.email = \"nick.youngblut@arcinstitute.org\"\n",
    "Entrez.api_key = os.getenv(\"NCBI_API_KEY\")\n",
    "# Set to 10 for API key users\n",
    "request_limiter = threading.Semaphore(10)"
   ]
  },
  {
   "cell_type": "markdown",
   "metadata": {},
   "source": [
    "# Tools"
   ]
  },
  {
   "cell_type": "code",
   "execution_count": 28,
   "metadata": {},
   "outputs": [],
   "source": [
    "def batch_ids(ids, batch_size):\n",
    "    \"\"\"\n",
    "    Batch a list of IDs into smaller lists of a given size.\n",
    "    \"\"\"\n",
    "    for i in range(0, len(ids), batch_size):\n",
    "        yield ids[i:i + batch_size]"
   ]
  },
  {
   "cell_type": "code",
   "execution_count": 35,
   "metadata": {},
   "outputs": [],
   "source": [
    "def truncate_values(record, max_length):\n",
    "    # truncate long values in the record\n",
    "    root = ET.fromstring(record)\n",
    "    for item in root.findall(\".//Item\"):\n",
    "        if item.text and len(item.text) > max_length:\n",
    "            item.text = item.text[:max_length] + \"...[truncated]\"\n",
    "    # convert back to string\n",
    "    return ET.tostring(root, encoding=\"unicode\")"
   ]
  },
  {
   "cell_type": "code",
   "execution_count": 36,
   "metadata": {},
   "outputs": [],
   "source": [
    "@tool \n",
    "def esearch(\n",
    "    esearch_query: Annotated[str, \"Entrez query string.\"],\n",
    "    database: Annotated[str, \"Database name (e.g., sra, gds, or pubmed)\"],\n",
    "    )-> Annotated[List[str], \"Entrez IDs of database records\"]:\n",
    "    \"\"\"\n",
    "    Run an Entrez search query and return the Entrez IDs of the results.\n",
    "    Example query for single cell RNA-seq:\n",
    "        `(\"single cell\"[Title] OR \"single-cell\"[Title] OR \"scRNA-seq\"[Title])`\n",
    "    Example query for an ENA accession number (database = sra):\n",
    "        `ERX13336121`\n",
    "    Example query for a GEO accession number (database = gds):\n",
    "        `GSE51372`\n",
    "    \"\"\"\n",
    "    # debug model\n",
    "    if os.getenv(\"DEBUG_MODE\") == \"TRUE\":\n",
    "        max_records = 2 \n",
    "\n",
    "    # query\n",
    "    records = []\n",
    "    retstart = 0\n",
    "    retmax = 50\n",
    "    while True:\n",
    "        try:\n",
    "            search_handle = Entrez.esearch(\n",
    "                db=database, \n",
    "                term=esearch_query, \n",
    "                retstart=retstart, \n",
    "                retmax=retmax\n",
    "            )\n",
    "            search_results = Entrez.read(search_handle)\n",
    "            search_handle.close()\n",
    "            # delete unneeded keys\n",
    "            to_rm = [\"RetMax\", \"RetStart\"]\n",
    "            for key in to_rm:\n",
    "                if key in search_results.keys():\n",
    "                    del search_results[key]\n",
    "            # add to records\n",
    "            records.append(str(search_results))\n",
    "            # update retstart\n",
    "            retstart += retmax\n",
    "            time.sleep(0.33)\n",
    "            if max_records and len(records) >= max_records:\n",
    "                break\n",
    "            if retstart >= int(search_results['Count']):\n",
    "                break\n",
    "        except Exception as e:\n",
    "            print(f\"Error searching {database} with query: {esearch_query}: {str(e)}\")\n",
    "            break \n",
    "        \n",
    "    # return records\n",
    "    if len(records) == 0:\n",
    "        return(f\"No records found for query: {esearch_query}\")\n",
    "    if os.getenv(\"DEBUG_MODE\") == \"TRUE\":\n",
    "        records = records[:max_records]  # debug\n",
    "    return records\n",
    "\n",
    "# esearch.invoke({\"esearch_query\" : \"GSE51372\", \"database\" : \"sra\"})\n",
    "# esearch.invoke({\"esearch_query\" : \"GSE121737\", \"database\" : \"gds\"})"
   ]
  },
  {
   "cell_type": "code",
   "execution_count": 39,
   "metadata": {},
   "outputs": [],
   "source": [
    "@tool \n",
    "def efetch(\n",
    "    entrez_ids: Annotated[List[str], \"List of Entrez IDs\"],\n",
    "    database: Annotated[str, \"Database name (e.g., sra, gds, or pubmed)\"],\n",
    ") -> Annotated[str, \"eFetch results in XML format\"]:\n",
    "    \"\"\"\n",
    "    Run an Entrez efetch query on Entrez IDs to obtain metadata for the records.\n",
    "    Useful for obtaining metadata for specific records.\n",
    "    \"\"\"\n",
    "    batch_size = 200  # Maximum number of IDs per request as per NCBI guidelines\n",
    "    records = []\n",
    "\n",
    "    for id_batch in batch_ids(entrez_ids, batch_size):\n",
    "        time.sleep(0.34)  # Respect the rate limit of 3 requests per second\n",
    "        id_str = \",\".join(id_batch)\n",
    "        try:\n",
    "            # Fetch the records for the current batch of IDs\n",
    "            handle = Entrez.efetch(db=database, id=id_str, retmode=\"xml\")\n",
    "            batch_record = handle.read()\n",
    "            handle.close()\n",
    "        except Entrez.Parser.ValidationError:\n",
    "            print(f\"Failed to fetch record for IDs: {id_str}\")\n",
    "            continue  # Skip this batch and proceed to the next\n",
    "        except Exception as e:\n",
    "            print(f\"An error occurred: {e}\")\n",
    "            continue\n",
    "        finally:\n",
    "            try:\n",
    "                handle.close()\n",
    "            except:\n",
    "                pass  # Handle cases where handle might not be open\n",
    "\n",
    "        # Decode the record if necessary\n",
    "        if isinstance(batch_record, bytes):\n",
    "            try:\n",
    "                batch_record = batch_record.decode(\"utf-8\")\n",
    "            except Exception as e:\n",
    "                print(f\"Decoding error: {e}\")\n",
    "                continue\n",
    "\n",
    "        # Truncate long values in the record\n",
    "        batch_record = truncate_values(batch_record, max_length=1000)\n",
    "\n",
    "        # convert to XML to JSON\n",
    "        batch_record = json.dumps(xmltodict.parse(batch_record), indent=2)\n",
    "\n",
    "        # Check for errors in the response\n",
    "        if \"Error occurred: cannot get document summary\" in batch_record:\n",
    "            print(f\"Failed to fetch record for IDs: {id_str}. Try a different database.\")\n",
    "            continue\n",
    "\n",
    "        records.append(batch_record)\n",
    "\n",
    "    # Combine all records into a single string\n",
    "    combined_records = \"\\n\".join(records)\n",
    "\n",
    "    return combined_records\n",
    "\n",
    "# records = efetch.invoke({ \"entrez_ids\" : [\"35966237\"], \"database\" : \"sra\"})\n",
    "# pprint(records)\n",
    "# records = efetch.invoke({\"entrez_ids\" : [\"200254051\"], \"database\" : \"gds\"})\n",
    "# pprint(records)"
   ]
  },
  {
   "cell_type": "code",
   "execution_count": 154,
   "metadata": {},
   "outputs": [],
   "source": [
    "@tool\n",
    "def esummary(\n",
    "    entrez_ids: Annotated[List[str], \"List of Entrez IDs\"],\n",
    "    database: Annotated[str, \"Database name (e.g., sra, gds, or pubmed)\"],\n",
    ") -> Annotated[str, \"eSummary results in XML format\"]:\n",
    "    \"\"\"\n",
    "    Run an Entrez esummary query on Entrez IDs to obtain summary information for the records.\n",
    "    Useful for obtaining summary information for specific records.\n",
    "    \"\"\"\n",
    "    batch_size = 200  # Maximum number of IDs per request as per NCBI guidelines\n",
    "    max_string_length = 500  # Maximum length of a string in the record\n",
    "    records = []\n",
    "    \n",
    "    for id_batch in batch_ids(entrez_ids, batch_size):\n",
    "        time.sleep(0.34)  # Respect NCBI's rate limits (no more than 3 requests per second)\n",
    "        id_str = \",\".join(id_batch)\n",
    "        \n",
    "        try:\n",
    "            # Fetch summary record for the current batch\n",
    "            handle = Entrez.esummary(db=database, id=id_str, retmode=\"xml\")\n",
    "            batch_record = handle.read()\n",
    "            handle.close()\n",
    "        except Entrez.Parser.ValidationError:\n",
    "            print(f\"Failed to fetch summary for IDs: {id_str}. Check if the IDs exist.\")\n",
    "            continue \n",
    "        except Exception as e:\n",
    "            print(f\"An error occurred: {e}\")\n",
    "            continue\n",
    "        finally:\n",
    "            try:\n",
    "                handle.close()\n",
    "            except:\n",
    "                pass  # Handle cases where the handle might not be open\n",
    "        \n",
    "        # Decode the record if necessary\n",
    "        if isinstance(batch_record, bytes):\n",
    "            try:\n",
    "                batch_record = batch_record.decode(\"utf-8\")\n",
    "            except Exception as e:\n",
    "                print(f\"Decoding error: {e}\")\n",
    "                continue\n",
    "            \n",
    "        # Truncate long values in the record\n",
    "        batch_record = truncate_values(batch_record, max_length=500)\n",
    "\n",
    "        # convert to XML to JSON\n",
    "        batch_record = json.dumps(xmltodict.parse(batch_record), indent=2)\n",
    "\n",
    "        # Check for errors in the response\n",
    "        if \"ERROR\" in batch_record.upper() or \"INVALID_ID\" in batch_record.upper():\n",
    "            print(f\"Failed to fetch summary for IDs: {id_str}. Try a different database or verify the IDs.\")\n",
    "            continue\n",
    "\n",
    "        # Append the batch record to the list of records\n",
    "        records.append(batch_record)\n",
    "    \n",
    "    # Combine all batch records into a single string\n",
    "    combined_records = \"\\n\".join(records)\n",
    "    return combined_records\n",
    "\n",
    "# esummary.invoke({\"entrez_ids\" : [\"35966237\"], \"database\" : \"sra\"})\n",
    "# esummary.invoke({\"entrez_ids\" : [\"200121737\"], \"database\" : \"sra\"})\n",
    "# esummary.invoke({\"entrez_ids\" : [\"6697288\"], \"database\" : \"sra\"})\n",
    "# IDs = [\"200148729\", \"100024676\", \"100020301\", \"100018573\", \"305022831\", \"305022830\", \"305022829\", \"305022828\", \"305022827\", \"305022826\"]\n",
    "# esummary.invoke({\"entrez_ids\" : IDs, \"database\" : \"gds\"})"
   ]
  },
  {
   "cell_type": "code",
   "execution_count": null,
   "metadata": {},
   "outputs": [
    {
     "data": {
      "text/plain": [
       "'{\\n  \"eLinkResult\": {\\n    \"LinkSet\": {\\n      \"DbFrom\": \"gds\",\\n      \"IdList\": {\\n        \"Id\": \"200148729\"\\n      },\\n      \"LinkSetDb\": {\\n        \"DbTo\": \"sra\",\\n        \"LinkName\": \"gds_sra\",\\n        \"Link\": [\\n          {\\n            \"Id\": \"11420006\"\\n          },\\n          {\\n            \"Id\": \"11420005\"\\n          },\\n          {\\n            \"Id\": \"11420004\"\\n          },\\n          {\\n            \"Id\": \"11420003\"\\n          },\\n          {\\n            \"Id\": \"11420002\"\\n          },\\n          {\\n            \"Id\": \"11420001\"\\n          },\\n          {\\n            \"Id\": \"11420000\"\\n          },\\n          {\\n            \"Id\": \"11419999\"\\n          },\\n          {\\n            \"Id\": \"11419998\"\\n          },\\n          {\\n            \"Id\": \"11419997\"\\n          },\\n          {\\n            \"Id\": \"11419996\"\\n          },\\n          {\\n            \"Id\": \"11419995\"\\n          },\\n          {\\n            \"Id\": \"11419994\"\\n          },\\n          {\\n            \"Id\": \"11419993\"\\n          },\\n          {\\n            \"Id\": \"11419992\"\\n          },\\n          {\\n            \"Id\": \"11419991\"\\n          },\\n          {\\n            \"Id\": \"11419990\"\\n          },\\n          {\\n            \"Id\": \"11419989\"\\n          },\\n          {\\n            \"Id\": \"11419988\"\\n          },\\n          {\\n            \"Id\": \"11419987\"\\n          },\\n          {\\n            \"Id\": \"11419986\"\\n          },\\n          {\\n            \"Id\": \"10569794\"\\n          },\\n          {\\n            \"Id\": \"10569793\"\\n          },\\n          {\\n            \"Id\": \"10569792\"\\n          },\\n          {\\n            \"Id\": \"10569791\"\\n          },\\n          {\\n            \"Id\": \"10569790\"\\n          },\\n          {\\n            \"Id\": \"10569789\"\\n          },\\n          {\\n            \"Id\": \"10569788\"\\n          },\\n          {\\n            \"Id\": \"10569787\"\\n          },\\n          {\\n            \"Id\": \"10569786\"\\n          },\\n          {\\n            \"Id\": \"10569785\"\\n          },\\n          {\\n            \"Id\": \"10569784\"\\n          },\\n          {\\n            \"Id\": \"10569783\"\\n          },\\n          {\\n            \"Id\": \"10569782\"\\n          },\\n          {\\n            \"Id\": \"10569781\"\\n          },\\n          {\\n            \"Id\": \"10569780\"\\n          },\\n          {\\n            \"Id\": \"10569779\"\\n          },\\n          {\\n            \"Id\": \"10569778\"\\n          },\\n          {\\n            \"Id\": \"10569777\"\\n          },\\n          {\\n            \"Id\": \"10569776\"\\n          },\\n          {\\n            \"Id\": \"10569775\"\\n          },\\n          {\\n            \"Id\": \"10569774\"\\n          },\\n          {\\n            \"Id\": \"10569773\"\\n          },\\n          {\\n            \"Id\": \"10569772\"\\n          },\\n          {\\n            \"Id\": \"10569771\"\\n          },\\n          {\\n            \"Id\": \"10569770\"\\n          },\\n          {\\n            \"Id\": \"10569769\"\\n          },\\n          {\\n            \"Id\": \"10569768\"\\n          },\\n          {\\n            \"Id\": \"10569767\"\\n          },\\n          {\\n            \"Id\": \"10569766\"\\n          },\\n          {\\n            \"Id\": \"10569765\"\\n          },\\n          {\\n            \"Id\": \"10569764\"\\n          },\\n          {\\n            \"Id\": \"10569763\"\\n          },\\n          {\\n            \"Id\": \"10569762\"\\n          },\\n          {\\n            \"Id\": \"10569761\"\\n          },\\n          {\\n            \"Id\": \"10569760\"\\n          },\\n          {\\n            \"Id\": \"10569759\"\\n          },\\n          {\\n            \"Id\": \"10569758\"\\n          },\\n          {\\n            \"Id\": \"10569757\"\\n          },\\n          {\\n            \"Id\": \"10569756\"\\n          },\\n          {\\n            \"Id\": \"10569755\"\\n          },\\n          {\\n            \"Id\": \"10569754\"\\n          },\\n          {\\n            \"Id\": \"10569753\"\\n          },\\n          {\\n            \"Id\": \"10569752\"\\n          },\\n          {\\n            \"Id\": \"10569751\"\\n          },\\n          {\\n            \"Id\": \"10569750\"\\n          },\\n          {\\n            \"Id\": \"10569749\"\\n          },\\n          {\\n            \"Id\": \"10569748\"\\n          },\\n          {\\n            \"Id\": \"10569747\"\\n          },\\n          {\\n            \"Id\": \"10569746\"\\n          },\\n          {\\n            \"Id\": \"10569745\"\\n          },\\n          {\\n            \"Id\": \"10569744\"\\n          },\\n          {\\n            \"Id\": \"10569743\"\\n          },\\n          {\\n            \"Id\": \"10569742\"\\n          },\\n          {\\n            \"Id\": \"10569741\"\\n          },\\n          {\\n            \"Id\": \"10569740\"\\n          },\\n          {\\n            \"Id\": \"10569739\"\\n          },\\n          {\\n            \"Id\": \"10569738\"\\n          },\\n          {\\n            \"Id\": \"10569737\"\\n          },\\n          {\\n            \"Id\": \"10569736\"\\n          },\\n          {\\n            \"Id\": \"10569735\"\\n          },\\n          {\\n            \"Id\": \"10569734\"\\n          },\\n          {\\n            \"Id\": \"10569733\"\\n          },\\n          {\\n            \"Id\": \"10569732\"\\n          },\\n          {\\n            \"Id\": \"10569731\"\\n          },\\n          {\\n            \"Id\": \"10569730\"\\n          },\\n          {\\n            \"Id\": \"10569729\"\\n          },\\n          {\\n            \"Id\": \"10569728\"\\n          },\\n          {\\n            \"Id\": \"10569727\"\\n          },\\n          {\\n            \"Id\": \"10569726\"\\n          },\\n          {\\n            \"Id\": \"10569725\"\\n          },\\n          {\\n            \"Id\": \"10569724\"\\n          },\\n          {\\n            \"Id\": \"10569723\"\\n          },\\n          {\\n            \"Id\": \"10569722\"\\n          },\\n          {\\n            \"Id\": \"10569721\"\\n          },\\n          {\\n            \"Id\": \"10569720\"\\n          },\\n          {\\n            \"Id\": \"10569719\"\\n          },\\n          {\\n            \"Id\": \"10569718\"\\n          },\\n          {\\n            \"Id\": \"10569717\"\\n          },\\n          {\\n            \"Id\": \"10569716\"\\n          },\\n          {\\n            \"Id\": \"10569715\"\\n          },\\n          {\\n            \"Id\": \"10569714\"\\n          },\\n          {\\n            \"Id\": \"10569713\"\\n          },\\n          {\\n            \"Id\": \"10569712\"\\n          },\\n          {\\n            \"Id\": \"10569711\"\\n          },\\n          {\\n            \"Id\": \"10569710\"\\n          },\\n          {\\n            \"Id\": \"10569709\"\\n          },\\n          {\\n            \"Id\": \"10569708\"\\n          },\\n          {\\n            \"Id\": \"10569707\"\\n          },\\n          {\\n            \"Id\": \"10569706\"\\n          },\\n          {\\n            \"Id\": \"10569705\"\\n          },\\n          {\\n            \"Id\": \"10569704\"\\n          },\\n          {\\n            \"Id\": \"10569703\"\\n          },\\n          {\\n            \"Id\": \"10569702\"\\n          },\\n          {\\n            \"Id\": \"10569701\"\\n          },\\n          {\\n            \"Id\": \"10569700\"\\n          },\\n          {\\n            \"Id\": \"10569699\"\\n          },\\n          {\\n            \"Id\": \"10569698\"\\n          },\\n          {\\n            \"Id\": \"10569697\"\\n          },\\n          {\\n            \"Id\": \"10569696\"\\n          },\\n          {\\n            \"Id\": \"10569695\"\\n          },\\n          {\\n            \"Id\": \"10569694\"\\n          },\\n          {\\n            \"Id\": \"10569693\"\\n          },\\n          {\\n            \"Id\": \"10569692\"\\n          },\\n          {\\n            \"Id\": \"10569691\"\\n          },\\n          {\\n            \"Id\": \"10569690\"\\n          },\\n          {\\n            \"Id\": \"10569689\"\\n          },\\n          {\\n            \"Id\": \"10569688\"\\n          },\\n          {\\n            \"Id\": \"10569687\"\\n          },\\n          {\\n            \"Id\": \"10569686\"\\n          },\\n          {\\n            \"Id\": \"10569685\"\\n          },\\n          {\\n            \"Id\": \"10569684\"\\n          },\\n          {\\n            \"Id\": \"10569683\"\\n          },\\n          {\\n            \"Id\": \"10569682\"\\n          },\\n          {\\n            \"Id\": \"10569681\"\\n          },\\n          {\\n            \"Id\": \"10569680\"\\n          },\\n          {\\n            \"Id\": \"10569679\"\\n          },\\n          {\\n            \"Id\": \"10569678\"\\n          },\\n          {\\n            \"Id\": \"10569677\"\\n          },\\n          {\\n            \"Id\": \"10569676\"\\n          },\\n          {\\n            \"Id\": \"10569675\"\\n          },\\n          {\\n            \"Id\": \"10569674\"\\n          },\\n          {\\n            \"Id\": \"10569673\"\\n          },\\n          {\\n            \"Id\": \"10569672\"\\n          },\\n          {\\n            \"Id\": \"10569671\"\\n          },\\n          {\\n            \"Id\": \"10569670\"\\n          },\\n          {\\n            \"Id\": \"10569669\"\\n          },\\n          {\\n            \"Id\": \"10569668\"\\n          },\\n          {\\n            \"Id\": \"10569667\"\\n          },\\n          {\\n            \"Id\": \"10569666\"\\n          },\\n          {\\n            \"Id\": \"10569665\"\\n          },\\n          {\\n            \"Id\": \"10569664\"\\n          },\\n          {\\n            \"Id\": \"10569663\"\\n          },\\n          {\\n            \"Id\": \"10569662\"\\n          },\\n          {\\n            \"Id\": \"10569661\"\\n          },\\n          {\\n            \"Id\": \"10569660\"\\n          },\\n          {\\n            \"Id\": \"10569659\"\\n          },\\n          {\\n            \"Id\": \"10569658\"\\n          },\\n          {\\n            \"Id\": \"10569657\"\\n          },\\n          {\\n            \"Id\": \"10569656\"\\n          },\\n          {\\n            \"Id\": \"10569655\"\\n          },\\n          {\\n            \"Id\": \"10569654\"\\n          },\\n          {\\n            \"Id\": \"10569653\"\\n          },\\n          {\\n            \"Id\": \"10569652\"\\n          },\\n          {\\n            \"Id\": \"10569651\"\\n          },\\n          {\\n            \"Id\": \"10569650\"\\n          },\\n          {\\n            \"Id\": \"10569649\"\\n          }\\n        ]\\n      }\\n    }\\n  }\\n}'"
      ]
     },
     "execution_count": 153,
     "metadata": {},
     "output_type": "execute_result"
    }
   ],
   "source": [
    "@tool\n",
    "def elink(\n",
    "    entrez_ids: Annotated[List[str], \"List of Entrez IDs\"],\n",
    "    source_db: Annotated[str, \"Source database (e.g., 'sra')\"],\n",
    "    target_db: Annotated[str, \"Target database (e.g., 'bioproject', 'biosample', 'pubmed')\"],\n",
    ") -> Annotated[str, \"eLink results in XML format\"]:\n",
    "    \"\"\"\n",
    "    Find related entries between Entrez databases, particularly useful for finding\n",
    "    BioProject, BioSample, or publication records related to SRA entries.\n",
    "    \"\"\"\n",
    "    batch_size = 200  # Maximum number of IDs per request as per NCBI guidelines\n",
    "    records = []\n",
    "\n",
    "    for id_batch in batch_ids(entrez_ids, batch_size):\n",
    "        time.sleep(0.34)  # Respect NCBI's rate limits (no more than 3 requests per second)\n",
    "        id_str = \",\".join(id_batch)\n",
    "        \n",
    "        try:\n",
    "            handle = Entrez.elink(\n",
    "                id=id_str,\n",
    "                dbfrom=source_db,\n",
    "                db=target_db,\n",
    "                retmode=\"xml\"\n",
    "            )\n",
    "            batch_record = handle.read()\n",
    "            handle.close()\n",
    "        except Entrez.Parser.ValidationError:\n",
    "            batch_record = f\"Failed to find links for IDs: {id_str}\"\n",
    "        except Exception as e:\n",
    "            batch_record = f\"An error occurred: {e}\"\n",
    "        finally:\n",
    "            try:\n",
    "                handle.close()\n",
    "            except:\n",
    "                pass  # Handle cases where the handle might not be open\n",
    "        \n",
    "        # Decode the record if necessary\n",
    "        if isinstance(batch_record, bytes):\n",
    "            try:\n",
    "                batch_record = batch_record.decode(\"utf-8\")\n",
    "            except Exception as e:\n",
    "                print(f\"Decoding error: {e}\")\n",
    "                continue\n",
    "\n",
    "        # Truncate long values in the record\n",
    "        batch_record = truncate_values(batch_record, max_length=1000)\n",
    "\n",
    "        # convert to XML to JSON\n",
    "        batch_record = json.dumps(xmltodict.parse(batch_record), indent=2)\n",
    "\n",
    "        # Check for errors in the response\n",
    "        if \"ERROR\" in batch_record.upper():\n",
    "            batch_record = f\"Failed to find links for IDs: {id_str}. Verify database names ({source_db}, {target_db}) and Entrez IDs.\"\n",
    "\n",
    "        # Append the batch record to the list of records\n",
    "        records.append(batch_record)\n",
    "    \n",
    "    # Combine all batch records into a single string\n",
    "    return \"\\n\".join(records)\n",
    "\n",
    "# elink.invoke({\"entrez_ids\" : [\"35966237\", \"200254051\"], \"source_db\" : \"gds\", \"target_db\" : \"pubmed\"})\n",
    "# elink.invoke({\"entrez_ids\" : ['200121737', '100024679', '303444964', '303444963', '303444962'], \"source_db\" : \"gds\", \"target_db\" : \"sra\"})\n",
    "# elink.invoke({\"entrez_ids\" : [\"200148729X\"], \"source_db\" : \"gds\", \"target_db\" : \"sra\"})"
   ]
  },
  {
   "cell_type": "code",
   "execution_count": 44,
   "metadata": {},
   "outputs": [],
   "source": [
    "@tool\n",
    "def which_entrez_databases(\n",
    "    entrez_ids: Annotated[List[str], \"List of Entrez IDs\"],\n",
    ") -> Annotated[str, \"List of databases where each Entrez ID is found.\"]:\n",
    "    \"\"\"\n",
    "    Check which databases an Entrez ID is found in.\n",
    "    \"\"\"\n",
    "    databases = [\"sra\", \"gds\", \"pubmed\", \"biosample\", \"bioproject\"]\n",
    "    found_in = {entrez_id: [] for entrez_id in entrez_ids}\n",
    "\n",
    "    for db in databases:\n",
    "        for id_batch in batch_ids(entrez_ids, 200):\n",
    "            time.sleep(0.34)  # Respect the rate limit\n",
    "            try:\n",
    "                handle = Entrez.esummary(db=db, id=\",\".join(id_batch))\n",
    "                records = Entrez.read(handle)\n",
    "                handle.close()\n",
    "                # Extract the IDs that were successfully retrieved\n",
    "                if isinstance(records, list):\n",
    "                    found_ids = {record['Id'] for record in records}\n",
    "                else:\n",
    "                    # In case only one record is returned\n",
    "                    found_ids = {records['Id']}\n",
    "                for entrez_id in found_ids:\n",
    "                    found_in[entrez_id].append(db)\n",
    "            except Exception as e:\n",
    "                continue\n",
    "\n",
    "    # Prepare the output\n",
    "    output_lines = []\n",
    "    for entrez_id in entrez_ids:\n",
    "        if not found_in[entrez_id]:\n",
    "            output_lines.append(f\"Entrez ID {entrez_id} not found in any databases.\")\n",
    "        else:\n",
    "            output_lines.append(f\"Entrez ID {entrez_id} found in: {', '.join(found_in[entrez_id])}.\")\n",
    "\n",
    "    return \"\\n\".join(output_lines)\n",
    "\n",
    "# Example usage\n",
    "# which_entrez_databases.invoke({\"entrez_ids\" : ['200121737', '100024679', '303444964']})"
   ]
  },
  {
   "cell_type": "markdown",
   "metadata": {},
   "source": [
    "# Models"
   ]
  },
  {
   "cell_type": "code",
   "execution_count": 45,
   "metadata": {},
   "outputs": [],
   "source": [
    "from langchain_openai import ChatOpenAI"
   ]
  },
  {
   "cell_type": "code",
   "execution_count": 46,
   "metadata": {},
   "outputs": [],
   "source": [
    "# set model\n",
    "model_supervisor = ChatOpenAI(model=\"gpt-4o\", temperature=0.1)\n",
    "model_worker = ChatOpenAI(model=\"gpt-4o-mini\", temperature=0)"
   ]
  },
  {
   "cell_type": "markdown",
   "metadata": {},
   "source": [
    "# Agents"
   ]
  },
  {
   "cell_type": "code",
   "execution_count": 75,
   "metadata": {},
   "outputs": [],
   "source": [
    "from langgraph.prebuilt import create_react_agent\n",
    "from langchain_core.messages import BaseMessage, HumanMessage, AIMessage, ToolMessage"
   ]
  },
  {
   "cell_type": "markdown",
   "metadata": {},
   "source": [
    "## esearch"
   ]
  },
  {
   "cell_type": "code",
   "execution_count": 48,
   "metadata": {},
   "outputs": [],
   "source": [
    "esearch_agent = create_react_agent(\n",
    "    model=model_worker,\n",
    "    tools=[esearch],\n",
    "    state_modifier=\"\\n\".join([\n",
    "        \"You are an expert in bioinformatics and you are working on a project to find information about a specific dataset.\",\n",
    "        \"Based on the task provided by your supervisor, use Entrez esearch to help complete the task.\",\n",
    "        \"Provide a concise summary of your findings; use lists when possible; do not include helpful wording.\",\n",
    "    ])\n",
    ")\n",
    "\n",
    "# inputs = {\"messages\": [(\"user\", \"Investigate GSE121737\")]}\n",
    "# esearch_agent.invoke(inputs)"
   ]
  },
  {
   "cell_type": "code",
   "execution_count": 49,
   "metadata": {},
   "outputs": [],
   "source": [
    "@tool\n",
    "def invoke_esearch_worker(\n",
    "    message: Annotated[str, \"Message to the worker\"],\n",
    ") -> Annotated[str, \"Response from the worker\"]:\n",
    "    \"\"\"\n",
    "    Invoke the esearch worker to perform a task.\n",
    "    \"\"\"\n",
    "    result = esearch_agent.invoke({\"messages\": [(\"user\", message)]})\n",
    "    # just return the response\n",
    "    return {\n",
    "        \"messages\": [HumanMessage(content=result[\"messages\"][-1].content, name=\"esearch worker\")]\n",
    "    }\n",
    "\n",
    "#invoke_esearch_worker.invoke({\"message\" : \"Investigate GSE121737\"})"
   ]
  },
  {
   "cell_type": "markdown",
   "metadata": {},
   "source": [
    "## esummary"
   ]
  },
  {
   "cell_type": "code",
   "execution_count": 50,
   "metadata": {},
   "outputs": [],
   "source": [
    "esummary_agent = create_react_agent(\n",
    "    model=model_worker,\n",
    "    tools=[esummary, which_entrez_databases],\n",
    "    state_modifier=\"\\n\".join([\n",
    "        \"You are an expert in bioinformatics and you are working on a project to find information about a specific dataset.\",\n",
    "        \"Based on the task provided by your supervisor, use Entrez esummary to help complete the task.\",\n",
    "        \"You can use which_entrez_databases to determine which databases to use for esummary queries.\",\n",
    "        \"Provide a concise summary of your findings; use lists when possible; do not include helpful wording.\",\n",
    "    ])\n",
    ")"
   ]
  },
  {
   "cell_type": "code",
   "execution_count": 51,
   "metadata": {},
   "outputs": [],
   "source": [
    "@tool\n",
    "def invoke_esummary_worker(\n",
    "    message: Annotated[str, \"Message to the worker. Be sure to provide Entrez IDs.\"],\n",
    ") -> Annotated[str, \"Response from the worker\"]:\n",
    "    \"\"\"\n",
    "    Invoke the esummary worker to perform a task.\n",
    "    \"\"\"\n",
    "    result = esummary_agent.invoke({\"messages\": [(\"user\", message)]})\n",
    "    # just return the final response\n",
    "    return {\n",
    "        \"messages\": [HumanMessage(content=result[\"messages\"][-1].content, name=\"esummary worker\")]\n",
    "    }\n",
    "\n",
    "# invoke_esummary_worker.invoke({\"message\" : \"Investigate Entrez ID 35966237\"})"
   ]
  },
  {
   "cell_type": "markdown",
   "metadata": {},
   "source": [
    "## efetch"
   ]
  },
  {
   "cell_type": "code",
   "execution_count": 52,
   "metadata": {},
   "outputs": [],
   "source": [
    "efetch_agent = create_react_agent(\n",
    "    model=model_worker,\n",
    "    tools=[efetch, which_entrez_databases],\n",
    "    state_modifier=\"\\n\".join([\n",
    "        \"You are an expert in bioinformatics and you are working on a project to find information about a specific dataset.\",\n",
    "        \"Based on the task provided by your supervisor, use Entrez efetch to help complete the task.\",\n",
    "        \"You can use which_entrez_databases to determine which databases to use for efetch queries.\",\n",
    "        \"Provide a concise summary of your findings; use lists when possible; do not include helpful wording.\",\n",
    "    ])\n",
    ")"
   ]
  },
  {
   "cell_type": "code",
   "execution_count": 53,
   "metadata": {},
   "outputs": [],
   "source": [
    "@tool\n",
    "def invoke_efetch_worker(\n",
    "    message: Annotated[str, \"Message to the worker. Be sure to provide Entrez IDs.\"],\n",
    ") -> Annotated[str, \"Response from the worker\"]:\n",
    "    \"\"\"\n",
    "    Invoke the efetch worker to perform a task.\n",
    "    \"\"\"\n",
    "    result = efetch_agent.invoke({\"messages\": [(\"user\", message)]})\n",
    "    # just return the final response\n",
    "    return {\n",
    "        \"messages\": [HumanMessage(content=result[\"messages\"][-1].content, name=\"efetch worker\")]\n",
    "    }"
   ]
  },
  {
   "cell_type": "markdown",
   "metadata": {},
   "source": [
    "## elink"
   ]
  },
  {
   "cell_type": "code",
   "execution_count": 54,
   "metadata": {},
   "outputs": [],
   "source": [
    "elink_agent = create_react_agent(\n",
    "    model=model_supervisor,\n",
    "    tools=[elink, which_entrez_databases],\n",
    "    state_modifier=\"\\n\".join([\n",
    "        \"You are an expert in bioinformatics and you are working on a project to find information about a specific dataset.\",\n",
    "        \"Based on the task provided by your supervisor, use Entrez elink to help complete the task.\",\n",
    "        \"elink is useful for finding related entries between Entrez databases.\",\n",
    "        \"Generally, you will want to use the which_entrez_databases tool to determine which databases to use for elink queries.\",\n",
    "        \"Note that elink results are composed of Entrez IDs and not accessions (e.g., SRA accessions).\",\n",
    "        \"Provide a concise summary of your findings; use lists when possible; do not include helpful wording.\",\n",
    "    ])\n",
    ")"
   ]
  },
  {
   "cell_type": "code",
   "execution_count": 55,
   "metadata": {},
   "outputs": [],
   "source": [
    "@tool\n",
    "def invoke_elink_worker(\n",
    "    message: Annotated[str, \"Message to the worker. Be sure to provide Entrez IDs.\"],\n",
    ") -> Annotated[str, \"Response from the worker\"]:\n",
    "    \"\"\"\n",
    "    Invoke the efetch worker to perform a task.\n",
    "    \"\"\"\n",
    "    result = elink_agent.invoke({\"messages\": [(\"user\", message)]})\n",
    "    # just return the final response\n",
    "    return {\n",
    "        \"messages\": [HumanMessage(content=result[\"messages\"][-1].content, name=\"elink worker\")]\n",
    "    }"
   ]
  },
  {
   "cell_type": "markdown",
   "metadata": {},
   "source": [
    "## Supervisor"
   ]
  },
  {
   "cell_type": "code",
   "execution_count": 151,
   "metadata": {},
   "outputs": [],
   "source": [
    "from langchain import PromptTemplate\n",
    "def create_step_summary_chain(model: str=\"gpt-4o-mini\", max_tokens: int=35):\n",
    "    \"\"\"\n",
    "    Create a chain of tools to summarize each step in a workflow.\n",
    "    \"\"\"\n",
    "    template = \"\\n\".join([\n",
    "        \"Concisely summarize the provided step in the langgraph workflow.\",\n",
    "        f\"The summary must be {max_tokens} tokens or less.\",\n",
    "        \"Do not use introductory words such as \\\"The workflow step involves\\\"\",\n",
    "        \"Write your output as plain text instead of markdown.\",\n",
    "        \"#-- The workflow step --#\",\n",
    "        \"{step}\"\n",
    "    ])\n",
    "    prompt = PromptTemplate(\n",
    "        input_variables=[\"step\"],\n",
    "        template=template\n",
    "    )\n",
    "\n",
    "    # Initialize the language model\n",
    "    llm = ChatOpenAI(model_name=model, temperature=0, max_tokens=max_tokens)\n",
    "\n",
    "    # Create the LLM chain\n",
    "    return prompt | llm\n",
    "\n",
    "msg = {'tools': {'messages': [ToolMessage(content=\"{'messages': [HumanMessage(content='- **Entrez ID: 200121737**\\\\n  - **SRX Accessions**: Not directly available, but related SRA ID is **SRP167700**\\\\n  - **GSE Accession**: GSE121737\\\\n  - **Samples**:\\\\n    - GSM3444963\\\\n    - GSM3444962\\\\n    - GSM3444964\\\\n\\\\n- **Entrez ID: 100024679**\\\\n  - **SRX Accessions**: Not directly available\\\\n  - **GSE Accession**: GSE132325; GSE151535; GSE206234; GSE240796; GSE192477; GSE206238; GSE166916; GSE121737; GSE184948\\\\n\\\\n- **Entrez ID: 303444964**\\\\n  - **SRX Accessions**: **SRX4967529**\\\\n  - **GSM Accession**: GSM3444964\\\\n\\\\n- **Entrez ID: 303444963**\\\\n  - **SRX Accessions**: **SRX4967528**\\\\n  - **GSM Accession**: GSM3444963\\\\n\\\\n- **Entrez ID: 303444962**\\\\n  - **SRX Accessions**: **SRX4967527**\\\\n  - **GSM Accession**: GSM3444962', additional_kwargs={}, response_metadata={}, name='esummary worker')]}\", name='invoke_esummary_worker', id='dac6ce94-900b-4a87-a6f6-e48292ab1a83', tool_call_id='call_vPNZmoRFcXpgwmzxzEFdTMHj')]}}\n",
    "step_summary_chain = create_step_summary_chain()\n",
    "#step_summary_chain.invoke({\"step\": msg, \"max_tokens\": 25}).content"
   ]
  },
  {
   "cell_type": "code",
   "execution_count": 149,
   "metadata": {},
   "outputs": [],
   "source": [
    "entrez_agent = create_react_agent(\n",
    "    model=model_supervisor,\n",
    "    tools=[invoke_esearch_worker, invoke_esummary_worker, invoke_efetch_worker, invoke_elink_worker, which_entrez_databases],\n",
    "    state_modifier=\"\\n\".join([\n",
    "        \"You are a helpful senior bioinformatician assisting a researcher with a task involving Entrez databases.\",\n",
    "        \"You have a team of workers who can perform specific tasks using Entrez tools.\",\n",
    "        \"Provide guidance to the workers to help them complete the task successfully.\",\n",
    "        \"Generally, start with eSearch to find Entrez records, then use eFetch to get detailed information.\",\n",
    "        \"Use eSummary to obtain summary information on an Entrez record.\",\n",
    "        \"Use eLink to navigate between databases to find related records (e.g., GEO to SRA).\",\n",
    "        \"Generally, you will want to specify the database(s) to search (e.g., sra, gds, or pubmed).\",\n",
    "        \"If there are dozens of records, batch the IDs and call the worker multiple times to avoid rate limits and token count limits.\",\n",
    "        \"Continue sending tasks to your workers until you successfully complete the task.\",\n",
    "        \"Be very concise; provide simple lists when possible; do not include unnecessary wording such as \\\"If you need further assistance\\\".\",\n",
    "        \"Write your output as plain text instead of markdown.\",\n",
    "        \"\\n#-- Accession notes --#\",\n",
    "        \"SRA accesssion prefixes: SRX, SRP, SRR\",\n",
    "        \"ENA accession prefixes: ERX, PRJNA, DRX, E-MTAB\",\n",
    "        \"GEO accession prefixes: GSE, GSM, GPL\",\n",
    "        \"BioProject accession prefixes: PRJNA, PRJEB, PRJDB\",\n",
    "        \"BioSample accession prefixes: SAMN, SAME\",\n",
    "        \"#-- Database notes --#\",\n",
    "        \"Entrez databases: sra, gds, pubmed, biosample, bioproject\",\n",
    "        \"#-- Example workflows --#\",\n",
    "        \"# Task: Convert GSE123456 to SRX, SRP, or SRR accessions\",\n",
    "        \"  1. esearch of GSE accession to obtain Entrez IDs\",\n",
    "        \"  2. esummary of the Entrez IDs to get the SRX accessions\"\n",
    "    ])\n",
    ")\n"
   ]
  },
  {
   "cell_type": "code",
   "execution_count": 150,
   "metadata": {},
   "outputs": [
    {
     "name": "stdout",
     "output_type": "stream",
     "text": [
      "Step 1: Search for GSE121737 in the GDS database to retrieve Entrez IDs using the invoke_esearch_worker function.\n",
      "Step 2: Total results: 5 Entrez IDs retrieved: 200121737, 100024679, 303444964, 303444963, 303444962.\n",
      "Step 3: Retrieve SRX accessions for specified Entrez IDs using the invoke_esummary_worker function.\n",
      "Step 4: Extracts and organizes Entrez IDs, SRX accessions, GSE accessions, and sample information from a dataset for further analysis.\n",
      "Step 5: SRX accessions for GSE121737 are SRX4967529, SRX4967528, and SRX4967527.\n",
      "The SRX accessions for GSE121737 are:\n",
      "\n",
      "- SRX4967529\n",
      "- SRX4967528\n",
      "- SRX4967527\n"
     ]
    }
   ],
   "source": [
    "def invoke_entrez_agent(\n",
    "    inputs: dict,\n",
    "    step_summary_chain: Any,\n",
    "    config: dict = {\"max_concurrency\" : 8, \"recursion_limit\": 50}\n",
    "):\n",
    "    \"\"\"\n",
    "    Invoke the Entrez agent to perform a task.\n",
    "    \"\"\"\n",
    "    final_step = \"\"\n",
    "    for i,step in enumerate(entrez_agent.stream(inputs, config=config)):\n",
    "        final_step = step\n",
    "        msg = step_summary_chain.invoke({\"step\": step})\n",
    "        print(f\"Step {i+1}: {msg.content}\")\n",
    "    try:\n",
    "        print(final_step[\"agent\"][\"messages\"][-1].content)\n",
    "    except:\n",
    "        pass\n",
    "\n",
    "inputs = {\"messages\": [(\"user\", \"Convert GSE121737 to SRX accessions\")]}\n",
    "invoke_entrez_agent(inputs, step_summary_chain)"
   ]
  },
  {
   "cell_type": "code",
   "execution_count": 148,
   "metadata": {},
   "outputs": [
    {
     "name": "stdout",
     "output_type": "stream",
     "text": [
      "Step 1: Search for GSE148729 in the GDS database to retrieve Entrez IDs using the invoke_esearch_worker function.\n",
      "Step 2: Entrez IDs for GSE148729 in the GDS database are listed, ranging from 200148729 to 304477929.\n",
      "Step 3: Summarizes multiple Entrez IDs using the 'invoke_esummary_worker' function to retrieve relevant information.\n",
      "Step 4: Gene expression profiling data for SARS-CoV-1/2 infections in human cell lines, detailing samples, platforms, and related resources.\n",
      "Step 5: Identified SRP accession for GSE148729 as SRP256479, providing relevant information in response to the query.\n",
      "The SRP accession related to GSE148729 is **SRP256479**.\n"
     ]
    }
   ],
   "source": [
    "inputs = {\"messages\": [(\"user\", \"Obtain any available SRP accessions for GSE148729\")]}\n",
    "invoke_entrez_agent(inputs, step_summary_chain)"
   ]
  },
  {
   "cell_type": "code",
   "execution_count": 152,
   "metadata": {},
   "outputs": [
    {
     "name": "stdout",
     "output_type": "stream",
     "text": [
      "Step 1: Search for GSE196830 in the GDS database to retrieve Entrez IDs using the invoke_esearch_worker function.\n",
      "Step 2: Entrez IDs for GSE196830 in the GDS database were retrieved, listing 100 unique identifiers.\n",
      "Step 3: Link multiple Entrez IDs from the GDS database to the PubMed database to retrieve related publications.\n",
      "Failed to find links for IDs: 305902681. Verify database names (gds, pubmed) and Entrez IDs.\n",
      "Failed to find links for IDs: 100028939. Verify database names (gds, pubmed) and Entrez IDs.\n",
      "Step 4: Related PubMed IDs were found for one Entrez ID, while no publications were identified for four other Entrez IDs from the GDS database.\n",
      "Step 5: Identified publications related to GSE196830, providing PubMed IDs for one Entrez ID and noting no publications for others.\n",
      "Publications related to GSE196830:\n",
      "\n",
      "- PubMed IDs for Entrez ID 200196830:\n",
      "  - 38622708\n",
      "  - 36823676\n",
      "  - 35389779\n",
      "\n",
      "No related publications were found for the other Entrez IDs.\n"
     ]
    }
   ],
   "source": [
    "inputs = {\"messages\": [(\"user\", \"Obtain any available publications for GSE196830\")]}\n",
    "invoke_entrez_agent(inputs, step_summary_chain)"
   ]
  },
  {
   "cell_type": "code",
   "execution_count": null,
   "metadata": {},
   "outputs": [],
   "source": []
  }
 ],
 "metadata": {
  "kernelspec": {
   "display_name": "SRAgent",
   "language": "python",
   "name": "python3"
  },
  "language_info": {
   "codemirror_mode": {
    "name": "ipython",
    "version": 3
   },
   "file_extension": ".py",
   "mimetype": "text/x-python",
   "name": "python",
   "nbconvert_exporter": "python",
   "pygments_lexer": "ipython3",
   "version": "3.12.7"
  }
 },
 "nbformat": 4,
 "nbformat_minor": 2
}
