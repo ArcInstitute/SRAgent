{
 "cells": [
  {
   "cell_type": "markdown",
   "metadata": {},
   "source": [
    "# Goal\n",
    "\n",
    "* Create a general supervisor-working agent that can use entrez tools to explore an Entrez record\n",
    "* Better dealig with large number of Entrez records"
   ]
  },
  {
   "cell_type": "markdown",
   "metadata": {},
   "source": [
    "# Init"
   ]
  },
  {
   "cell_type": "code",
   "execution_count": 24,
   "metadata": {},
   "outputs": [],
   "source": [
    "# import \n",
    "import os\n",
    "import time\n",
    "import json\n",
    "import xmltodict\n",
    "from enum import Enum\n",
    "from pprint import pprint\n",
    "from typing import Annotated, List, Dict, Tuple, Optional, Union, Any\n",
    "import xml.etree.ElementTree as ET\n",
    "from pydantic import BaseModel, Field\n",
    "from langchain_core.tools import tool\n",
    "from Bio import Entrez\n",
    "import pandas as pd\n",
    "import threading\n",
    "from dotenv import load_dotenv"
   ]
  },
  {
   "cell_type": "code",
   "execution_count": 25,
   "metadata": {},
   "outputs": [],
   "source": [
    "# setup\n",
    "load_dotenv()\n",
    "pd.set_option('display.max_colwidth', 1000)\n",
    "os.environ[\"DEBUG_MODE\"] = \"TRUE\""
   ]
  },
  {
   "cell_type": "code",
   "execution_count": 26,
   "metadata": {},
   "outputs": [
    {
     "name": "stdout",
     "output_type": "stream",
     "text": [
      "DEBUG_MODE is enabled.\n"
     ]
    }
   ],
   "source": [
    "# checks\n",
    "if os.getenv(\"DEBUG_MODE\") == \"TRUE\":\n",
    "    print(\"DEBUG_MODE is enabled.\")"
   ]
  },
  {
   "cell_type": "code",
   "execution_count": 27,
   "metadata": {},
   "outputs": [],
   "source": [
    "# set up Entrez\n",
    "Entrez.email = \"nick.youngblut@arcinstitute.org\"\n",
    "Entrez.api_key = os.getenv(\"NCBI_API_KEY\")\n",
    "# Set to 10 for API key users\n",
    "request_limiter = threading.Semaphore(10)"
   ]
  },
  {
   "cell_type": "markdown",
   "metadata": {},
   "source": [
    "# Tools"
   ]
  },
  {
   "cell_type": "code",
   "execution_count": 28,
   "metadata": {},
   "outputs": [],
   "source": [
    "def batch_ids(ids, batch_size):\n",
    "    \"\"\"\n",
    "    Batch a list of IDs into smaller lists of a given size.\n",
    "    \"\"\"\n",
    "    for i in range(0, len(ids), batch_size):\n",
    "        yield ids[i:i + batch_size]"
   ]
  },
  {
   "cell_type": "code",
   "execution_count": 35,
   "metadata": {},
   "outputs": [],
   "source": [
    "def truncate_values(record, max_length):\n",
    "    # truncate long values in the record\n",
    "    root = ET.fromstring(record)\n",
    "    for item in root.findall(\".//Item\"):\n",
    "        if item.text and len(item.text) > max_length:\n",
    "            item.text = item.text[:max_length] + \"...[truncated]\"\n",
    "    # convert back to string\n",
    "    return ET.tostring(root, encoding=\"unicode\")"
   ]
  },
  {
   "cell_type": "code",
   "execution_count": 36,
   "metadata": {},
   "outputs": [],
   "source": [
    "@tool \n",
    "def esearch(\n",
    "    esearch_query: Annotated[str, \"Entrez query string.\"],\n",
    "    database: Annotated[str, \"Database name (e.g., sra, gds, or pubmed)\"],\n",
    "    )-> Annotated[List[str], \"Entrez IDs of database records\"]:\n",
    "    \"\"\"\n",
    "    Run an Entrez search query and return the Entrez IDs of the results.\n",
    "    Example query for single cell RNA-seq:\n",
    "        `(\"single cell\"[Title] OR \"single-cell\"[Title] OR \"scRNA-seq\"[Title])`\n",
    "    Example query for an ENA accession number (database = sra):\n",
    "        `ERX13336121`\n",
    "    Example query for a GEO accession number (database = gds):\n",
    "        `GSE51372`\n",
    "    \"\"\"\n",
    "    # debug model\n",
    "    if os.getenv(\"DEBUG_MODE\") == \"TRUE\":\n",
    "        max_records = 2 \n",
    "\n",
    "    # query\n",
    "    records = []\n",
    "    retstart = 0\n",
    "    retmax = 50\n",
    "    while True:\n",
    "        try:\n",
    "            search_handle = Entrez.esearch(\n",
    "                db=database, \n",
    "                term=esearch_query, \n",
    "                retstart=retstart, \n",
    "                retmax=retmax\n",
    "            )\n",
    "            search_results = Entrez.read(search_handle)\n",
    "            search_handle.close()\n",
    "            # delete unneeded keys\n",
    "            to_rm = [\"RetMax\", \"RetStart\"]\n",
    "            for key in to_rm:\n",
    "                if key in search_results.keys():\n",
    "                    del search_results[key]\n",
    "            # add to records\n",
    "            records.append(str(search_results))\n",
    "            # update retstart\n",
    "            retstart += retmax\n",
    "            time.sleep(0.33)\n",
    "            if max_records and len(records) >= max_records:\n",
    "                break\n",
    "            if retstart >= int(search_results['Count']):\n",
    "                break\n",
    "        except Exception as e:\n",
    "            print(f\"Error searching {database} with query: {esearch_query}: {str(e)}\")\n",
    "            break \n",
    "        \n",
    "    # return records\n",
    "    if len(records) == 0:\n",
    "        return(f\"No records found for query: {esearch_query}\")\n",
    "    if os.getenv(\"DEBUG_MODE\") == \"TRUE\":\n",
    "        records = records[:max_records]  # debug\n",
    "    return records\n",
    "\n",
    "# esearch.invoke({\"esearch_query\" : \"GSE51372\", \"database\" : \"sra\"})\n",
    "# esearch.invoke({\"esearch_query\" : \"GSE121737\", \"database\" : \"gds\"})"
   ]
  },
  {
   "cell_type": "code",
   "execution_count": 39,
   "metadata": {},
   "outputs": [],
   "source": [
    "@tool \n",
    "def efetch(\n",
    "    entrez_ids: Annotated[List[str], \"List of Entrez IDs\"],\n",
    "    database: Annotated[str, \"Database name (e.g., sra, gds, or pubmed)\"],\n",
    ") -> Annotated[str, \"eFetch results in XML format\"]:\n",
    "    \"\"\"\n",
    "    Run an Entrez efetch query on Entrez IDs to obtain metadata for the records.\n",
    "    Useful for obtaining metadata for specific records.\n",
    "    \"\"\"\n",
    "    batch_size = 200  # Maximum number of IDs per request as per NCBI guidelines\n",
    "    records = []\n",
    "\n",
    "    for id_batch in batch_ids(entrez_ids, batch_size):\n",
    "        time.sleep(0.34)  # Respect the rate limit of 3 requests per second\n",
    "        id_str = \",\".join(id_batch)\n",
    "        try:\n",
    "            # Fetch the records for the current batch of IDs\n",
    "            handle = Entrez.efetch(db=database, id=id_str, retmode=\"xml\")\n",
    "            batch_record = handle.read()\n",
    "            handle.close()\n",
    "        except Entrez.Parser.ValidationError:\n",
    "            print(f\"Failed to fetch record for IDs: {id_str}\")\n",
    "            continue  # Skip this batch and proceed to the next\n",
    "        except Exception as e:\n",
    "            print(f\"An error occurred: {e}\")\n",
    "            continue\n",
    "        finally:\n",
    "            try:\n",
    "                handle.close()\n",
    "            except:\n",
    "                pass  # Handle cases where handle might not be open\n",
    "\n",
    "        # Decode the record if necessary\n",
    "        if isinstance(batch_record, bytes):\n",
    "            try:\n",
    "                batch_record = batch_record.decode(\"utf-8\")\n",
    "            except Exception as e:\n",
    "                print(f\"Decoding error: {e}\")\n",
    "                continue\n",
    "\n",
    "        # Truncate long values in the record\n",
    "        batch_record = truncate_values(batch_record, max_length=1000)\n",
    "\n",
    "        # convert to XML to JSON\n",
    "        batch_record = json.dumps(xmltodict.parse(batch_record), indent=2)\n",
    "\n",
    "        # Check for errors in the response\n",
    "        if \"Error occurred: cannot get document summary\" in batch_record:\n",
    "            print(f\"Failed to fetch record for IDs: {id_str}. Try a different database.\")\n",
    "            continue\n",
    "\n",
    "        records.append(batch_record)\n",
    "\n",
    "    # Combine all records into a single string\n",
    "    combined_records = \"\\n\".join(records)\n",
    "\n",
    "    return combined_records\n",
    "\n",
    "# records = efetch.invoke({ \"entrez_ids\" : [\"35966237\"], \"database\" : \"sra\"})\n",
    "# pprint(records)\n",
    "# records = efetch.invoke({\"entrez_ids\" : [\"200254051\"], \"database\" : \"gds\"})\n",
    "# pprint(records)"
   ]
  },
  {
   "cell_type": "code",
   "execution_count": 41,
   "metadata": {},
   "outputs": [],
   "source": [
    "@tool\n",
    "def esummary(\n",
    "    entrez_ids: Annotated[List[str], \"List of Entrez IDs\"],\n",
    "    database: Annotated[str, \"Database name (e.g., sra, gds, or pubmed)\"],\n",
    ") -> Annotated[str, \"eSummary results in XML format\"]:\n",
    "    \"\"\"\n",
    "    Run an Entrez esummary query on Entrez IDs to obtain summary information for the records.\n",
    "    Useful for obtaining summary information for specific records.\n",
    "    \"\"\"\n",
    "    batch_size = 200  # Maximum number of IDs per request as per NCBI guidelines\n",
    "    max_string_length = 500  # Maximum length of a string in the record\n",
    "    records = []\n",
    "    \n",
    "    for id_batch in batch_ids(entrez_ids, batch_size):\n",
    "        time.sleep(0.34)  # Respect NCBI's rate limits (no more than 3 requests per second)\n",
    "        id_str = \",\".join(id_batch)\n",
    "        \n",
    "        try:\n",
    "            # Fetch summary record for the current batch\n",
    "            handle = Entrez.esummary(db=database, id=id_str, retmode=\"xml\")\n",
    "            batch_record = handle.read()\n",
    "            handle.close()\n",
    "        except Entrez.Parser.ValidationError:\n",
    "            print(f\"Failed to fetch summary for IDs: {id_str}. Check if the IDs exist.\")\n",
    "            continue \n",
    "        except Exception as e:\n",
    "            print(f\"An error occurred: {e}\")\n",
    "            continue\n",
    "        finally:\n",
    "            try:\n",
    "                handle.close()\n",
    "            except:\n",
    "                pass  # Handle cases where the handle might not be open\n",
    "        \n",
    "        # Decode the record if necessary\n",
    "        if isinstance(batch_record, bytes):\n",
    "            try:\n",
    "                batch_record = batch_record.decode(\"utf-8\")\n",
    "            except Exception as e:\n",
    "                print(f\"Decoding error: {e}\")\n",
    "                continue\n",
    "            \n",
    "        # Truncate long values in the record\n",
    "        batch_record = truncate_values(batch_record, max_length=500)\n",
    "\n",
    "        # convert to XML to JSON\n",
    "        batch_record = json.dumps(xmltodict.parse(batch_record), indent=2)\n",
    "\n",
    "        # Check for errors in the response\n",
    "        if \"ERROR\" in batch_record.upper() or \"INVALID_ID\" in batch_record.upper():\n",
    "            print(f\"Failed to fetch summary for IDs: {id_str}. Try a different database or verify the IDs.\")\n",
    "            continue\n",
    "\n",
    "        # Append the batch record to the list of records\n",
    "        records.append(batch_record)\n",
    "    \n",
    "    # Combine all batch records into a single string\n",
    "    combined_records = \"\\n\".join(records)\n",
    "    return combined_records\n",
    "\n",
    "# esummary.invoke({\"entrez_ids\" : [\"35966237\"], \"database\" : \"sra\"})\n",
    "# esummary.invoke({\"entrez_ids\" : [\"200121737\"], \"database\" : \"sra\"})\n",
    "# esummary.invoke({\"entrez_ids\" : [\"6697288\"], \"database\" : \"sra\"})\n",
    "# IDs = [\"200148729\", \"100024676\", \"100020301\", \"100018573\", \"305022831\", \"305022830\", \"305022829\", \"305022828\", \"305022827\", \"305022826\"]\n",
    "# esummary.invoke({\"entrez_ids\" : IDs, \"database\" : \"gds\"})"
   ]
  },
  {
   "cell_type": "code",
   "execution_count": 43,
   "metadata": {},
   "outputs": [],
   "source": [
    "@tool\n",
    "def elink(\n",
    "    entrez_ids: Annotated[List[str], \"List of Entrez IDs\"],\n",
    "    source_db: Annotated[str, \"Source database (e.g., 'sra')\"],\n",
    "    target_db: Annotated[str, \"Target database (e.g., 'bioproject', 'biosample', 'pubmed')\"],\n",
    ") -> Annotated[str, \"eLink results in XML format\"]:\n",
    "    \"\"\"\n",
    "    Find related entries between Entrez databases, particularly useful for finding\n",
    "    BioProject, BioSample, or publication records related to SRA entries.\n",
    "    \"\"\"\n",
    "    batch_size = 200  # Maximum number of IDs per request as per NCBI guidelines\n",
    "    records = []\n",
    "\n",
    "    for id_batch in batch_ids(entrez_ids, batch_size):\n",
    "        time.sleep(0.34)  # Respect NCBI's rate limits (no more than 3 requests per second)\n",
    "        id_str = \",\".join(id_batch)\n",
    "        \n",
    "        try:\n",
    "            handle = Entrez.elink(\n",
    "                id=id_str,\n",
    "                dbfrom=source_db,\n",
    "                db=target_db,\n",
    "                retmode=\"xml\"\n",
    "            )\n",
    "            batch_record = handle.read()\n",
    "            handle.close()\n",
    "        except Entrez.Parser.ValidationError:\n",
    "            print(f\"Failed to find links for IDs: {id_str}\")\n",
    "            continue  # Skip this batch and proceed to the next\n",
    "        except Exception as e:\n",
    "            print(f\"An error occurred: {e}\")\n",
    "            continue\n",
    "        finally:\n",
    "            try:\n",
    "                handle.close()\n",
    "            except:\n",
    "                pass  # Handle cases where the handle might not be open\n",
    "        \n",
    "        # Decode the record if necessary\n",
    "        if isinstance(batch_record, bytes):\n",
    "            try:\n",
    "                batch_record = batch_record.decode(\"utf-8\")\n",
    "            except Exception as e:\n",
    "                print(f\"Decoding error: {e}\")\n",
    "                continue\n",
    "\n",
    "        # Truncate long values in the record\n",
    "        batch_record = truncate_values(batch_record, max_length=1000)\n",
    "\n",
    "        # convert to XML to JSON\n",
    "        batch_record = json.dumps(xmltodict.parse(batch_record), indent=2)\n",
    "\n",
    "        # Check for errors in the response\n",
    "        if \"ERROR\" in batch_record.upper():\n",
    "            print(f\"Failed to find links for IDs: {id_str}. Verify database names ({source_db}, {target_db}) and Entrez IDs.\")\n",
    "            continue\n",
    "\n",
    "        # Append the batch record to the list of records\n",
    "        records.append(batch_record)\n",
    "    \n",
    "    # Combine all batch records into a single string\n",
    "    return \"\\n\".join(records)\n",
    "\n",
    "# elink.invoke({\"entrez_ids\" : [\"35966237\", \"200254051\"], \"source_db\" : \"gds\", \"target_db\" : \"pubmed\"})\n",
    "# elink.invoke({\"entrez_ids\" : ['200121737', '100024679', '303444964', '303444963', '303444962'], \"source_db\" : \"gds\", \"target_db\" : \"sra\"})\n",
    "# elink.invoke({\"entrez_ids\" : [\"200148729\"], \"source_db\" : \"gds\", \"target_db\" : \"sra\"})"
   ]
  },
  {
   "cell_type": "code",
   "execution_count": 44,
   "metadata": {},
   "outputs": [],
   "source": [
    "@tool\n",
    "def which_entrez_databases(\n",
    "    entrez_ids: Annotated[List[str], \"List of Entrez IDs\"],\n",
    ") -> Annotated[str, \"List of databases where each Entrez ID is found.\"]:\n",
    "    \"\"\"\n",
    "    Check which databases an Entrez ID is found in.\n",
    "    \"\"\"\n",
    "    databases = [\"sra\", \"gds\", \"pubmed\", \"biosample\", \"bioproject\"]\n",
    "    found_in = {entrez_id: [] for entrez_id in entrez_ids}\n",
    "\n",
    "    for db in databases:\n",
    "        for id_batch in batch_ids(entrez_ids, 200):\n",
    "            time.sleep(0.34)  # Respect the rate limit\n",
    "            try:\n",
    "                handle = Entrez.esummary(db=db, id=\",\".join(id_batch))\n",
    "                records = Entrez.read(handle)\n",
    "                handle.close()\n",
    "                # Extract the IDs that were successfully retrieved\n",
    "                if isinstance(records, list):\n",
    "                    found_ids = {record['Id'] for record in records}\n",
    "                else:\n",
    "                    # In case only one record is returned\n",
    "                    found_ids = {records['Id']}\n",
    "                for entrez_id in found_ids:\n",
    "                    found_in[entrez_id].append(db)\n",
    "            except Exception as e:\n",
    "                continue\n",
    "\n",
    "    # Prepare the output\n",
    "    output_lines = []\n",
    "    for entrez_id in entrez_ids:\n",
    "        if not found_in[entrez_id]:\n",
    "            output_lines.append(f\"Entrez ID {entrez_id} not found in any databases.\")\n",
    "        else:\n",
    "            output_lines.append(f\"Entrez ID {entrez_id} found in: {', '.join(found_in[entrez_id])}.\")\n",
    "\n",
    "    return \"\\n\".join(output_lines)\n",
    "\n",
    "# Example usage\n",
    "# which_entrez_databases.invoke({\"entrez_ids\" : ['200121737', '100024679', '303444964']})"
   ]
  },
  {
   "cell_type": "markdown",
   "metadata": {},
   "source": [
    "# Models"
   ]
  },
  {
   "cell_type": "code",
   "execution_count": 45,
   "metadata": {},
   "outputs": [],
   "source": [
    "from langchain_openai import ChatOpenAI"
   ]
  },
  {
   "cell_type": "code",
   "execution_count": 46,
   "metadata": {},
   "outputs": [],
   "source": [
    "# set model\n",
    "model_supervisor = ChatOpenAI(model=\"gpt-4o\", temperature=0.1)\n",
    "model_worker = ChatOpenAI(model=\"gpt-4o-mini\", temperature=0)"
   ]
  },
  {
   "cell_type": "markdown",
   "metadata": {},
   "source": [
    "# Agents"
   ]
  },
  {
   "cell_type": "code",
   "execution_count": 47,
   "metadata": {},
   "outputs": [],
   "source": [
    "from langgraph.prebuilt import create_react_agent\n",
    "from langchain_core.messages import BaseMessage, HumanMessage, AIMessage"
   ]
  },
  {
   "cell_type": "markdown",
   "metadata": {},
   "source": [
    "## esearch"
   ]
  },
  {
   "cell_type": "code",
   "execution_count": 48,
   "metadata": {},
   "outputs": [],
   "source": [
    "esearch_agent = create_react_agent(\n",
    "    model=model_worker,\n",
    "    tools=[esearch],\n",
    "    state_modifier=\"\\n\".join([\n",
    "        \"You are an expert in bioinformatics and you are working on a project to find information about a specific dataset.\",\n",
    "        \"Based on the task provided by your supervisor, use Entrez esearch to help complete the task.\",\n",
    "        \"Provide a concise summary of your findings; use lists when possible; do not include helpful wording.\",\n",
    "    ])\n",
    ")\n",
    "\n",
    "# inputs = {\"messages\": [(\"user\", \"Investigate GSE121737\")]}\n",
    "# esearch_agent.invoke(inputs)"
   ]
  },
  {
   "cell_type": "code",
   "execution_count": 49,
   "metadata": {},
   "outputs": [],
   "source": [
    "@tool\n",
    "def invoke_esearch_worker(\n",
    "    message: Annotated[str, \"Message to the worker\"],\n",
    ") -> Annotated[str, \"Response from the worker\"]:\n",
    "    \"\"\"\n",
    "    Invoke the esearch worker to perform a task.\n",
    "    \"\"\"\n",
    "    result = esearch_agent.invoke({\"messages\": [(\"user\", message)]})\n",
    "    # just return the response\n",
    "    return {\n",
    "        \"messages\": [HumanMessage(content=result[\"messages\"][-1].content, name=\"esearch worker\")]\n",
    "    }\n",
    "\n",
    "#invoke_esearch_worker.invoke({\"message\" : \"Investigate GSE121737\"})"
   ]
  },
  {
   "cell_type": "markdown",
   "metadata": {},
   "source": [
    "## esummary"
   ]
  },
  {
   "cell_type": "code",
   "execution_count": 50,
   "metadata": {},
   "outputs": [],
   "source": [
    "esummary_agent = create_react_agent(\n",
    "    model=model_worker,\n",
    "    tools=[esummary, which_entrez_databases],\n",
    "    state_modifier=\"\\n\".join([\n",
    "        \"You are an expert in bioinformatics and you are working on a project to find information about a specific dataset.\",\n",
    "        \"Based on the task provided by your supervisor, use Entrez esummary to help complete the task.\",\n",
    "        \"You can use which_entrez_databases to determine which databases to use for esummary queries.\",\n",
    "        \"Provide a concise summary of your findings; use lists when possible; do not include helpful wording.\",\n",
    "    ])\n",
    ")"
   ]
  },
  {
   "cell_type": "code",
   "execution_count": 51,
   "metadata": {},
   "outputs": [],
   "source": [
    "@tool\n",
    "def invoke_esummary_worker(\n",
    "    message: Annotated[str, \"Message to the worker. Be sure to provide Entrez IDs.\"],\n",
    ") -> Annotated[str, \"Response from the worker\"]:\n",
    "    \"\"\"\n",
    "    Invoke the esummary worker to perform a task.\n",
    "    \"\"\"\n",
    "    result = esummary_agent.invoke({\"messages\": [(\"user\", message)]})\n",
    "    # just return the final response\n",
    "    return {\n",
    "        \"messages\": [HumanMessage(content=result[\"messages\"][-1].content, name=\"esummary worker\")]\n",
    "    }\n",
    "\n",
    "# invoke_esummary_worker.invoke({\"message\" : \"Investigate Entrez ID 35966237\"})"
   ]
  },
  {
   "cell_type": "markdown",
   "metadata": {},
   "source": [
    "## efetch"
   ]
  },
  {
   "cell_type": "code",
   "execution_count": 52,
   "metadata": {},
   "outputs": [],
   "source": [
    "efetch_agent = create_react_agent(\n",
    "    model=model_worker,\n",
    "    tools=[efetch, which_entrez_databases],\n",
    "    state_modifier=\"\\n\".join([\n",
    "        \"You are an expert in bioinformatics and you are working on a project to find information about a specific dataset.\",\n",
    "        \"Based on the task provided by your supervisor, use Entrez efetch to help complete the task.\",\n",
    "        \"You can use which_entrez_databases to determine which databases to use for efetch queries.\",\n",
    "        \"Provide a concise summary of your findings; use lists when possible; do not include helpful wording.\",\n",
    "    ])\n",
    ")"
   ]
  },
  {
   "cell_type": "code",
   "execution_count": 53,
   "metadata": {},
   "outputs": [],
   "source": [
    "@tool\n",
    "def invoke_efetch_worker(\n",
    "    message: Annotated[str, \"Message to the worker. Be sure to provide Entrez IDs.\"],\n",
    ") -> Annotated[str, \"Response from the worker\"]:\n",
    "    \"\"\"\n",
    "    Invoke the efetch worker to perform a task.\n",
    "    \"\"\"\n",
    "    result = efetch_agent.invoke({\"messages\": [(\"user\", message)]})\n",
    "    # just return the final response\n",
    "    return {\n",
    "        \"messages\": [HumanMessage(content=result[\"messages\"][-1].content, name=\"efetch worker\")]\n",
    "    }"
   ]
  },
  {
   "cell_type": "markdown",
   "metadata": {},
   "source": [
    "## elink"
   ]
  },
  {
   "cell_type": "code",
   "execution_count": 54,
   "metadata": {},
   "outputs": [],
   "source": [
    "elink_agent = create_react_agent(\n",
    "    model=model_supervisor,\n",
    "    tools=[elink, which_entrez_databases],\n",
    "    state_modifier=\"\\n\".join([\n",
    "        \"You are an expert in bioinformatics and you are working on a project to find information about a specific dataset.\",\n",
    "        \"Based on the task provided by your supervisor, use Entrez elink to help complete the task.\",\n",
    "        \"elink is useful for finding related entries between Entrez databases.\",\n",
    "        \"Generally, you will want to use the which_entrez_databases tool to determine which databases to use for elink queries.\",\n",
    "        \"Note that elink results are composed of Entrez IDs and not accessions (e.g., SRA accessions).\",\n",
    "        \"Provide a concise summary of your findings; use lists when possible; do not include helpful wording.\",\n",
    "    ])\n",
    ")"
   ]
  },
  {
   "cell_type": "code",
   "execution_count": 55,
   "metadata": {},
   "outputs": [],
   "source": [
    "@tool\n",
    "def invoke_elink_worker(\n",
    "    message: Annotated[str, \"Message to the worker. Be sure to provide Entrez IDs.\"],\n",
    ") -> Annotated[str, \"Response from the worker\"]:\n",
    "    \"\"\"\n",
    "    Invoke the efetch worker to perform a task.\n",
    "    \"\"\"\n",
    "    result = elink_agent.invoke({\"messages\": [(\"user\", message)]})\n",
    "    # just return the final response\n",
    "    return {\n",
    "        \"messages\": [HumanMessage(content=result[\"messages\"][-1].content, name=\"elink worker\")]\n",
    "    }"
   ]
  },
  {
   "cell_type": "markdown",
   "metadata": {},
   "source": [
    "## Supervisor"
   ]
  },
  {
   "cell_type": "code",
   "execution_count": 56,
   "metadata": {},
   "outputs": [],
   "source": [
    "entrez_agent = create_react_agent(\n",
    "    model=model_supervisor,\n",
    "    tools=[invoke_esearch_worker, invoke_esummary_worker, invoke_efetch_worker, invoke_elink_worker, which_entrez_databases],\n",
    "    state_modifier=\"\\n\".join([\n",
    "        \"You are a helpful senior bioinformatician assisting a researcher with a task involving Entrez databases.\",\n",
    "        \"You have a team of workers who can perform specific tasks using Entrez tools.\",\n",
    "        \"Provide guidance to the workers to help them complete the task successfully.\",\n",
    "        \"Generally, start with eSearch to find Entrez records, then use eFetch to get detailed information.\",\n",
    "        \"Use eSummary to obtain summary information on an Entrez record.\",\n",
    "        \"Use eLink to navigate between databases to find related records (e.g., GEO to SRA).\",\n",
    "        \"Generally, you will want to specify the database(s) to search (e.g., sra, gds, or pubmed).\",\n",
    "        \"If there are dozens of records, batch the IDs and call the worker multiple times to avoid rate limits and token count limits.\",\n",
    "        \"Continue sending tasks to your workers until you successfully complete the task.\",\n",
    "        \"Be very concise; provide simple lists when possible; do not include unnecessary wording such as \\\"If you need further assistance\\\".\",\n",
    "        \"\\n#-- Accession notes --#\",\n",
    "        \"SRA accesssion prefixes: SRX, SRP, SRR\",\n",
    "        \"ENA accession prefixes: ERX, PRJNA, DRX, E-MTAB\",\n",
    "        \"GEO accession prefixes: GSE, GSM, GPL\",\n",
    "        \"BioProject accession prefixes: PRJNA, PRJEB, PRJDB\",\n",
    "        \"BioSample accession prefixes: SAMN, SAME\",\n",
    "        \"#-- Database notes --#\",\n",
    "        \"Entrez databases: sra, gds, pubmed, biosample, bioproject\",\n",
    "        \"#-- Example workflows --#\",\n",
    "        \"# Task: Convert GSE123456 to SRX, SRP, or SRR accessions\",\n",
    "        \"  1. esearch of GSE accession to obtain Entrez IDs\",\n",
    "        \"  2. esummary of the Entrez IDs to get the SRX accessions\"\n",
    "    ])\n",
    ")\n",
    "\n",
    "# invoke the agent\n",
    "inputs = {\"messages\": [(\"user\", \"Convert GSE121737 to SRX accessions\")]}\n",
    "config = {\"max_concurrency\" : 8, \"recursion_limit\": 50}\n",
    "#for step in entrez_agent.stream(inputs, config=config):\n",
    "#    print(step)\n"
   ]
  },
  {
   "cell_type": "code",
   "execution_count": 57,
   "metadata": {},
   "outputs": [
    {
     "name": "stdout",
     "output_type": "stream",
     "text": [
      "{'agent': {'messages': [AIMessage(content='', additional_kwargs={'tool_calls': [{'id': 'call_ghmMyycxfAEJEvqAtzdpYFIy', 'function': {'arguments': '{\"message\":\"Search for GSE148729 in the gds database to obtain Entrez IDs.\"}', 'name': 'invoke_esearch_worker'}, 'type': 'function'}], 'refusal': None}, response_metadata={'token_usage': {'completion_tokens': 32, 'prompt_tokens': 585, 'total_tokens': 617, 'completion_tokens_details': {'accepted_prediction_tokens': 0, 'audio_tokens': 0, 'reasoning_tokens': 0, 'rejected_prediction_tokens': 0}, 'prompt_tokens_details': {'audio_tokens': 0, 'cached_tokens': 0}}, 'model_name': 'gpt-4o-2024-08-06', 'system_fingerprint': 'fp_159d8341cc', 'finish_reason': 'tool_calls', 'logprobs': None}, id='run-8f2b4885-db90-46a7-bd29-4bc3aa97d99a-0', tool_calls=[{'name': 'invoke_esearch_worker', 'args': {'message': 'Search for GSE148729 in the gds database to obtain Entrez IDs.'}, 'id': 'call_ghmMyycxfAEJEvqAtzdpYFIy', 'type': 'tool_call'}], usage_metadata={'input_tokens': 585, 'output_tokens': 32, 'total_tokens': 617, 'input_token_details': {'audio': 0, 'cache_read': 0}, 'output_token_details': {'audio': 0, 'reasoning': 0}})]}}\n",
      "{'tools': {'messages': [ToolMessage(content=\"{'messages': [HumanMessage(content='Entrez IDs for GSE148729 in the GDS database:\\\\n\\\\n1. 200148729\\\\n2. 100024676\\\\n3. 100020301\\\\n4. 100018573\\\\n5. 305022831\\\\n6. 305022830\\\\n7. 305022829\\\\n8. 305022828\\\\n9. 305022827\\\\n10. 305022826\\\\n11. 305022825\\\\n12. 305022824\\\\n13. 305022823\\\\n14. 305022822\\\\n15. 305022821\\\\n16. 305022820\\\\n17. 305022819\\\\n18. 305022818\\\\n19. 305022817\\\\n20. 305022816\\\\n21. 305022815\\\\n22. 305022814\\\\n23. 305022813\\\\n24. 305022812\\\\n25. 305022811\\\\n26. 305022810\\\\n27. 305022809\\\\n28. 305022808\\\\n29. 305022807\\\\n30. 305022806\\\\n31. 305022805\\\\n32. 305022804\\\\n33. 305022803\\\\n34. 305022802\\\\n35. 305022801\\\\n36. 305022800\\\\n37. 305022799\\\\n38. 305022798\\\\n39. 305022797\\\\n40. 305022796\\\\n41. 304681414\\\\n42. 304681413\\\\n43. 304681412\\\\n44. 304681411\\\\n45. 304681410\\\\n46. 304681409\\\\n47. 304681408\\\\n48. 304681407\\\\n49. 304681406\\\\n50. 304681405\\\\n51. 304681404\\\\n52. 304681403\\\\n53. 304681402\\\\n54. 304681401\\\\n55. 304681400\\\\n56. 304681399\\\\n57. 304681398\\\\n58. 304681397\\\\n59. 304681396\\\\n60. 304681395\\\\n61. 304681394\\\\n62. 304477967\\\\n63. 304477966\\\\n64. 304477965\\\\n65. 304477964\\\\n66. 304477963\\\\n67. 304477962\\\\n68. 304477961\\\\n69. 304477960\\\\n70. 304477959\\\\n71. 304477958\\\\n72. 304477957\\\\n73. 304477956\\\\n74. 304477955\\\\n75. 304477954\\\\n76. 304477953\\\\n77. 304477952\\\\n78. 304477951\\\\n79. 304477950\\\\n80. 304477949\\\\n81. 304477948\\\\n82. 304477947\\\\n83. 304477946\\\\n84. 304477945\\\\n85. 304477944\\\\n86. 304477943\\\\n87. 304477942\\\\n88. 304477941\\\\n89. 304477940\\\\n90. 304477939\\\\n91. 304477938\\\\n92. 304477937\\\\n93. 304477936\\\\n94. 304477935\\\\n95. 304477934\\\\n96. 304477933\\\\n97. 304477932\\\\n98. 304477931\\\\n99. 304477930\\\\n100. 304477929', additional_kwargs={}, response_metadata={}, name='esearch worker')]}\", name='invoke_esearch_worker', id='e1da9571-a6d3-464e-a6e0-8e6433d6ab5e', tool_call_id='call_ghmMyycxfAEJEvqAtzdpYFIy')]}}\n",
      "{'agent': {'messages': [AIMessage(content='', additional_kwargs={'tool_calls': [{'id': 'call_wn9jDQFC0fF5x1p0IlWn2pAx', 'function': {'arguments': '{\"message\":\"Retrieve SRP accessions for the following Entrez IDs: 200148729, 100024676, 100020301, 100018573, 305022831, 305022830, 305022829, 305022828, 305022827, 305022826, 305022825, 305022824, 305022823, 305022822, 305022821, 305022820, 305022819, 305022818, 305022817, 305022816\"}', 'name': 'invoke_esummary_worker'}, 'type': 'function'}], 'refusal': None}, response_metadata={'token_usage': {'completion_tokens': 126, 'prompt_tokens': 1364, 'total_tokens': 1490, 'completion_tokens_details': {'accepted_prediction_tokens': 0, 'audio_tokens': 0, 'reasoning_tokens': 0, 'rejected_prediction_tokens': 0}, 'prompt_tokens_details': {'audio_tokens': 0, 'cached_tokens': 1280}}, 'model_name': 'gpt-4o-2024-08-06', 'system_fingerprint': 'fp_159d8341cc', 'finish_reason': 'tool_calls', 'logprobs': None}, id='run-c68faaff-849b-465a-b38a-afec62ee8539-0', tool_calls=[{'name': 'invoke_esummary_worker', 'args': {'message': 'Retrieve SRP accessions for the following Entrez IDs: 200148729, 100024676, 100020301, 100018573, 305022831, 305022830, 305022829, 305022828, 305022827, 305022826, 305022825, 305022824, 305022823, 305022822, 305022821, 305022820, 305022819, 305022818, 305022817, 305022816'}, 'id': 'call_wn9jDQFC0fF5x1p0IlWn2pAx', 'type': 'tool_call'}], usage_metadata={'input_tokens': 1364, 'output_tokens': 126, 'total_tokens': 1490, 'input_token_details': {'audio': 0, 'cache_read': 1280}, 'output_token_details': {'audio': 0, 'reasoning': 0}})]}}\n",
      "{'tools': {'messages': [ToolMessage(content=\"{'messages': [HumanMessage(content='- **Entrez IDs and Corresponding SRP Accessions:**\\\\n  - **200148729**: SRP256479\\\\n  - **100024676**: No SRP accession found\\\\n  - **100020301**: No SRP accession found\\\\n  - **100018573**: No SRP accession found\\\\n  - **305022831**: No SRP accession found\\\\n  - **305022830**: No SRP accession found\\\\n  - **305022829**: No SRP accession found\\\\n  - **305022828**: No SRP accession found\\\\n  - **305022827**: No SRP accession found\\\\n  - **305022826**: No SRP accession found\\\\n  - **305022825**: No SRP accession found\\\\n  - **305022824**: No SRP accession found\\\\n  - **305022823**: No SRP accession found\\\\n  - **305022822**: No SRP accession found\\\\n  - **305022821**: No SRP accession found\\\\n  - **305022820**: No SRP accession found\\\\n  - **305022819**: No SRP accession found\\\\n  - **305022818**: No SRP accession found\\\\n  - **305022817**: No SRP accession found\\\\n  - **305022816**: No SRP accession found', additional_kwargs={}, response_metadata={}, name='esummary worker')]}\", name='invoke_esummary_worker', id='c05540fd-41f9-4918-ba3d-1a41e7ab1b57', tool_call_id='call_wn9jDQFC0fF5x1p0IlWn2pAx')]}}\n",
      "{'agent': {'messages': [AIMessage(content='The SRP accession found for GSE148729 is:\\n\\n- **SRP256479**', additional_kwargs={'refusal': None}, response_metadata={'token_usage': {'completion_tokens': 20, 'prompt_tokens': 1815, 'total_tokens': 1835, 'completion_tokens_details': {'accepted_prediction_tokens': 0, 'audio_tokens': 0, 'reasoning_tokens': 0, 'rejected_prediction_tokens': 0}, 'prompt_tokens_details': {'audio_tokens': 0, 'cached_tokens': 0}}, 'model_name': 'gpt-4o-2024-08-06', 'system_fingerprint': 'fp_159d8341cc', 'finish_reason': 'stop', 'logprobs': None}, id='run-2e0e1e4c-3353-448d-bee4-4182e06b7f45-0', usage_metadata={'input_tokens': 1815, 'output_tokens': 20, 'total_tokens': 1835, 'input_token_details': {'audio': 0, 'cache_read': 0}, 'output_token_details': {'audio': 0, 'reasoning': 0}})]}}\n"
     ]
    }
   ],
   "source": [
    "inputs = {\"messages\": [(\"user\", \"Obtain any available SRP accessions for GSE148729\")]}\n",
    "config = {\"max_concurrency\" : 8, \"recursion_limit\": 50}\n",
    "for step in entrez_agent.stream(inputs, config=config):\n",
    "    print(step)"
   ]
  },
  {
   "cell_type": "code",
   "execution_count": 58,
   "metadata": {},
   "outputs": [
    {
     "name": "stdout",
     "output_type": "stream",
     "text": [
      "{'agent': {'messages': [AIMessage(content='', additional_kwargs={'tool_calls': [{'id': 'call_1SkjdJe56vNX5604sq1zQWAz', 'function': {'arguments': '{\"message\":\"Search for GSE196830 in the gds database to obtain Entrez IDs.\"}', 'name': 'invoke_esearch_worker'}, 'type': 'function'}], 'refusal': None}, response_metadata={'token_usage': {'completion_tokens': 32, 'prompt_tokens': 582, 'total_tokens': 614, 'completion_tokens_details': {'accepted_prediction_tokens': 0, 'audio_tokens': 0, 'reasoning_tokens': 0, 'rejected_prediction_tokens': 0}, 'prompt_tokens_details': {'audio_tokens': 0, 'cached_tokens': 0}}, 'model_name': 'gpt-4o-2024-08-06', 'system_fingerprint': 'fp_159d8341cc', 'finish_reason': 'tool_calls', 'logprobs': None}, id='run-312dcbd1-5c17-490a-8d15-02679b601f65-0', tool_calls=[{'name': 'invoke_esearch_worker', 'args': {'message': 'Search for GSE196830 in the gds database to obtain Entrez IDs.'}, 'id': 'call_1SkjdJe56vNX5604sq1zQWAz', 'type': 'tool_call'}], usage_metadata={'input_tokens': 582, 'output_tokens': 32, 'total_tokens': 614, 'input_token_details': {'audio': 0, 'cache_read': 0}, 'output_token_details': {'audio': 0, 'reasoning': 0}})]}}\n",
      "{'tools': {'messages': [ToolMessage(content=\"{'messages': [HumanMessage(content='Entrez IDs for GSE196830 in the GDS database:\\\\n\\\\n- 200196830\\\\n- 100028939\\\\n- 100024676\\\\n- 305902682\\\\n- 305902681\\\\n- 305902680\\\\n- 305902679\\\\n- 305902678\\\\n- 305902677\\\\n- 305902676\\\\n- 305902675\\\\n- 305902674\\\\n- 305902673\\\\n- 305902672\\\\n- 305902671\\\\n- 305902670\\\\n- 305902669\\\\n- 305902668\\\\n- 305902667\\\\n- 305902666\\\\n- 305902665\\\\n- 305902664\\\\n- 305902663\\\\n- 305902662\\\\n- 305902661\\\\n- 305902660\\\\n- 305902659\\\\n- 305902658\\\\n- 305902657\\\\n- 305902656\\\\n- 305902655\\\\n- 305902654\\\\n- 305902653\\\\n- 305902652\\\\n- 305902651\\\\n- 305902650\\\\n- 305902649\\\\n- 305902648\\\\n- 305902647\\\\n- 305902646\\\\n- 305902645\\\\n- 305902644\\\\n- 305902643\\\\n- 305902642\\\\n- 305902641\\\\n- 305902640\\\\n- 305902639\\\\n- 305902638\\\\n- 305902637\\\\n- 305902636\\\\n- 305902635\\\\n- 305902634\\\\n- 305902633\\\\n- 305902632\\\\n- 305902631\\\\n- 305902630\\\\n- 305902629\\\\n- 305902628\\\\n- 305902627\\\\n- 305902626\\\\n- 305902625\\\\n- 305902624\\\\n- 305902623\\\\n- 305902622\\\\n- 305902621\\\\n- 305902620\\\\n- 305902619\\\\n- 305902618\\\\n- 305902617\\\\n- 305902616\\\\n- 305902615\\\\n- 305902614\\\\n- 305902613\\\\n- 305902612\\\\n- 305902611\\\\n- 305902610\\\\n- 305902609\\\\n- 305902608\\\\n- 305902607\\\\n- 305902606\\\\n- 305902605\\\\n- 305902604\\\\n- 305902603\\\\n- 305902602\\\\n- 305902601\\\\n- 305902600\\\\n- 305902599\\\\n- 305902598\\\\n- 305902597\\\\n- 305902596\\\\n- 305902595\\\\n- 305902594\\\\n- 305902593\\\\n- 305902592\\\\n- 305902591\\\\n- 305902590\\\\n- 305902589\\\\n- 305902588\\\\n- 305902587\\\\n- 305902586', additional_kwargs={}, response_metadata={}, name='esearch worker')]}\", name='invoke_esearch_worker', id='aa168db9-f75c-4b3e-8971-8f6453a8d705', tool_call_id='call_1SkjdJe56vNX5604sq1zQWAz')]}}\n",
      "{'agent': {'messages': [AIMessage(content='', additional_kwargs={'tool_calls': [{'id': 'call_BfU4J9potdD083J17fi2QbTm', 'function': {'arguments': '{\"message\":\"Link Entrez ID 200196830 from the gds database to the pubmed database to find related publications.\"}', 'name': 'invoke_elink_worker'}, 'type': 'function'}], 'refusal': None}, response_metadata={'token_usage': {'completion_tokens': 38, 'prompt_tokens': 1261, 'total_tokens': 1299, 'completion_tokens_details': {'accepted_prediction_tokens': 0, 'audio_tokens': 0, 'reasoning_tokens': 0, 'rejected_prediction_tokens': 0}, 'prompt_tokens_details': {'audio_tokens': 0, 'cached_tokens': 0}}, 'model_name': 'gpt-4o-2024-08-06', 'system_fingerprint': 'fp_159d8341cc', 'finish_reason': 'tool_calls', 'logprobs': None}, id='run-361b8e53-b7a8-4daf-85b1-0dca21ebe77d-0', tool_calls=[{'name': 'invoke_elink_worker', 'args': {'message': 'Link Entrez ID 200196830 from the gds database to the pubmed database to find related publications.'}, 'id': 'call_BfU4J9potdD083J17fi2QbTm', 'type': 'tool_call'}], usage_metadata={'input_tokens': 1261, 'output_tokens': 38, 'total_tokens': 1299, 'input_token_details': {'audio': 0, 'cache_read': 0}, 'output_token_details': {'audio': 0, 'reasoning': 0}})]}}\n",
      "{'tools': {'messages': [ToolMessage(content=\"{'messages': [HumanMessage(content='- Related PubMed IDs for Entrez ID 200196830 from the GDS database:\\\\n  - 38622708\\\\n  - 36823676\\\\n  - 35389779', additional_kwargs={}, response_metadata={}, name='elink worker')]}\", name='invoke_elink_worker', id='5d12faf1-423e-4846-afa3-d254f848351d', tool_call_id='call_BfU4J9potdD083J17fi2QbTm')]}}\n",
      "{'agent': {'messages': [AIMessage(content='', additional_kwargs={'tool_calls': [{'id': 'call_pDVy8qIl6ROMELihWZo0aSTn', 'function': {'arguments': '{\"message\":\"Retrieve summaries for PubMed IDs 38622708, 36823676, and 35389779 to obtain publication details.\"}', 'name': 'invoke_esummary_worker'}, 'type': 'function'}], 'refusal': None}, response_metadata={'token_usage': {'completion_tokens': 41, 'prompt_tokens': 1371, 'total_tokens': 1412, 'completion_tokens_details': {'accepted_prediction_tokens': 0, 'audio_tokens': 0, 'reasoning_tokens': 0, 'rejected_prediction_tokens': 0}, 'prompt_tokens_details': {'audio_tokens': 0, 'cached_tokens': 1152}}, 'model_name': 'gpt-4o-2024-08-06', 'system_fingerprint': 'fp_159d8341cc', 'finish_reason': 'tool_calls', 'logprobs': None}, id='run-a8b17041-d494-479a-92c5-0261e80a242c-0', tool_calls=[{'name': 'invoke_esummary_worker', 'args': {'message': 'Retrieve summaries for PubMed IDs 38622708, 36823676, and 35389779 to obtain publication details.'}, 'id': 'call_pDVy8qIl6ROMELihWZo0aSTn', 'type': 'tool_call'}], usage_metadata={'input_tokens': 1371, 'output_tokens': 41, 'total_tokens': 1412, 'input_token_details': {'audio': 0, 'cache_read': 1152}, 'output_token_details': {'audio': 0, 'reasoning': 0}})]}}\n",
      "{'tools': {'messages': [ToolMessage(content=\"{'messages': [HumanMessage(content='**Publication Summaries:**\\\\n\\\\n1. **PubMed ID: 38622708**\\\\n   - **Title:** Demuxafy: improvement in droplet assignment by integrating multiple single-cell demultiplexing and doublet detection methods.\\\\n   - **Authors:** Neavin D, Senabouth A, Arora H, Lee JTH, Ripoll-Cladellas A, sc-eQTLGen Consortium, Franke L, Prabhakar S, Ye CJ, McCarthy DJ, Melé M, Hemberg M, Powell JE\\\\n   - **Source:** Genome Biol\\\\n   - **Publication Date:** April 15, 2024\\\\n   - **Volume:** 25, **Issue:** 1, **Pages:** 94\\\\n   - **DOI:** [10.1186/s13059-024-03224-8](https://doi.org/10.1186/s13059-024-03224-8)\\\\n   - **Language:** English\\\\n   - **Status:** Indexed for MEDLINE\\\\n\\\\n2. **PubMed ID: 36823676**\\\\n   - **Title:** Pitfalls and opportunities for applying latent variables in single-cell eQTL analyses.\\\\n   - **Authors:** Xue A, Yazar S, Neavin D, Powell JE\\\\n   - **Source:** Genome Biol\\\\n   - **Publication Date:** February 23, 2023\\\\n   - **Volume:** 24, **Issue:** 1, **Pages:** 33\\\\n   - **DOI:** [10.1186/s13059-023-02873-5](https://doi.org/10.1186/s13059-023-02873-5)\\\\n   - **Language:** English\\\\n   - **Status:** Indexed for MEDLINE\\\\n\\\\n3. **PubMed ID: 35389779**\\\\n   - **Title:** Single-cell eQTL mapping identifies cell type-specific genetic control of autoimmune disease.\\\\n   - **Authors:** Yazar S, Alquicira-Hernandez J, Wing K, Senabouth A, Gordon MG, Andersen S, Lu Q, Rowson A, Taylor TRP, Clarke L, Maccora K, Chen C, Cook AL, Ye CJ, Fairfax KA, Hewitt AW, Powell JE\\\\n   - **Source:** Science\\\\n   - **Publication Date:** April 8, 2022\\\\n   - **Volume:** 376, **Issue:** 6589, **Pages:** eabf3041\\\\n   - **DOI:** [10.1126/science.abf3041](https://doi.org/10.1126/science.abf3041)\\\\n   - **Language:** English\\\\n   - **Status:** Indexed for MEDLINE', additional_kwargs={}, response_metadata={}, name='esummary worker')]}\", name='invoke_esummary_worker', id='07a86ff9-09da-459e-a240-6fcb298d96f7', tool_call_id='call_pDVy8qIl6ROMELihWZo0aSTn')]}}\n",
      "{'agent': {'messages': [AIMessage(content='Here are the publications related to GSE196830:\\n\\n1. **Title:** Demuxafy: improvement in droplet assignment by integrating multiple single-cell demultiplexing and doublet detection methods.\\n   - **Authors:** Neavin D, Senabouth A, et al.\\n   - **Source:** Genome Biol\\n   - **Date:** April 15, 2024\\n   - **DOI:** [10.1186/s13059-024-03224-8](https://doi.org/10.1186/s13059-024-03224-8)\\n\\n2. **Title:** Pitfalls and opportunities for applying latent variables in single-cell eQTL analyses.\\n   - **Authors:** Xue A, Yazar S, et al.\\n   - **Source:** Genome Biol\\n   - **Date:** February 23, 2023\\n   - **DOI:** [10.1186/s13059-023-02873-5](https://doi.org/10.1186/s13059-023-02873-5)\\n\\n3. **Title:** Single-cell eQTL mapping identifies cell type-specific genetic control of autoimmune disease.\\n   - **Authors:** Yazar S, Alquicira-Hernandez J, et al.\\n   - **Source:** Science\\n   - **Date:** April 8, 2022\\n   - **DOI:** [10.1126/science.abf3041](https://doi.org/10.1126/science.abf3041)', additional_kwargs={'refusal': None}, response_metadata={'token_usage': {'completion_tokens': 319, 'prompt_tokens': 2025, 'total_tokens': 2344, 'completion_tokens_details': {'accepted_prediction_tokens': 0, 'audio_tokens': 0, 'reasoning_tokens': 0, 'rejected_prediction_tokens': 0}, 'prompt_tokens_details': {'audio_tokens': 0, 'cached_tokens': 1280}}, 'model_name': 'gpt-4o-2024-08-06', 'system_fingerprint': 'fp_159d8341cc', 'finish_reason': 'stop', 'logprobs': None}, id='run-f0421a7d-09db-4145-9d13-f9f768258ef6-0', usage_metadata={'input_tokens': 2025, 'output_tokens': 319, 'total_tokens': 2344, 'input_token_details': {'audio': 0, 'cache_read': 1280}, 'output_token_details': {'audio': 0, 'reasoning': 0}})]}}\n"
     ]
    }
   ],
   "source": [
    "inputs = {\"messages\": [(\"user\", \"Obtain any available publications for GSE196830\")]}\n",
    "config = {\"max_concurrency\" : 8, \"recursion_limit\": 50}\n",
    "for step in entrez_agent.stream(inputs, config=config):\n",
    "    print(step)"
   ]
  },
  {
   "cell_type": "markdown",
   "metadata": {},
   "source": [
    "***"
   ]
  },
  {
   "cell_type": "markdown",
   "metadata": {},
   "source": [
    "# Graph"
   ]
  },
  {
   "cell_type": "code",
   "execution_count": 1,
   "metadata": {},
   "outputs": [],
   "source": [
    "import operator\n",
    "from typing import Annotated, Sequence, Tuple, Union, Required\n",
    "from typing_extensions import TypedDict\n",
    "from langchain_core.messages import BaseMessage, HumanMessage, AIMessage\n",
    "from langchain_core.prompts import ChatPromptTemplate, MessagesPlaceholder\n",
    "from langchain_core.runnables import RunnableConfig\n",
    "from langchain_openai import ChatOpenAI\n",
    "from langgraph.types import Send\n",
    "from langgraph.graph import START, END, StateGraph, MessagesState\n",
    "from pydantic import BaseModel, Field\n",
    "from langgraph.prebuilt import create_react_agent, ToolNode"
   ]
  },
  {
   "cell_type": "code",
   "execution_count": 2,
   "metadata": {},
   "outputs": [],
   "source": [
    "# set model\n",
    "model_big = ChatOpenAI(model=\"gpt-4o\")\n",
    "model = ChatOpenAI(model=\"gpt-4o-mini\")"
   ]
  },
  {
   "cell_type": "code",
   "execution_count": 3,
   "metadata": {},
   "outputs": [],
   "source": [
    "def worker_agent_node(state, agent, name):\n",
    "    \"\"\"\n",
    "    Convert agent output to a human message for the graph.\n",
    "    Just returns the last message from the agent.\n",
    "    Args:\n",
    "        state: The current state of the graph.\n",
    "        agent: The agent that generated the messages.\n",
    "        name: The name of the agent.\n",
    "    \"\"\"\n",
    "    # just last command to worker agent\n",
    "    result = agent.invoke(state[\"messages\"][-1])\n",
    "    return {\n",
    "        \"messages\": [HumanMessage(content=result[\"messages\"][-1].content, name=name)]\n",
    "    }"
   ]
  },
  {
   "cell_type": "code",
   "execution_count": null,
   "metadata": {},
   "outputs": [],
   "source": []
  },
  {
   "cell_type": "code",
   "execution_count": null,
   "metadata": {},
   "outputs": [],
   "source": [
    "entrez_agent = create_react_agent(\n",
    "    model=model_big,\n",
    "    tools=[esearch, efetch, esummary, elink],\n",
    "    state_modifier=\"\\n\".join([\n",
    "        \"You are provided with an Entrez record ID.\",\n",
    "        \"Your task is to gather information about the dataset associated with the record.\",\n",
    "        \"Start with the eSearch tool to find the record, then use eFetch to get detailed information.\",\n",
    "        \"Use eSummary to obtain summary information of the record.\",\n",
    "        \"Your primary goal is to obtain SRA accessions (e.g., SRX, SRP, SRR) associated with the Entrez record.\",\n",
    "        \"If you obtain non-SRA accessions (e.g., ERX, PRJNA, DRX, E-MTAB), use eLink to find related SRA records.\",\n",
    "        \"Use eLink to navigate between databases and map non-SRA accessions to SRA accessions.\",\n",
    "        \"Continue using eLink and other tools until you successfully obtain the SRA accession numbers.\",\n",
    "        \"Verify each accession to ensure it is an SRA accession; if not, keep searching.\",\n",
    "        \"Summarize the SRA accessions you have found at the end of your search.\",\n",
    "        \"#-- Accession notes --#\",\n",
    "        \"SRA accesssion prefixes: SRX, SRP, SRR\",\n",
    "        \"ENA accession prefixes: ERX, PRJNA, DRX, E-MTAB\",\n",
    "        \"#-- elink notes --#\",\n",
    "        \"ENA to SRA: elink(source_db='sra', target_db='end'\",\n",
    "    ])\n",
    ")"
   ]
  },
  {
   "cell_type": "code",
   "execution_count": 98,
   "metadata": {},
   "outputs": [],
   "source": [
    "# subclass the state\n",
    "class GraphState(TypedDict):\n",
    "    messages: Annotated[Sequence[BaseMessage], operator.add]\n",
    "    SRX: Annotated[List[str], \"SRX accessions associated with the dataset.\"]\n",
    "    SRP: Annotated[List[str], \"SRP accessions associated with the dataset.\"]\n",
    "    SRR: Annotated[List[str], \"SRR accessions associated with the dataset.\"]"
   ]
  },
  {
   "cell_type": "code",
   "execution_count": 99,
   "metadata": {},
   "outputs": [],
   "source": [
    "# node to generate a structured output of accessions\n",
    "class Accesions(TypedDict):\n",
    "    SRX: List[str]\n",
    "    SRP: List[str]\n",
    "    SRR: List[str]\n",
    "\n",
    "def get_accessions(state: GraphState) -> Accesions:\n",
    "    \"\"\"\n",
    "    Extract the SRA experiment accessions (SRX) from the state.\n",
    "    \"\"\"\n",
    "     # Create a prompt template that includes previous messages\n",
    "    prompt = ChatPromptTemplate.from_messages([\n",
    "        # First add any static system message if needed\n",
    "        (\"system\", \"You are an expert in bioinformatics and have been asked to analyze an SRA dataset.\"),\n",
    "        # Include all previous messages from the state\n",
    "        MessagesPlaceholder(variable_name=\"history\"),\n",
    "        # Add the final question/instruction\n",
    "        (\"human\", \"\\n\".join([\n",
    "            \"Based on the information above, determine the following:\",\n",
    "            \"1. The SRX accessions associated with the dataset.\",\n",
    "            \"2. The SRP accessions associated with the dataset.\",\n",
    "            \"3. The SRR accessions associated with the dataset.\"\n",
    "            \"If you cannot find any particular type of accession, you can leave it blank.\"\n",
    "            ])\n",
    "        ),\n",
    "    ])\n",
    "    # Format the prompt with the message history\n",
    "    formatted_prompt = prompt.format_messages(\n",
    "        history=state[\"messages\"]\n",
    "    )\n",
    "    # Use the formatted prompt with the LLM\n",
    "    return model.with_structured_output(Accesions, strict=True).invoke(formatted_prompt)\n",
    "\n",
    "# test get_accessions\n",
    "# state = {\n",
    "#     \"messages\": [HumanMessage(content=\"The accession is SRR13112659. The dataset is from a single-cell RNA-seq experiment with Illumina paired-end reads. There is another accession: SRP319646. The dataset is from a study on the human brain. The dataset is part of a larger project with the accession PR\")],\n",
    "# }\n",
    "#get_accessions(state)"
   ]
  },
  {
   "cell_type": "code",
   "execution_count": 100,
   "metadata": {},
   "outputs": [],
   "source": [
    "#-- graph --#\n",
    "workflow = StateGraph(GraphState)\n",
    "\n",
    "# nodes\n",
    "workflow.add_node(\"entrez_agent_node\", entrez_agent)\n",
    "workflow.add_node(\"get_accessions_node\", get_accessions)\n",
    "\n",
    "# edges\n",
    "workflow.add_edge(START, \"entrez_agent_node\")\n",
    "#workflow.add_edge(\"entrez_agent_node\", END)\n",
    "workflow.add_edge(\"entrez_agent_node\", \"get_accessions_node\")\n",
    "workflow.add_edge(\"get_accessions_node\", END)\n",
    "\n",
    "# compile the graph\n",
    "graph = workflow.compile()"
   ]
  },
  {
   "cell_type": "code",
   "execution_count": 101,
   "metadata": {},
   "outputs": [
    {
     "data": {
      "image/jpeg": "[encoded data removed]",
      "text/plain": [
       "<IPython.core.display.Image object>"
      ]
     },
     "execution_count": 101,
     "metadata": {},
     "output_type": "execute_result"
    }
   ],
   "source": [
    "from IPython.display import Image\n",
    "Image(graph.get_graph().draw_mermaid_png())"
   ]
  },
  {
   "cell_type": "code",
   "execution_count": 102,
   "metadata": {},
   "outputs": [
    {
     "name": "stdout",
     "output_type": "stream",
     "text": [
      "{'entrez_agent_node': {'messages': [HumanMessage(content='Entrez ID: 36029097', additional_kwargs={}, response_metadata={}, id='1b7b9def-2a57-462b-8e05-fc57c75ad568'), AIMessage(content='', additional_kwargs={'tool_calls': [{'id': 'call_LT2gZ25PDPYCLCQDegj34Lbt', 'function': {'arguments': '{\"database\":\"sra\",\"entrez_id\":\"36029097\"}', 'name': 'esummary'}, 'type': 'function'}], 'refusal': None}, response_metadata={'token_usage': {'completion_tokens': 23, 'prompt_tokens': 484, 'total_tokens': 507, 'completion_tokens_details': {'accepted_prediction_tokens': 0, 'audio_tokens': 0, 'reasoning_tokens': 0, 'rejected_prediction_tokens': 0}, 'prompt_tokens_details': {'audio_tokens': 0, 'cached_tokens': 0}}, 'model_name': 'gpt-4o-2024-08-06', 'system_fingerprint': 'fp_159d8341cc', 'finish_reason': 'tool_calls', 'logprobs': None}, id='run-d8aab24f-7a65-44ac-aedb-25ab7e509f93-0', tool_calls=[{'name': 'esummary', 'args': {'database': 'sra', 'entrez_id': '36029097'}, 'id': 'call_LT2gZ25PDPYCLCQDegj34Lbt', 'type': 'tool_call'}], usage_metadata={'input_tokens': 484, 'output_tokens': 23, 'total_tokens': 507, 'input_token_details': {'audio': 0, 'cache_read': 0}, 'output_token_details': {'audio': 0, 'reasoning': 0}}), ToolMessage(content='<?xml version=\"1.0\" encoding=\"UTF-8\" ?>\\n<!DOCTYPE eSummaryResult PUBLIC \"-//NLM//DTD esummary v1 20041029//EN\" \"https://eutils.ncbi.nlm.nih.gov/eutils/dtd/20041029/esummary-v1.dtd\">\\n<eSummaryResult>\\n<DocSum>\\n\\t<Id>36029097</Id>\\n\\t<Item Name=\"ExpXml\" Type=\"String\">&lt;Summary&gt;&lt;Title&gt;Illumina NovaSeq 6000 paired end sequencing&lt;/Title&gt;&lt;Platform instrument_model=\"Illumina NovaSeq 6000\"&gt;ILLUMINA&lt;/Platform&gt;&lt;Statistics total_runs=\"1\" total_spots=\"148471491\" total_bases=\"29991241182\" total_size=\"11417639563\" load_done=\"true\" cluster_name=\"public\"/&gt;&lt;/Summary&gt;&lt;Submitter acc=\"ERA30929992\" center_name=\"Klinikum rechts der Isar, II. Medizinische Klinik\" contact_name=\"European Nucleotide Archive\" lab_name=\"European Nucleotide Archive\"/&gt;&lt;Experiment acc=\"ERX13336121\" ver=\"1\" status=\"public\" name=\"Illumina NovaSeq 6000 paired end sequencing\"/&gt;&lt;Study acc=\"ERP165048\" name=\"Single cell RNA sequencing of splenocytes from (CD3eKO) B-NIKtg-A20\"/&gt;&lt;Organism taxid=\"10090\" ScientificName=\"Mus musculus\"/&gt;&lt;Sample acc=\"ERS21882369\" name=\"\"/&gt;&lt;Instrument ILLUMINA=\"Illumina NovaSeq 6000\"/&gt;&lt;Library_descriptor&gt;&lt;LIBRARY_NAME&gt;5_Sup1_12933_spl_bÂ&lt;/LIBRARY_NAME&gt;&lt;LIBRARY_STRATEGY&gt;RNA-Seq&lt;/LIBRARY_STRATEGY&gt;&lt;LIBRARY_SOURCE&gt;TRANSCRIPTOMIC SINGLE CELL&lt;/LIBRARY_SOURCE&gt;&lt;LIBRARY_SELECTION&gt;cDNA&lt;/LIBRARY_SELECTION&gt;&lt;LIBRARY_LAYOUT&gt; &lt;PAIRED/&gt; &lt;/LIBRARY_LAYOUT&gt;&lt;/Library_descriptor&gt;&lt;Bioproject&gt;PRJEB81204&lt;/Bioproject&gt;&lt;Biosample&gt;SAMEA116821673&lt;/Biosample&gt;</Item>\\n\\t<Item Name=\"Runs\" Type=\"String\">&lt;Run acc=\"ERR13934239\" total_spots=\"148471491\" total_bases=\"29991241182\" load_done=\"true\" is_public=\"true\" cluster_name=\"public\" static_data_available=\"true\"/&gt;</Item>\\n\\t<Item Name=\"ExtLinks\" Type=\"String\"></Item>\\n\\t<Item Name=\"CreateDate\" Type=\"String\">2024/11/09</Item>\\n\\t<Item Name=\"UpdateDate\" Type=\"String\">2024/11/09</Item>\\n</DocSum>\\n\\n</eSummaryResult>\\n', name='esummary', id='d298cb3f-8d53-453e-bcdf-05523e1b92da', tool_call_id='call_LT2gZ25PDPYCLCQDegj34Lbt'), AIMessage(content='', additional_kwargs={'tool_calls': [{'id': 'call_elSh61UzJPWTIZffAHKrYrIy', 'function': {'arguments': '{\"source_db\":\"sra\",\"target_db\":\"sra\",\"entrez_id\":\"36029097\"}', 'name': 'elink'}, 'type': 'function'}], 'refusal': None}, response_metadata={'token_usage': {'completion_tokens': 30, 'prompt_tokens': 1165, 'total_tokens': 1195, 'completion_tokens_details': {'accepted_prediction_tokens': 0, 'audio_tokens': 0, 'reasoning_tokens': 0, 'rejected_prediction_tokens': 0}, 'prompt_tokens_details': {'audio_tokens': 0, 'cached_tokens': 0}}, 'model_name': 'gpt-4o-2024-08-06', 'system_fingerprint': 'fp_159d8341cc', 'finish_reason': 'tool_calls', 'logprobs': None}, id='run-dfe71339-d087-4b70-be16-243656cb1c91-0', tool_calls=[{'name': 'elink', 'args': {'source_db': 'sra', 'target_db': 'sra', 'entrez_id': '36029097'}, 'id': 'call_elSh61UzJPWTIZffAHKrYrIy', 'type': 'tool_call'}], usage_metadata={'input_tokens': 1165, 'output_tokens': 30, 'total_tokens': 1195, 'input_token_details': {'audio': 0, 'cache_read': 0}, 'output_token_details': {'audio': 0, 'reasoning': 0}}), ToolMessage(content='<?xml version=\"1.0\" encoding=\"UTF-8\" ?>\\n<!DOCTYPE eLinkResult PUBLIC \"-//NLM//DTD elink 20101123//EN\" \"https://eutils.ncbi.nlm.nih.gov/eutils/dtd/20101123/elink.dtd\">\\n<eLinkResult>\\n\\n  <LinkSet>\\n    <DbFrom>sra</DbFrom>\\n    <IdList>\\n      <Id>36029097</Id>\\n    </IdList>\\n  </LinkSet>\\n</eLinkResult>\\n', name='elink', id='29978bbb-55b9-498f-8368-23127c721e66', tool_call_id='call_elSh61UzJPWTIZffAHKrYrIy'), AIMessage(content='The Entrez record ID 36029097 is associated with non-SRA accessions. Here are the accessions found:\\n\\n- **Experiment Accession**: ERX13336121\\n- **Study Accession**: ERP165048\\n- **Bioproject**: PRJEB81204\\n- **Biosample**: SAMEA116821673\\n- **Run Accession**: ERR13934239\\n\\nThe run accession **ERR13934239** is associated with the European Nucleotide Archive (ENA), not directly with SRA. No direct SRA accession numbers (SRX, SRP, SRR) were found in the summary or via related links. \\n\\nTo map ERR13934239 to an SRA accession, further investigation through databases specific to SRA might be needed, or verification within the ENA to SRA mapping resources. However, based on the direct searches and links, no SRA accessions are provided for this Entrez ID.', additional_kwargs={'refusal': None}, response_metadata={'token_usage': {'completion_tokens': 199, 'prompt_tokens': 1312, 'total_tokens': 1511, 'completion_tokens_details': {'accepted_prediction_tokens': 0, 'audio_tokens': 0, 'reasoning_tokens': 0, 'rejected_prediction_tokens': 0}, 'prompt_tokens_details': {'audio_tokens': 0, 'cached_tokens': 1024}}, 'model_name': 'gpt-4o-2024-08-06', 'system_fingerprint': 'fp_159d8341cc', 'finish_reason': 'stop', 'logprobs': None}, id='run-6cdeca13-dcb2-4181-b757-b1549e94e1d9-0', usage_metadata={'input_tokens': 1312, 'output_tokens': 199, 'total_tokens': 1511, 'input_token_details': {'audio': 0, 'cache_read': 1024}, 'output_token_details': {'audio': 0, 'reasoning': 0}})]}}\n",
      "{'get_accessions_node': {'SRX': [], 'SRP': [], 'SRR': ['ERR13934239']}}\n"
     ]
    }
   ],
   "source": [
    "# Call the graph and stream\n",
    "#input = {\"entrez_id\" : \"35966237\", \"database\" : \"sra\"}\n",
    "#input = {\"messages\" : [HumanMessage(content=\"Entrez ID: 35966237\")]}\n",
    "input = {\"messages\" : [HumanMessage(content=\"Entrez ID: 36029097\")]}\n",
    "for step in graph.stream(input, config={\"max_concurrency\" : 3, \"recursion_limit\": 30}):\n",
    "    print(step)\n",
    "    final_step = step"
   ]
  },
  {
   "cell_type": "code",
   "execution_count": 103,
   "metadata": {},
   "outputs": [
    {
     "data": {
      "text/plain": [
       "{'get_accessions_node': {'SRX': [], 'SRP': [], 'SRR': ['ERR13934239']}}"
      ]
     },
     "execution_count": 103,
     "metadata": {},
     "output_type": "execute_result"
    }
   ],
   "source": [
    "final_step"
   ]
  },
  {
   "cell_type": "code",
   "execution_count": null,
   "metadata": {},
   "outputs": [],
   "source": []
  },
  {
   "cell_type": "code",
   "execution_count": null,
   "metadata": {},
   "outputs": [],
   "source": []
  }
 ],
 "metadata": {
  "kernelspec": {
   "display_name": "SRAgent",
   "language": "python",
   "name": "python3"
  },
  "language_info": {
   "codemirror_mode": {
    "name": "ipython",
    "version": 3
   },
   "file_extension": ".py",
   "mimetype": "text/x-python",
   "name": "python",
   "nbconvert_exporter": "python",
   "pygments_lexer": "ipython3",
   "version": "3.12.7"
  }
 },
 "nbformat": 4,
 "nbformat_minor": 2
}
