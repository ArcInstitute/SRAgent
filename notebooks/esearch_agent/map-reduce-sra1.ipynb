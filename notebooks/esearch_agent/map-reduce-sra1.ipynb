{
 "cells": [
  {
   "cell_type": "markdown",
   "metadata": {},
   "source": [
    "# Goals\n",
    "\n",
    "* Use map-reduce-subgraph framework with SRA tools agent"
   ]
  },
  {
   "cell_type": "code",
   "execution_count": 5,
   "metadata": {},
   "outputs": [],
   "source": [
    "# import \n",
    "import os\n",
    "import re\n",
    "import time\n",
    "from pprint import pprint \n",
    "from datetime import datetime, timedelta\n",
    "from typing import Annotated, List, Dict, Tuple, Optional, Union, Any\n",
    "import xml.etree.ElementTree as ET\n",
    "from pydantic import BaseModel, Field\n",
    "from langchain_core.tools import tool\n",
    "from Bio import Entrez"
   ]
  },
  {
   "cell_type": "markdown",
   "metadata": {},
   "source": [
    "# Tools"
   ]
  },
  {
   "cell_type": "code",
   "execution_count": 2,
   "metadata": {},
   "outputs": [],
   "source": [
    "# set up Entrez\n",
    "Entrez.email = \"nick.youngblut@arcinstitute.org\""
   ]
  },
  {
   "cell_type": "code",
   "execution_count": 108,
   "metadata": {},
   "outputs": [],
   "source": [
    "@tool \n",
    "def esearch(\n",
    "    esearch_query: Annotated[str, \"Entrez query string.\"],\n",
    "    database: Annotated[str, \"Database name ('sra' or 'gds')\"]=\"sra\",\n",
    "    #organism: Annotated[str, \"Organism name ('human' or 'mouse')\"]=\"human\",\n",
    "    )-> Annotated[List[str], \"IDs of database records\"]:\n",
    "    \"\"\"\n",
    "    Run an Entrez search query and return the IDs of the results.\n",
    "    \"\"\"\n",
    "    # date range\n",
    "    start_date = datetime.now() - timedelta(days=7)\n",
    "    end_date = datetime.now()\n",
    "    date_range = f\"{start_date.strftime('%Y/%m/%d')}:{end_date.strftime('%Y/%m/%d')}[PDAT]\"\n",
    "    esearch_query += f\" AND {date_range}\"\n",
    "\n",
    "    max_ids = 2  # DEBUG\n",
    "\n",
    "    # query\n",
    "    ids = []\n",
    "    retstart = 0\n",
    "    retmax = 50\n",
    "    while True:\n",
    "        try:\n",
    "            search_handle = Entrez.esearch(\n",
    "                db=database, \n",
    "                term=esearch_query, \n",
    "                retstart=retstart, \n",
    "                retmax=retmax\n",
    "            )\n",
    "            search_results = Entrez.read(search_handle)\n",
    "            search_handle.close()\n",
    "            ids.extend(search_results[\"IdList\"])\n",
    "            retstart += retmax\n",
    "            time.sleep(0.5)\n",
    "            if max_ids and len(ids) >= max_ids:\n",
    "                break\n",
    "            if retstart >= int(search_results['Count']):\n",
    "                break\n",
    "        except Exception as e:\n",
    "            print(f\"Error searching {database} with query: {esearch_query}: {str(e)}\")\n",
    "            break \n",
    "    # return IDs\n",
    "    return ids[:max_ids]  # debug\n",
    "\n",
    "#query = '(\"single cell RNA sequencing\" OR \"single cell RNA-seq\")'\n",
    "#IDs = esearch.invoke({\"esearch_query\" : query, \"database\" : \"sra\"})\n",
    "#IDs"
   ]
  },
  {
   "cell_type": "code",
   "execution_count": 118,
   "metadata": {},
   "outputs": [],
   "source": [
    "@tool \n",
    "def efetch(\n",
    "    database: Annotated[str, \"Database name ('sra' or 'gds')\"],\n",
    "    dataset_id: Annotated[str, \"Entrez ID\"],\n",
    "    )-> Annotated[List[str], \"eFetch results in xml format\"]:\n",
    "    \"\"\"\n",
    "    Run an Entrez efetch query and return the results.\n",
    "    \"\"\"\n",
    "\n",
    "    time.sleep(0.5)\n",
    "\n",
    "    # Fetch dataset record\n",
    "    handle = Entrez.efetch(db=database, id=dataset_id, retmode=\"xml\")\n",
    "    record = handle.read()\n",
    "    handle.close()\n",
    "\n",
    "    try:\n",
    "        record = record.decode(\"utf-8\")\n",
    "    except:\n",
    "        pass\n",
    "\n",
    "    return str(record)\n",
    "\n",
    "#record = efetch.invoke({\"database\" : \"sra\", \"dataset_id\" : \"35966237\"})\n",
    "#pprint(record)"
   ]
  },
  {
   "cell_type": "markdown",
   "metadata": {},
   "source": [
    "# Graph"
   ]
  },
  {
   "cell_type": "code",
   "execution_count": 98,
   "metadata": {},
   "outputs": [],
   "source": [
    "import operator\n",
    "from typing import Annotated, Sequence, Tuple, Union\n",
    "from typing_extensions import TypedDict\n",
    "from langchain_core.messages import BaseMessage, HumanMessage, AIMessage\n",
    "from langchain_core.runnables import RunnableConfig\n",
    "from langchain_openai import ChatOpenAI\n",
    "from langgraph.types import Send\n",
    "from langgraph.graph import START, END, StateGraph\n",
    "from pydantic import BaseModel, Field\n",
    "from langgraph.prebuilt import create_react_agent, ToolNode"
   ]
  },
  {
   "cell_type": "code",
   "execution_count": 99,
   "metadata": {},
   "outputs": [],
   "source": [
    "# set model\n",
    "model = ChatOpenAI(model=\"gpt-4o-mini\")"
   ]
  },
  {
   "cell_type": "markdown",
   "metadata": {},
   "source": [
    "## Subgraph"
   ]
  },
  {
   "cell_type": "code",
   "execution_count": 138,
   "metadata": {},
   "outputs": [],
   "source": [
    "class SubState(TypedDict):\n",
    "    \"\"\"\n",
    "    Shared state of the agents in the subgraph\n",
    "    \"\"\"\n",
    "    database: str\n",
    "    ID: str\n",
    "    record: str"
   ]
  },
  {
   "cell_type": "code",
   "execution_count": 139,
   "metadata": {},
   "outputs": [],
   "source": [
    "def run_efetch(SubState):\n",
    "    record = efetch.invoke({\"database\" : SubState[\"database\"], \"dataset_id\" : SubState[\"ID\"]})\n",
    "    return {\"record\" : record}"
   ]
  },
  {
   "cell_type": "code",
   "execution_count": 141,
   "metadata": {},
   "outputs": [],
   "source": [
    "#-- subgraph --#\n",
    "subworkflow = StateGraph(SubState)\n",
    "\n",
    "# nodes\n",
    "subworkflow.add_node(\"efetch_node\", run_efetch)\n",
    "\n",
    "# edges\n",
    "subworkflow.add_edge(START, \"efetch_node\")\n",
    "subworkflow.add_edge(\"efetch_node\", END)\n",
    "\n",
    "# compile the graph\n",
    "subgraph = subworkflow.compile()"
   ]
  },
  {
   "cell_type": "markdown",
   "metadata": {},
   "source": [
    "## Graph"
   ]
  },
  {
   "cell_type": "code",
   "execution_count": 152,
   "metadata": {},
   "outputs": [],
   "source": [
    "class TopState(TypedDict):\n",
    "    \"\"\"\n",
    "    Shared state of the agents in the graph\n",
    "    \"\"\"\n",
    "    database: str\n",
    "    # esearch IDs\n",
    "    IDs: Annotated[List[str], operator.add]\n",
    "    # efetch records\n",
    "    records: Annotated[List[str], operator.add]"
   ]
  },
  {
   "cell_type": "code",
   "execution_count": null,
   "metadata": {},
   "outputs": [],
   "source": [
    "def run_esearch(state: TopState):\n",
    "    query = '(\"single cell RNA sequencing\" OR \"single cell RNA-seq\")'\n",
    "    IDs = esearch.invoke({\"esearch_query\" : query, \"database\" : state[\"database\"]})\n",
    "    return {\"IDs\" : IDs}\n",
    "\n",
    "def invoke_subgraph(state: SubState):\n",
    "    record = subgraph.invoke({\"database\" : state[\"database\"], \"ID\" : state[\"ID\"]})\n",
    "    return {\"records\" : [record]}\n",
    "\n",
    "# Here we define the logic to map out over the generated subjects\n",
    "def continue_to_subgraphs(state: TopState):\n",
    "    return [Send(\"invoke_subgraph\", {\"ID\": x, \"database\" : state[\"database\"]}) for x in state[\"IDs\"]]"
   ]
  },
  {
   "cell_type": "code",
   "execution_count": 166,
   "metadata": {},
   "outputs": [],
   "source": [
    "#-- graph --#\n",
    "workflow = StateGraph(TopState)\n",
    "\n",
    "# nodes\n",
    "workflow.add_node(\"esearch_node\", run_esearch)\n",
    "workflow.add_node(\"invoke_subgraph\", invoke_subgraph)\n",
    "\n",
    "# edges\n",
    "workflow.add_edge(START, \"esearch_node\")\n",
    "workflow.add_conditional_edges(\"esearch_node\", continue_to_subgraphs, [\"invoke_subgraph\"])\n",
    "workflow.add_edge(\"invoke_subgraph\", END)\n",
    "\n",
    "# compile the graph\n",
    "graph = workflow.compile()"
   ]
  },
  {
   "cell_type": "code",
   "execution_count": 167,
   "metadata": {},
   "outputs": [],
   "source": [
    "from IPython.display import Image\n",
    "#Image(graph.get_graph().draw_mermaid_png())"
   ]
  },
  {
   "cell_type": "code",
   "execution_count": null,
   "metadata": {},
   "outputs": [
    {
     "name": "stdout",
     "output_type": "stream",
     "text": [
      "((), {'esearch_node': {'IDs': ['36004814', '36004694']}})\n",
      "{'ID': '36004814', 'database': 'sra'}\n",
      "{'ID': '36004694', 'database': 'sra'}\n",
      "(('invoke_subgraph:d81fd364-ab08-52dd-eb41-33ae58bc08fe',), {'efetch_node': {'record': '<?xml version=\"1.0\" encoding=\"UTF-8\"  ?>\\n<EXPERIMENT_PACKAGE_SET>\\n<EXPERIMENT_PACKAGE><EXPERIMENT accession=\"ERX13336124\" alias=\"ena-EXPERIMENT-TAB-07-11-2024-13:04:12:932-215992\" center_name=\"Klinikum rechts der Isar, II. Medizinische Klinik\"><IDENTIFIERS><PRIMARY_ID>ERX13336124</PRIMARY_ID></IDENTIFIERS><TITLE>Illumina NovaSeq 6000 paired end sequencing</TITLE><STUDY_REF accession=\"ERP165048\"><IDENTIFIERS><PRIMARY_ID>ERP165048</PRIMARY_ID><EXTERNAL_ID namespace=\"BioProject\">PRJEB81204</EXTERNAL_ID></IDENTIFIERS></STUDY_REF><DESIGN><DESIGN_DESCRIPTION/><SAMPLE_DESCRIPTOR accession=\"ERS21882372\"><IDENTIFIERS><PRIMARY_ID>ERS21882372</PRIMARY_ID><EXTERNAL_ID namespace=\"BioSample\">SAMEA116821676</EXTERNAL_ID></IDENTIFIERS></SAMPLE_DESCRIPTOR><LIBRARY_DESCRIPTOR><LIBRARY_NAME>6_Sup1_12945_spl_aÂ</LIBRARY_NAME><LIBRARY_STRATEGY>RNA-Seq</LIBRARY_STRATEGY><LIBRARY_SOURCE>TRANSCRIPTOMIC SINGLE CELL</LIBRARY_SOURCE><LIBRARY_SELECTION>cDNA</LIBRARY_SELECTION><LIBRARY_LAYOUT><PAIRED/></LIBRARY_LAYOUT></LIBRARY_DESCRIPTOR></DESIGN><PLATFORM><ILLUMINA><INSTRUMENT_MODEL>Illumina NovaSeq 6000</INSTRUMENT_MODEL></ILLUMINA></PLATFORM></EXPERIMENT><SUBMISSION accession=\"ERA30929992\" alias=\"ena-SUBMISSION-TAB-07-11-2024-13:04:12:945-216016\" center_name=\"Klinikum rechts der Isar, II. Medizinische Klinik\" lab_name=\"European Nucleotide Archive\"><IDENTIFIERS><PRIMARY_ID>ERA30929992</PRIMARY_ID><SUBMITTER_ID namespace=\"Klinikum rechts der Isar, II. Medizinische Klinik\">ena-SUBMISSION-TAB-07-11-2024-13:04:12:945-216016</SUBMITTER_ID></IDENTIFIERS><TITLE>Submitted by Klinikum rechts der Isar, II. Medizinische Klinik on 07-NOV-2024</TITLE></SUBMISSION><Organization type=\"center\"><Name abbr=\"Klinikum rechts der Isar, II. Medizinische Klinik\">Klinikum rechts der Isar, II. Medizinische Klinik</Name></Organization><STUDY accession=\"ERP165048\" alias=\"f199a7ed-8820-4032-8e03-3f4fb42f19dd\" center_name=\"Klinikum rechts der Isar, II. Medizinische Klinik\"><IDENTIFIERS><PRIMARY_ID>ERP165048</PRIMARY_ID><EXTERNAL_ID namespace=\"BioProject\">PRJEB81204</EXTERNAL_ID><SUBMITTER_ID namespace=\"Klinikum rechts der Isar, II. Medizinische Klinik\">f199a7ed-8820-4032-8e03-3f4fb42f19dd</SUBMITTER_ID></IDENTIFIERS><DESCRIPTOR><STUDY_TITLE>Single cell RNA sequencing of splenocytes from (CD3eKO) B-NIKtg-A20</STUDY_TITLE><STUDY_TYPE existing_study_type=\"Other\"/><STUDY_ABSTRACT>Single cell RNA sequencing RNA was performed on splenocytes to identify changes in immune cell composition and function upon B cell-specific A20-deficiency and NIK transgene expression and upon T cell deficiency.</STUDY_ABSTRACT><CENTER_PROJECT_NAME>B-NIKtg-A20 single cell sequencing raw data</CENTER_PROJECT_NAME><STUDY_DESCRIPTION>Single cell RNA sequencing RNA was performed on splenocytes to identify changes in immune cell composition and function upon B cell-specific A20-deficiency and NIK transgene expression and upon T cell deficiency.</STUDY_DESCRIPTION></DESCRIPTOR><STUDY_ATTRIBUTES><STUDY_ATTRIBUTE><TAG>ENA-FIRST-PUBLIC</TAG><VALUE>2024-10-11</VALUE></STUDY_ATTRIBUTE><STUDY_ATTRIBUTE><TAG>ENA-LAST-UPDATE</TAG><VALUE>2024-11-07</VALUE></STUDY_ATTRIBUTE></STUDY_ATTRIBUTES></STUDY><SAMPLE alias=\"SAMEA116821676\" accession=\"ERS21882372\"><IDENTIFIERS><PRIMARY_ID>ERS21882372</PRIMARY_ID><EXTERNAL_ID namespace=\"BioSample\">SAMEA116821676</EXTERNAL_ID></IDENTIFIERS><TITLE>6_Sup1_12945_spl_a</TITLE><SAMPLE_NAME><TAXON_ID>10090</TAXON_ID><SCIENTIFIC_NAME>Mus musculus</SCIENTIFIC_NAME></SAMPLE_NAME><DESCRIPTION>Living cells sorted from the spleen of CD19cre NIKtg A20F/wt mouse ID12945</DESCRIPTION><SAMPLE_ATTRIBUTES><SAMPLE_ATTRIBUTE><TAG>ENA first public</TAG><VALUE>2024-11-07</VALUE></SAMPLE_ATTRIBUTE><SAMPLE_ATTRIBUTE><TAG>INSDC center name</TAG><VALUE>Klinikum rechts der Isar, II. Medizinische Klinik</VALUE></SAMPLE_ATTRIBUTE><SAMPLE_ATTRIBUTE><TAG>INSDC status</TAG><VALUE>public</VALUE></SAMPLE_ATTRIBUTE><SAMPLE_ATTRIBUTE><TAG>Submitter Id</TAG><VALUE>AS-715816-LR-58770</VALUE></SAMPLE_ATTRIBUTE><SAMPLE_ATTRIBUTE><TAG>collection date</TAG><VALUE>2021</VALUE></SAMPLE_ATTRIBUTE><SAMPLE_ATTRIBUTE><TAG>common name</TAG><VALUE>house mouse</VALUE></SAMPLE_ATTRIBUTE><SAMPLE_ATTRIBUTE><TAG>geographic location (country and/or sea)</TAG><VALUE>Germany</VALUE></SAMPLE_ATTRIBUTE><SAMPLE_ATTRIBUTE><TAG>sample name</TAG><VALUE>AS-715816-LR-58770</VALUE></SAMPLE_ATTRIBUTE><SAMPLE_ATTRIBUTE><TAG>scientific_name</TAG><VALUE>Mus musculus</VALUE></SAMPLE_ATTRIBUTE></SAMPLE_ATTRIBUTES></SAMPLE><RUN_SET runs=\"1\" bases=\"0\" spots=\"0\" bytes=\"0\"><RUN accession=\"ERR13934242\" alias=\"ena-RUN-TAB-07-11-2024-13:04:12:933-215993\" center_name=\"Klinikum rechts der Isar, II. Medizinische Klinik\" load_done=\"false\" unavailable=\"true\" published=\"2024-11-07 20:53:31\" is_public=\"true\"><IDENTIFIERS><PRIMARY_ID>ERR13934242</PRIMARY_ID><SUBMITTER_ID namespace=\"Klinikum rechts der Isar, II. Medizinische Klinik\">ena-RUN-TAB-07-11-2024-13:04:12:933-215993</SUBMITTER_ID></IDENTIFIERS><TITLE>Illumina NovaSeq 6000 paired end sequencing</TITLE><EXPERIMENT_REF accession=\"ERX13336124\"><IDENTIFIERS><PRIMARY_ID>ERX13336124</PRIMARY_ID></IDENTIFIERS></EXPERIMENT_REF><RUN_ATTRIBUTES><RUN_ATTRIBUTE><TAG>ENA-FIRST-PUBLIC</TAG><VALUE>2024-11-07</VALUE></RUN_ATTRIBUTE><RUN_ATTRIBUTE><TAG>ENA-LAST-UPDATE</TAG><VALUE>2024-11-07</VALUE></RUN_ATTRIBUTE></RUN_ATTRIBUTES></RUN></RUN_SET></EXPERIMENT_PACKAGE></EXPERIMENT_PACKAGE_SET>\\n'}})\n",
      "((), {'invoke_subgraph': {'records': [{'database': 'sra', 'ID': '36004814', 'record': '<?xml version=\"1.0\" encoding=\"UTF-8\"  ?>\\n<EXPERIMENT_PACKAGE_SET>\\n<EXPERIMENT_PACKAGE><EXPERIMENT accession=\"ERX13336124\" alias=\"ena-EXPERIMENT-TAB-07-11-2024-13:04:12:932-215992\" center_name=\"Klinikum rechts der Isar, II. Medizinische Klinik\"><IDENTIFIERS><PRIMARY_ID>ERX13336124</PRIMARY_ID></IDENTIFIERS><TITLE>Illumina NovaSeq 6000 paired end sequencing</TITLE><STUDY_REF accession=\"ERP165048\"><IDENTIFIERS><PRIMARY_ID>ERP165048</PRIMARY_ID><EXTERNAL_ID namespace=\"BioProject\">PRJEB81204</EXTERNAL_ID></IDENTIFIERS></STUDY_REF><DESIGN><DESIGN_DESCRIPTION/><SAMPLE_DESCRIPTOR accession=\"ERS21882372\"><IDENTIFIERS><PRIMARY_ID>ERS21882372</PRIMARY_ID><EXTERNAL_ID namespace=\"BioSample\">SAMEA116821676</EXTERNAL_ID></IDENTIFIERS></SAMPLE_DESCRIPTOR><LIBRARY_DESCRIPTOR><LIBRARY_NAME>6_Sup1_12945_spl_aÂ</LIBRARY_NAME><LIBRARY_STRATEGY>RNA-Seq</LIBRARY_STRATEGY><LIBRARY_SOURCE>TRANSCRIPTOMIC SINGLE CELL</LIBRARY_SOURCE><LIBRARY_SELECTION>cDNA</LIBRARY_SELECTION><LIBRARY_LAYOUT><PAIRED/></LIBRARY_LAYOUT></LIBRARY_DESCRIPTOR></DESIGN><PLATFORM><ILLUMINA><INSTRUMENT_MODEL>Illumina NovaSeq 6000</INSTRUMENT_MODEL></ILLUMINA></PLATFORM></EXPERIMENT><SUBMISSION accession=\"ERA30929992\" alias=\"ena-SUBMISSION-TAB-07-11-2024-13:04:12:945-216016\" center_name=\"Klinikum rechts der Isar, II. Medizinische Klinik\" lab_name=\"European Nucleotide Archive\"><IDENTIFIERS><PRIMARY_ID>ERA30929992</PRIMARY_ID><SUBMITTER_ID namespace=\"Klinikum rechts der Isar, II. Medizinische Klinik\">ena-SUBMISSION-TAB-07-11-2024-13:04:12:945-216016</SUBMITTER_ID></IDENTIFIERS><TITLE>Submitted by Klinikum rechts der Isar, II. Medizinische Klinik on 07-NOV-2024</TITLE></SUBMISSION><Organization type=\"center\"><Name abbr=\"Klinikum rechts der Isar, II. Medizinische Klinik\">Klinikum rechts der Isar, II. Medizinische Klinik</Name></Organization><STUDY accession=\"ERP165048\" alias=\"f199a7ed-8820-4032-8e03-3f4fb42f19dd\" center_name=\"Klinikum rechts der Isar, II. Medizinische Klinik\"><IDENTIFIERS><PRIMARY_ID>ERP165048</PRIMARY_ID><EXTERNAL_ID namespace=\"BioProject\">PRJEB81204</EXTERNAL_ID><SUBMITTER_ID namespace=\"Klinikum rechts der Isar, II. Medizinische Klinik\">f199a7ed-8820-4032-8e03-3f4fb42f19dd</SUBMITTER_ID></IDENTIFIERS><DESCRIPTOR><STUDY_TITLE>Single cell RNA sequencing of splenocytes from (CD3eKO) B-NIKtg-A20</STUDY_TITLE><STUDY_TYPE existing_study_type=\"Other\"/><STUDY_ABSTRACT>Single cell RNA sequencing RNA was performed on splenocytes to identify changes in immune cell composition and function upon B cell-specific A20-deficiency and NIK transgene expression and upon T cell deficiency.</STUDY_ABSTRACT><CENTER_PROJECT_NAME>B-NIKtg-A20 single cell sequencing raw data</CENTER_PROJECT_NAME><STUDY_DESCRIPTION>Single cell RNA sequencing RNA was performed on splenocytes to identify changes in immune cell composition and function upon B cell-specific A20-deficiency and NIK transgene expression and upon T cell deficiency.</STUDY_DESCRIPTION></DESCRIPTOR><STUDY_ATTRIBUTES><STUDY_ATTRIBUTE><TAG>ENA-FIRST-PUBLIC</TAG><VALUE>2024-10-11</VALUE></STUDY_ATTRIBUTE><STUDY_ATTRIBUTE><TAG>ENA-LAST-UPDATE</TAG><VALUE>2024-11-07</VALUE></STUDY_ATTRIBUTE></STUDY_ATTRIBUTES></STUDY><SAMPLE alias=\"SAMEA116821676\" accession=\"ERS21882372\"><IDENTIFIERS><PRIMARY_ID>ERS21882372</PRIMARY_ID><EXTERNAL_ID namespace=\"BioSample\">SAMEA116821676</EXTERNAL_ID></IDENTIFIERS><TITLE>6_Sup1_12945_spl_a</TITLE><SAMPLE_NAME><TAXON_ID>10090</TAXON_ID><SCIENTIFIC_NAME>Mus musculus</SCIENTIFIC_NAME></SAMPLE_NAME><DESCRIPTION>Living cells sorted from the spleen of CD19cre NIKtg A20F/wt mouse ID12945</DESCRIPTION><SAMPLE_ATTRIBUTES><SAMPLE_ATTRIBUTE><TAG>ENA first public</TAG><VALUE>2024-11-07</VALUE></SAMPLE_ATTRIBUTE><SAMPLE_ATTRIBUTE><TAG>INSDC center name</TAG><VALUE>Klinikum rechts der Isar, II. Medizinische Klinik</VALUE></SAMPLE_ATTRIBUTE><SAMPLE_ATTRIBUTE><TAG>INSDC status</TAG><VALUE>public</VALUE></SAMPLE_ATTRIBUTE><SAMPLE_ATTRIBUTE><TAG>Submitter Id</TAG><VALUE>AS-715816-LR-58770</VALUE></SAMPLE_ATTRIBUTE><SAMPLE_ATTRIBUTE><TAG>collection date</TAG><VALUE>2021</VALUE></SAMPLE_ATTRIBUTE><SAMPLE_ATTRIBUTE><TAG>common name</TAG><VALUE>house mouse</VALUE></SAMPLE_ATTRIBUTE><SAMPLE_ATTRIBUTE><TAG>geographic location (country and/or sea)</TAG><VALUE>Germany</VALUE></SAMPLE_ATTRIBUTE><SAMPLE_ATTRIBUTE><TAG>sample name</TAG><VALUE>AS-715816-LR-58770</VALUE></SAMPLE_ATTRIBUTE><SAMPLE_ATTRIBUTE><TAG>scientific_name</TAG><VALUE>Mus musculus</VALUE></SAMPLE_ATTRIBUTE></SAMPLE_ATTRIBUTES></SAMPLE><RUN_SET runs=\"1\" bases=\"0\" spots=\"0\" bytes=\"0\"><RUN accession=\"ERR13934242\" alias=\"ena-RUN-TAB-07-11-2024-13:04:12:933-215993\" center_name=\"Klinikum rechts der Isar, II. Medizinische Klinik\" load_done=\"false\" unavailable=\"true\" published=\"2024-11-07 20:53:31\" is_public=\"true\"><IDENTIFIERS><PRIMARY_ID>ERR13934242</PRIMARY_ID><SUBMITTER_ID namespace=\"Klinikum rechts der Isar, II. Medizinische Klinik\">ena-RUN-TAB-07-11-2024-13:04:12:933-215993</SUBMITTER_ID></IDENTIFIERS><TITLE>Illumina NovaSeq 6000 paired end sequencing</TITLE><EXPERIMENT_REF accession=\"ERX13336124\"><IDENTIFIERS><PRIMARY_ID>ERX13336124</PRIMARY_ID></IDENTIFIERS></EXPERIMENT_REF><RUN_ATTRIBUTES><RUN_ATTRIBUTE><TAG>ENA-FIRST-PUBLIC</TAG><VALUE>2024-11-07</VALUE></RUN_ATTRIBUTE><RUN_ATTRIBUTE><TAG>ENA-LAST-UPDATE</TAG><VALUE>2024-11-07</VALUE></RUN_ATTRIBUTE></RUN_ATTRIBUTES></RUN></RUN_SET></EXPERIMENT_PACKAGE></EXPERIMENT_PACKAGE_SET>\\n'}]}})\n",
      "(('invoke_subgraph:10322ac7-4c26-8fac-3301-764df74cb179',), {'efetch_node': {'record': '<?xml version=\"1.0\" encoding=\"UTF-8\"  ?>\\n<EXPERIMENT_PACKAGE_SET>\\n<EXPERIMENT_PACKAGE><EXPERIMENT accession=\"ERX13336120\" alias=\"ena-EXPERIMENT-TAB-07-11-2024-13:04:12:927-215984\" center_name=\"Klinikum rechts der Isar, II. Medizinische Klinik\"><IDENTIFIERS><PRIMARY_ID>ERX13336120</PRIMARY_ID></IDENTIFIERS><TITLE>Illumina NovaSeq 6000 paired end sequencing</TITLE><STUDY_REF accession=\"ERP165048\"><IDENTIFIERS><PRIMARY_ID>ERP165048</PRIMARY_ID><EXTERNAL_ID namespace=\"BioProject\">PRJEB81204</EXTERNAL_ID></IDENTIFIERS></STUDY_REF><DESIGN><DESIGN_DESCRIPTION/><SAMPLE_DESCRIPTOR accession=\"ERS21882368\"><IDENTIFIERS><PRIMARY_ID>ERS21882368</PRIMARY_ID><EXTERNAL_ID namespace=\"BioSample\">SAMEA116821672</EXTERNAL_ID></IDENTIFIERS></SAMPLE_DESCRIPTOR><LIBRARY_DESCRIPTOR><LIBRARY_NAME>5_Sup1_12933_spl_aÂ</LIBRARY_NAME><LIBRARY_STRATEGY>RNA-Seq</LIBRARY_STRATEGY><LIBRARY_SOURCE>TRANSCRIPTOMIC SINGLE CELL</LIBRARY_SOURCE><LIBRARY_SELECTION>cDNA</LIBRARY_SELECTION><LIBRARY_LAYOUT><PAIRED/></LIBRARY_LAYOUT></LIBRARY_DESCRIPTOR></DESIGN><PLATFORM><ILLUMINA><INSTRUMENT_MODEL>Illumina NovaSeq 6000</INSTRUMENT_MODEL></ILLUMINA></PLATFORM></EXPERIMENT><SUBMISSION accession=\"ERA30929992\" alias=\"ena-SUBMISSION-TAB-07-11-2024-13:04:12:945-216016\" center_name=\"Klinikum rechts der Isar, II. Medizinische Klinik\" lab_name=\"European Nucleotide Archive\"><IDENTIFIERS><PRIMARY_ID>ERA30929992</PRIMARY_ID><SUBMITTER_ID namespace=\"Klinikum rechts der Isar, II. Medizinische Klinik\">ena-SUBMISSION-TAB-07-11-2024-13:04:12:945-216016</SUBMITTER_ID></IDENTIFIERS><TITLE>Submitted by Klinikum rechts der Isar, II. Medizinische Klinik on 07-NOV-2024</TITLE></SUBMISSION><Organization type=\"center\"><Name abbr=\"Klinikum rechts der Isar, II. Medizinische Klinik\">Klinikum rechts der Isar, II. Medizinische Klinik</Name></Organization><STUDY accession=\"ERP165048\" alias=\"f199a7ed-8820-4032-8e03-3f4fb42f19dd\" center_name=\"Klinikum rechts der Isar, II. Medizinische Klinik\"><IDENTIFIERS><PRIMARY_ID>ERP165048</PRIMARY_ID><EXTERNAL_ID namespace=\"BioProject\">PRJEB81204</EXTERNAL_ID><SUBMITTER_ID namespace=\"Klinikum rechts der Isar, II. Medizinische Klinik\">f199a7ed-8820-4032-8e03-3f4fb42f19dd</SUBMITTER_ID></IDENTIFIERS><DESCRIPTOR><STUDY_TITLE>Single cell RNA sequencing of splenocytes from (CD3eKO) B-NIKtg-A20</STUDY_TITLE><STUDY_TYPE existing_study_type=\"Other\"/><STUDY_ABSTRACT>Single cell RNA sequencing RNA was performed on splenocytes to identify changes in immune cell composition and function upon B cell-specific A20-deficiency and NIK transgene expression and upon T cell deficiency.</STUDY_ABSTRACT><CENTER_PROJECT_NAME>B-NIKtg-A20 single cell sequencing raw data</CENTER_PROJECT_NAME><STUDY_DESCRIPTION>Single cell RNA sequencing RNA was performed on splenocytes to identify changes in immune cell composition and function upon B cell-specific A20-deficiency and NIK transgene expression and upon T cell deficiency.</STUDY_DESCRIPTION></DESCRIPTOR><STUDY_ATTRIBUTES><STUDY_ATTRIBUTE><TAG>ENA-FIRST-PUBLIC</TAG><VALUE>2024-10-11</VALUE></STUDY_ATTRIBUTE><STUDY_ATTRIBUTE><TAG>ENA-LAST-UPDATE</TAG><VALUE>2024-11-07</VALUE></STUDY_ATTRIBUTE></STUDY_ATTRIBUTES></STUDY><SAMPLE alias=\"SAMEA116821672\" accession=\"ERS21882368\"><IDENTIFIERS><PRIMARY_ID>ERS21882368</PRIMARY_ID><EXTERNAL_ID namespace=\"BioSample\">SAMEA116821672</EXTERNAL_ID></IDENTIFIERS><TITLE>5_Sup1_12933_spl_a</TITLE><SAMPLE_NAME><TAXON_ID>10090</TAXON_ID><SCIENTIFIC_NAME>Mus musculus</SCIENTIFIC_NAME></SAMPLE_NAME><DESCRIPTION>Living cells sorted from the spleen of CD19cre NIKtg mouse ID12933</DESCRIPTION><SAMPLE_ATTRIBUTES><SAMPLE_ATTRIBUTE><TAG>ENA first public</TAG><VALUE>2024-11-07</VALUE></SAMPLE_ATTRIBUTE><SAMPLE_ATTRIBUTE><TAG>INSDC center name</TAG><VALUE>Klinikum rechts der Isar, II. Medizinische Klinik</VALUE></SAMPLE_ATTRIBUTE><SAMPLE_ATTRIBUTE><TAG>INSDC status</TAG><VALUE>public</VALUE></SAMPLE_ATTRIBUTE><SAMPLE_ATTRIBUTE><TAG>Submitter Id</TAG><VALUE>AS-715808-LR-58770</VALUE></SAMPLE_ATTRIBUTE><SAMPLE_ATTRIBUTE><TAG>collection date</TAG><VALUE>2021</VALUE></SAMPLE_ATTRIBUTE><SAMPLE_ATTRIBUTE><TAG>common name</TAG><VALUE>house mouse</VALUE></SAMPLE_ATTRIBUTE><SAMPLE_ATTRIBUTE><TAG>geographic location (country and/or sea)</TAG><VALUE>Germany</VALUE></SAMPLE_ATTRIBUTE><SAMPLE_ATTRIBUTE><TAG>sample name</TAG><VALUE>AS-715808-LR-58770</VALUE></SAMPLE_ATTRIBUTE><SAMPLE_ATTRIBUTE><TAG>scientific_name</TAG><VALUE>Mus musculus</VALUE></SAMPLE_ATTRIBUTE></SAMPLE_ATTRIBUTES></SAMPLE><RUN_SET runs=\"1\" bases=\"0\" spots=\"0\" bytes=\"0\"><RUN accession=\"ERR13934238\" alias=\"ena-RUN-TAB-07-11-2024-13:04:12:928-215985\" center_name=\"Klinikum rechts der Isar, II. Medizinische Klinik\" load_done=\"false\" unavailable=\"true\" published=\"2024-11-07 20:59:22\" is_public=\"true\"><IDENTIFIERS><PRIMARY_ID>ERR13934238</PRIMARY_ID><SUBMITTER_ID namespace=\"Klinikum rechts der Isar, II. Medizinische Klinik\">ena-RUN-TAB-07-11-2024-13:04:12:928-215985</SUBMITTER_ID></IDENTIFIERS><TITLE>Illumina NovaSeq 6000 paired end sequencing</TITLE><EXPERIMENT_REF accession=\"ERX13336120\"><IDENTIFIERS><PRIMARY_ID>ERX13336120</PRIMARY_ID></IDENTIFIERS></EXPERIMENT_REF><RUN_ATTRIBUTES><RUN_ATTRIBUTE><TAG>ENA-FIRST-PUBLIC</TAG><VALUE>2024-11-07</VALUE></RUN_ATTRIBUTE><RUN_ATTRIBUTE><TAG>ENA-LAST-UPDATE</TAG><VALUE>2024-11-07</VALUE></RUN_ATTRIBUTE></RUN_ATTRIBUTES></RUN></RUN_SET></EXPERIMENT_PACKAGE></EXPERIMENT_PACKAGE_SET>\\n'}})\n",
      "((), {'invoke_subgraph': {'records': [{'database': 'sra', 'ID': '36004694', 'record': '<?xml version=\"1.0\" encoding=\"UTF-8\"  ?>\\n<EXPERIMENT_PACKAGE_SET>\\n<EXPERIMENT_PACKAGE><EXPERIMENT accession=\"ERX13336120\" alias=\"ena-EXPERIMENT-TAB-07-11-2024-13:04:12:927-215984\" center_name=\"Klinikum rechts der Isar, II. Medizinische Klinik\"><IDENTIFIERS><PRIMARY_ID>ERX13336120</PRIMARY_ID></IDENTIFIERS><TITLE>Illumina NovaSeq 6000 paired end sequencing</TITLE><STUDY_REF accession=\"ERP165048\"><IDENTIFIERS><PRIMARY_ID>ERP165048</PRIMARY_ID><EXTERNAL_ID namespace=\"BioProject\">PRJEB81204</EXTERNAL_ID></IDENTIFIERS></STUDY_REF><DESIGN><DESIGN_DESCRIPTION/><SAMPLE_DESCRIPTOR accession=\"ERS21882368\"><IDENTIFIERS><PRIMARY_ID>ERS21882368</PRIMARY_ID><EXTERNAL_ID namespace=\"BioSample\">SAMEA116821672</EXTERNAL_ID></IDENTIFIERS></SAMPLE_DESCRIPTOR><LIBRARY_DESCRIPTOR><LIBRARY_NAME>5_Sup1_12933_spl_aÂ</LIBRARY_NAME><LIBRARY_STRATEGY>RNA-Seq</LIBRARY_STRATEGY><LIBRARY_SOURCE>TRANSCRIPTOMIC SINGLE CELL</LIBRARY_SOURCE><LIBRARY_SELECTION>cDNA</LIBRARY_SELECTION><LIBRARY_LAYOUT><PAIRED/></LIBRARY_LAYOUT></LIBRARY_DESCRIPTOR></DESIGN><PLATFORM><ILLUMINA><INSTRUMENT_MODEL>Illumina NovaSeq 6000</INSTRUMENT_MODEL></ILLUMINA></PLATFORM></EXPERIMENT><SUBMISSION accession=\"ERA30929992\" alias=\"ena-SUBMISSION-TAB-07-11-2024-13:04:12:945-216016\" center_name=\"Klinikum rechts der Isar, II. Medizinische Klinik\" lab_name=\"European Nucleotide Archive\"><IDENTIFIERS><PRIMARY_ID>ERA30929992</PRIMARY_ID><SUBMITTER_ID namespace=\"Klinikum rechts der Isar, II. Medizinische Klinik\">ena-SUBMISSION-TAB-07-11-2024-13:04:12:945-216016</SUBMITTER_ID></IDENTIFIERS><TITLE>Submitted by Klinikum rechts der Isar, II. Medizinische Klinik on 07-NOV-2024</TITLE></SUBMISSION><Organization type=\"center\"><Name abbr=\"Klinikum rechts der Isar, II. Medizinische Klinik\">Klinikum rechts der Isar, II. Medizinische Klinik</Name></Organization><STUDY accession=\"ERP165048\" alias=\"f199a7ed-8820-4032-8e03-3f4fb42f19dd\" center_name=\"Klinikum rechts der Isar, II. Medizinische Klinik\"><IDENTIFIERS><PRIMARY_ID>ERP165048</PRIMARY_ID><EXTERNAL_ID namespace=\"BioProject\">PRJEB81204</EXTERNAL_ID><SUBMITTER_ID namespace=\"Klinikum rechts der Isar, II. Medizinische Klinik\">f199a7ed-8820-4032-8e03-3f4fb42f19dd</SUBMITTER_ID></IDENTIFIERS><DESCRIPTOR><STUDY_TITLE>Single cell RNA sequencing of splenocytes from (CD3eKO) B-NIKtg-A20</STUDY_TITLE><STUDY_TYPE existing_study_type=\"Other\"/><STUDY_ABSTRACT>Single cell RNA sequencing RNA was performed on splenocytes to identify changes in immune cell composition and function upon B cell-specific A20-deficiency and NIK transgene expression and upon T cell deficiency.</STUDY_ABSTRACT><CENTER_PROJECT_NAME>B-NIKtg-A20 single cell sequencing raw data</CENTER_PROJECT_NAME><STUDY_DESCRIPTION>Single cell RNA sequencing RNA was performed on splenocytes to identify changes in immune cell composition and function upon B cell-specific A20-deficiency and NIK transgene expression and upon T cell deficiency.</STUDY_DESCRIPTION></DESCRIPTOR><STUDY_ATTRIBUTES><STUDY_ATTRIBUTE><TAG>ENA-FIRST-PUBLIC</TAG><VALUE>2024-10-11</VALUE></STUDY_ATTRIBUTE><STUDY_ATTRIBUTE><TAG>ENA-LAST-UPDATE</TAG><VALUE>2024-11-07</VALUE></STUDY_ATTRIBUTE></STUDY_ATTRIBUTES></STUDY><SAMPLE alias=\"SAMEA116821672\" accession=\"ERS21882368\"><IDENTIFIERS><PRIMARY_ID>ERS21882368</PRIMARY_ID><EXTERNAL_ID namespace=\"BioSample\">SAMEA116821672</EXTERNAL_ID></IDENTIFIERS><TITLE>5_Sup1_12933_spl_a</TITLE><SAMPLE_NAME><TAXON_ID>10090</TAXON_ID><SCIENTIFIC_NAME>Mus musculus</SCIENTIFIC_NAME></SAMPLE_NAME><DESCRIPTION>Living cells sorted from the spleen of CD19cre NIKtg mouse ID12933</DESCRIPTION><SAMPLE_ATTRIBUTES><SAMPLE_ATTRIBUTE><TAG>ENA first public</TAG><VALUE>2024-11-07</VALUE></SAMPLE_ATTRIBUTE><SAMPLE_ATTRIBUTE><TAG>INSDC center name</TAG><VALUE>Klinikum rechts der Isar, II. Medizinische Klinik</VALUE></SAMPLE_ATTRIBUTE><SAMPLE_ATTRIBUTE><TAG>INSDC status</TAG><VALUE>public</VALUE></SAMPLE_ATTRIBUTE><SAMPLE_ATTRIBUTE><TAG>Submitter Id</TAG><VALUE>AS-715808-LR-58770</VALUE></SAMPLE_ATTRIBUTE><SAMPLE_ATTRIBUTE><TAG>collection date</TAG><VALUE>2021</VALUE></SAMPLE_ATTRIBUTE><SAMPLE_ATTRIBUTE><TAG>common name</TAG><VALUE>house mouse</VALUE></SAMPLE_ATTRIBUTE><SAMPLE_ATTRIBUTE><TAG>geographic location (country and/or sea)</TAG><VALUE>Germany</VALUE></SAMPLE_ATTRIBUTE><SAMPLE_ATTRIBUTE><TAG>sample name</TAG><VALUE>AS-715808-LR-58770</VALUE></SAMPLE_ATTRIBUTE><SAMPLE_ATTRIBUTE><TAG>scientific_name</TAG><VALUE>Mus musculus</VALUE></SAMPLE_ATTRIBUTE></SAMPLE_ATTRIBUTES></SAMPLE><RUN_SET runs=\"1\" bases=\"0\" spots=\"0\" bytes=\"0\"><RUN accession=\"ERR13934238\" alias=\"ena-RUN-TAB-07-11-2024-13:04:12:928-215985\" center_name=\"Klinikum rechts der Isar, II. Medizinische Klinik\" load_done=\"false\" unavailable=\"true\" published=\"2024-11-07 20:59:22\" is_public=\"true\"><IDENTIFIERS><PRIMARY_ID>ERR13934238</PRIMARY_ID><SUBMITTER_ID namespace=\"Klinikum rechts der Isar, II. Medizinische Klinik\">ena-RUN-TAB-07-11-2024-13:04:12:928-215985</SUBMITTER_ID></IDENTIFIERS><TITLE>Illumina NovaSeq 6000 paired end sequencing</TITLE><EXPERIMENT_REF accession=\"ERX13336120\"><IDENTIFIERS><PRIMARY_ID>ERX13336120</PRIMARY_ID></IDENTIFIERS></EXPERIMENT_REF><RUN_ATTRIBUTES><RUN_ATTRIBUTE><TAG>ENA-FIRST-PUBLIC</TAG><VALUE>2024-11-07</VALUE></RUN_ATTRIBUTE><RUN_ATTRIBUTE><TAG>ENA-LAST-UPDATE</TAG><VALUE>2024-11-07</VALUE></RUN_ATTRIBUTE></RUN_ATTRIBUTES></RUN></RUN_SET></EXPERIMENT_PACKAGE></EXPERIMENT_PACKAGE_SET>\\n'}]}})\n"
     ]
    }
   ],
   "source": [
    "# Call the graph: here we call it to generate a list of jokes\n",
    "for s in graph.stream({\"database\": \"sra\"}, subgraphs=True, config={\"max_concurrency\" : 2}):\n",
    "    print(s)"
   ]
  },
  {
   "cell_type": "code",
   "execution_count": null,
   "metadata": {},
   "outputs": [],
   "source": []
  },
  {
   "cell_type": "code",
   "execution_count": null,
   "metadata": {},
   "outputs": [],
   "source": []
  }
 ],
 "metadata": {
  "kernelspec": {
   "display_name": "SRAgent",
   "language": "python",
   "name": "python3"
  },
  "language_info": {
   "codemirror_mode": {
    "name": "ipython",
    "version": 3
   },
   "file_extension": ".py",
   "mimetype": "text/x-python",
   "name": "python",
   "nbconvert_exporter": "python",
   "pygments_lexer": "ipython3",
   "version": "3.12.7"
  }
 },
 "nbformat": 4,
 "nbformat_minor": 2
}
