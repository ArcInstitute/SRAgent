{
 "cells": [
  {
   "cell_type": "markdown",
   "metadata": {},
   "source": [
    "# Goal\n",
    "\n",
    "* map-reduce langgraph example\n",
    "* using a function to call a subgraph"
   ]
  },
  {
   "cell_type": "code",
   "execution_count": 1,
   "metadata": {},
   "outputs": [
    {
     "data": {
      "text/plain": [
       "True"
      ]
     },
     "execution_count": 1,
     "metadata": {},
     "output_type": "execute_result"
    }
   ],
   "source": [
    "from dotenv import load_dotenv\n",
    "load_dotenv()"
   ]
  },
  {
   "cell_type": "code",
   "execution_count": 2,
   "metadata": {},
   "outputs": [],
   "source": [
    "import operator\n",
    "from typing import Annotated\n",
    "from typing_extensions import TypedDict\n",
    "\n",
    "from langchain_openai import ChatOpenAI\n",
    "\n",
    "from langgraph.types import Send\n",
    "from langgraph.graph import END, StateGraph, START\n",
    "\n",
    "from pydantic import BaseModel, Field"
   ]
  },
  {
   "cell_type": "code",
   "execution_count": 3,
   "metadata": {},
   "outputs": [],
   "source": [
    "model = ChatOpenAI(model=\"gpt-4o-mini\")"
   ]
  },
  {
   "cell_type": "code",
   "execution_count": 4,
   "metadata": {},
   "outputs": [],
   "source": [
    "# Model and prompts\n",
    "# Define model and prompts we will use\n",
    "subjects_prompt = \"\"\"Generate a comma separated list of between 2 and 4 examples related to: {topic}.\"\"\"\n",
    "joke_prompt = \"\"\"Generate a joke about {subject}\"\"\"\n",
    "rating_prompt = \"\"\"Generate rating from 1 (bad) to 10 (great) for the following joke: {joke}\"\"\"\n",
    "best_joke_prompt = \"\"\"Below are a bunch of jokes about {topic}. Select the best one! Return the ID of the best one.\n",
    "\n",
    "{jokes}\"\"\""
   ]
  },
  {
   "cell_type": "code",
   "execution_count": 43,
   "metadata": {},
   "outputs": [],
   "source": [
    "class Subjects(BaseModel):\n",
    "    subjects: list[str]\n",
    "\n",
    "class Joke(BaseModel):\n",
    "    joke: str\n",
    "\n",
    "class Rating(BaseModel):\n",
    "    rating: int\n",
    "\n",
    "class BestJoke(BaseModel):\n",
    "    id: int = Field(description=\"Index of the best joke, starting with 0\", ge=0)\n"
   ]
  },
  {
   "cell_type": "code",
   "execution_count": 44,
   "metadata": {},
   "outputs": [],
   "source": [
    "# This will be the overall state of the main graph.\n",
    "# It will contain a topic (which we expect the user to provide)\n",
    "# and then will generate a list of subjects, and then a joke for\n",
    "# each subject\n",
    "class OverallState(TypedDict):\n",
    "    topic: str\n",
    "    subjects: list\n",
    "    # Notice here we use the operator.add\n",
    "    # This is because we want combine all the jokes we generate\n",
    "    # from individual nodes back into one list - this is essentially\n",
    "    # the \"reduce\" part\n",
    "    jokes: Annotated[list, operator.add]\n",
    "    ratings: Annotated[list, operator.add]\n",
    "    best_selected_joke: str\n",
    "    best_joke_rating: int\n",
    "\n",
    "# This will be the state of the node that we will \"map\" all\n",
    "# subjects to in order to generate a joke\n",
    "class JokeState(TypedDict):\n",
    "    subject: str\n",
    "    joke: str\n",
    "    rating: int"
   ]
  },
  {
   "cell_type": "code",
   "execution_count": 48,
   "metadata": {},
   "outputs": [],
   "source": [
    "# This is the function we will use to generate the subjects of the jokes\n",
    "def generate_topics(state: OverallState):\n",
    "    prompt = subjects_prompt.format(topic=state[\"topic\"])\n",
    "    response = model.with_structured_output(Subjects).invoke(prompt)\n",
    "    return {\"subjects\": response.subjects}\n",
    "\n",
    "def invoke_joke_rating(state: OverallState):\n",
    "    response = subgraph.invoke({\"subject\": state[\"subject\"]})\n",
    "    return {\"jokes\": [response[\"joke\"]], \"ratings\": [response[\"rating\"]]}\n",
    "\n",
    "# Here we generate a joke, given a subject\n",
    "def generate_joke(state: JokeState):\n",
    "    prompt = joke_prompt.format(subject=state[\"subject\"])\n",
    "    response = model.with_structured_output(Joke).invoke(prompt)\n",
    "    return {\"joke\": response.joke}\n",
    "\n",
    "# Here we generate a review of the joke\n",
    "def generate_rating(state: JokeState):\n",
    "    prompt = rating_prompt.format(joke=state[\"joke\"])\n",
    "    response = model.with_structured_output(Rating).invoke(prompt)\n",
    "    return {\"rating\": response.rating, \"joke\": state[\"joke\"]}\n",
    "\n",
    "# Here we define the logic to map out over the generated subjects\n",
    "# We will use this an edge in the graph\n",
    "def continue_to_jokes(state: OverallState):\n",
    "    # We will return a list of `Send` objects\n",
    "    # Each `Send` object consists of the name of a node in the graph\n",
    "    # as well as the state to send to that node\n",
    "    return [Send(\"invoke_joke_rating\", {\"subject\": s}) for s in state[\"subjects\"]]\n",
    "\n",
    "# Here we will judge the best joke\n",
    "def best_joke(state: OverallState):\n",
    "    jokes = \"\\n\\n\".join(state[\"jokes\"])\n",
    "    prompt = best_joke_prompt.format(topic=state[\"topic\"], jokes=jokes)\n",
    "    response = model.with_structured_output(BestJoke).invoke(prompt)\n",
    "    return {\n",
    "        \"best_selected_joke\": state[\"jokes\"][response.id],\n",
    "        \"best_joke_rating\" : state[\"ratings\"][response.id]\n",
    "    }"
   ]
  },
  {
   "cell_type": "code",
   "execution_count": 49,
   "metadata": {},
   "outputs": [],
   "source": [
    "#-- subgraph --#\n",
    "subgraph = StateGraph(JokeState)\n",
    "\n",
    "# nodes\n",
    "subgraph.add_node(\"generate_joke\", generate_joke)\n",
    "subgraph.add_node(\"generate_rating\", generate_rating)\n",
    "\n",
    "# edges\n",
    "subgraph.add_edge(START, \"generate_joke\")\n",
    "subgraph.add_edge(\"generate_joke\", \"generate_rating\")\n",
    "\n",
    "# compile\n",
    "subgraph = subgraph.compile()"
   ]
  },
  {
   "cell_type": "code",
   "execution_count": 50,
   "metadata": {},
   "outputs": [
    {
     "data": {
      "image/jpeg": "[encoded data removed]",
      "text/plain": [
       "<IPython.core.display.Image object>"
      ]
     },
     "execution_count": 50,
     "metadata": {},
     "output_type": "execute_result"
    }
   ],
   "source": [
    "from IPython.display import Image\n",
    "\n",
    "Image(subgraph.get_graph().draw_mermaid_png())"
   ]
  },
  {
   "cell_type": "code",
   "execution_count": 51,
   "metadata": {},
   "outputs": [],
   "source": [
    "\n",
    "#-- graph --#\n",
    "graph = StateGraph(OverallState)\n",
    "\n",
    "# nodes\n",
    "graph.add_node(\"generate_topics\", generate_topics)\n",
    "graph.add_node(\"invoke_joke_rating\", invoke_joke_rating)\n",
    "graph.add_node(\"best_joke\", best_joke)\n",
    "\n",
    "# edges\n",
    "graph.add_edge(START, \"generate_topics\")\n",
    "graph.add_conditional_edges(\"generate_topics\", continue_to_jokes, [\"invoke_joke_rating\"])\n",
    "graph.add_edge(\"invoke_joke_rating\", \"best_joke\")\n",
    "graph.add_edge(\"best_joke\", END)\n",
    "\n",
    "# compile the graph\n",
    "graph = graph.compile()"
   ]
  },
  {
   "cell_type": "code",
   "execution_count": 52,
   "metadata": {},
   "outputs": [
    {
     "data": {
      "image/jpeg": "[encoded data removed]",
      "text/plain": [
       "<IPython.core.display.Image object>"
      ]
     },
     "execution_count": 52,
     "metadata": {},
     "output_type": "execute_result"
    }
   ],
   "source": [
    "from IPython.display import Image\n",
    "\n",
    "Image(graph.get_graph().draw_mermaid_png())"
   ]
  },
  {
   "cell_type": "code",
   "execution_count": 53,
   "metadata": {},
   "outputs": [
    {
     "name": "stdout",
     "output_type": "stream",
     "text": [
      "((), {'generate_topics': {'subjects': ['lion', 'elephant', 'dolphin', 'eagle']}})\n",
      "(('invoke_joke_rating:9e3c4515-4d66-fdde-33ad-dd8c7078a071',), {'generate_joke': {'joke': 'Why don’t elephants use computers? Because they’re afraid of the mouse!'}})\n",
      "(('invoke_joke_rating:b9b82b60-75ad-0185-e578-dd7509528d15',), {'generate_joke': {'joke': 'Why did the lion eat the tightrope walker? Because he wanted a well-balanced meal!'}})\n",
      "(('invoke_joke_rating:b9b82b60-75ad-0185-e578-dd7509528d15',), {'generate_rating': {'joke': 'Why did the lion eat the tightrope walker? Because he wanted a well-balanced meal!', 'rating': 7}})\n",
      "((), {'invoke_joke_rating': {'jokes': ['Why did the lion eat the tightrope walker? Because he wanted a well-balanced meal!'], 'ratings': [7]}})\n",
      "(('invoke_joke_rating:9e3c4515-4d66-fdde-33ad-dd8c7078a071',), {'generate_rating': {'joke': 'Why don’t elephants use computers? Because they’re afraid of the mouse!', 'rating': 6}})\n",
      "((), {'invoke_joke_rating': {'jokes': ['Why don’t elephants use computers? Because they’re afraid of the mouse!'], 'ratings': [6]}})\n",
      "(('invoke_joke_rating:1c9d42f8-6395-5afc-78ed-a5c6a297c44b',), {'generate_joke': {'joke': 'Why did the dolphin bring a towel to the party? Because it wanted to have a whale of a time!'}})\n",
      "(('invoke_joke_rating:1c9d42f8-6395-5afc-78ed-a5c6a297c44b',), {'generate_rating': {'joke': 'Why did the dolphin bring a towel to the party? Because it wanted to have a whale of a time!', 'rating': 6}})\n",
      "((), {'invoke_joke_rating': {'jokes': ['Why did the dolphin bring a towel to the party? Because it wanted to have a whale of a time!'], 'ratings': [6]}})\n",
      "(('invoke_joke_rating:e0545843-8923-a9c3-c288-1b542469000e',), {'generate_joke': {'joke': 'Why did the eagle sit on the computer? Because it wanted to keep an eye on the web!'}})\n",
      "(('invoke_joke_rating:e0545843-8923-a9c3-c288-1b542469000e',), {'generate_rating': {'joke': 'Why did the eagle sit on the computer? Because it wanted to keep an eye on the web!', 'rating': 6}})\n",
      "((), {'invoke_joke_rating': {'jokes': ['Why did the eagle sit on the computer? Because it wanted to keep an eye on the web!'], 'ratings': [6]}})\n",
      "((), {'best_joke': {'best_selected_joke': 'Why did the dolphin bring a towel to the party? Because it wanted to have a whale of a time!', 'best_joke_rating': 6}})\n"
     ]
    }
   ],
   "source": [
    "# Call the graph: here we call it to generate a list of jokes\n",
    "for s in graph.stream({\"topic\": \"animals\"}, subgraphs=True, config={\"max_concurrency\" : 3}):\n",
    "    print(s)"
   ]
  },
  {
   "cell_type": "code",
   "execution_count": null,
   "metadata": {},
   "outputs": [],
   "source": []
  },
  {
   "cell_type": "code",
   "execution_count": null,
   "metadata": {},
   "outputs": [],
   "source": []
  }
 ],
 "metadata": {
  "kernelspec": {
   "display_name": "SRAgent",
   "language": "python",
   "name": "python3"
  },
  "language_info": {
   "codemirror_mode": {
    "name": "ipython",
    "version": 3
   },
   "file_extension": ".py",
   "mimetype": "text/x-python",
   "name": "python",
   "nbconvert_exporter": "python",
   "pygments_lexer": "ipython3",
   "version": "3.12.7"
  }
 },
 "nbformat": 4,
 "nbformat_minor": 2
}
