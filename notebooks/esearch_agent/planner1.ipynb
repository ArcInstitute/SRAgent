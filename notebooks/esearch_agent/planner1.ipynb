{
 "cells": [
  {
   "cell_type": "markdown",
   "metadata": {},
   "source": [
    "# Goal\n",
    "\n",
    "* Create a planning react agent\n",
    "* Tools\n",
    "  * `planner`\n",
    "    * chain-of-thought\n",
    "  * `critic`\n",
    "  * `router`"
   ]
  },
  {
   "cell_type": "code",
   "execution_count": 1,
   "metadata": {},
   "outputs": [],
   "source": [
    "# import \n",
    "import os\n",
    "import time\n",
    "from enum import Enum\n",
    "from pprint import pprint\n",
    "from typing import Annotated, List, Dict, Tuple, Optional, Union, Any\n",
    "from pydantic import BaseModel, Field\n",
    "from langchain_core.tools import tool\n",
    "import pandas as pd\n",
    "from dotenv import load_dotenv\n",
    "from langchain_openai import ChatOpenAI\n",
    "from langgraph.prebuilt import create_react_agent\n",
    "from langchain_core.messages import BaseMessage, HumanMessage, AIMessage"
   ]
  },
  {
   "cell_type": "code",
   "execution_count": 2,
   "metadata": {},
   "outputs": [],
   "source": [
    "# setup\n",
    "load_dotenv()\n",
    "pd.set_option('display.max_colwidth', 1000)\n",
    "os.environ[\"DEBUG_MODE\"] = \"TRUE\""
   ]
  },
  {
   "cell_type": "markdown",
   "metadata": {},
   "source": [
    "# Tools"
   ]
  },
  {
   "cell_type": "markdown",
   "metadata": {},
   "source": [
    "## Planner"
   ]
  },
  {
   "cell_type": "code",
   "execution_count": 3,
   "metadata": {},
   "outputs": [],
   "source": [
    "model_t2 = ChatOpenAI(model=\"gpt-4o-mini\", temperature=0.2)\n",
    "model_t0 = ChatOpenAI(model=\"gpt-4o\", temperature=0)"
   ]
  },
  {
   "cell_type": "code",
   "execution_count": 4,
   "metadata": {},
   "outputs": [],
   "source": [
    "class Step(BaseModel):\n",
    "    explanation: str\n",
    "    output: str\n",
    "\n",
    "class Planning(BaseModel):\n",
    "    steps: list[Step]\n",
    "\n",
    "@tool\n",
    "def invoke_planner(\n",
    "    message: Annotated[str, \"Message to the planner\"],\n",
    ") -> Annotated[str, \"Response from the planner\"]:\n",
    "    \"\"\"\n",
    "    The planner will help you plan how to accomplish a task.\n",
    "    Be specific about the task you need help with.\n",
    "    \"\"\"\n",
    "    prompt = \"\\n\".join([\n",
    "        \"You are an expert planner.\",\n",
    "        \"Think step by step to help the user accomplish the task.\",\n",
    "        \"The task: \",\n",
    "        message\n",
    "    ])\n",
    "    response = model_t2.with_structured_output(Planning, strict=True).invoke(prompt)\n",
    "    steps = \"\\n\".join([f\" - {x.output}\" for x in response.steps])\n",
    "    return {\n",
    "        \"messages\": [HumanMessage(content=steps, name=\"planner\")]\n",
    "    }\n",
    "\n",
    "# invoke_planner.invoke({\"message\" : \"How do I convert GSE121737 to an SRA accession?\"})"
   ]
  },
  {
   "cell_type": "markdown",
   "metadata": {},
   "source": [
    "## Critic"
   ]
  },
  {
   "cell_type": "code",
   "execution_count": 5,
   "metadata": {},
   "outputs": [],
   "source": [
    "class Reasons(BaseModel):\n",
    "    explanation: str\n",
    "    output: str\n",
    "\n",
    "class Critque(BaseModel):\n",
    "    critique: str\n",
    "    reasoning: list[Reasons]\n",
    "\n",
    "@tool\n",
    "def invoke_critic(\n",
    "    message: Annotated[str, \"Message to the critic\"],\n",
    ") -> Annotated[str, \"Response from the critic\"]:\n",
    "    \"\"\"\n",
    "    The critic will help you critique a plan to accomplish a task.\n",
    "    \"\"\"\n",
    "    prompt = \"\\n\".join([\n",
    "        \"You are an expert critic.\",\n",
    "        \"Think step by step to critique the plan.\",\n",
    "        message\n",
    "    ])\n",
    "    response = model_t2.with_structured_output(Critque, strict=True).invoke(prompt)\n",
    "    reasoning = \"\\n\".join([f\" - {x.output}\" for x in response.reasoning])\n",
    "    reasoning = f\"{response.critique}\\nMy reasoning:\\n{reasoning}\"\n",
    "    return {\n",
    "        \"messages\": [HumanMessage(content=reasoning, name=\"critic\")]\n",
    "    }"
   ]
  },
  {
   "cell_type": "code",
   "execution_count": 6,
   "metadata": {},
   "outputs": [
    {
     "name": "stdout",
     "output_type": "stream",
     "text": [
      "{'agent': {'messages': [AIMessage(content='', additional_kwargs={'tool_calls': [{'id': 'call_MDSBuEZHpecOgY4HNrSCtMlZ', 'function': {'arguments': '{\"message\":\"Plan a step-by-step guide to convert GSE121737 to an SRA accession using Bio.Entrez in Python.\"}', 'name': 'invoke_planner'}, 'type': 'function'}], 'refusal': None}, response_metadata={'token_usage': {'completion_tokens': 39, 'prompt_tokens': 200, 'total_tokens': 239, 'completion_tokens_details': {'accepted_prediction_tokens': 0, 'audio_tokens': 0, 'reasoning_tokens': 0, 'rejected_prediction_tokens': 0}, 'prompt_tokens_details': {'audio_tokens': 0, 'cached_tokens': 0}}, 'model_name': 'gpt-4o-2024-08-06', 'system_fingerprint': 'fp_7f6be3efb0', 'finish_reason': 'tool_calls', 'logprobs': None}, id='run-089ce842-5fcf-40e7-a240-db69fa3d723a-0', tool_calls=[{'name': 'invoke_planner', 'args': {'message': 'Plan a step-by-step guide to convert GSE121737 to an SRA accession using Bio.Entrez in Python.'}, 'id': 'call_MDSBuEZHpecOgY4HNrSCtMlZ', 'type': 'tool_call'}], usage_metadata={'input_tokens': 200, 'output_tokens': 39, 'total_tokens': 239, 'input_token_details': {'audio': 0, 'cache_read': 0}, 'output_token_details': {'audio': 0, 'reasoning': 0}})]}}\n",
      "{'tools': {'messages': [ToolMessage(content='{\\'messages\\': [HumanMessage(content=\" - from Bio import Entrez\\\\n - Entrez.email = \\'your_email@example.com\\'\\\\n - handle = Entrez.esearch(db=\\'gds\\', term=\\'GSE121737\\')\\\\n - record = Entrez.read(handle)\\\\n - handle.close()\\\\n - sra_accession = record[\\'IdList\\'][0]  # Adjust based on actual record structure.\\\\n - print(sra_accession)\", additional_kwargs={}, response_metadata={}, name=\\'planner\\')]}', name='invoke_planner', id='0f25f8ef-b3af-446e-bd21-f4e10967645b', tool_call_id='call_MDSBuEZHpecOgY4HNrSCtMlZ')]}}\n",
      "{'agent': {'messages': [AIMessage(content='', additional_kwargs={'tool_calls': [{'id': 'call_CidGQ4QxC8j4DLt5dqJtfqkH', 'function': {'arguments': '{\"message\":\"Critique the plan to convert GSE121737 to an SRA accession using Bio.Entrez in Python.\"}', 'name': 'invoke_critic'}, 'type': 'function'}], 'refusal': None}, response_metadata={'token_usage': {'completion_tokens': 37, 'prompt_tokens': 351, 'total_tokens': 388, 'completion_tokens_details': {'accepted_prediction_tokens': 0, 'audio_tokens': 0, 'reasoning_tokens': 0, 'rejected_prediction_tokens': 0}, 'prompt_tokens_details': {'audio_tokens': 0, 'cached_tokens': 0}}, 'model_name': 'gpt-4o-2024-08-06', 'system_fingerprint': 'fp_7f6be3efb0', 'finish_reason': 'tool_calls', 'logprobs': None}, id='run-ae4936a9-80fe-4bbf-bdb4-e60ee06e54d2-0', tool_calls=[{'name': 'invoke_critic', 'args': {'message': 'Critique the plan to convert GSE121737 to an SRA accession using Bio.Entrez in Python.'}, 'id': 'call_CidGQ4QxC8j4DLt5dqJtfqkH', 'type': 'tool_call'}], usage_metadata={'input_tokens': 351, 'output_tokens': 37, 'total_tokens': 388, 'input_token_details': {'audio': 0, 'cache_read': 0}, 'output_token_details': {'audio': 0, 'reasoning': 0}})]}}\n",
      "{'tools': {'messages': [ToolMessage(content=\"{'messages': [HumanMessage(content='The plan to convert GSE121737 to an SRA accession using Bio.Entrez in Python has several strengths and weaknesses that need to be considered. Here’s a step-by-step critique:\\\\nMy reasoning:\\\\n - Strength: Bio.Entrez is a reliable library for accessing NCBI data.\\\\n - Weakness: Lack of detailed methodology may lead to confusion or incomplete implementation.\\\\n - Weakness: Not addressing error handling could result in a fragile implementation.\\\\n - Weakness: Ignoring rate limits could lead to access issues.\\\\n - Strength: Good documentation enhances usability and collaboration.\\\\n - Weakness: Lack of testing could result in undetected bugs or inaccuracies.\\\\n - Strength: Understanding the end goal helps in structuring the code effectively.', additional_kwargs={}, response_metadata={}, name='critic')]}\", name='invoke_critic', id='d690aa7b-2a06-4af0-88e9-0288e1a1823b', tool_call_id='call_CidGQ4QxC8j4DLt5dqJtfqkH')]}}\n",
      "{'agent': {'messages': [AIMessage(content='', additional_kwargs={'tool_calls': [{'id': 'call_54cndP2nbPerux7rKMdBxVnz', 'function': {'arguments': '{\"message\":\"Revise the plan to include detailed steps, error handling, rate limit considerations, and testing for converting GSE121737 to an SRA accession using Bio.Entrez in Python.\"}', 'name': 'invoke_planner'}, 'type': 'function'}], 'refusal': None}, response_metadata={'token_usage': {'completion_tokens': 51, 'prompt_tokens': 570, 'total_tokens': 621, 'completion_tokens_details': {'accepted_prediction_tokens': 0, 'audio_tokens': 0, 'reasoning_tokens': 0, 'rejected_prediction_tokens': 0}, 'prompt_tokens_details': {'audio_tokens': 0, 'cached_tokens': 0}}, 'model_name': 'gpt-4o-2024-08-06', 'system_fingerprint': 'fp_7f6be3efb0', 'finish_reason': 'tool_calls', 'logprobs': None}, id='run-5ce9ddbd-c014-469d-aa40-6777d7a49131-0', tool_calls=[{'name': 'invoke_planner', 'args': {'message': 'Revise the plan to include detailed steps, error handling, rate limit considerations, and testing for converting GSE121737 to an SRA accession using Bio.Entrez in Python.'}, 'id': 'call_54cndP2nbPerux7rKMdBxVnz', 'type': 'tool_call'}], usage_metadata={'input_tokens': 570, 'output_tokens': 51, 'total_tokens': 621, 'input_token_details': {'audio': 0, 'cache_read': 0}, 'output_token_details': {'audio': 0, 'reasoning': 0}})]}}\n",
      "{'tools': {'messages': [ToolMessage(content='{\\'messages\\': [HumanMessage(content=\" - import Bio.Entrez\\\\n - Bio.Entrez.email = \\'your_email@example.com\\'\\\\n - def gse_to_sra(gse_id):\\\\n - handle = Bio.Entrez.esearch(db=\\'gds\\', term=gse_id)\\\\n - record = Bio.Entrez.read(handle)\\\\n - if not record[\\'IdList\\']:\\\\n    raise ValueError(\\'No SRA accession found for this GSE ID.\\')\\\\n - try:\\\\n    # Code to fetch SRA accession\\\\nexcept Exception as e:\\\\n    print(f\\'An error occurred: {e}\\')\\\\n - import time\\\\n\\\\ntime.sleep(1)  # Sleep for 1 second between requests\\\\n - print(gse_to_sra(\\'GSE121737\\'))\\\\nprint(gse_to_sra(\\'INVALID_GSE_ID\\'))\", additional_kwargs={}, response_metadata={}, name=\\'planner\\')]}', name='invoke_planner', id='e99cdff5-b404-410d-917a-90f9e5eaabeb', tool_call_id='call_54cndP2nbPerux7rKMdBxVnz')]}}\n",
      "{'agent': {'messages': [AIMessage(content='', additional_kwargs={'tool_calls': [{'id': 'call_kOE1LV3VHggBUu6nIplr5Ljg', 'function': {'arguments': '{\"message\":\"Critique the revised plan for converting GSE121737 to an SRA accession using Bio.Entrez in Python, focusing on the added details, error handling, rate limit considerations, and testing.\"}', 'name': 'invoke_critic'}, 'type': 'function'}], 'refusal': None}, response_metadata={'token_usage': {'completion_tokens': 54, 'prompt_tokens': 822, 'total_tokens': 876, 'completion_tokens_details': {'accepted_prediction_tokens': 0, 'audio_tokens': 0, 'reasoning_tokens': 0, 'rejected_prediction_tokens': 0}, 'prompt_tokens_details': {'audio_tokens': 0, 'cached_tokens': 0}}, 'model_name': 'gpt-4o-2024-08-06', 'system_fingerprint': 'fp_7f6be3efb0', 'finish_reason': 'tool_calls', 'logprobs': None}, id='run-871575f9-6957-4e30-b46f-887d7c56840e-0', tool_calls=[{'name': 'invoke_critic', 'args': {'message': 'Critique the revised plan for converting GSE121737 to an SRA accession using Bio.Entrez in Python, focusing on the added details, error handling, rate limit considerations, and testing.'}, 'id': 'call_kOE1LV3VHggBUu6nIplr5Ljg', 'type': 'tool_call'}], usage_metadata={'input_tokens': 822, 'output_tokens': 54, 'total_tokens': 876, 'input_token_details': {'audio': 0, 'cache_read': 0}, 'output_token_details': {'audio': 0, 'reasoning': 0}})]}}\n",
      "{'tools': {'messages': [ToolMessage(content='{\\'messages\\': [HumanMessage(content=\"The revised plan for converting GSE121737 to an SRA accession using Bio.Entrez in Python shows significant improvements, but there are several aspects to consider for a thorough critique. \\\\n\\\\n1. **Added Details**: The plan includes specific steps for fetching the GSE data, which is a positive addition. However, it could benefit from more detailed explanations of how to handle the data once retrieved. For example, what specific attributes of the GSE data will be used to find the corresponding SRA accession? Including this information would enhance clarity.\\\\n\\\\n2. **Error Handling**: The plan mentions error handling, but it should elaborate on the types of errors anticipated (e.g., network issues, invalid IDs, or unexpected data formats) and how the program will respond to these errors. Implementing try-except blocks and logging errors for future analysis would be beneficial. Additionally, it should specify whether the program will retry failed requests and under what conditions.\\\\n\\\\n3. **Rate Limit Considerations**: The plan should explicitly address the rate limits imposed by the NCBI Entrez API. It should outline how the program will manage these limits, such as implementing pauses between requests or using exponential backoff strategies. This is crucial to avoid getting blocked by the API and to ensure compliance with NCBI\\'s usage policies.\\\\n\\\\n4. **Testing**: While the plan mentions testing, it lacks a detailed testing strategy. It should include unit tests for individual functions, integration tests for the overall workflow, and possibly mock tests to simulate API responses. Additionally, it should specify how edge cases will be handled during testing, such as what happens if the GSE ID does not exist or if the returned data is incomplete.\\\\n\\\\nIn summary, while the revised plan shows promise with its added details, it requires further elaboration on error handling, rate limit management, and a comprehensive testing strategy to ensure robustness and reliability.\\\\nMy reasoning:\\\\n - More detailed explanations of data handling are needed.\\\\n - Include try-except blocks and logging for errors.\\\\n - Implement pauses between requests and exponential backoff strategies.\\\\n - Develop a comprehensive testing strategy including edge cases.\", additional_kwargs={}, response_metadata={}, name=\\'critic\\')]}', name='invoke_critic', id='229c5e15-1901-463c-88a6-b105adb876dd', tool_call_id='call_kOE1LV3VHggBUu6nIplr5Ljg')]}}\n",
      "{'agent': {'messages': [AIMessage(content='', additional_kwargs={'tool_calls': [{'id': 'call_jJyaHeys0BcaQ2I73jFam53J', 'function': {'arguments': '{\"message\":\"Revise the plan to include detailed explanations of data handling, comprehensive error handling with try-except blocks and logging, explicit rate limit management with pauses and exponential backoff strategies, and a detailed testing strategy including edge cases for converting GSE121737 to an SRA accession using Bio.Entrez in Python.\"}', 'name': 'invoke_planner'}, 'type': 'function'}], 'refusal': None}, response_metadata={'token_usage': {'completion_tokens': 76, 'prompt_tokens': 1344, 'total_tokens': 1420, 'completion_tokens_details': {'accepted_prediction_tokens': 0, 'audio_tokens': 0, 'reasoning_tokens': 0, 'rejected_prediction_tokens': 0}, 'prompt_tokens_details': {'audio_tokens': 0, 'cached_tokens': 0}}, 'model_name': 'gpt-4o-2024-08-06', 'system_fingerprint': 'fp_7f6be3efb0', 'finish_reason': 'tool_calls', 'logprobs': None}, id='run-7b7af738-82bb-4688-84d5-b142698a48eb-0', tool_calls=[{'name': 'invoke_planner', 'args': {'message': 'Revise the plan to include detailed explanations of data handling, comprehensive error handling with try-except blocks and logging, explicit rate limit management with pauses and exponential backoff strategies, and a detailed testing strategy including edge cases for converting GSE121737 to an SRA accession using Bio.Entrez in Python.'}, 'id': 'call_jJyaHeys0BcaQ2I73jFam53J', 'type': 'tool_call'}], usage_metadata={'input_tokens': 1344, 'output_tokens': 76, 'total_tokens': 1420, 'input_token_details': {'audio': 0, 'cache_read': 0}, 'output_token_details': {'audio': 0, 'reasoning': 0}})]}}\n",
      "{'tools': {'messages': [ToolMessage(content='{\\'messages\\': [HumanMessage(content=\" - Install Biopython and logging modules.\\\\n - Import modules: from Bio import Entrez, logging, time.\\\\n - Set up logging configuration with level set to DEBUG.\\\\n - Define function \\'convert_gse_to_sra(gse_id)\\'.\\\\n - Add try-except blocks to handle exceptions and log errors.\\\\n - Add rate limit management with time.sleep() for pauses.\\\\n - Add exponential backoff logic in the error handling.\\\\n - Develop unit tests using unittest or pytest framework.\\\\n - Execute tests and log results.\\\\n - Refine code based on testing feedback.\", additional_kwargs={}, response_metadata={}, name=\\'planner\\')]}', name='invoke_planner', id='bcd82104-7e98-447c-8101-f35097990e79', tool_call_id='call_jJyaHeys0BcaQ2I73jFam53J')]}}\n",
      "{'agent': {'messages': [AIMessage(content='Here is the final plan to convert GSE121737 to an SRA accession using Bio.Entrez in Python:\\n\\n1. **Install Required Modules**:\\n   - Ensure Biopython and logging modules are installed.\\n\\n2. **Import Necessary Modules**:\\n   - `from Bio import Entrez`\\n   - `import logging`\\n   - `import time`\\n\\n3. **Set Up Logging**:\\n   - Configure logging with the level set to DEBUG to capture detailed information.\\n\\n4. **Define the Function**:\\n   - Create a function `convert_gse_to_sra(gse_id)`.\\n\\n5. **Error Handling**:\\n   - Implement try-except blocks to handle exceptions.\\n   - Log errors using the logging module for future analysis.\\n\\n6. **Rate Limit Management**:\\n   - Use `time.sleep()` to introduce pauses between requests.\\n   - Implement exponential backoff logic in case of repeated errors to manage rate limits effectively.\\n\\n7. **Testing Strategy**:\\n   - Develop unit tests using a testing framework like `unittest` or `pytest`.\\n   - Include tests for edge cases, such as invalid GSE IDs or incomplete data.\\n\\n8. **Execute Tests**:\\n   - Run the tests and log the results to ensure the function behaves as expected.\\n\\n9. **Refinement**:\\n   - Refine the code based on feedback from testing to improve robustness and reliability.\\n\\nThis plan includes detailed steps for data handling, comprehensive error handling, explicit rate limit management, and a thorough testing strategy.', additional_kwargs={'refusal': None}, response_metadata={'token_usage': {'completion_tokens': 306, 'prompt_tokens': 1569, 'total_tokens': 1875, 'completion_tokens_details': {'accepted_prediction_tokens': 0, 'audio_tokens': 0, 'reasoning_tokens': 0, 'rejected_prediction_tokens': 0}, 'prompt_tokens_details': {'audio_tokens': 0, 'cached_tokens': 1280}}, 'model_name': 'gpt-4o-2024-08-06', 'system_fingerprint': 'fp_7f6be3efb0', 'finish_reason': 'stop', 'logprobs': None}, id='run-c56138e5-bed5-400f-9362-d1189ef35a97-0', usage_metadata={'input_tokens': 1569, 'output_tokens': 306, 'total_tokens': 1875, 'input_token_details': {'audio': 0, 'cache_read': 1280}, 'output_token_details': {'audio': 0, 'reasoning': 0}})]}}\n"
     ]
    }
   ],
   "source": [
    "supervisor_agent = create_react_agent(\n",
    "    model=model_t0,\n",
    "    tools=[invoke_planner, invoke_critic],\n",
    "    state_modifier=\"\\n\".join([\n",
    "        \"You are a supervisor.\",\n",
    "        \"Your job is to help the user plan and critique a plan to accomplish a task.\",\n",
    "        \"Facilitate the conversation between the planner and the critic.\",\n",
    "        \"When the planner is done, ask the critic to critique the plan.\",\n",
    "        \"When the critic is done, ask the planner to revise the plan.\",\n",
    "        \"Use up to 3 planner-critic rounds to accomplish the task.\",\n",
    "        \"Return the final plan.\",\n",
    "    ])\n",
    ")\n",
    "\n",
    "# invoke the agent\n",
    "inputs = {\"messages\": [(\"user\", \"How do I convert GSE121737 to an SRA accession using Bio.Entrez?\")]}\n",
    "config = {\"max_concurrency\" : 3, \"recursion_limit\": 30}\n",
    "for step in supervisor_agent.stream(inputs, config=config):\n",
    "    print(step)\n"
   ]
  },
  {
   "cell_type": "code",
   "execution_count": null,
   "metadata": {},
   "outputs": [],
   "source": []
  }
 ],
 "metadata": {
  "kernelspec": {
   "display_name": "SRAgent",
   "language": "python",
   "name": "python3"
  },
  "language_info": {
   "codemirror_mode": {
    "name": "ipython",
    "version": 3
   },
   "file_extension": ".py",
   "mimetype": "text/x-python",
   "name": "python",
   "nbconvert_exporter": "python",
   "pygments_lexer": "ipython3",
   "version": "3.12.7"
  }
 },
 "nbformat": 4,
 "nbformat_minor": 2
}
