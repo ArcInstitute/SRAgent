{
 "cells": [
  {
   "cell_type": "markdown",
   "metadata": {},
   "source": [
    "# Goal\n",
    "\n",
    "* Create a planning react agent\n",
    "* Tools\n",
    "  * `planner`\n",
    "    * chain-of-thought\n",
    "  * `critic`\n",
    "  * `router`"
   ]
  },
  {
   "cell_type": "code",
   "execution_count": 1,
   "metadata": {},
   "outputs": [],
   "source": [
    "# import \n",
    "import os\n",
    "import operator\n",
    "from enum import Enum\n",
    "from pprint import pprint\n",
    "from typing import Annotated, List, Dict, Tuple, Optional, Union, Any, Sequence, TypedDict\n",
    "from pydantic import BaseModel, Field\n",
    "from langchain_core.tools import tool\n",
    "import pandas as pd\n",
    "from dotenv import load_dotenv\n",
    "from langchain_openai import ChatOpenAI\n",
    "from langgraph.prebuilt import create_react_agent\n",
    "from langchain_core.messages import BaseMessage, HumanMessage, AIMessage\n",
    "from langgraph.graph import MessagesState, StateGraph, START, END\n",
    "from langchain_core.prompts import ChatPromptTemplate, MessagesPlaceholder"
   ]
  },
  {
   "cell_type": "code",
   "execution_count": 2,
   "metadata": {},
   "outputs": [],
   "source": [
    "# setup\n",
    "load_dotenv()\n",
    "pd.set_option('display.max_colwidth', 1000)\n",
    "os.environ[\"DEBUG_MODE\"] = \"TRUE\""
   ]
  },
  {
   "cell_type": "markdown",
   "metadata": {},
   "source": [
    "# State"
   ]
  },
  {
   "cell_type": "code",
   "execution_count": 25,
   "metadata": {},
   "outputs": [],
   "source": [
    "class GraphState(TypedDict):\n",
    "    \"\"\"\n",
    "    Shared state of nodes in the graph\n",
    "    \"\"\"\n",
    "    messages: Annotated[Sequence[BaseMessage], operator.add]\n",
    "    route: Annotated[str, \"route to next node\"]"
   ]
  },
  {
   "cell_type": "markdown",
   "metadata": {},
   "source": [
    "# Tools"
   ]
  },
  {
   "cell_type": "markdown",
   "metadata": {},
   "source": [
    "## Planner"
   ]
  },
  {
   "cell_type": "code",
   "execution_count": 60,
   "metadata": {},
   "outputs": [],
   "source": [
    "model_t2 = ChatOpenAI(model=\"gpt-4o-mini\", temperature=0.2)\n",
    "model_t0 = ChatOpenAI(model=\"gpt-4o\", temperature=0)"
   ]
  },
  {
   "cell_type": "code",
   "execution_count": 63,
   "metadata": {},
   "outputs": [],
   "source": [
    "class Step(BaseModel):\n",
    "    explanation: str\n",
    "    output: str\n",
    "\n",
    "class Planning(BaseModel):\n",
    "    steps: list[Step]\n",
    "\n",
    "def invoke_planner(\n",
    "    state: GraphState\n",
    ") -> Annotated[dict, \"Response from the critic\"]:\n",
    "    \"\"\"\n",
    "    The planner tool takes in the current state of the conversation and generates a plan to achieve the goal.\n",
    "    \"\"\"\n",
    "    # create prompt\n",
    "    prompt = ChatPromptTemplate.from_messages([\n",
    "        # First add any static system message if needed\n",
    "        (\"system\", \"You are an expert planner. Think step by step to critique the plan. Concisely explain your reasoning for each step in one or two sentences.\"),\n",
    "        # Include all previous messages from the state\n",
    "        MessagesPlaceholder(variable_name=\"history\"),\n",
    "        # Add the final question/instruction\n",
    "        (\"human\", \"Based on the messages above, create a new or revised plan to achieve the goal.\"),\n",
    "    ])\n",
    "    formatted_prompt = prompt.format_messages(\n",
    "        history=state[\"messages\"][-3:]\n",
    "    )\n",
    "    # call the model\n",
    "    response = model_t2.with_structured_output(Planning, strict=True).invoke(formatted_prompt)\n",
    "    # format the response\n",
    "    steps = \"\\n\".join([f\" - {x.output}\" for x in response.steps])\n",
    "    return {\n",
    "        \"messages\": [AIMessage(content=steps, name=\"planner\")]\n",
    "    }\n",
    "\n",
    "state = {\"messages\" : [\n",
    "    HumanMessage(content=\"How do I convert GSE121737 to an SRA accession?\", name=\"human\")\n",
    "]}\n",
    "# invoke_planner(state)"
   ]
  },
  {
   "cell_type": "markdown",
   "metadata": {},
   "source": [
    "## Critic"
   ]
  },
  {
   "cell_type": "code",
   "execution_count": 64,
   "metadata": {},
   "outputs": [],
   "source": [
    "class Reasons(BaseModel):\n",
    "    explanation: str\n",
    "    output: str\n",
    "\n",
    "class Critque(BaseModel):\n",
    "    critique: str\n",
    "    reasoning: list[Reasons]\n",
    "\n",
    "def invoke_critic(\n",
    "    state: GraphState\n",
    ") -> Annotated[dict, \"Response from the critic\"]:\n",
    "    \"\"\"\n",
    "    The critic will help you critique a plan to accomplish a task.\n",
    "    \"\"\"\n",
    "    # create prompt\n",
    "    prompt = ChatPromptTemplate.from_messages([\n",
    "        # First add any static system message if needed\n",
    "        (\"system\", \"You are an expert critic. Think step by step to critique the plan. Concisely explain your reasoning in one or two sentences.\"),\n",
    "        # Include all previous messages from the state\n",
    "        MessagesPlaceholder(variable_name=\"history\"),\n",
    "        # Add the final question/instruction\n",
    "        (\"human\", \"Based on the messages above, critique the current plan.\"\n",
    "        ),\n",
    "    ])\n",
    "    formatted_prompt = prompt.format_messages(\n",
    "        history=state[\"messages\"][-3:]\n",
    "    )\n",
    "    # call the model\n",
    "    response = model_t2.with_structured_output(Critque, strict=True).invoke(formatted_prompt)\n",
    "    # format the response\n",
    "    reasoning = \"\\n\".join([f\" - {x.output}\" for x in response.reasoning])\n",
    "    reasoning = f\"{response.critique}\\nMy reasoning:\\n{reasoning}\"\n",
    "    return {\n",
    "        \"messages\": [AIMessage(content=reasoning, name=\"critic\")]\n",
    "    }\n",
    "\n",
    "# test\n",
    "state = {\"messages\" : [\n",
    "    HumanMessage(content=\"How do I convert GSE121737 to an SRA accession?\", name=\"human\"),\n",
    "    AIMessage(content=\"Run Bio.Entrez.esearch \", name=\"planner\"),\n",
    "]}\n",
    "# invoke_critic(state)"
   ]
  },
  {
   "cell_type": "markdown",
   "metadata": {},
   "source": [
    "## Router"
   ]
  },
  {
   "cell_type": "code",
   "execution_count": null,
   "metadata": {},
   "outputs": [],
   "source": [
    "class Choices(Enum):\n",
    "    CONTINUE = \"Continue\"\n",
    "    STOP = \"Stop\"\n",
    "\n",
    "class Choice(BaseModel):\n",
    "    Choice: Choices\n",
    "\n",
    "def invoke_router(\n",
    "    state: GraphState\n",
    ") -> Annotated[dict, \"Response from the router\"]:\n",
    "    \"\"\"\n",
    "    Route the conversation to the appropriate tool based on the current state of the conversation.\n",
    "    \"\"\"\n",
    "    # create prompt\n",
    "    prompt = ChatPromptTemplate.from_messages([\n",
    "        # First add any static system message if needed\n",
    "        (\"system\", \"You determine whether to continue or stop the conversation.\"),\n",
    "        # Include all previous messages from the state\n",
    "        (\"system\", \"Here is the task:\"),\n",
    "        MessagesPlaceholder(variable_name=\"task\"),\n",
    "        (\"system\", \"Here are the last few messages:\"),\n",
    "        MessagesPlaceholder(variable_name=\"history\"),\n",
    "        # Add the final question/instruction\n",
    "        (\"human\", \"Based on the messages above, select STOP if the task is complete or CONTINUE for another round of planning and critique.\"),\n",
    "    ])\n",
    "    # get the last messages, but it cannot include the first message\n",
    "    last_n_messages = -6 if len(state[\"messages\"]) > 6 else -(len(state[\"messages\"]) - 1)\n",
    "    formatted_prompt = prompt.format_messages(\n",
    "        task=[state[\"messages\"][0].content],\n",
    "        history=state[\"messages\"][last_n_messages:]\n",
    "    )\n",
    "    # call the model\n",
    "    response = model_t2.with_structured_output(Choice, strict=True).invoke(formatted_prompt)\n",
    "    return {\"route\": response.Choice.value}\n",
    "\n",
    "# test\n",
    "state = {\"messages\" : [\n",
    "    HumanMessage(content=\"How do I convert GSE121737 to an SRA accession?\", name=\"human\"),\n",
    "    AIMessage(content=\"Run Bio.Entrez.esearch \", name=\"planner\"),\n",
    "    AIMessage(content=\"The plan is good! You can finish\", name=\"critic\"),\n",
    "]}\n",
    "#invoke_router(state)\n"
   ]
  },
  {
   "cell_type": "markdown",
   "metadata": {},
   "source": [
    "# Graph"
   ]
  },
  {
   "cell_type": "code",
   "execution_count": 87,
   "metadata": {},
   "outputs": [],
   "source": [
    "def route_interpret(state: GraphState) -> str:\n",
    "    return \"planner_node\" if state[\"route\"] == \"Continue\" else END"
   ]
  },
  {
   "cell_type": "code",
   "execution_count": 88,
   "metadata": {},
   "outputs": [],
   "source": [
    "#-- subgraph --#\n",
    "workflow = StateGraph(GraphState)\n",
    "\n",
    "# nodes\n",
    "workflow.add_node(\"planner_node\", invoke_planner)\n",
    "workflow.add_node(\"critic_node\", invoke_critic)\n",
    "workflow.add_node(\"router_node\", invoke_router)\n",
    "\n",
    "# edges\n",
    "workflow.add_edge(START, \"planner_node\")\n",
    "workflow.add_edge(\"planner_node\", \"critic_node\")\n",
    "workflow.add_edge(\"critic_node\", \"router_node\")\n",
    "workflow.add_conditional_edges(\"router_node\", route_interpret)\n",
    "\n",
    "# compile the graph\n",
    "graph = workflow.compile()"
   ]
  },
  {
   "cell_type": "code",
   "execution_count": 89,
   "metadata": {},
   "outputs": [
    {
     "data": {
      "image/jpeg": "[encoded data removed]",
      "text/plain": [
       "<IPython.core.display.Image object>"
      ]
     },
     "execution_count": 89,
     "metadata": {},
     "output_type": "execute_result"
    }
   ],
   "source": [
    "from IPython.display import Image\n",
    "Image(graph.get_graph().draw_mermaid_png())"
   ]
  },
  {
   "cell_type": "code",
   "execution_count": 90,
   "metadata": {},
   "outputs": [
    {
     "name": "stdout",
     "output_type": "stream",
     "text": [
      "{'planner_node': {'messages': [AIMessage(content=' - Access the GEO database and search for GSE121737.\\n - Find the SRA accession numbers linked to GSE121737.\\n - Review the associated publication for SRA accession information.\\n - Utilize GEOquery or similar tools to extract SRA accessions.\\n - List and confirm the SRA accession numbers.', additional_kwargs={}, response_metadata={}, name='planner')]}}\n",
      "{'critic_node': {'messages': [AIMessage(content='The plan provides a clear step-by-step approach to convert GSE121737 to an SRA accession, but it lacks specific details on how to access the GEO database and utilize tools like GEOquery effectively.\\nMy reasoning:\\n - The critique highlights the need for more detailed instructions to enhance usability.\\n - This omission could lead to confusion for users trying to locate the necessary information.', additional_kwargs={}, response_metadata={}, name='critic')]}}\n",
      "{'router_node': {'route': 'Continue'}}\n",
      "{'planner_node': {'messages': [AIMessage(content=' - GEO website accessed.\\n - GSE121737 dataset found.\\n - SRA accession numbers identified.\\n - Related publications reviewed.\\n - SRA accessions extracted using GEOquery.\\n - List of SRA accession numbers confirmed.', additional_kwargs={}, response_metadata={}, name='planner')]}}\n",
      "{'critic_node': {'messages': [AIMessage(content=\"The current plan is straightforward and logically sequenced, but it still lacks clarity on the specific methods and tools to be used for accessing the GEO database and extracting SRA accession numbers.\\nMy reasoning:\\n - More detailed instructions or links to resources would improve the plan's usability.\", additional_kwargs={}, response_metadata={}, name='critic')]}}\n",
      "{'router_node': {'route': 'Continue'}}\n",
      "{'planner_node': {'messages': [AIMessage(content=' - GEO website accessed.\\n - GSE121737 dataset found.\\n - SRA accession numbers identified.\\n - GEOquery package ready for use.\\n - GSE121737 dataset loaded into R.\\n - SRA accession numbers extracted.\\n - List of SRA accession numbers confirmed.', additional_kwargs={}, response_metadata={}, name='planner')]}}\n",
      "{'critic_node': {'messages': [AIMessage(content='The plan outlines a clear sequence of steps for accessing and extracting SRA accession numbers from the GEO database, which is commendable. However, it could benefit from specifying the programming environment (e.g., R) and including details on how to handle potential errors or issues that may arise during the extraction process.\\nMy reasoning:\\n - However, it lacks specificity regarding the programming tools and error handling.', additional_kwargs={}, response_metadata={}, name='critic')]}}\n",
      "{'router_node': {'route': 'Continue'}}\n",
      "{'planner_node': {'messages': [AIMessage(content=' - GEO website accessed and GSE121737 dataset located.\\n - R environment set up with GEOquery package ready for use.\\n - GSE121737 dataset successfully loaded into R.\\n - SRA accession numbers extracted from the dataset.\\n - List of SRA accession numbers confirmed, with error handling implemented.\\n - Process and results documented for future use.', additional_kwargs={}, response_metadata={}, name='planner')]}}\n",
      "{'critic_node': {'messages': [AIMessage(content='The current plan is well-structured and outlines a clear workflow for accessing and extracting SRA accession numbers from the GEO database. However, it could be improved by providing more detail on the error handling mechanisms and ensuring that the documentation is comprehensive enough for reproducibility.\\nMy reasoning:\\n - Clear sequence of actions.\\n - Lack of error handling details.\\n - Need for thorough documentation.', additional_kwargs={}, response_metadata={}, name='critic')]}}\n",
      "{'router_node': {'route': 'Stop'}}\n"
     ]
    }
   ],
   "source": [
    "# Call the graph\n",
    "final_state = None\n",
    "input = {\"messages\" : [\n",
    "    HumanMessage(content=\"How do I convert GSE121737 to an SRA accession?\", name=\"human\")\n",
    "]}\n",
    "for step in graph.stream(input, config={\"max_concurrency\" : 2, \"recursion_limit\": 30}):\n",
    "    print(step)\n",
    "    final_state = step"
   ]
  },
  {
   "cell_type": "code",
   "execution_count": null,
   "metadata": {},
   "outputs": [],
   "source": []
  }
 ],
 "metadata": {
  "kernelspec": {
   "display_name": "SRAgent",
   "language": "python",
   "name": "python3"
  },
  "language_info": {
   "codemirror_mode": {
    "name": "ipython",
    "version": 3
   },
   "file_extension": ".py",
   "mimetype": "text/x-python",
   "name": "python",
   "nbconvert_exporter": "python",
   "pygments_lexer": "ipython3",
   "version": "3.12.7"
  }
 },
 "nbformat": 4,
 "nbformat_minor": 2
}
