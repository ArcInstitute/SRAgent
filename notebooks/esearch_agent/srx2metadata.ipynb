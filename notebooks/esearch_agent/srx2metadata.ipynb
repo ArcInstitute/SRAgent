{
 "cells": [
  {
   "cell_type": "markdown",
   "metadata": {},
   "source": [
    "# Goal\n",
    "\n",
    "* Create simple langgraph to convert entrez IDs to SRX accessions"
   ]
  },
  {
   "cell_type": "markdown",
   "metadata": {},
   "source": [
    "# Init"
   ]
  },
  {
   "cell_type": "code",
   "execution_count": 1,
   "metadata": {},
   "outputs": [],
   "source": [
    "# import \n",
    "import os\n",
    "import re\n",
    "import time\n",
    "import operator\n",
    "from functools import partial\n",
    "from enum import Enum\n",
    "from pprint import pprint\n",
    "from datetime import datetime, timedelta\n",
    "from typing import Annotated, List, Dict, Tuple, Optional, Union, Any, Sequence, TypedDict\n",
    "from langchain_core.messages import BaseMessage, HumanMessage, AIMessage\n",
    "from pydantic import BaseModel, Field\n",
    "from langchain_core.tools import tool\n",
    "from Bio import Entrez\n",
    "import pandas as pd\n",
    "from dotenv import load_dotenv"
   ]
  },
  {
   "cell_type": "code",
   "execution_count": 2,
   "metadata": {},
   "outputs": [],
   "source": [
    "from SRAgent.agents.entrez import create_entrez_agent\n",
    "from SRAgent.agents.utils import create_step_summary_chain\n",
    "from SRAgent.tools.convert import geo2sra"
   ]
  },
  {
   "cell_type": "code",
   "execution_count": 3,
   "metadata": {},
   "outputs": [],
   "source": [
    "# setup\n",
    "load_dotenv()\n",
    "pd.set_option('display.max_colwidth', 1000)\n",
    "os.environ[\"DEBUG_MODE\"] = \"TRUE\""
   ]
  },
  {
   "cell_type": "code",
   "execution_count": 4,
   "metadata": {},
   "outputs": [
    {
     "name": "stdout",
     "output_type": "stream",
     "text": [
      "DEBUG_MODE is enabled.\n"
     ]
    }
   ],
   "source": [
    "# checks\n",
    "if os.getenv(\"DEBUG_MODE\") == \"TRUE\":\n",
    "    print(\"DEBUG_MODE is enabled.\")"
   ]
  },
  {
   "cell_type": "code",
   "execution_count": 5,
   "metadata": {},
   "outputs": [],
   "source": [
    "# set up Entrez\n",
    "Entrez.email = \"nick.youngblut@arcinstitute.org\""
   ]
  },
  {
   "cell_type": "markdown",
   "metadata": {},
   "source": [
    "# State"
   ]
  },
  {
   "cell_type": "code",
   "execution_count": 6,
   "metadata": {},
   "outputs": [],
   "source": [
    "class YesNo(Enum):\n",
    "    \"\"\"\n",
    "    Yes or no\n",
    "    \"\"\"\n",
    "    YES = \"yes\"\n",
    "    NO = \"no\"\n",
    "    UNSURE = \"unsure\"\n",
    "\n",
    "class Organism(Enum):\n",
    "    \"\"\"\n",
    "    Organism\n",
    "    \"\"\"\n",
    "    HUMAN = \"human\"\n",
    "    MOUSE = \"mouse\"\n",
    "    RAT = \"rat\"\n",
    "    MONKEY = \"monkey\"\n",
    "    HORSE = \"horse\"\n",
    "    DOG = \"dog\"\n",
    "    BOVINE = \"bovine\"\n",
    "    CHICKEN = \"chicken\"\n",
    "    SHEEP = \"sheep\"\n",
    "    PIG = \"pig\"\n",
    "    FRUIT_FLY = \"fruit_fly\"\n",
    "    ROUNDWORM = \"roundworm\"\n",
    "    ZEBRAFISH = \"zebrafish\"\n",
    "    OTHER = \"other\"\n",
    "\n",
    "class IntAddOperator:\n",
    "    def __call__(self, x: int, y: int) -> int:\n",
    "        return x + y\n",
    "\n",
    "class GraphState(TypedDict):\n",
    "    \"\"\"\n",
    "    Shared state of the agents in the graph\n",
    "    \"\"\"\n",
    "    messages: Annotated[Sequence[BaseMessage], operator.add]\n",
    "    is_illumina: Annotated[str, \"Is Illumina sequence data?\"]\n",
    "    is_single_cell: Annotated[str, \"Is single cell RNA-seq data?\"]\n",
    "    is_paired_end: Annotated[str, \"Is paired-end sequencing data?\"]\n",
    "    is_10x: Annotated[str, \"Is 10X Genomics data?\"]\n",
    "    organism: Annotated[str, \"Organism sequenced\"]\n",
    "    route: Annotated[str, \"Route\"]\n",
    "    rounds: Annotated[int, operator.add]"
   ]
  },
  {
   "cell_type": "markdown",
   "metadata": {},
   "source": [
    "# Nodes"
   ]
  },
  {
   "cell_type": "code",
   "execution_count": 7,
   "metadata": {},
   "outputs": [],
   "source": [
    "from langchain_openai import ChatOpenAI\n",
    "from langchain_core.prompts import ChatPromptTemplate, MessagesPlaceholder"
   ]
  },
  {
   "cell_type": "code",
   "execution_count": 8,
   "metadata": {},
   "outputs": [],
   "source": [
    "metadata_items = [\n",
    "    \" - Is the study Illumina sequence data?\",\n",
    "    \" - Is the study Illumina sequence data?\",\n",
    "    \" - Is the study single cell RNA-seq data?\",\n",
    "    \" - Is the study paired-end sequencing data?\",\n",
    "    \" - Is the study 10X Genomics data?\",\n",
    "    \" - Which organism was sequenced?\"\n",
    "]"
   ]
  },
  {
   "cell_type": "code",
   "execution_count": 9,
   "metadata": {},
   "outputs": [],
   "source": [
    "# invoke entrez agent\n",
    "def invoke_entrez_agent_node(state: GraphState):\n",
    "    entrez_agent = create_entrez_agent()\n",
    "    prompt = ChatPromptTemplate.from_messages([\n",
    "        MessagesPlaceholder(variable_name=\"history\")\n",
    "    ])\n",
    "    formatted_prompt = prompt.format_messages(\n",
    "        history=state[\"messages\"][-4:]\n",
    "    )\n",
    "    response = entrez_agent.invoke({\"messages\" : formatted_prompt})\n",
    "    return {\"messages\" : [response[\"messages\"][-1]]}\n",
    "\n",
    "prompt = \"\\n\".join([\n",
    "    \"For the SRA accession SRX11740066, find the following information:\",\n",
    "    ] + metadata_items\n",
    ")\n",
    "state = {\"messages\" : [HumanMessage(content=prompt)]}\n",
    "# invoke_entrez_agent_node(state)"
   ]
  },
  {
   "cell_type": "code",
   "execution_count": 10,
   "metadata": {},
   "outputs": [],
   "source": [
    "class Metadata(BaseModel):\n",
    "    is_illumina: YesNo\n",
    "    is_single_cell: YesNo\n",
    "    is_paired_end: YesNo\n",
    "    is_10x: YesNo\n",
    "    organism: Organism\n",
    "\n",
    "def invoke_get_metadata_node(state: GraphState):\n",
    "    \"\"\"\n",
    "    Structured data extraction\n",
    "    \"\"\"\n",
    "    message = state[\"messages\"][-1].content\n",
    "    prompt = \"\\n\".join([\n",
    "        \"Your job is to extract metadata from the provided text on a Sequence Read Archive (SRA) experiment.\",\n",
    "        \"If there is not enough information to determine the metadata, please respond with 'unsure'.\",\n",
    "        \"The specific metadata to extract:\"] + metadata_items + [\n",
    "        \"\\n\",\n",
    "        \"The provided text:\",\n",
    "        message\n",
    "    ])\n",
    "    model = ChatOpenAI(model_name=\"gpt-4o-mini\", temperature=0)\n",
    "    response = model.with_structured_output(Metadata, strict=True).invoke(prompt)\n",
    "    return {\n",
    "        \"is_illumina\" : response.is_illumina.value,\n",
    "        \"is_single_cell\" : response.is_single_cell.value,\n",
    "        \"is_paired_end\" : response.is_paired_end.value,\n",
    "        \"is_10x\" : response.is_10x.value,\n",
    "        \"organism\" : response.organism.value\n",
    "    }\n",
    "\n",
    "state = {\n",
    "    \"messages\" : [\n",
    "        HumanMessage(\n",
    "            content=\" - Sequencing was performed on an Illumina platform. The data is single cell RNA-seq data. The data is paired-end sequencing data. The data is 10X Genomics data. The organism sequenced is human.\",\n",
    "        )\n",
    "    ]\n",
    "}\n",
    "# invoke_get_metadata_node(state)"
   ]
  },
  {
   "cell_type": "code",
   "execution_count": null,
   "metadata": {},
   "outputs": [],
   "source": [
    "# router\n",
    "model = ChatOpenAI(model_name=\"gpt-4o-mini\", temperature=0)\n",
    "\n",
    "class Choices(Enum):\n",
    "    CONTINUE = \"Continue\"\n",
    "    STOP = \"Stop\"\n",
    "\n",
    "class Choice(BaseModel):\n",
    "    Choice: Choices\n",
    "\n",
    "def invoke_router_node(state: GraphState):\n",
    "    \"\"\"\n",
    "    Router for the graph\n",
    "    \"\"\"\n",
    "    # create prompt\n",
    "    prompt1 = \"\\n\".join([\n",
    "        \"You determine whether all of appropriate metadata has been extracted.\",\n",
    "        \"If most or all of the metadata is \\\"unsure\\\", then the task is incomplete.\"\n",
    "        ]\n",
    "    )\n",
    "    prompt2 = \"\\n\".join([\n",
    "        \"\\nThe extracted metadata:\",\n",
    "        \" - Is the study Illumina sequence data?\",\n",
    "        \"    - \" + state['is_illumina'],\n",
    "        \" - Is the study single cell RNA-seq data?\",\n",
    "        \"    - \" + state['is_single_cell'],\n",
    "        \" - Is the study paired-end sequencing data?\",\n",
    "        \"    - \" + state['is_paired_end'],\n",
    "        \" - Is the study 10X Genomics data?\",\n",
    "        \"    - \" + state['is_10x'],\n",
    "        \" - Which organism was sequenced?\",\n",
    "        \"    - \" + state['organism']\n",
    "    ])\n",
    "\n",
    "    prompt = ChatPromptTemplate.from_messages([\n",
    "        # First add any static system message if needed\n",
    "        (\"system\", prompt1),\n",
    "        (\"system\", \"\\nHere are the last few messages:\"),\n",
    "         MessagesPlaceholder(variable_name=\"history\"),\n",
    "        (\"system\", prompt2),\n",
    "        # Add the final question/instruction\n",
    "        (\"human\", \"Based on the messages above, select STOP if the task is complete or CONTINUE if more information is needed.\"),\n",
    "    ])\n",
    "    formatted_prompt = prompt.format_messages(history=state[\"messages\"][-3:])\n",
    "    # call the model\n",
    "    response = model.with_structured_output(Choice, strict=True).invoke(formatted_prompt)\n",
    "    # format the response\n",
    "    if response.Choice.value == Choices.CONTINUE.value:\n",
    "        message = \"At least some of the meadata is still uncertain. Please try to provide more information using a different approach.\"\n",
    "    else:\n",
    "        message = \"Enough of the metadata has been extracted.\"\n",
    "    return {\"route\": response.Choice.value, \"rounds\": 1, \"messages\": [AIMessage(content=message)]}"
   ]
  },
  {
   "cell_type": "markdown",
   "metadata": {},
   "source": [
    "# Graph"
   ]
  },
  {
   "cell_type": "code",
   "execution_count": 12,
   "metadata": {},
   "outputs": [],
   "source": [
    "from langgraph.graph import START, END, StateGraph, MessagesState"
   ]
  },
  {
   "cell_type": "code",
   "execution_count": 13,
   "metadata": {},
   "outputs": [],
   "source": [
    "def route_interpret(state: GraphState) -> str:\n",
    "    \"\"\"\n",
    "    Determine the route based on the current state of the conversation.\n",
    "    \"\"\"\n",
    "    if state[\"rounds\"] >= 2:\n",
    "        return END\n",
    "    return \"entrez_agent_node\" if state[\"route\"] == \"Continue\" else END\n",
    "    #return \"entrez_agent_node\""
   ]
  },
  {
   "cell_type": "code",
   "execution_count": 14,
   "metadata": {},
   "outputs": [],
   "source": [
    "#-- graph --#\n",
    "workflow = StateGraph(GraphState)\n",
    "\n",
    "# nodes\n",
    "workflow.add_node(\"entrez_agent_node\", invoke_entrez_agent_node)\n",
    "workflow.add_node(\"get_metadata_node\", invoke_get_metadata_node)\n",
    "workflow.add_node(\"router_node\", invoke_router_node)\n",
    "\n",
    "# edges\n",
    "workflow.add_edge(START, \"entrez_agent_node\")\n",
    "workflow.add_edge(\"entrez_agent_node\", \"get_metadata_node\")\n",
    "workflow.add_edge(\"get_metadata_node\", \"router_node\")\n",
    "workflow.add_conditional_edges(\"router_node\", route_interpret)\n",
    "\n",
    "# compile the graph\n",
    "graph = workflow.compile()"
   ]
  },
  {
   "cell_type": "code",
   "execution_count": 15,
   "metadata": {},
   "outputs": [
    {
     "data": {
      "image/jpeg": "[encoded data removed]",
      "text/plain": [
       "<IPython.core.display.Image object>"
      ]
     },
     "execution_count": 15,
     "metadata": {},
     "output_type": "execute_result"
    }
   ],
   "source": [
    "from IPython.display import Image\n",
    "Image(graph.get_graph().draw_mermaid_png())"
   ]
  },
  {
   "cell_type": "code",
   "execution_count": 16,
   "metadata": {},
   "outputs": [
    {
     "name": "stdout",
     "output_type": "stream",
     "text": [
      "{'entrez_agent_node': {'messages': [AIMessage(content='Here is the information for SRA accession SRX11740066:\\n\\n- **Illumina Sequence Data**: Yes\\n- **Single Cell RNA-seq Data**: Not specified\\n- **Paired-End Sequencing Data**: Yes\\n- **10X Genomics Data**: Not specified\\n- **Organism Sequenced**: Homo sapiens (Human)', additional_kwargs={'refusal': None}, response_metadata={'token_usage': {'completion_tokens': 77, 'prompt_tokens': 1532, 'total_tokens': 1609, 'completion_tokens_details': {'accepted_prediction_tokens': 0, 'audio_tokens': 0, 'reasoning_tokens': 0, 'rejected_prediction_tokens': 0}, 'prompt_tokens_details': {'audio_tokens': 0, 'cached_tokens': 1408}}, 'model_name': 'gpt-4o-2024-08-06', 'system_fingerprint': 'fp_7f6be3efb0', 'finish_reason': 'stop', 'logprobs': None}, id='run-30c1b8e7-862c-4a26-8746-f8f8b13ec1b1-0', usage_metadata={'input_tokens': 1532, 'output_tokens': 77, 'total_tokens': 1609, 'input_token_details': {'audio': 0, 'cache_read': 1408}, 'output_token_details': {'audio': 0, 'reasoning': 0}})]}}\n",
      "{'get_metadata_node': {'is_illumina': 'yes', 'is_single_cell': 'unsure', 'is_paired_end': 'yes', 'is_10x': 'unsure', 'organism': 'human'}}\n",
      "{'router_node': {'messages': [AIMessage(content='At least some of the meadata is still uncertain. Please try to provide more information.', additional_kwargs={}, response_metadata={})], 'route': 'Continue', 'rounds': 1}}\n",
      "{'entrez_agent_node': {'messages': [AIMessage(content='Here is the detailed information for SRA accession SRX11740066:\\n\\n- **Illumina Sequence Data**: Yes\\n- **Single Cell RNA-seq Data**: Not specified\\n- **Paired-End Sequencing Data**: Yes\\n- **10X Genomics Data**: Not specified\\n- **Organism Sequenced**: Homo sapiens (Human)\\n\\nThe study involves Illumina paired-end RNA sequencing data from human samples, but it does not specify if it is single-cell RNA-seq or 10X Genomics data.', additional_kwargs={'refusal': None}, response_metadata={'token_usage': {'completion_tokens': 114, 'prompt_tokens': 1654, 'total_tokens': 1768, 'completion_tokens_details': {'accepted_prediction_tokens': 0, 'audio_tokens': 0, 'reasoning_tokens': 0, 'rejected_prediction_tokens': 0}, 'prompt_tokens_details': {'audio_tokens': 0, 'cached_tokens': 0}}, 'model_name': 'gpt-4o-2024-08-06', 'system_fingerprint': 'fp_7f6be3efb0', 'finish_reason': 'stop', 'logprobs': None}, id='run-4810091e-86a2-4fcd-9846-1302d32da8f5-0', usage_metadata={'input_tokens': 1654, 'output_tokens': 114, 'total_tokens': 1768, 'input_token_details': {'audio': 0, 'cache_read': 0}, 'output_token_details': {'audio': 0, 'reasoning': 0}})]}}\n",
      "{'get_metadata_node': {'is_illumina': 'yes', 'is_single_cell': 'unsure', 'is_paired_end': 'yes', 'is_10x': 'unsure', 'organism': 'human'}}\n",
      "{'router_node': {'messages': [AIMessage(content='At least some of the meadata is still uncertain. Please try to provide more information.', additional_kwargs={}, response_metadata={})], 'route': 'Continue', 'rounds': 1}}\n"
     ]
    }
   ],
   "source": [
    "prompt = \"\\n\".join([\n",
    "    \"For the SRA accession SRX11740066, find the following information:\",\n",
    "    ] + metadata_items\n",
    ")\n",
    "input = {\"messages\" : [HumanMessage(content=prompt)]}\n",
    "for step in graph.stream(input, config={\"max_concurrency\" : 3, \"recursion_limit\": 20}):\n",
    "    print(step)"
   ]
  },
  {
   "cell_type": "code",
   "execution_count": null,
   "metadata": {},
   "outputs": [],
   "source": []
  },
  {
   "cell_type": "code",
   "execution_count": null,
   "metadata": {},
   "outputs": [],
   "source": []
  }
 ],
 "metadata": {
  "kernelspec": {
   "display_name": "SRAgent",
   "language": "python",
   "name": "python3"
  },
  "language_info": {
   "codemirror_mode": {
    "name": "ipython",
    "version": 3
   },
   "file_extension": ".py",
   "mimetype": "text/x-python",
   "name": "python",
   "nbconvert_exporter": "python",
   "pygments_lexer": "ipython3",
   "version": "3.12.7"
  }
 },
 "nbformat": 4,
 "nbformat_minor": 2
}
