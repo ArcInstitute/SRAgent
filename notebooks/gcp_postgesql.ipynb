{
 "cells": [
  {
   "cell_type": "markdown",
   "metadata": {},
   "source": [
    "# Goals\n",
    "\n",
    "* Test connecting and updating a GCP Cloud SQL database"
   ]
  },
  {
   "cell_type": "code",
   "execution_count": 1,
   "metadata": {},
   "outputs": [],
   "source": [
    "import os\n",
    "import psycopg2\n",
    "import pandas as pd\n",
    "from pypika import Query, Table, Field, Column"
   ]
  },
  {
   "cell_type": "code",
   "execution_count": 2,
   "metadata": {},
   "outputs": [
    {
     "data": {
      "text/plain": [
       "True"
      ]
     },
     "execution_count": 2,
     "metadata": {},
     "output_type": "execute_result"
    }
   ],
   "source": [
    "from dotenv import load_dotenv\n",
    "load_dotenv()"
   ]
  },
  {
   "cell_type": "markdown",
   "metadata": {},
   "source": [
    "# Connect"
   ]
  },
  {
   "cell_type": "code",
   "execution_count": 3,
   "metadata": {},
   "outputs": [],
   "source": [
    "# Your GCP PostgreSQL connection parameters\n",
    "# get home directory\n",
    "host = os.path.join(os.path.expanduser(\"~\"), \"cloudsql\", os.environ[\"GCP_SQL_DB_HOST\"])\n",
    "\n",
    "db_params = {\n",
    "    'host': host,\n",
    "    'database': os.environ[\"GCP_SQL_DB_NAME\"],\n",
    "    'user': os.environ[\"GCP_SQL_DB_USERNAME\"],\n",
    "    'password': os.environ[\"GCP_SQL_DB_PASSWORD\"],\n",
    "    'port': '5432',\n",
    "    'connect_timeout': 10 \n",
    "}"
   ]
  },
  {
   "cell_type": "code",
   "execution_count": 4,
   "metadata": {},
   "outputs": [],
   "source": [
    "def get_db_connection():\n",
    "    try:\n",
    "        return psycopg2.connect(**db_params)\n",
    "    except Exception as e:\n",
    "        print(f\"Error connecting to database: {e}\")\n",
    "        return None\n",
    "\n",
    "conn = get_db_connection()    "
   ]
  },
  {
   "cell_type": "code",
   "execution_count": 5,
   "metadata": {},
   "outputs": [],
   "source": [
    "# # list all tables\n",
    "# def list_tables():\n",
    "#     query = \"SELECT table_name FROM information_schema.tables WHERE table_schema = 'public';\"\n",
    "#     with conn.cursor() as cur:\n",
    "#         cur.execute(query)\n",
    "#         tables = cur.fetchall()\n",
    "#         return tables\n",
    "# list_tables()"
   ]
  },
  {
   "cell_type": "code",
   "execution_count": 15,
   "metadata": {},
   "outputs": [
    {
     "data": {
      "text/plain": [
       "[('srx_metadata',), ('srx_srr',), ('screcounter',)]"
      ]
     },
     "execution_count": 15,
     "metadata": {},
     "output_type": "execute_result"
    }
   ],
   "source": [
    "# list tables in pypika\n",
    "def list_tables_pypika():\n",
    "    tables = Table('tables', schema='information_schema')\n",
    "    query = Query.from_(tables).select('table_name').where(tables.table_schema == 'public')\n",
    "    with conn.cursor() as cur:\n",
    "        cur.execute(str(query))\n",
    "        tables = cur.fetchall()\n",
    "        return tables\n",
    "list_tables_pypika()"
   ]
  },
  {
   "cell_type": "markdown",
   "metadata": {},
   "source": [
    "# Create tables"
   ]
  },
  {
   "cell_type": "code",
   "execution_count": 7,
   "metadata": {},
   "outputs": [],
   "source": [
    "def execute_query(stmt):\n",
    "    try:\n",
    "        with conn.cursor() as cur:\n",
    "            cur.execute(str(stmt))\n",
    "            conn.commit() \n",
    "    except psycopg2.errors.DuplicateTable as e:\n",
    "        print(f\"Table already exists: {e}\")"
   ]
  },
  {
   "cell_type": "code",
   "execution_count": 8,
   "metadata": {},
   "outputs": [],
   "source": [
    "# SRX_metadata\n",
    "stmt = Query \\\n",
    "    .create_table(\"srx_metadata\") \\\n",
    "    .columns(\n",
    "        Column(\"id\", \"INT\", nullable=False),\n",
    "        Column(\"database\", \"VARCHAR(20)\", nullable=False),\n",
    "        Column(\"entrez_id\", \"INT\", nullable=False),\n",
    "        Column(\"SRX\", \"VARCHAR(20)\", nullable=False),\n",
    "        Column(\"is_illumina\", \"VARCHAR(10)\", nullable=False),\n",
    "        Column(\"is_single_cell\", \"VARCHAR(10)\", nullable=False),\n",
    "        Column(\"is_paired_end\", \"VARCHAR(10)\", nullable=False),\n",
    "        Column(\"is_10x\", \"VARCHAR(10)\", nullable=False),\n",
    "        Column(\"tech_10x\", \"VARCHAR(20)\", nullable=False),\n",
    "        Column(\"organism\", \"VARCHAR(50)\", nullable=False)\n",
    "    ) \\\n",
    "    .unique(\"database\", \"entrez_id\") \\\n",
    "    .primary_key(\"id\")\n",
    "\n",
    "execute_query(stmt)"
   ]
  },
  {
   "cell_type": "code",
   "execution_count": 9,
   "metadata": {},
   "outputs": [],
   "source": [
    "# SRX_SRR\n",
    "stmt = Query \\\n",
    "    .create_table(\"srx_srr\") \\\n",
    "    .columns(\n",
    "        Column(\"id\", \"INT\", nullable=False),\n",
    "        Column(\"srx_id\", \"VARCHAR(20)\", nullable=False),\n",
    "        Column(\"srr_id\", \"VARCHAR(20)\", nullable=False)\n",
    "    ) \\\n",
    "    .unique(\"srx_id\", \"srr_id\") \\\n",
    "    .primary_key(\"id\")\n",
    "\n",
    "execute_query(stmt)"
   ]
  },
  {
   "cell_type": "code",
   "execution_count": 10,
   "metadata": {},
   "outputs": [],
   "source": [
    "# scRecounter log\n",
    "stmt = Query \\\n",
    "    .create_table(\"screcounter\") \\\n",
    "    .columns(\n",
    "        Column(\"id\", \"INT\", nullable=False),\n",
    "        Column(\"sample_id\", \"VARCHAR(20)\", nullable=False),\n",
    "        Column(\"pipeline_version\", \"VARCHAR(10)\", nullable=False),\n",
    "        Column(\"run_id\", \"VARCHAR(30)\", nullable=False),\n",
    "        Column(\"task_name\", \"VARCHAR(20)\", nullable=False),\n",
    "        Column(\"task_exit_status\", \"VARCHAR(10)\"),\n",
    "        Column(\"log\", \"TEXT\", nullable=False)\n",
    "    ) \\\n",
    "    .primary_key(\"id\")\n",
    "\n",
    "execute_query(stmt)"
   ]
  },
  {
   "cell_type": "markdown",
   "metadata": {},
   "source": [
    "# Delete tables"
   ]
  },
  {
   "cell_type": "code",
   "execution_count": null,
   "metadata": {},
   "outputs": [
    {
     "name": "stdout",
     "output_type": "stream",
     "text": [
      "DROP TABLE \"test_table\"\n"
     ]
    }
   ],
   "source": [
    "stmt = Query.drop_table(\"test_table\")\n",
    "print(str(stmt))\n",
    "execute_query(stmt)"
   ]
  },
  {
   "cell_type": "markdown",
   "metadata": {},
   "source": [
    "# OLD"
   ]
  },
  {
   "cell_type": "code",
   "execution_count": 22,
   "metadata": {},
   "outputs": [],
   "source": [
    "# insert data into a table\n",
    "def insert_data(table_name, columns, data):\n",
    "    query = f\"INSERT INTO {table_name} ({columns}) VALUES {data};\"\n",
    "    with conn.cursor() as cur:\n",
    "        cur.execute(query)\n",
    "        conn.commit()\n",
    "insert_data(\"test_table\", \"name\", \"('test')\")"
   ]
  },
  {
   "cell_type": "code",
   "execution_count": 23,
   "metadata": {},
   "outputs": [
    {
     "data": {
      "text/plain": [
       "[(1, 'test')]"
      ]
     },
     "execution_count": 23,
     "metadata": {},
     "output_type": "execute_result"
    }
   ],
   "source": [
    "# print out the data in the table\n",
    "def get_data(table_name):\n",
    "    query = f\"SELECT * FROM {table_name};\"\n",
    "    with conn.cursor() as cur:\n",
    "        cur.execute(query)\n",
    "        data = cur.fetchall()\n",
    "        return data\n",
    "get_data(\"test_table\")"
   ]
  },
  {
   "cell_type": "code",
   "execution_count": null,
   "metadata": {},
   "outputs": [],
   "source": []
  }
 ],
 "metadata": {
  "kernelspec": {
   "display_name": "SRAgent",
   "language": "python",
   "name": "python3"
  },
  "language_info": {
   "codemirror_mode": {
    "name": "ipython",
    "version": 3
   },
   "file_extension": ".py",
   "mimetype": "text/x-python",
   "name": "python",
   "nbconvert_exporter": "python",
   "pygments_lexer": "ipython3",
   "version": "3.12.7"
  }
 },
 "nbformat": 4,
 "nbformat_minor": 2
}
