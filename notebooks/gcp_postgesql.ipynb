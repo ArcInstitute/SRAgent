{
 "cells": [
  {
   "cell_type": "markdown",
   "metadata": {},
   "source": [
    "# Goals\n",
    "\n",
    "* Test connecting and updating a GCP Cloud SQL database"
   ]
  },
  {
   "cell_type": "code",
   "execution_count": 1,
   "metadata": {},
   "outputs": [],
   "source": [
    "import os\n",
    "import warnings\n",
    "import psycopg2\n",
    "import pandas as pd\n",
    "from pypika import Query, Table, Field, Column, Table"
   ]
  },
  {
   "cell_type": "code",
   "execution_count": 2,
   "metadata": {},
   "outputs": [],
   "source": [
    "from dotenv import load_dotenv\n",
    "load_dotenv()\n",
    "warnings.filterwarnings(\"ignore\", message=\"pandas only supports SQLAlchemy connectable\")"
   ]
  },
  {
   "cell_type": "markdown",
   "metadata": {},
   "source": [
    "# Connect"
   ]
  },
  {
   "cell_type": "code",
   "execution_count": 3,
   "metadata": {},
   "outputs": [],
   "source": [
    "# Your GCP PostgreSQL connection parameters\n",
    "# get home directory\n",
    "host = os.path.join(os.path.expanduser(\"~\"), \"cloudsql\", os.environ[\"GCP_SQL_DB_HOST\"])\n",
    "\n",
    "db_params = {\n",
    "    'host': host,\n",
    "    'database': os.environ[\"GCP_SQL_DB_NAME\"],\n",
    "    'user': os.environ[\"GCP_SQL_DB_USERNAME\"],\n",
    "    'password': os.environ[\"GCP_SQL_DB_PASSWORD\"],\n",
    "    'port': '5432',\n",
    "    'connect_timeout': 10 \n",
    "}"
   ]
  },
  {
   "cell_type": "code",
   "execution_count": 4,
   "metadata": {},
   "outputs": [],
   "source": [
    "def get_db_connection():\n",
    "    try:\n",
    "        return psycopg2.connect(**db_params)\n",
    "    except Exception as e:\n",
    "        print(f\"Error connecting to database: {e}\")\n",
    "        return None\n",
    "\n",
    "conn = get_db_connection()    "
   ]
  },
  {
   "cell_type": "code",
   "execution_count": 5,
   "metadata": {},
   "outputs": [],
   "source": [
    "def execute_query(stmt, conn):\n",
    "    try:\n",
    "        with conn.cursor() as cur:\n",
    "            cur.execute(str(stmt))\n",
    "            conn.commit() \n",
    "    except psycopg2.errors.DuplicateTable as e:\n",
    "        print(f\"Table already exists: {e}\")"
   ]
  },
  {
   "cell_type": "code",
   "execution_count": 41,
   "metadata": {},
   "outputs": [
    {
     "data": {
      "text/plain": [
       "[('srx_metadata',), ('srx_srr',), ('screcounter',)]"
      ]
     },
     "execution_count": 41,
     "metadata": {},
     "output_type": "execute_result"
    }
   ],
   "source": [
    "# list tables in pypika\n",
    "def list_tables_pypika():\n",
    "    tables = Table('tables', schema='information_schema')\n",
    "    query = Query.from_(tables).select('table_name').where(tables.table_schema == 'public')\n",
    "    with conn.cursor() as cur:\n",
    "        cur.execute(str(query))\n",
    "        tables = cur.fetchall()\n",
    "        return tables\n",
    "list_tables_pypika()"
   ]
  },
  {
   "cell_type": "markdown",
   "metadata": {},
   "source": [
    "# Create tables"
   ]
  },
  {
   "cell_type": "code",
   "execution_count": 43,
   "metadata": {},
   "outputs": [],
   "source": [
    "# SRX_metadata\n",
    "stmt = Query \\\n",
    "    .create_table(\"srx_metadata\") \\\n",
    "    .columns(\n",
    "        Column(\"id\", \"SERIAL\", nullable=False),\n",
    "        Column(\"database\", \"VARCHAR(20)\", nullable=False),\n",
    "        Column(\"entrez_id\", \"INT\", nullable=False),\n",
    "        Column(\"srx_accession\", \"VARCHAR(20)\"),\n",
    "        Column(\"is_illumina\", \"VARCHAR(10)\"),\n",
    "        Column(\"is_single_cell\", \"VARCHAR(10)\"),\n",
    "        Column(\"is_paired_end\", \"VARCHAR(10)\"),\n",
    "        Column(\"is_10x\", \"VARCHAR(10)\"),\n",
    "        Column(\"tech_10x\", \"VARCHAR(20)\"),\n",
    "        Column(\"organism\", \"VARCHAR(60)\"),\n",
    "        Column(\"screcounter_status\", \"VARCHAR(20)\"),\n",
    "        Column(\"screcounter_log\", \"VARCHAR(2000)\"),\n",
    "    ) \\\n",
    "    .unique(\"database\", \"entrez_id\") \\\n",
    "    .primary_key(\"id\")\n",
    "\n",
    "execute_query(stmt, conn)"
   ]
  },
  {
   "cell_type": "code",
   "execution_count": 8,
   "metadata": {},
   "outputs": [],
   "source": [
    "# SRX_SRR\n",
    "stmt = Query \\\n",
    "    .create_table(\"srx_srr\") \\\n",
    "    .columns(\n",
    "        Column(\"id\", \"SERIAL\", nullable=False),\n",
    "        Column(\"srx_accession\", \"VARCHAR(20)\", nullable=False),\n",
    "        Column(\"srr_accession\", \"VARCHAR(20)\", nullable=False)\n",
    "    ) \\\n",
    "    .unique(\"srx_accession\", \"srr_accession\") \\\n",
    "    .primary_key(\"id\")\n",
    "\n",
    "execute_query(stmt, conn)"
   ]
  },
  {
   "cell_type": "code",
   "execution_count": 9,
   "metadata": {},
   "outputs": [],
   "source": [
    "# scRecounter log\n",
    "stmt = Query \\\n",
    "    .create_table(\"screcounter\") \\\n",
    "    .columns(\n",
    "        Column(\"id\", \"SERIAL\", nullable=False),\n",
    "        Column(\"sample_id\", \"VARCHAR(20)\", nullable=False),\n",
    "        Column(\"pipeline_version\", \"VARCHAR(10)\", nullable=False),\n",
    "        Column(\"run_id\", \"VARCHAR(30)\", nullable=False),\n",
    "        Column(\"task_name\", \"VARCHAR(20)\", nullable=False),\n",
    "        Column(\"task_exit_status\", \"VARCHAR(10)\"),\n",
    "        Column(\"log\", \"TEXT\", nullable=False)\n",
    "    ) \\\n",
    "    .primary_key(\"id\")\n",
    "\n",
    "execute_query(stmt, conn)"
   ]
  },
  {
   "cell_type": "markdown",
   "metadata": {},
   "source": [
    "# Delete tables\n",
    "\n",
    "> WARNING"
   ]
  },
  {
   "cell_type": "code",
   "execution_count": 42,
   "metadata": {},
   "outputs": [
    {
     "name": "stdout",
     "output_type": "stream",
     "text": [
      "DROP TABLE \"srx_metadata\"\n"
     ]
    }
   ],
   "source": [
    "# for table in [\"srx_metadata\", \"srx_srr\", \"screcounter\"]:\n",
    "for table in [\"srx_metadata\"]:\n",
    "    stmt = Query.drop_table(table)\n",
    "    print(str(stmt))\n",
    "    execute_query(stmt, conn)"
   ]
  },
  {
   "cell_type": "markdown",
   "metadata": {},
   "source": [
    "# Insert data"
   ]
  },
  {
   "cell_type": "code",
   "execution_count": 33,
   "metadata": {},
   "outputs": [],
   "source": [
    "srx_metadata = Table(\"srx_metadata\")\n",
    "\n",
    "q = Query.into(srx_metadata) \\\n",
    "    .columns('database', 'entrez_id', 'srx_accession', 'is_illumina', 'is_single_cell', 'is_paired_end', 'is_10x', 'tech_10x', 'organism') \\\n",
    "    .insert('sra', 35087715, 'SRX25994842', 'yes', 'yes', 'yes', 'yes', '3_prime_gex', 'human')\n",
    "\n",
    "execute_query(q, conn)"
   ]
  },
  {
   "cell_type": "markdown",
   "metadata": {},
   "source": [
    "# Query data"
   ]
  },
  {
   "cell_type": "code",
   "execution_count": 27,
   "metadata": {},
   "outputs": [
    {
     "data": {
      "text/html": [
       "<div>\n",
       "<style scoped>\n",
       "    .dataframe tbody tr th:only-of-type {\n",
       "        vertical-align: middle;\n",
       "    }\n",
       "\n",
       "    .dataframe tbody tr th {\n",
       "        vertical-align: top;\n",
       "    }\n",
       "\n",
       "    .dataframe thead th {\n",
       "        text-align: right;\n",
       "    }\n",
       "</style>\n",
       "<table border=\"1\" class=\"dataframe\">\n",
       "  <thead>\n",
       "    <tr style=\"text-align: right;\">\n",
       "      <th></th>\n",
       "      <th>id</th>\n",
       "      <th>database</th>\n",
       "      <th>entrez_id</th>\n",
       "      <th>srx_accession</th>\n",
       "      <th>is_illumina</th>\n",
       "      <th>is_single_cell</th>\n",
       "      <th>is_paired_end</th>\n",
       "      <th>is_10x</th>\n",
       "      <th>tech_10x</th>\n",
       "      <th>organism</th>\n",
       "      <th>screcounter_status</th>\n",
       "      <th>screcounter_log</th>\n",
       "    </tr>\n",
       "  </thead>\n",
       "  <tbody>\n",
       "    <tr>\n",
       "      <th>0</th>\n",
       "      <td>2</td>\n",
       "      <td>sra</td>\n",
       "      <td>35087715</td>\n",
       "      <td>SRX25994842</td>\n",
       "      <td>yes</td>\n",
       "      <td>yes</td>\n",
       "      <td>yes</td>\n",
       "      <td>yes</td>\n",
       "      <td>3_prime_gex</td>\n",
       "      <td>human</td>\n",
       "      <td>None</td>\n",
       "      <td>None</td>\n",
       "    </tr>\n",
       "    <tr>\n",
       "      <th>1</th>\n",
       "      <td>3</td>\n",
       "      <td>sra</td>\n",
       "      <td>36178506</td>\n",
       "      <td>ERX11887200</td>\n",
       "      <td>yes</td>\n",
       "      <td>yes</td>\n",
       "      <td>yes</td>\n",
       "      <td>yes</td>\n",
       "      <td>3_prime_gex</td>\n",
       "      <td>mouse</td>\n",
       "      <td>None</td>\n",
       "      <td>None</td>\n",
       "    </tr>\n",
       "    <tr>\n",
       "      <th>2</th>\n",
       "      <td>5</td>\n",
       "      <td>sra</td>\n",
       "      <td>18060880</td>\n",
       "      <td>SRX13201194</td>\n",
       "      <td>yes</td>\n",
       "      <td>no</td>\n",
       "      <td>no</td>\n",
       "      <td>no</td>\n",
       "      <td>other</td>\n",
       "      <td>mouse</td>\n",
       "      <td>None</td>\n",
       "      <td>None</td>\n",
       "    </tr>\n",
       "    <tr>\n",
       "      <th>3</th>\n",
       "      <td>1</td>\n",
       "      <td>sra</td>\n",
       "      <td>36106630</td>\n",
       "      <td>SRX26727599</td>\n",
       "      <td>yes</td>\n",
       "      <td>no</td>\n",
       "      <td>yes</td>\n",
       "      <td>no</td>\n",
       "      <td>other</td>\n",
       "      <td>mouse</td>\n",
       "      <td>complete</td>\n",
       "      <td>test log</td>\n",
       "    </tr>\n",
       "    <tr>\n",
       "      <th>4</th>\n",
       "      <td>17</td>\n",
       "      <td>sra</td>\n",
       "      <td>30749595</td>\n",
       "      <td>SRX22716300</td>\n",
       "      <td>yes</td>\n",
       "      <td>yes</td>\n",
       "      <td>yes</td>\n",
       "      <td>yes</td>\n",
       "      <td>5_prime_gex</td>\n",
       "      <td>human</td>\n",
       "      <td>None</td>\n",
       "      <td>None</td>\n",
       "    </tr>\n",
       "  </tbody>\n",
       "</table>\n",
       "</div>"
      ],
      "text/plain": [
       "   id database  entrez_id srx_accession is_illumina is_single_cell  \\\n",
       "0   2      sra   35087715   SRX25994842         yes            yes   \n",
       "1   3      sra   36178506   ERX11887200         yes            yes   \n",
       "2   5      sra   18060880   SRX13201194         yes             no   \n",
       "3   1      sra   36106630   SRX26727599         yes             no   \n",
       "4  17      sra   30749595   SRX22716300         yes            yes   \n",
       "\n",
       "  is_paired_end is_10x     tech_10x organism screcounter_status  \\\n",
       "0           yes    yes  3_prime_gex    human               None   \n",
       "1           yes    yes  3_prime_gex    mouse               None   \n",
       "2            no     no        other    mouse               None   \n",
       "3           yes     no        other    mouse           complete   \n",
       "4           yes    yes  5_prime_gex    human               None   \n",
       "\n",
       "  screcounter_log  \n",
       "0            None  \n",
       "1            None  \n",
       "2            None  \n",
       "3        test log  \n",
       "4            None  "
      ]
     },
     "execution_count": 27,
     "metadata": {},
     "output_type": "execute_result"
    }
   ],
   "source": [
    "srx_metadata = Table(\"srx_metadata\")\n",
    "stmt = Query \\\n",
    "    .from_(srx_metadata) \\\n",
    "    .select(\"*\") \n",
    "pd.read_sql(str(stmt), conn)"
   ]
  },
  {
   "cell_type": "code",
   "execution_count": 10,
   "metadata": {},
   "outputs": [
    {
     "data": {
      "text/html": [
       "<div>\n",
       "<style scoped>\n",
       "    .dataframe tbody tr th:only-of-type {\n",
       "        vertical-align: middle;\n",
       "    }\n",
       "\n",
       "    .dataframe tbody tr th {\n",
       "        vertical-align: top;\n",
       "    }\n",
       "\n",
       "    .dataframe thead th {\n",
       "        text-align: right;\n",
       "    }\n",
       "</style>\n",
       "<table border=\"1\" class=\"dataframe\">\n",
       "  <thead>\n",
       "    <tr style=\"text-align: right;\">\n",
       "      <th></th>\n",
       "      <th>id</th>\n",
       "      <th>srx_accession</th>\n",
       "      <th>srr_accession</th>\n",
       "    </tr>\n",
       "  </thead>\n",
       "  <tbody>\n",
       "    <tr>\n",
       "      <th>0</th>\n",
       "      <td>1</td>\n",
       "      <td>SRX26727599</td>\n",
       "      <td>SRR31350667</td>\n",
       "    </tr>\n",
       "    <tr>\n",
       "      <th>1</th>\n",
       "      <td>2</td>\n",
       "      <td>SRX23538581</td>\n",
       "      <td>SRR27876733</td>\n",
       "    </tr>\n",
       "    <tr>\n",
       "      <th>2</th>\n",
       "      <td>3</td>\n",
       "      <td>SRX23261451</td>\n",
       "      <td>SRR27592690</td>\n",
       "    </tr>\n",
       "    <tr>\n",
       "      <th>3</th>\n",
       "      <td>4</td>\n",
       "      <td>SRX23261451</td>\n",
       "      <td>SRR27592688</td>\n",
       "    </tr>\n",
       "    <tr>\n",
       "      <th>4</th>\n",
       "      <td>5</td>\n",
       "      <td>SRX23261451</td>\n",
       "      <td>SRR27592689</td>\n",
       "    </tr>\n",
       "    <tr>\n",
       "      <th>5</th>\n",
       "      <td>6</td>\n",
       "      <td>SRX23261451</td>\n",
       "      <td>SRR27592687</td>\n",
       "    </tr>\n",
       "    <tr>\n",
       "      <th>6</th>\n",
       "      <td>8</td>\n",
       "      <td>SRX25994842</td>\n",
       "      <td>SRR30571763</td>\n",
       "    </tr>\n",
       "    <tr>\n",
       "      <th>7</th>\n",
       "      <td>9</td>\n",
       "      <td>ERX11887200</td>\n",
       "      <td>ERR12511670</td>\n",
       "    </tr>\n",
       "    <tr>\n",
       "      <th>8</th>\n",
       "      <td>10</td>\n",
       "      <td>ERX11887200</td>\n",
       "      <td>ERR12511661</td>\n",
       "    </tr>\n",
       "  </tbody>\n",
       "</table>\n",
       "</div>"
      ],
      "text/plain": [
       "   id srx_accession srr_accession\n",
       "0   1   SRX26727599   SRR31350667\n",
       "1   2   SRX23538581   SRR27876733\n",
       "2   3   SRX23261451   SRR27592690\n",
       "3   4   SRX23261451   SRR27592688\n",
       "4   5   SRX23261451   SRR27592689\n",
       "5   6   SRX23261451   SRR27592687\n",
       "6   8   SRX25994842   SRR30571763\n",
       "7   9   ERX11887200   ERR12511670\n",
       "8  10   ERX11887200   ERR12511661"
      ]
     },
     "execution_count": 10,
     "metadata": {},
     "output_type": "execute_result"
    }
   ],
   "source": [
    "srx_srr = Table(\"srx_srr\")\n",
    "stmt = Query \\\n",
    "    .from_(srx_srr) \\\n",
    "    .select(\"*\") \n",
    "pd.read_sql(str(stmt), conn)"
   ]
  },
  {
   "cell_type": "code",
   "execution_count": null,
   "metadata": {},
   "outputs": [
    {
     "name": "stderr",
     "output_type": "stream",
     "text": [
      "/tmp/ipykernel_8985/2052542231.py:5: UserWarning: pandas only supports SQLAlchemy connectable (engine/connection) or database string URI or sqlite3 DBAPI2 connection. Other DBAPI2 objects are not tested. Please consider using SQLAlchemy.\n",
      "  pd.read_sql(str(stmt), conn)\n"
     ]
    },
    {
     "data": {
      "text/html": [
       "<div>\n",
       "<style scoped>\n",
       "    .dataframe tbody tr th:only-of-type {\n",
       "        vertical-align: middle;\n",
       "    }\n",
       "\n",
       "    .dataframe tbody tr th {\n",
       "        vertical-align: top;\n",
       "    }\n",
       "\n",
       "    .dataframe thead th {\n",
       "        text-align: right;\n",
       "    }\n",
       "</style>\n",
       "<table border=\"1\" class=\"dataframe\">\n",
       "  <thead>\n",
       "    <tr style=\"text-align: right;\">\n",
       "      <th></th>\n",
       "      <th>id</th>\n",
       "      <th>sample_id</th>\n",
       "      <th>pipeline_version</th>\n",
       "      <th>run_id</th>\n",
       "      <th>task_name</th>\n",
       "      <th>task_exit_status</th>\n",
       "      <th>log</th>\n",
       "    </tr>\n",
       "  </thead>\n",
       "  <tbody>\n",
       "  </tbody>\n",
       "</table>\n",
       "</div>"
      ],
      "text/plain": [
       "Empty DataFrame\n",
       "Columns: [id, sample_id, pipeline_version, run_id, task_name, task_exit_status, log]\n",
       "Index: []"
      ]
     },
     "execution_count": 24,
     "metadata": {},
     "output_type": "execute_result"
    }
   ],
   "source": [
    "tbl = Table(\"screcounter\")\n",
    "stmt = Query \\\n",
    "    .from_(tbl) \\\n",
    "    .select(\"*\") \n",
    "pd.read_sql(str(stmt), conn)"
   ]
  },
  {
   "cell_type": "code",
   "execution_count": 12,
   "metadata": {},
   "outputs": [
    {
     "name": "stderr",
     "output_type": "stream",
     "text": [
      "/tmp/ipykernel_8985/2340524525.py:8: UserWarning: pandas only supports SQLAlchemy connectable (engine/connection) or database string URI or sqlite3 DBAPI2 connection. Other DBAPI2 objects are not tested. Please consider using SQLAlchemy.\n",
      "  pd.read_sql(str(stmt), conn)\n"
     ]
    },
    {
     "data": {
      "text/html": [
       "<div>\n",
       "<style scoped>\n",
       "    .dataframe tbody tr th:only-of-type {\n",
       "        vertical-align: middle;\n",
       "    }\n",
       "\n",
       "    .dataframe tbody tr th {\n",
       "        vertical-align: top;\n",
       "    }\n",
       "\n",
       "    .dataframe thead th {\n",
       "        text-align: right;\n",
       "    }\n",
       "</style>\n",
       "<table border=\"1\" class=\"dataframe\">\n",
       "  <thead>\n",
       "    <tr style=\"text-align: right;\">\n",
       "      <th></th>\n",
       "      <th>id</th>\n",
       "      <th>database</th>\n",
       "      <th>entrez_id</th>\n",
       "      <th>srx_accession</th>\n",
       "      <th>is_illumina</th>\n",
       "      <th>is_single_cell</th>\n",
       "      <th>is_paired_end</th>\n",
       "      <th>is_10x</th>\n",
       "      <th>tech_10x</th>\n",
       "      <th>organism</th>\n",
       "      <th>processed</th>\n",
       "    </tr>\n",
       "  </thead>\n",
       "  <tbody>\n",
       "  </tbody>\n",
       "</table>\n",
       "</div>"
      ],
      "text/plain": [
       "Empty DataFrame\n",
       "Columns: [id, database, entrez_id, srx_accession, is_illumina, is_single_cell, is_paired_end, is_10x, tech_10x, organism, processed]\n",
       "Index: []"
      ]
     },
     "execution_count": 12,
     "metadata": {},
     "output_type": "execute_result"
    }
   ],
   "source": [
    "# filter to get unprocessed records\n",
    "srx_metadata = Table(\"srx_metadata\")\n",
    "stmt = Query \\\n",
    "    .from_(srx_metadata) \\\n",
    "    .select(\"*\") \\\n",
    "    .where((srx_metadata.processed != \"complete\") | (srx_metadata.processed.isnull())) \\\n",
    "    .where(srx_metadata.database == \"sra\")\n",
    "pd.read_sql(str(stmt), conn)"
   ]
  },
  {
   "cell_type": "markdown",
   "metadata": {},
   "source": [
    "# Remove records"
   ]
  },
  {
   "cell_type": "code",
   "execution_count": 26,
   "metadata": {},
   "outputs": [],
   "source": [
    "# remove from \"srx_metadata\" based on id column\n",
    "record_id = 18\n",
    "tbl = Table(\"srx_metadata\")\n",
    "stmt = Query \\\n",
    "    .from_(tbl) \\\n",
    "    .where(tbl.id == record_id) \\\n",
    "    .delete()\n",
    "execute_query(stmt, conn)"
   ]
  }
 ],
 "metadata": {
  "kernelspec": {
   "display_name": "sragent",
   "language": "python",
   "name": "python3"
  },
  "language_info": {
   "codemirror_mode": {
    "name": "ipython",
    "version": 3
   },
   "file_extension": ".py",
   "mimetype": "text/x-python",
   "name": "python",
   "nbconvert_exporter": "python",
   "pygments_lexer": "ipython3",
   "version": "3.12.8"
  }
 },
 "nbformat": 4,
 "nbformat_minor": 2
}
