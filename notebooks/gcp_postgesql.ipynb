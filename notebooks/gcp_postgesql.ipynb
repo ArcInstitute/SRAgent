{
 "cells": [
  {
   "cell_type": "markdown",
   "metadata": {},
   "source": [
    "# Goals\n",
    "\n",
    "* Test connecting and updating a GCP Cloud SQL database"
   ]
  },
  {
   "cell_type": "code",
   "execution_count": 2,
   "metadata": {},
   "outputs": [],
   "source": [
    "import os\n",
    "import psycopg2\n",
    "import pandas as pd\n",
    "from pypika import Query, Table, Field, Column, Table"
   ]
  },
  {
   "cell_type": "code",
   "execution_count": 3,
   "metadata": {},
   "outputs": [
    {
     "data": {
      "text/plain": [
       "True"
      ]
     },
     "execution_count": 3,
     "metadata": {},
     "output_type": "execute_result"
    }
   ],
   "source": [
    "from dotenv import load_dotenv\n",
    "load_dotenv()"
   ]
  },
  {
   "cell_type": "markdown",
   "metadata": {},
   "source": [
    "# Connect"
   ]
  },
  {
   "cell_type": "code",
   "execution_count": 4,
   "metadata": {},
   "outputs": [],
   "source": [
    "# Your GCP PostgreSQL connection parameters\n",
    "# get home directory\n",
    "host = os.path.join(os.path.expanduser(\"~\"), \"cloudsql\", os.environ[\"GCP_SQL_DB_HOST\"])\n",
    "\n",
    "db_params = {\n",
    "    'host': host,\n",
    "    'database': os.environ[\"GCP_SQL_DB_NAME\"],\n",
    "    'user': os.environ[\"GCP_SQL_DB_USERNAME\"],\n",
    "    'password': os.environ[\"GCP_SQL_DB_PASSWORD\"],\n",
    "    'port': '5432',\n",
    "    'connect_timeout': 10 \n",
    "}"
   ]
  },
  {
   "cell_type": "code",
   "execution_count": 5,
   "metadata": {},
   "outputs": [],
   "source": [
    "def get_db_connection():\n",
    "    try:\n",
    "        return psycopg2.connect(**db_params)\n",
    "    except Exception as e:\n",
    "        print(f\"Error connecting to database: {e}\")\n",
    "        return None\n",
    "\n",
    "conn = get_db_connection()    "
   ]
  },
  {
   "cell_type": "code",
   "execution_count": 28,
   "metadata": {},
   "outputs": [
    {
     "data": {
      "text/plain": [
       "[('screcounter_log',)]"
      ]
     },
     "execution_count": 28,
     "metadata": {},
     "output_type": "execute_result"
    }
   ],
   "source": [
    "# list tables in pypika\n",
    "def list_tables_pypika():\n",
    "    tables = Table('tables', schema='information_schema')\n",
    "    query = Query.from_(tables).select('table_name').where(tables.table_schema == 'public')\n",
    "    with conn.cursor() as cur:\n",
    "        cur.execute(str(query))\n",
    "        tables = cur.fetchall()\n",
    "        return tables\n",
    "list_tables_pypika()"
   ]
  },
  {
   "cell_type": "markdown",
   "metadata": {},
   "source": [
    "# Create tables"
   ]
  },
  {
   "cell_type": "code",
   "execution_count": 29,
   "metadata": {},
   "outputs": [],
   "source": [
    "def execute_query(stmt, conn):\n",
    "    try:\n",
    "        with conn.cursor() as cur:\n",
    "            cur.execute(str(stmt))\n",
    "            conn.commit() \n",
    "    except psycopg2.errors.DuplicateTable as e:\n",
    "        print(f\"Table already exists: {e}\")"
   ]
  },
  {
   "cell_type": "code",
   "execution_count": 30,
   "metadata": {},
   "outputs": [],
   "source": [
    "# SRX_metadata\n",
    "stmt = Query \\\n",
    "    .create_table(\"srx_metadata\") \\\n",
    "    .columns(\n",
    "        Column(\"id\", \"SERIAL\", nullable=False),\n",
    "        Column(\"database\", \"VARCHAR(20)\", nullable=False),\n",
    "        Column(\"entrez_id\", \"INT\", nullable=False),\n",
    "        Column(\"srx_accession\", \"VARCHAR(20)\", nullable=False),\n",
    "        Column(\"is_illumina\", \"VARCHAR(10)\", nullable=False),\n",
    "        Column(\"is_single_cell\", \"VARCHAR(10)\", nullable=False),\n",
    "        Column(\"is_paired_end\", \"VARCHAR(10)\", nullable=False),\n",
    "        Column(\"is_10x\", \"VARCHAR(10)\", nullable=False),\n",
    "        Column(\"tech_10x\", \"VARCHAR(20)\", nullable=False),\n",
    "        Column(\"organism\", \"VARCHAR(60)\", nullable=False),\n",
    "        Column(\"processed\", \"VARCHAR(10)\"),\n",
    "    ) \\\n",
    "    .unique(\"database\", \"entrez_id\") \\\n",
    "    .primary_key(\"id\")\n",
    "\n",
    "execute_query(stmt, conn)"
   ]
  },
  {
   "cell_type": "code",
   "execution_count": 31,
   "metadata": {},
   "outputs": [],
   "source": [
    "# SRX_SRR\n",
    "stmt = Query \\\n",
    "    .create_table(\"srx_srr\") \\\n",
    "    .columns(\n",
    "        Column(\"id\", \"SERIAL\", nullable=False),\n",
    "        Column(\"srx_accession\", \"VARCHAR(20)\", nullable=False),\n",
    "        Column(\"srr_accession\", \"VARCHAR(20)\", nullable=False)\n",
    "    ) \\\n",
    "    .unique(\"srx_accession\", \"srr_accession\") \\\n",
    "    .primary_key(\"id\")\n",
    "\n",
    "execute_query(stmt, conn)"
   ]
  },
  {
   "cell_type": "code",
   "execution_count": 32,
   "metadata": {},
   "outputs": [],
   "source": [
    "# scRecounter log\n",
    "stmt = Query \\\n",
    "    .create_table(\"screcounter\") \\\n",
    "    .columns(\n",
    "        Column(\"id\", \"SERIAL\", nullable=False),\n",
    "        Column(\"sample_id\", \"VARCHAR(20)\", nullable=False),\n",
    "        Column(\"pipeline_version\", \"VARCHAR(10)\", nullable=False),\n",
    "        Column(\"run_id\", \"VARCHAR(30)\", nullable=False),\n",
    "        Column(\"task_name\", \"VARCHAR(20)\", nullable=False),\n",
    "        Column(\"task_exit_status\", \"VARCHAR(10)\"),\n",
    "        Column(\"log\", \"TEXT\", nullable=False)\n",
    "    ) \\\n",
    "    .primary_key(\"id\")\n",
    "\n",
    "execute_query(stmt, conn)"
   ]
  },
  {
   "cell_type": "markdown",
   "metadata": {},
   "source": [
    "# Delete tables"
   ]
  },
  {
   "cell_type": "code",
   "execution_count": null,
   "metadata": {},
   "outputs": [
    {
     "name": "stdout",
     "output_type": "stream",
     "text": [
      "DROP TABLE \"srx_metadata\"\n",
      "DROP TABLE \"srx_srr\"\n",
      "DROP TABLE \"screcounter\"\n"
     ]
    },
    {
     "ename": "UndefinedTable",
     "evalue": "table \"screcounter\" does not exist\n",
     "output_type": "error",
     "traceback": [
      "\u001b[0;31m---------------------------------------------------------------------------\u001b[0m",
      "\u001b[0;31mUndefinedTable\u001b[0m                            Traceback (most recent call last)",
      "Cell \u001b[0;32mIn[23], line 4\u001b[0m\n\u001b[1;32m      2\u001b[0m stmt \u001b[38;5;241m=\u001b[39m Query\u001b[38;5;241m.\u001b[39mdrop_table(table)\n\u001b[1;32m      3\u001b[0m \u001b[38;5;28mprint\u001b[39m(\u001b[38;5;28mstr\u001b[39m(stmt))\n\u001b[0;32m----> 4\u001b[0m \u001b[43mexecute_query\u001b[49m\u001b[43m(\u001b[49m\u001b[43mstmt\u001b[49m\u001b[43m,\u001b[49m\u001b[43m \u001b[49m\u001b[43mconn\u001b[49m\u001b[43m)\u001b[49m\n",
      "Cell \u001b[0;32mIn[11], line 4\u001b[0m, in \u001b[0;36mexecute_query\u001b[0;34m(stmt, conn)\u001b[0m\n\u001b[1;32m      2\u001b[0m \u001b[38;5;28;01mtry\u001b[39;00m:\n\u001b[1;32m      3\u001b[0m     \u001b[38;5;28;01mwith\u001b[39;00m conn\u001b[38;5;241m.\u001b[39mcursor() \u001b[38;5;28;01mas\u001b[39;00m cur:\n\u001b[0;32m----> 4\u001b[0m         \u001b[43mcur\u001b[49m\u001b[38;5;241;43m.\u001b[39;49m\u001b[43mexecute\u001b[49m\u001b[43m(\u001b[49m\u001b[38;5;28;43mstr\u001b[39;49m\u001b[43m(\u001b[49m\u001b[43mstmt\u001b[49m\u001b[43m)\u001b[49m\u001b[43m)\u001b[49m\n\u001b[1;32m      5\u001b[0m         conn\u001b[38;5;241m.\u001b[39mcommit() \n\u001b[1;32m      6\u001b[0m \u001b[38;5;28;01mexcept\u001b[39;00m psycopg2\u001b[38;5;241m.\u001b[39merrors\u001b[38;5;241m.\u001b[39mDuplicateTable \u001b[38;5;28;01mas\u001b[39;00m e:\n",
      "\u001b[0;31mUndefinedTable\u001b[0m: table \"screcounter\" does not exist\n"
     ]
    }
   ],
   "source": [
    "for table in [\"srx_metadata\", \"srx_srr\", \"screcounter\"]:\n",
    "    stmt = Query.drop_table(table)\n",
    "    print(str(stmt))\n",
    "    execute_query(stmt, conn)"
   ]
  },
  {
   "cell_type": "markdown",
   "metadata": {},
   "source": [
    "# Insert data"
   ]
  },
  {
   "cell_type": "code",
   "execution_count": 33,
   "metadata": {},
   "outputs": [],
   "source": [
    "srx_metadata = Table(\"srx_metadata\")\n",
    "\n",
    "q = Query.into(srx_metadata) \\\n",
    "    .columns('database', 'entrez_id', 'srx_accession', 'is_illumina', 'is_single_cell', 'is_paired_end', 'is_10x', 'tech_10x', 'organism') \\\n",
    "    .insert('sra', 35087715, 'SRX25994842', 'yes', 'yes', 'yes', 'yes', '3_prime_gex', 'human')\n",
    "\n",
    "execute_query(q, conn)"
   ]
  },
  {
   "cell_type": "markdown",
   "metadata": {},
   "source": [
    "# Query data"
   ]
  },
  {
   "cell_type": "code",
   "execution_count": 8,
   "metadata": {},
   "outputs": [
    {
     "name": "stderr",
     "output_type": "stream",
     "text": [
      "/tmp/ipykernel_706574/3833193525.py:5: UserWarning: pandas only supports SQLAlchemy connectable (engine/connection) or database string URI or sqlite3 DBAPI2 connection. Other DBAPI2 objects are not tested. Please consider using SQLAlchemy.\n",
      "  pd.read_sql(str(stmt), conn)\n"
     ]
    },
    {
     "data": {
      "text/html": [
       "<div>\n",
       "<style scoped>\n",
       "    .dataframe tbody tr th:only-of-type {\n",
       "        vertical-align: middle;\n",
       "    }\n",
       "\n",
       "    .dataframe tbody tr th {\n",
       "        vertical-align: top;\n",
       "    }\n",
       "\n",
       "    .dataframe thead th {\n",
       "        text-align: right;\n",
       "    }\n",
       "</style>\n",
       "<table border=\"1\" class=\"dataframe\">\n",
       "  <thead>\n",
       "    <tr style=\"text-align: right;\">\n",
       "      <th></th>\n",
       "      <th>id</th>\n",
       "      <th>database</th>\n",
       "      <th>entrez_id</th>\n",
       "      <th>srx_accession</th>\n",
       "      <th>is_illumina</th>\n",
       "      <th>is_single_cell</th>\n",
       "      <th>is_paired_end</th>\n",
       "      <th>is_10x</th>\n",
       "      <th>tech_10x</th>\n",
       "      <th>organism</th>\n",
       "      <th>processed</th>\n",
       "    </tr>\n",
       "  </thead>\n",
       "  <tbody>\n",
       "    <tr>\n",
       "      <th>0</th>\n",
       "      <td>1</td>\n",
       "      <td>sra</td>\n",
       "      <td>35087715</td>\n",
       "      <td>SRX25994842</td>\n",
       "      <td>yes</td>\n",
       "      <td>yes</td>\n",
       "      <td>yes</td>\n",
       "      <td>yes</td>\n",
       "      <td>3_prime_gex</td>\n",
       "      <td>human</td>\n",
       "      <td>None</td>\n",
       "    </tr>\n",
       "    <tr>\n",
       "      <th>1</th>\n",
       "      <td>2</td>\n",
       "      <td>sra</td>\n",
       "      <td>123456</td>\n",
       "      <td>test</td>\n",
       "      <td>unsure</td>\n",
       "      <td>unsure</td>\n",
       "      <td>unsure</td>\n",
       "      <td>unsure</td>\n",
       "      <td>other</td>\n",
       "      <td>other</td>\n",
       "      <td>None</td>\n",
       "    </tr>\n",
       "  </tbody>\n",
       "</table>\n",
       "</div>"
      ],
      "text/plain": [
       "   id database  entrez_id srx_accession is_illumina is_single_cell  \\\n",
       "0   1      sra   35087715   SRX25994842         yes            yes   \n",
       "1   2      sra     123456          test      unsure         unsure   \n",
       "\n",
       "  is_paired_end  is_10x     tech_10x organism processed  \n",
       "0           yes     yes  3_prime_gex    human      None  \n",
       "1        unsure  unsure        other    other      None  "
      ]
     },
     "execution_count": 8,
     "metadata": {},
     "output_type": "execute_result"
    }
   ],
   "source": [
    "srx_metadata = Table(\"srx_metadata\")\n",
    "stmt = Query \\\n",
    "    .from_(srx_metadata) \\\n",
    "    .select(\"*\") \n",
    "pd.read_sql(str(stmt), conn)"
   ]
  },
  {
   "cell_type": "code",
   "execution_count": 10,
   "metadata": {},
   "outputs": [
    {
     "name": "stderr",
     "output_type": "stream",
     "text": [
      "/tmp/ipykernel_706574/2653324676.py:5: UserWarning: pandas only supports SQLAlchemy connectable (engine/connection) or database string URI or sqlite3 DBAPI2 connection. Other DBAPI2 objects are not tested. Please consider using SQLAlchemy.\n",
      "  pd.read_sql(str(stmt), conn)\n"
     ]
    },
    {
     "data": {
      "text/html": [
       "<div>\n",
       "<style scoped>\n",
       "    .dataframe tbody tr th:only-of-type {\n",
       "        vertical-align: middle;\n",
       "    }\n",
       "\n",
       "    .dataframe tbody tr th {\n",
       "        vertical-align: top;\n",
       "    }\n",
       "\n",
       "    .dataframe thead th {\n",
       "        text-align: right;\n",
       "    }\n",
       "</style>\n",
       "<table border=\"1\" class=\"dataframe\">\n",
       "  <thead>\n",
       "    <tr style=\"text-align: right;\">\n",
       "      <th></th>\n",
       "      <th>id</th>\n",
       "      <th>srx_accession</th>\n",
       "      <th>srr_accession</th>\n",
       "    </tr>\n",
       "  </thead>\n",
       "  <tbody>\n",
       "    <tr>\n",
       "      <th>0</th>\n",
       "      <td>1</td>\n",
       "      <td>SRX25994842</td>\n",
       "      <td>SRR30571763</td>\n",
       "    </tr>\n",
       "  </tbody>\n",
       "</table>\n",
       "</div>"
      ],
      "text/plain": [
       "   id srx_accession srr_accession\n",
       "0   1   SRX25994842   SRR30571763"
      ]
     },
     "execution_count": 10,
     "metadata": {},
     "output_type": "execute_result"
    }
   ],
   "source": [
    "srx_srr = Table(\"srx_srr\")\n",
    "stmt = Query \\\n",
    "    .from_(srx_srr) \\\n",
    "    .select(\"*\") \n",
    "pd.read_sql(str(stmt), conn)"
   ]
  },
  {
   "cell_type": "code",
   "execution_count": null,
   "metadata": {},
   "outputs": [
    {
     "name": "stderr",
     "output_type": "stream",
     "text": [
      "/tmp/ipykernel_706574/441880512.py:8: UserWarning: pandas only supports SQLAlchemy connectable (engine/connection) or database string URI or sqlite3 DBAPI2 connection. Other DBAPI2 objects are not tested. Please consider using SQLAlchemy.\n",
      "  pd.read_sql(str(stmt), conn)\n"
     ]
    },
    {
     "data": {
      "text/html": [
       "<div>\n",
       "<style scoped>\n",
       "    .dataframe tbody tr th:only-of-type {\n",
       "        vertical-align: middle;\n",
       "    }\n",
       "\n",
       "    .dataframe tbody tr th {\n",
       "        vertical-align: top;\n",
       "    }\n",
       "\n",
       "    .dataframe thead th {\n",
       "        text-align: right;\n",
       "    }\n",
       "</style>\n",
       "<table border=\"1\" class=\"dataframe\">\n",
       "  <thead>\n",
       "    <tr style=\"text-align: right;\">\n",
       "      <th></th>\n",
       "      <th>id</th>\n",
       "      <th>database</th>\n",
       "      <th>entrez_id</th>\n",
       "      <th>srx_accession</th>\n",
       "      <th>is_illumina</th>\n",
       "      <th>is_single_cell</th>\n",
       "      <th>is_paired_end</th>\n",
       "      <th>is_10x</th>\n",
       "      <th>tech_10x</th>\n",
       "      <th>organism</th>\n",
       "      <th>processed</th>\n",
       "    </tr>\n",
       "  </thead>\n",
       "  <tbody>\n",
       "    <tr>\n",
       "      <th>0</th>\n",
       "      <td>2</td>\n",
       "      <td>sra</td>\n",
       "      <td>123456</td>\n",
       "      <td>test</td>\n",
       "      <td>unsure</td>\n",
       "      <td>unsure</td>\n",
       "      <td>unsure</td>\n",
       "      <td>unsure</td>\n",
       "      <td>other</td>\n",
       "      <td>other</td>\n",
       "      <td>None</td>\n",
       "    </tr>\n",
       "    <tr>\n",
       "      <th>1</th>\n",
       "      <td>1</td>\n",
       "      <td>sra</td>\n",
       "      <td>35087715</td>\n",
       "      <td>SRX25994842</td>\n",
       "      <td>yes</td>\n",
       "      <td>yes</td>\n",
       "      <td>yes</td>\n",
       "      <td>yes</td>\n",
       "      <td>3_prime_gex</td>\n",
       "      <td>human</td>\n",
       "      <td>None</td>\n",
       "    </tr>\n",
       "  </tbody>\n",
       "</table>\n",
       "</div>"
      ],
      "text/plain": [
       "   id database  entrez_id srx_accession is_illumina is_single_cell  \\\n",
       "0   2      sra     123456          test      unsure         unsure   \n",
       "1   1      sra   35087715   SRX25994842         yes            yes   \n",
       "\n",
       "  is_paired_end  is_10x     tech_10x organism processed  \n",
       "0        unsure  unsure        other    other      None  \n",
       "1           yes     yes  3_prime_gex    human      None  "
      ]
     },
     "execution_count": 6,
     "metadata": {},
     "output_type": "execute_result"
    }
   ],
   "source": [
    "srx_metadata = Table(\"srx_metadata\")\n",
    "stmt = Query \\\n",
    "    .from_(srx_metadata) \\\n",
    "    .select(\"*\") \\\n",
    "    .where((srx_metadata.processed != \"complete\") | (srx_metadata.processed.isnull())) \\\n",
    "    .where(srx_metadata.database == \"sra\")\n",
    "pd.read_sql(str(stmt), conn)"
   ]
  },
  {
   "cell_type": "code",
   "execution_count": null,
   "metadata": {},
   "outputs": [],
   "source": []
  }
 ],
 "metadata": {
  "kernelspec": {
   "display_name": "SRAgent",
   "language": "python",
   "name": "python3"
  },
  "language_info": {
   "codemirror_mode": {
    "name": "ipython",
    "version": 3
   },
   "file_extension": ".py",
   "mimetype": "text/x-python",
   "name": "python",
   "nbconvert_exporter": "python",
   "pygments_lexer": "ipython3",
   "version": "3.12.7"
  }
 },
 "nbformat": 4,
 "nbformat_minor": 2
}
